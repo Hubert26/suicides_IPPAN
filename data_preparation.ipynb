{
  "nbformat": 4,
  "nbformat_minor": 0,
  "metadata": {
    "colab": {
      "provenance": [],
      "toc_visible": true,
      "authorship_tag": "ABX9TyM2Y4Ni1Qfzi7/UBIf+um/z",
      "include_colab_link": true
    },
    "kernelspec": {
      "name": "python3",
      "display_name": "Python 3"
    },
    "language_info": {
      "name": "python"
    }
  },
  "cells": [
    {
      "cell_type": "markdown",
      "metadata": {
        "id": "view-in-github",
        "colab_type": "text"
      },
      "source": [
        "<a href=\"https://colab.research.google.com/github/Hubert26/suicides_IPPAN/blob/main/data_preparation.ipynb\" target=\"_parent\"><img src=\"https://colab.research.google.com/assets/colab-badge.svg\" alt=\"Open In Colab\"/></a>"
      ]
    },
    {
      "cell_type": "code",
      "execution_count": null,
      "metadata": {
        "id": "cpTIzsiWDrRd"
      },
      "outputs": [],
      "source": [
        "import pandas as pd\n",
        "import numpy as np\n",
        "from pydrive2.auth import GoogleAuth\n",
        "from pydrive2.drive import GoogleDrive\n",
        "import os\n",
        "from google.colab import files\n",
        "\n",
        "#Ustawienie braku maksymalnej ilości wyświetlanych kolumn\n",
        "pd.options.display.max_columns = None"
      ]
    },
    {
      "cell_type": "markdown",
      "source": [
        "# 2013_2022"
      ],
      "metadata": {
        "id": "FQACGwJoHX3N"
      }
    },
    {
      "cell_type": "code",
      "source": [
        "df_raw = pd.read_csv('https://raw.githubusercontent.com/Hubert26/suicides_IPPAN/main/data/final_samobojstwa_2013_2022.csv', delimiter=',', low_memory=False)"
      ],
      "metadata": {
        "id": "6tkdlq4U9IiR"
      },
      "execution_count": null,
      "outputs": []
    },
    {
      "cell_type": "code",
      "source": [
        "df_raw.head()"
      ],
      "metadata": {
        "colab": {
          "base_uri": "https://localhost:8080/",
          "height": 278
        },
        "id": "I82sDdsenwpk",
        "outputId": "00b1280c-abae-41c9-e338-b50108b67a1d"
      },
      "execution_count": null,
      "outputs": [
        {
          "output_type": "execute_result",
          "data": {
            "text/plain": [
              "   ID samobójcy Data raportu [RRRRMM]  Przedział wiekowy  Płeć  Stan cywilny  \\\n",
              "0  114581552,00                201301                  0     2             0   \n",
              "1  114584284,00                201301                  2     2             0   \n",
              "2  114584293,00                201301                  2     1             1   \n",
              "3  114584312,00                201301                  3     2             1   \n",
              "4  114584399,00                201301                  7     2             1   \n",
              "\n",
              "   Wykształcenie  Informacje o pracy i nauce  Źródło utrzymania  \\\n",
              "0              0                           0                  0   \n",
              "1              0                           1                  0   \n",
              "2              2                           1                  1   \n",
              "3              0                           0                  0   \n",
              "4              0                           9                  0   \n",
              "\n",
              "   Czy samobójstwo zakończyło się zgonem  Miejsce zamachu  Sposób popełnienia  \\\n",
              "0                                      0                0                   0   \n",
              "1                                      1                1                   1   \n",
              "2                                      1               15                   2   \n",
              "3                                      1                0                  18   \n",
              "4                                      1                2                   3   \n",
              "\n",
              "   Powód zamachu Powód zamachu 2  Powód zamachu 3  Powód zamachu 4  \\\n",
              "0              0             NaN              NaN              NaN   \n",
              "1              0             NaN              NaN              NaN   \n",
              "2              0             NaN              NaN              NaN   \n",
              "3              1             NaN              NaN              NaN   \n",
              "4              0             NaN              NaN              NaN   \n",
              "\n",
              "   Stan świadomości  Informacje o używaniu substancji  \\\n",
              "0                 0                                 0   \n",
              "1                 0                                 0   \n",
              "2                 0                                 0   \n",
              "3                 0                                 0   \n",
              "4                 2                                 0   \n",
              "\n",
              "   Informacje dotyczące leczenia z powodu alkoholizmu/narkomanii  \n",
              "0                                                  0              \n",
              "1                                                  0              \n",
              "2                                                  0              \n",
              "3                                                  0              \n",
              "4                                                  0              "
            ],
            "text/html": [
              "\n",
              "  <div id=\"df-8cd39ce1-9634-44f9-8266-0bcab9dce864\" class=\"colab-df-container\">\n",
              "    <div>\n",
              "<style scoped>\n",
              "    .dataframe tbody tr th:only-of-type {\n",
              "        vertical-align: middle;\n",
              "    }\n",
              "\n",
              "    .dataframe tbody tr th {\n",
              "        vertical-align: top;\n",
              "    }\n",
              "\n",
              "    .dataframe thead th {\n",
              "        text-align: right;\n",
              "    }\n",
              "</style>\n",
              "<table border=\"1\" class=\"dataframe\">\n",
              "  <thead>\n",
              "    <tr style=\"text-align: right;\">\n",
              "      <th></th>\n",
              "      <th>ID samobójcy</th>\n",
              "      <th>Data raportu [RRRRMM]</th>\n",
              "      <th>Przedział wiekowy</th>\n",
              "      <th>Płeć</th>\n",
              "      <th>Stan cywilny</th>\n",
              "      <th>Wykształcenie</th>\n",
              "      <th>Informacje o pracy i nauce</th>\n",
              "      <th>Źródło utrzymania</th>\n",
              "      <th>Czy samobójstwo zakończyło się zgonem</th>\n",
              "      <th>Miejsce zamachu</th>\n",
              "      <th>Sposób popełnienia</th>\n",
              "      <th>Powód zamachu</th>\n",
              "      <th>Powód zamachu 2</th>\n",
              "      <th>Powód zamachu 3</th>\n",
              "      <th>Powód zamachu 4</th>\n",
              "      <th>Stan świadomości</th>\n",
              "      <th>Informacje o używaniu substancji</th>\n",
              "      <th>Informacje dotyczące leczenia z powodu alkoholizmu/narkomanii</th>\n",
              "    </tr>\n",
              "  </thead>\n",
              "  <tbody>\n",
              "    <tr>\n",
              "      <th>0</th>\n",
              "      <td>114581552,00</td>\n",
              "      <td>201301</td>\n",
              "      <td>0</td>\n",
              "      <td>2</td>\n",
              "      <td>0</td>\n",
              "      <td>0</td>\n",
              "      <td>0</td>\n",
              "      <td>0</td>\n",
              "      <td>0</td>\n",
              "      <td>0</td>\n",
              "      <td>0</td>\n",
              "      <td>0</td>\n",
              "      <td>NaN</td>\n",
              "      <td>NaN</td>\n",
              "      <td>NaN</td>\n",
              "      <td>0</td>\n",
              "      <td>0</td>\n",
              "      <td>0</td>\n",
              "    </tr>\n",
              "    <tr>\n",
              "      <th>1</th>\n",
              "      <td>114584284,00</td>\n",
              "      <td>201301</td>\n",
              "      <td>2</td>\n",
              "      <td>2</td>\n",
              "      <td>0</td>\n",
              "      <td>0</td>\n",
              "      <td>1</td>\n",
              "      <td>0</td>\n",
              "      <td>1</td>\n",
              "      <td>1</td>\n",
              "      <td>1</td>\n",
              "      <td>0</td>\n",
              "      <td>NaN</td>\n",
              "      <td>NaN</td>\n",
              "      <td>NaN</td>\n",
              "      <td>0</td>\n",
              "      <td>0</td>\n",
              "      <td>0</td>\n",
              "    </tr>\n",
              "    <tr>\n",
              "      <th>2</th>\n",
              "      <td>114584293,00</td>\n",
              "      <td>201301</td>\n",
              "      <td>2</td>\n",
              "      <td>1</td>\n",
              "      <td>1</td>\n",
              "      <td>2</td>\n",
              "      <td>1</td>\n",
              "      <td>1</td>\n",
              "      <td>1</td>\n",
              "      <td>15</td>\n",
              "      <td>2</td>\n",
              "      <td>0</td>\n",
              "      <td>NaN</td>\n",
              "      <td>NaN</td>\n",
              "      <td>NaN</td>\n",
              "      <td>0</td>\n",
              "      <td>0</td>\n",
              "      <td>0</td>\n",
              "    </tr>\n",
              "    <tr>\n",
              "      <th>3</th>\n",
              "      <td>114584312,00</td>\n",
              "      <td>201301</td>\n",
              "      <td>3</td>\n",
              "      <td>2</td>\n",
              "      <td>1</td>\n",
              "      <td>0</td>\n",
              "      <td>0</td>\n",
              "      <td>0</td>\n",
              "      <td>1</td>\n",
              "      <td>0</td>\n",
              "      <td>18</td>\n",
              "      <td>1</td>\n",
              "      <td>NaN</td>\n",
              "      <td>NaN</td>\n",
              "      <td>NaN</td>\n",
              "      <td>0</td>\n",
              "      <td>0</td>\n",
              "      <td>0</td>\n",
              "    </tr>\n",
              "    <tr>\n",
              "      <th>4</th>\n",
              "      <td>114584399,00</td>\n",
              "      <td>201301</td>\n",
              "      <td>7</td>\n",
              "      <td>2</td>\n",
              "      <td>1</td>\n",
              "      <td>0</td>\n",
              "      <td>9</td>\n",
              "      <td>0</td>\n",
              "      <td>1</td>\n",
              "      <td>2</td>\n",
              "      <td>3</td>\n",
              "      <td>0</td>\n",
              "      <td>NaN</td>\n",
              "      <td>NaN</td>\n",
              "      <td>NaN</td>\n",
              "      <td>2</td>\n",
              "      <td>0</td>\n",
              "      <td>0</td>\n",
              "    </tr>\n",
              "  </tbody>\n",
              "</table>\n",
              "</div>\n",
              "    <div class=\"colab-df-buttons\">\n",
              "\n",
              "  <div class=\"colab-df-container\">\n",
              "    <button class=\"colab-df-convert\" onclick=\"convertToInteractive('df-8cd39ce1-9634-44f9-8266-0bcab9dce864')\"\n",
              "            title=\"Convert this dataframe to an interactive table.\"\n",
              "            style=\"display:none;\">\n",
              "\n",
              "  <svg xmlns=\"http://www.w3.org/2000/svg\" height=\"24px\" viewBox=\"0 -960 960 960\">\n",
              "    <path d=\"M120-120v-720h720v720H120Zm60-500h600v-160H180v160Zm220 220h160v-160H400v160Zm0 220h160v-160H400v160ZM180-400h160v-160H180v160Zm440 0h160v-160H620v160ZM180-180h160v-160H180v160Zm440 0h160v-160H620v160Z\"/>\n",
              "  </svg>\n",
              "    </button>\n",
              "\n",
              "  <style>\n",
              "    .colab-df-container {\n",
              "      display:flex;\n",
              "      gap: 12px;\n",
              "    }\n",
              "\n",
              "    .colab-df-convert {\n",
              "      background-color: #E8F0FE;\n",
              "      border: none;\n",
              "      border-radius: 50%;\n",
              "      cursor: pointer;\n",
              "      display: none;\n",
              "      fill: #1967D2;\n",
              "      height: 32px;\n",
              "      padding: 0 0 0 0;\n",
              "      width: 32px;\n",
              "    }\n",
              "\n",
              "    .colab-df-convert:hover {\n",
              "      background-color: #E2EBFA;\n",
              "      box-shadow: 0px 1px 2px rgba(60, 64, 67, 0.3), 0px 1px 3px 1px rgba(60, 64, 67, 0.15);\n",
              "      fill: #174EA6;\n",
              "    }\n",
              "\n",
              "    .colab-df-buttons div {\n",
              "      margin-bottom: 4px;\n",
              "    }\n",
              "\n",
              "    [theme=dark] .colab-df-convert {\n",
              "      background-color: #3B4455;\n",
              "      fill: #D2E3FC;\n",
              "    }\n",
              "\n",
              "    [theme=dark] .colab-df-convert:hover {\n",
              "      background-color: #434B5C;\n",
              "      box-shadow: 0px 1px 3px 1px rgba(0, 0, 0, 0.15);\n",
              "      filter: drop-shadow(0px 1px 2px rgba(0, 0, 0, 0.3));\n",
              "      fill: #FFFFFF;\n",
              "    }\n",
              "  </style>\n",
              "\n",
              "    <script>\n",
              "      const buttonEl =\n",
              "        document.querySelector('#df-8cd39ce1-9634-44f9-8266-0bcab9dce864 button.colab-df-convert');\n",
              "      buttonEl.style.display =\n",
              "        google.colab.kernel.accessAllowed ? 'block' : 'none';\n",
              "\n",
              "      async function convertToInteractive(key) {\n",
              "        const element = document.querySelector('#df-8cd39ce1-9634-44f9-8266-0bcab9dce864');\n",
              "        const dataTable =\n",
              "          await google.colab.kernel.invokeFunction('convertToInteractive',\n",
              "                                                    [key], {});\n",
              "        if (!dataTable) return;\n",
              "\n",
              "        const docLinkHtml = 'Like what you see? Visit the ' +\n",
              "          '<a target=\"_blank\" href=https://colab.research.google.com/notebooks/data_table.ipynb>data table notebook</a>'\n",
              "          + ' to learn more about interactive tables.';\n",
              "        element.innerHTML = '';\n",
              "        dataTable['output_type'] = 'display_data';\n",
              "        await google.colab.output.renderOutput(dataTable, element);\n",
              "        const docLink = document.createElement('div');\n",
              "        docLink.innerHTML = docLinkHtml;\n",
              "        element.appendChild(docLink);\n",
              "      }\n",
              "    </script>\n",
              "  </div>\n",
              "\n",
              "\n",
              "<div id=\"df-7849c992-8e04-4a37-ad90-091138e5d220\">\n",
              "  <button class=\"colab-df-quickchart\" onclick=\"quickchart('df-7849c992-8e04-4a37-ad90-091138e5d220')\"\n",
              "            title=\"Suggest charts\"\n",
              "            style=\"display:none;\">\n",
              "\n",
              "<svg xmlns=\"http://www.w3.org/2000/svg\" height=\"24px\"viewBox=\"0 0 24 24\"\n",
              "     width=\"24px\">\n",
              "    <g>\n",
              "        <path d=\"M19 3H5c-1.1 0-2 .9-2 2v14c0 1.1.9 2 2 2h14c1.1 0 2-.9 2-2V5c0-1.1-.9-2-2-2zM9 17H7v-7h2v7zm4 0h-2V7h2v10zm4 0h-2v-4h2v4z\"/>\n",
              "    </g>\n",
              "</svg>\n",
              "  </button>\n",
              "\n",
              "<style>\n",
              "  .colab-df-quickchart {\n",
              "      --bg-color: #E8F0FE;\n",
              "      --fill-color: #1967D2;\n",
              "      --hover-bg-color: #E2EBFA;\n",
              "      --hover-fill-color: #174EA6;\n",
              "      --disabled-fill-color: #AAA;\n",
              "      --disabled-bg-color: #DDD;\n",
              "  }\n",
              "\n",
              "  [theme=dark] .colab-df-quickchart {\n",
              "      --bg-color: #3B4455;\n",
              "      --fill-color: #D2E3FC;\n",
              "      --hover-bg-color: #434B5C;\n",
              "      --hover-fill-color: #FFFFFF;\n",
              "      --disabled-bg-color: #3B4455;\n",
              "      --disabled-fill-color: #666;\n",
              "  }\n",
              "\n",
              "  .colab-df-quickchart {\n",
              "    background-color: var(--bg-color);\n",
              "    border: none;\n",
              "    border-radius: 50%;\n",
              "    cursor: pointer;\n",
              "    display: none;\n",
              "    fill: var(--fill-color);\n",
              "    height: 32px;\n",
              "    padding: 0;\n",
              "    width: 32px;\n",
              "  }\n",
              "\n",
              "  .colab-df-quickchart:hover {\n",
              "    background-color: var(--hover-bg-color);\n",
              "    box-shadow: 0 1px 2px rgba(60, 64, 67, 0.3), 0 1px 3px 1px rgba(60, 64, 67, 0.15);\n",
              "    fill: var(--button-hover-fill-color);\n",
              "  }\n",
              "\n",
              "  .colab-df-quickchart-complete:disabled,\n",
              "  .colab-df-quickchart-complete:disabled:hover {\n",
              "    background-color: var(--disabled-bg-color);\n",
              "    fill: var(--disabled-fill-color);\n",
              "    box-shadow: none;\n",
              "  }\n",
              "\n",
              "  .colab-df-spinner {\n",
              "    border: 2px solid var(--fill-color);\n",
              "    border-color: transparent;\n",
              "    border-bottom-color: var(--fill-color);\n",
              "    animation:\n",
              "      spin 1s steps(1) infinite;\n",
              "  }\n",
              "\n",
              "  @keyframes spin {\n",
              "    0% {\n",
              "      border-color: transparent;\n",
              "      border-bottom-color: var(--fill-color);\n",
              "      border-left-color: var(--fill-color);\n",
              "    }\n",
              "    20% {\n",
              "      border-color: transparent;\n",
              "      border-left-color: var(--fill-color);\n",
              "      border-top-color: var(--fill-color);\n",
              "    }\n",
              "    30% {\n",
              "      border-color: transparent;\n",
              "      border-left-color: var(--fill-color);\n",
              "      border-top-color: var(--fill-color);\n",
              "      border-right-color: var(--fill-color);\n",
              "    }\n",
              "    40% {\n",
              "      border-color: transparent;\n",
              "      border-right-color: var(--fill-color);\n",
              "      border-top-color: var(--fill-color);\n",
              "    }\n",
              "    60% {\n",
              "      border-color: transparent;\n",
              "      border-right-color: var(--fill-color);\n",
              "    }\n",
              "    80% {\n",
              "      border-color: transparent;\n",
              "      border-right-color: var(--fill-color);\n",
              "      border-bottom-color: var(--fill-color);\n",
              "    }\n",
              "    90% {\n",
              "      border-color: transparent;\n",
              "      border-bottom-color: var(--fill-color);\n",
              "    }\n",
              "  }\n",
              "</style>\n",
              "\n",
              "  <script>\n",
              "    async function quickchart(key) {\n",
              "      const quickchartButtonEl =\n",
              "        document.querySelector('#' + key + ' button');\n",
              "      quickchartButtonEl.disabled = true;  // To prevent multiple clicks.\n",
              "      quickchartButtonEl.classList.add('colab-df-spinner');\n",
              "      try {\n",
              "        const charts = await google.colab.kernel.invokeFunction(\n",
              "            'suggestCharts', [key], {});\n",
              "      } catch (error) {\n",
              "        console.error('Error during call to suggestCharts:', error);\n",
              "      }\n",
              "      quickchartButtonEl.classList.remove('colab-df-spinner');\n",
              "      quickchartButtonEl.classList.add('colab-df-quickchart-complete');\n",
              "    }\n",
              "    (() => {\n",
              "      let quickchartButtonEl =\n",
              "        document.querySelector('#df-7849c992-8e04-4a37-ad90-091138e5d220 button');\n",
              "      quickchartButtonEl.style.display =\n",
              "        google.colab.kernel.accessAllowed ? 'block' : 'none';\n",
              "    })();\n",
              "  </script>\n",
              "</div>\n",
              "    </div>\n",
              "  </div>\n"
            ],
            "application/vnd.google.colaboratory.intrinsic+json": {
              "type": "dataframe",
              "variable_name": "df_raw"
            }
          },
          "metadata": {},
          "execution_count": 3
        }
      ]
    },
    {
      "cell_type": "markdown",
      "source": [
        "##Zamiana nazw kolumn"
      ],
      "metadata": {
        "id": "rj96zAJgscX0"
      }
    },
    {
      "cell_type": "code",
      "source": [
        "# Zamiana spacji na podkreślenia w nazwach kolumn\n",
        "df_raw.rename(columns=lambda x: x.replace(' ', '_'), inplace=True)\n"
      ],
      "metadata": {
        "id": "vFFTYs2PpRPX"
      },
      "execution_count": null,
      "outputs": []
    },
    {
      "cell_type": "code",
      "source": [
        "df_raw.rename(columns={'Data_raportu_[RRRRMM]': 'Data'}, inplace=True)"
      ],
      "metadata": {
        "id": "IvJoL7w9qM17"
      },
      "execution_count": null,
      "outputs": []
    },
    {
      "cell_type": "markdown",
      "source": [
        "## Daty"
      ],
      "metadata": {
        "id": "JlALEV7qsgq7"
      }
    },
    {
      "cell_type": "code",
      "source": [
        "# Wyodrębnienie roku i miesiąca\n",
        "df_raw['Data_rok'] = df_raw['Data'].apply(lambda x: x[0:4] if len(x) > 8 else x[:4])\n",
        "df_raw['Data_miesiąc'] = df_raw['Data'].apply(lambda x: x[5:7] if len(x) > 8 else x[4:6])"
      ],
      "metadata": {
        "id": "c-3hQB6Pqvia"
      },
      "execution_count": null,
      "outputs": []
    },
    {
      "cell_type": "code",
      "source": [
        "# Połączenie roku i miesiąca w formacie MM.YYYY\n",
        "df_raw['Data'] = df_raw['Data_miesiąc'] + '.' + df_raw['Data_rok']"
      ],
      "metadata": {
        "id": "2WM9RCmQsPIz"
      },
      "execution_count": null,
      "outputs": []
    },
    {
      "cell_type": "markdown",
      "source": [
        "##Mapowanie"
      ],
      "metadata": {
        "id": "JiRyS2MWzVc2"
      }
    },
    {
      "cell_type": "markdown",
      "source": [
        "###Przedział_wiekowy"
      ],
      "metadata": {
        "id": "0kaeAdoFslz6"
      }
    },
    {
      "cell_type": "code",
      "source": [
        "column = 'Przedział_wiekowy'\n",
        "mapping = {\n",
        "    0: np.nan,\n",
        "    1: '07-12',\n",
        "    2: '13-18',\n",
        "    3: '19-24',\n",
        "    4: '25-29',\n",
        "    5: '30-34',\n",
        "    6: '35-39',\n",
        "    7: '40-44',\n",
        "    8: '45-49',\n",
        "    9: '50-54',\n",
        "    10: '55-59',\n",
        "    11: '60-64',\n",
        "    12: '65-69',\n",
        "    13: '70-74',\n",
        "    14: '75-79',\n",
        "    15: '80-84',\n",
        "    16: '85+'\n",
        "}\n",
        "\n",
        "df_raw[column] = df_raw[column].map(mapping)\n",
        "df_raw.rename(columns={column: 'Wiek'}, inplace=True)"
      ],
      "metadata": {
        "id": "puGo66ZWtnUR"
      },
      "execution_count": null,
      "outputs": []
    },
    {
      "cell_type": "markdown",
      "source": [
        "###Płeć"
      ],
      "metadata": {
        "id": "YyK6HFhazbND"
      }
    },
    {
      "cell_type": "code",
      "source": [
        "column = 'Płeć'\n",
        "mapping = {\n",
        "    0: np.nan,\n",
        "    1: 'K',\n",
        "    2: 'M'\n",
        "}\n",
        "\n",
        "df_raw[column] = df_raw[column].map(mapping)\n"
      ],
      "metadata": {
        "id": "-TieLJPJufVk"
      },
      "execution_count": null,
      "outputs": []
    },
    {
      "cell_type": "markdown",
      "source": [
        "###Stan_cywilny"
      ],
      "metadata": {
        "id": "l8XgeOBfzfC8"
      }
    },
    {
      "cell_type": "code",
      "source": [
        "column = 'Stan_cywilny'\n",
        "mapping = {\n",
        "    0: np.nan,\n",
        "    1: 'Samotność',\n",
        "    2: 'Partnerstwo',\n",
        "    3: 'Małżeństwo',\n",
        "    4: 'Separacja',\n",
        "    5: 'Rozwód',\n",
        "    6: 'Wdowieństwo'\n",
        "}\n",
        "\n",
        "df_raw[column] = df_raw[column].map(mapping)\n",
        "df_raw.rename(columns={column: 'St_cyw'}, inplace=True)\n"
      ],
      "metadata": {
        "id": "3HN6t_OIugpM"
      },
      "execution_count": null,
      "outputs": []
    },
    {
      "cell_type": "markdown",
      "source": [
        "###Wykształcenie"
      ],
      "metadata": {
        "id": "L04fi8Atzh02"
      }
    },
    {
      "cell_type": "code",
      "source": [
        "column = 'Wykształcenie'\n",
        "mapping = {\n",
        "    0: np.nan,\n",
        "    1: 'Podst_niepełne',\n",
        "    2: 'Podst',\n",
        "    3: 'Gimnazjalne',\n",
        "    4: 'Zawodowe',\n",
        "    5: 'Średnie',\n",
        "    6: 'Policealne',\n",
        "    7: 'Wyższe'\n",
        "}\n",
        "\n",
        "df_raw[column] = df_raw[column].map(mapping)\n",
        "df_raw.rename(columns={column: 'Poz_edu'}, inplace=True)\n",
        "\n"
      ],
      "metadata": {
        "id": "he03vcArumwI"
      },
      "execution_count": null,
      "outputs": []
    },
    {
      "cell_type": "markdown",
      "source": [
        "###Informacje_o_pracy_i_nauce"
      ],
      "metadata": {
        "id": "lgCz59qbzklI"
      }
    },
    {
      "cell_type": "code",
      "source": [
        "column = 'Informacje_o_pracy_i_nauce'\n",
        "mapping = {\n",
        "    0: np.nan,\n",
        "    1: 'Uczeń',\n",
        "    2: 'Student',\n",
        "    3: 'Umysłowa',\n",
        "    4: 'Fizyczna',\n",
        "    5: 'Rolnik',\n",
        "    6: 'Własna',\n",
        "    7: 'Stała',\n",
        "    8: 'Dorywcza',\n",
        "    9: 'Bezrobotny'\n",
        "}\n",
        "\n",
        "df_raw[column] = df_raw[column].map(mapping)\n",
        "df_raw.rename(columns={column: 'Inf_praca'}, inplace=True)"
      ],
      "metadata": {
        "id": "s6G7PtRdvWQa"
      },
      "execution_count": null,
      "outputs": []
    },
    {
      "cell_type": "markdown",
      "source": [
        "###Źródło_utrzymania"
      ],
      "metadata": {
        "id": "CqCkSO87zotR"
      }
    },
    {
      "cell_type": "code",
      "source": [
        "column = 'Źródło_utrzymania'\n",
        "mapping = {\n",
        "    0: np.nan,  # Zamiana 0 na NaN\n",
        "    1: 'Zależny',\n",
        "    2: 'Praca',\n",
        "    3: 'Świadczenia',\n",
        "    4: 'Bez_dochodu'\n",
        "}\n",
        "\n",
        "df_raw[column] = df_raw[column].map(mapping)\n",
        "df_raw.rename(columns={column: 'Utrzymanie'}, inplace=True)"
      ],
      "metadata": {
        "id": "AQ7XQgvZwIwg"
      },
      "execution_count": null,
      "outputs": []
    },
    {
      "cell_type": "markdown",
      "source": [
        "###Czy_samobójstwo_zakończyło_się_zgonem"
      ],
      "metadata": {
        "id": "X88v2NMOzrsb"
      }
    },
    {
      "cell_type": "code",
      "source": [
        "column = 'Czy_samobójstwo_zakończyło_się_zgonem'\n",
        "\n",
        "mapping = {\n",
        "    0: np.nan,  # Zamiana 0 na NaN\n",
        "    1: 1,\n",
        "    2: 0\n",
        "}\n",
        "df_raw[column] = df_raw[column].map(mapping)\n",
        "df_raw.rename(columns={column: 'Sukces'}, inplace=True)"
      ],
      "metadata": {
        "id": "QO0wpsKAwnhz"
      },
      "execution_count": null,
      "outputs": []
    },
    {
      "cell_type": "markdown",
      "source": [
        "###Miejsce_zamachu"
      ],
      "metadata": {
        "id": "CUvJTrOxzu3T"
      }
    },
    {
      "cell_type": "code",
      "source": [
        "column = 'Miejsce_zamachu'\n",
        "mapping = {\n",
        "    0: np.nan,\n",
        "    1: 'Droga',\n",
        "    2: 'Zabudowania',\n",
        "    3: 'Mieszkanie',\n",
        "    4: 'Tory',\n",
        "    5: 'Park',\n",
        "    6: 'Piwnica',\n",
        "    7: 'Woda',\n",
        "    8: 'Praca',\n",
        "    9: 'Lecznica',\n",
        "    10: 'Izolacja',\n",
        "    11: 'Wojsko',\n",
        "    12: 'Opieka',\n",
        "    13: 'Szkoła',\n",
        "    14: 'Policja',\n",
        "    15: 'Inne'\n",
        "}\n",
        "\n",
        "df_raw[column] = df_raw[column].map(mapping)\n",
        "df_raw.rename(columns={column: 'Miejsce'}, inplace=True)\n"
      ],
      "metadata": {
        "id": "m4XshG-QwqUo"
      },
      "execution_count": null,
      "outputs": []
    },
    {
      "cell_type": "markdown",
      "source": [
        "###Sposób_popełnienia"
      ],
      "metadata": {
        "id": "suOvpkuPzydG"
      }
    },
    {
      "cell_type": "code",
      "source": [
        "column = 'Sposób_popełnienia'\n",
        "mapping = {\n",
        "    0: np.nan,\n",
        "    1: 'Pod_pojazd',\n",
        "    2: 'Z_wysokości',\n",
        "    3: 'Powieszenie',\n",
        "    4: 'Układ_krwionośny',\n",
        "    5: 'Zastrzelenie',\n",
        "    6: 'Samookaleczenie_pow.',\n",
        "    7: 'Samookaleczenie_inne',\n",
        "    8: 'Środki_nasenne',\n",
        "    9: 'Trucizna',\n",
        "    10: 'Gaz',\n",
        "    11: 'Inne_leki',\n",
        "    12: 'Środki_chemiczne',\n",
        "    13: 'Odurzające',\n",
        "    14: 'Dopalacze',\n",
        "    15: 'Utonięcie',\n",
        "    16: 'Podpalenie',\n",
        "    17: 'Uduszenie',\n",
        "    18: 'Inny'\n",
        "}\n",
        "\n",
        "df_raw[column] = df_raw[column].map(mapping)\n",
        "df_raw.rename(columns={column: 'Sposób'}, inplace=True)"
      ],
      "metadata": {
        "id": "BMmRn_2_x9xh"
      },
      "execution_count": null,
      "outputs": []
    },
    {
      "cell_type": "markdown",
      "source": [
        "###Powód_zamachu"
      ],
      "metadata": {
        "id": "qgdtLHi8z121"
      }
    },
    {
      "cell_type": "code",
      "source": [
        "column = 'Powód_zamachu'\n",
        "mapping = {\n",
        "    0: np.nan,\n",
        "    1: 'Miłość',\n",
        "    2: 'Choroby_psych',\n",
        "    3: 'Konflikty_rodzinne',\n",
        "    4: 'HIV/AIDS',\n",
        "    5: 'Utrata_utrzymania',\n",
        "    6: 'Finanse',\n",
        "    7: 'Choroba',\n",
        "    8: 'Praca',\n",
        "    9: 'Śmierć_bliskiego',\n",
        "    10: 'Przestępstwa',\n",
        "    11: 'Kalectwo',\n",
        "    12: 'Ciąża',\n",
        "    13: 'Choroby_fiz',\n",
        "    14: 'Zdrowie',\n",
        "    15: 'Konflikty_inni',\n",
        "    16: 'Bezdomność',\n",
        "    17: 'Mobbing',\n",
        "    18: 'Inne'\n",
        "}\n",
        "\n",
        "df_raw[column] = df_raw[column].map(mapping)\n",
        "df_raw.rename(columns={column: 'Powód'}, inplace=True)"
      ],
      "metadata": {
        "id": "hW3GSfEax_xd"
      },
      "execution_count": null,
      "outputs": []
    },
    {
      "cell_type": "markdown",
      "source": [
        "###Powód_zamachu_2"
      ],
      "metadata": {
        "id": "0CEz-khuz5wB"
      }
    },
    {
      "cell_type": "code",
      "source": [
        "column = 'Powód_zamachu_2'\n",
        "mapping = {\n",
        "    0: np.nan,\n",
        "    1: 'Miłość',\n",
        "    2: 'Choroby_psych',\n",
        "    3: 'Konflikty_rodzinne',\n",
        "    4: 'HIV/AIDS',\n",
        "    5: 'Utrata_utrzymania',\n",
        "    6: 'Finanse',\n",
        "    7: 'Choroba',\n",
        "    8: 'Praca',\n",
        "    9: 'Śmierć_bliskiego',\n",
        "    10: 'Przestępstwa',\n",
        "    11: 'Kalectwo',\n",
        "    12: 'Ciąża',\n",
        "    13: 'Choroby_fiz',\n",
        "    14: 'Zdrowie',\n",
        "    15: 'Konflikty_inni',\n",
        "    16: 'Bezdomność',\n",
        "    17: 'Mobbing',\n",
        "    18: 'Inne'\n",
        "}\n",
        "\n",
        "df_raw[column] = df_raw[column].map(mapping)\n",
        "df_raw.rename(columns={column: 'Powód_2'}, inplace=True)"
      ],
      "metadata": {
        "id": "1XaA_qOOyafz"
      },
      "execution_count": null,
      "outputs": []
    },
    {
      "cell_type": "markdown",
      "source": [
        "###Powód_zamachu_3"
      ],
      "metadata": {
        "id": "CgmO4pp_z81K"
      }
    },
    {
      "cell_type": "code",
      "source": [
        "column = 'Powód_zamachu_3'\n",
        "mapping = {\n",
        "    0: np.nan,\n",
        "    1: 'Miłość',\n",
        "    2: 'Choroby_psych',\n",
        "    3: 'Konflikty_rodzinne',\n",
        "    4: 'HIV/AIDS',\n",
        "    5: 'Utrata_utrzymania',\n",
        "    6: 'Finanse',\n",
        "    7: 'Choroba',\n",
        "    8: 'Praca',\n",
        "    9: 'Śmierć_bliskiego',\n",
        "    10: 'Przestępstwa',\n",
        "    11: 'Kalectwo',\n",
        "    12: 'Ciąża',\n",
        "    13: 'Choroby_fiz',\n",
        "    14: 'Zdrowie',\n",
        "    15: 'Konflikty_inni',\n",
        "    16: 'Bezdomność',\n",
        "    17: 'Mobbing',\n",
        "    18: 'Inne'\n",
        "}\n",
        "\n",
        "df_raw[column] = df_raw[column].map(mapping)\n",
        "df_raw.rename(columns={column: 'Powód_3'}, inplace=True)"
      ],
      "metadata": {
        "id": "3--sD14jyfps"
      },
      "execution_count": null,
      "outputs": []
    },
    {
      "cell_type": "markdown",
      "source": [
        "###Powód_zamachu_4"
      ],
      "metadata": {
        "id": "nHkSTPa-0AFl"
      }
    },
    {
      "cell_type": "code",
      "source": [
        "column = 'Powód_zamachu_4'\n",
        "mapping = {\n",
        "    0: np.nan,\n",
        "    1: 'Miłość',\n",
        "    2: 'Choroby_psych',\n",
        "    3: 'Konflikty_rodzinne',\n",
        "    4: 'HIV/AIDS',\n",
        "    5: 'Utrata_utrzymania',\n",
        "    6: 'Finanse',\n",
        "    7: 'Choroba',\n",
        "    8: 'Praca',\n",
        "    9: 'Śmierć_bliskiego',\n",
        "    10: 'Przestępstwa',\n",
        "    11: 'Kalectwo',\n",
        "    12: 'Ciąża',\n",
        "    13: 'Choroby_fiz',\n",
        "    14: 'Zdrowie',\n",
        "    15: 'Konflikty_inni',\n",
        "    16: 'Bezdomność',\n",
        "    17: 'Mobbing',\n",
        "    18: 'Inne'\n",
        "}\n",
        "\n",
        "df_raw[column] = df_raw[column].map(mapping)\n",
        "df_raw.rename(columns={column: 'Powód_4'}, inplace=True)"
      ],
      "metadata": {
        "id": "heLXHV5DyifN"
      },
      "execution_count": null,
      "outputs": []
    },
    {
      "cell_type": "markdown",
      "source": [
        "###Stan_świadomości"
      ],
      "metadata": {
        "id": "j_oh1VT20DWr"
      }
    },
    {
      "cell_type": "code",
      "source": [
        "column = 'Stan_świadomości'\n",
        "mapping = {\n",
        "    0: np.nan,\n",
        "    1: 'Trzeźwy',\n",
        "    2: 'Alko',\n",
        "    3: 'Dopa',\n",
        "    4: 'Narko',\n",
        "    5: 'Leki',\n",
        "    6: 'Odurza',\n",
        "    7: 'Alko+dopa',\n",
        "    8: 'Alko+narko',\n",
        "    9: 'Alko+leki',\n",
        "    10: 'Alko+odurza',\n",
        "    11: 'Alko+dopa+odurza',\n",
        "    12: 'Dopa+odurza',\n",
        "    13: 'Leki+odurza',\n",
        "    14: 'Leki+dopa',\n",
        "    15: 'Leki+narko',\n",
        "    16: 'Leki+dopa+odurza',\n",
        "    17: 'Alko+leki+odurza',\n",
        "    18: 'Alko+leki+dopa+odurza'\n",
        "}\n",
        "\n",
        "df_raw[column] = df_raw[column].map(mapping)\n",
        "df_raw.rename(columns={column: 'Stan'}, inplace=True)"
      ],
      "metadata": {
        "id": "besYtKDAyuDh"
      },
      "execution_count": null,
      "outputs": []
    },
    {
      "cell_type": "markdown",
      "source": [
        "###Informacje_o_używaniu_substancji"
      ],
      "metadata": {
        "id": "0x9OkF8k0XMo"
      }
    },
    {
      "cell_type": "code",
      "source": [
        "column = 'Informacje_o_używaniu_substancji'\n",
        "mapping = {\n",
        "    0: np.nan,\n",
        "    1: 'Alko',\n",
        "    2: 'Narko',\n",
        "    3: 'Dopa',\n",
        "    4: 'Alko+dopa',\n",
        "    5: 'Narko+dopa',\n",
        "    6: 'Alko+narko',\n",
        "    7: 'Alko+narko+dopa'\n",
        "}\n",
        "\n",
        "df_raw[column] = df_raw[column].map(mapping)\n",
        "df_raw.rename(columns={column: 'Używanie'}, inplace=True)\n"
      ],
      "metadata": {
        "id": "T0gL7Dz70UAC"
      },
      "execution_count": null,
      "outputs": []
    },
    {
      "cell_type": "markdown",
      "source": [
        "###Informacje_dotyczące_leczenia_z_powodu_alkoholizmu/narkomanii"
      ],
      "metadata": {
        "id": "39BndAwP0tKh"
      }
    },
    {
      "cell_type": "code",
      "source": [
        "column = 'Informacje_dotyczące_leczenia_z_powodu_alkoholizmu/narkomanii'\n",
        "mapping = {\n",
        "    0: np.nan,\n",
        "    1: 'Alko',\n",
        "    2: 'Narko',\n",
        "    3: 'Alko+narko'\n",
        "}\n",
        "\n",
        "df_raw[column] = df_raw[column].map(mapping)\n",
        "df_raw.rename(columns={column: 'Leczenie'}, inplace=True)"
      ],
      "metadata": {
        "id": "HuH1oJO10aUJ"
      },
      "execution_count": null,
      "outputs": []
    },
    {
      "cell_type": "markdown",
      "source": [
        "##Powód zamachu - dummies"
      ],
      "metadata": {
        "id": "_4G-mhMt-hla"
      }
    },
    {
      "cell_type": "code",
      "source": [
        "columns_to_drop = ['Powód', 'Powód_2', 'Powód_3', 'Powód_4']\n",
        "df_powód_zamachu = df_raw[columns_to_drop]\n",
        "df_raw.drop(columns=columns_to_drop, inplace=True)\n"
      ],
      "metadata": {
        "id": "3Q73Z-45-pGJ"
      },
      "execution_count": null,
      "outputs": []
    },
    {
      "cell_type": "code",
      "source": [
        "powód_zamachu_values = (\n",
        "    set(df_powód_zamachu['Powód'].unique()) |\n",
        "    set(df_powód_zamachu['Powód_2'].unique()) |\n",
        "    set(df_powód_zamachu['Powód_3'].unique()) |\n",
        "    set(df_powód_zamachu['Powód_4'].unique())\n",
        ")"
      ],
      "metadata": {
        "id": "C4txX3uZD1Ni"
      },
      "execution_count": null,
      "outputs": []
    },
    {
      "cell_type": "code",
      "source": [
        "powód_zamachu_values"
      ],
      "metadata": {
        "colab": {
          "base_uri": "https://localhost:8080/"
        },
        "id": "erRmfj905sqi",
        "outputId": "46da40a0-de97-44af-a095-609aeac19101"
      },
      "execution_count": null,
      "outputs": [
        {
          "output_type": "execute_result",
          "data": {
            "text/plain": [
              "{'Bezdomność',\n",
              " 'Choroba',\n",
              " 'Choroby_fiz',\n",
              " 'Choroby_psych',\n",
              " 'Ciąża',\n",
              " 'Finanse',\n",
              " 'HIV/AIDS',\n",
              " 'Inne',\n",
              " 'Kalectwo',\n",
              " 'Konflikty_inni',\n",
              " 'Konflikty_rodzinne',\n",
              " 'Miłość',\n",
              " 'Mobbing',\n",
              " 'Praca',\n",
              " 'Przestępstwa',\n",
              " 'Utrata_utrzymania',\n",
              " 'Zdrowie',\n",
              " nan,\n",
              " 'Śmierć_bliskiego'}"
            ]
          },
          "metadata": {},
          "execution_count": 26
        }
      ]
    },
    {
      "cell_type": "code",
      "source": [
        "for value in powód_zamachu_values:\n",
        "    column_name = 'Powód_' + str(value)\n",
        "    df_powód_zamachu[column_name] = df_powód_zamachu.apply(lambda row: 1 if value in row.values else 0, axis=1)\n"
      ],
      "metadata": {
        "colab": {
          "base_uri": "https://localhost:8080/"
        },
        "id": "rziPLN8qGahL",
        "outputId": "83358d2f-042a-488b-e599-47fc9dd7f607"
      },
      "execution_count": null,
      "outputs": [
        {
          "output_type": "stream",
          "name": "stderr",
          "text": [
            "<ipython-input-27-9a28d6c29fb4>:3: SettingWithCopyWarning: \n",
            "A value is trying to be set on a copy of a slice from a DataFrame.\n",
            "Try using .loc[row_indexer,col_indexer] = value instead\n",
            "\n",
            "See the caveats in the documentation: https://pandas.pydata.org/pandas-docs/stable/user_guide/indexing.html#returning-a-view-versus-a-copy\n",
            "  df_powód_zamachu[column_name] = df_powód_zamachu.apply(lambda row: 1 if value in row.values else 0, axis=1)\n",
            "<ipython-input-27-9a28d6c29fb4>:3: SettingWithCopyWarning: \n",
            "A value is trying to be set on a copy of a slice from a DataFrame.\n",
            "Try using .loc[row_indexer,col_indexer] = value instead\n",
            "\n",
            "See the caveats in the documentation: https://pandas.pydata.org/pandas-docs/stable/user_guide/indexing.html#returning-a-view-versus-a-copy\n",
            "  df_powód_zamachu[column_name] = df_powód_zamachu.apply(lambda row: 1 if value in row.values else 0, axis=1)\n",
            "<ipython-input-27-9a28d6c29fb4>:3: SettingWithCopyWarning: \n",
            "A value is trying to be set on a copy of a slice from a DataFrame.\n",
            "Try using .loc[row_indexer,col_indexer] = value instead\n",
            "\n",
            "See the caveats in the documentation: https://pandas.pydata.org/pandas-docs/stable/user_guide/indexing.html#returning-a-view-versus-a-copy\n",
            "  df_powód_zamachu[column_name] = df_powód_zamachu.apply(lambda row: 1 if value in row.values else 0, axis=1)\n",
            "<ipython-input-27-9a28d6c29fb4>:3: SettingWithCopyWarning: \n",
            "A value is trying to be set on a copy of a slice from a DataFrame.\n",
            "Try using .loc[row_indexer,col_indexer] = value instead\n",
            "\n",
            "See the caveats in the documentation: https://pandas.pydata.org/pandas-docs/stable/user_guide/indexing.html#returning-a-view-versus-a-copy\n",
            "  df_powód_zamachu[column_name] = df_powód_zamachu.apply(lambda row: 1 if value in row.values else 0, axis=1)\n",
            "<ipython-input-27-9a28d6c29fb4>:3: SettingWithCopyWarning: \n",
            "A value is trying to be set on a copy of a slice from a DataFrame.\n",
            "Try using .loc[row_indexer,col_indexer] = value instead\n",
            "\n",
            "See the caveats in the documentation: https://pandas.pydata.org/pandas-docs/stable/user_guide/indexing.html#returning-a-view-versus-a-copy\n",
            "  df_powód_zamachu[column_name] = df_powód_zamachu.apply(lambda row: 1 if value in row.values else 0, axis=1)\n",
            "<ipython-input-27-9a28d6c29fb4>:3: SettingWithCopyWarning: \n",
            "A value is trying to be set on a copy of a slice from a DataFrame.\n",
            "Try using .loc[row_indexer,col_indexer] = value instead\n",
            "\n",
            "See the caveats in the documentation: https://pandas.pydata.org/pandas-docs/stable/user_guide/indexing.html#returning-a-view-versus-a-copy\n",
            "  df_powód_zamachu[column_name] = df_powód_zamachu.apply(lambda row: 1 if value in row.values else 0, axis=1)\n",
            "<ipython-input-27-9a28d6c29fb4>:3: SettingWithCopyWarning: \n",
            "A value is trying to be set on a copy of a slice from a DataFrame.\n",
            "Try using .loc[row_indexer,col_indexer] = value instead\n",
            "\n",
            "See the caveats in the documentation: https://pandas.pydata.org/pandas-docs/stable/user_guide/indexing.html#returning-a-view-versus-a-copy\n",
            "  df_powód_zamachu[column_name] = df_powód_zamachu.apply(lambda row: 1 if value in row.values else 0, axis=1)\n",
            "<ipython-input-27-9a28d6c29fb4>:3: SettingWithCopyWarning: \n",
            "A value is trying to be set on a copy of a slice from a DataFrame.\n",
            "Try using .loc[row_indexer,col_indexer] = value instead\n",
            "\n",
            "See the caveats in the documentation: https://pandas.pydata.org/pandas-docs/stable/user_guide/indexing.html#returning-a-view-versus-a-copy\n",
            "  df_powód_zamachu[column_name] = df_powód_zamachu.apply(lambda row: 1 if value in row.values else 0, axis=1)\n",
            "<ipython-input-27-9a28d6c29fb4>:3: SettingWithCopyWarning: \n",
            "A value is trying to be set on a copy of a slice from a DataFrame.\n",
            "Try using .loc[row_indexer,col_indexer] = value instead\n",
            "\n",
            "See the caveats in the documentation: https://pandas.pydata.org/pandas-docs/stable/user_guide/indexing.html#returning-a-view-versus-a-copy\n",
            "  df_powód_zamachu[column_name] = df_powód_zamachu.apply(lambda row: 1 if value in row.values else 0, axis=1)\n",
            "<ipython-input-27-9a28d6c29fb4>:3: SettingWithCopyWarning: \n",
            "A value is trying to be set on a copy of a slice from a DataFrame.\n",
            "Try using .loc[row_indexer,col_indexer] = value instead\n",
            "\n",
            "See the caveats in the documentation: https://pandas.pydata.org/pandas-docs/stable/user_guide/indexing.html#returning-a-view-versus-a-copy\n",
            "  df_powód_zamachu[column_name] = df_powód_zamachu.apply(lambda row: 1 if value in row.values else 0, axis=1)\n",
            "<ipython-input-27-9a28d6c29fb4>:3: SettingWithCopyWarning: \n",
            "A value is trying to be set on a copy of a slice from a DataFrame.\n",
            "Try using .loc[row_indexer,col_indexer] = value instead\n",
            "\n",
            "See the caveats in the documentation: https://pandas.pydata.org/pandas-docs/stable/user_guide/indexing.html#returning-a-view-versus-a-copy\n",
            "  df_powód_zamachu[column_name] = df_powód_zamachu.apply(lambda row: 1 if value in row.values else 0, axis=1)\n"
          ]
        }
      ]
    },
    {
      "cell_type": "code",
      "source": [
        "columns_to_drop = ['Powód', 'Powód_2', 'Powód_3', 'Powód_4', 'Powód_nan']\n",
        "df_powód_zamachu.drop(columns=columns_to_drop, inplace=True)\n"
      ],
      "metadata": {
        "id": "fQ73shBOG1II"
      },
      "execution_count": null,
      "outputs": []
    },
    {
      "cell_type": "markdown",
      "source": [
        "##Liczba_powodów_zamachu"
      ],
      "metadata": {
        "id": "Hagqy4z-JnQ3"
      }
    },
    {
      "cell_type": "code",
      "source": [
        "df_raw['L_powodów'] = df_powód_zamachu.sum(axis=1)"
      ],
      "metadata": {
        "id": "_EZNn51KJwDr"
      },
      "execution_count": null,
      "outputs": []
    },
    {
      "cell_type": "code",
      "source": [
        "df_raw.head()"
      ],
      "metadata": {
        "colab": {
          "base_uri": "https://localhost:8080/",
          "height": 295
        },
        "id": "eluFOpAZKOXZ",
        "outputId": "4560e063-9566-4d51-8b35-9a048fcc8d6e"
      },
      "execution_count": null,
      "outputs": [
        {
          "output_type": "execute_result",
          "data": {
            "text/plain": [
              "   ID_samobójcy     Data   Wiek Płeć     St_cyw Poz_edu   Inf_praca  \\\n",
              "0  114581552,00  01.2013    NaN    M        NaN     NaN         NaN   \n",
              "1  114584284,00  01.2013  13-18    M        NaN     NaN       Uczeń   \n",
              "2  114584293,00  01.2013  13-18    K  Samotność   Podst       Uczeń   \n",
              "3  114584312,00  01.2013  19-24    M  Samotność     NaN         NaN   \n",
              "4  114584399,00  01.2013  40-44    M  Samotność     NaN  Bezrobotny   \n",
              "\n",
              "  Utrzymanie  Sukces      Miejsce       Sposób  Stan Używanie Leczenie  \\\n",
              "0        NaN     NaN          NaN          NaN   NaN      NaN      NaN   \n",
              "1        NaN     1.0        Droga   Pod_pojazd   NaN      NaN      NaN   \n",
              "2    Zależny     1.0         Inne  Z_wysokości   NaN      NaN      NaN   \n",
              "3        NaN     1.0          NaN         Inny   NaN      NaN      NaN   \n",
              "4        NaN     1.0  Zabudowania  Powieszenie  Alko      NaN      NaN   \n",
              "\n",
              "  Data_rok Data_miesiąc  L_powodów  \n",
              "0     2013           01          0  \n",
              "1     2013           01          0  \n",
              "2     2013           01          0  \n",
              "3     2013           01          1  \n",
              "4     2013           01          0  "
            ],
            "text/html": [
              "\n",
              "  <div id=\"df-b3f15247-a3ac-4a5c-ac28-9edb9fc5fee0\" class=\"colab-df-container\">\n",
              "    <div>\n",
              "<style scoped>\n",
              "    .dataframe tbody tr th:only-of-type {\n",
              "        vertical-align: middle;\n",
              "    }\n",
              "\n",
              "    .dataframe tbody tr th {\n",
              "        vertical-align: top;\n",
              "    }\n",
              "\n",
              "    .dataframe thead th {\n",
              "        text-align: right;\n",
              "    }\n",
              "</style>\n",
              "<table border=\"1\" class=\"dataframe\">\n",
              "  <thead>\n",
              "    <tr style=\"text-align: right;\">\n",
              "      <th></th>\n",
              "      <th>ID_samobójcy</th>\n",
              "      <th>Data</th>\n",
              "      <th>Wiek</th>\n",
              "      <th>Płeć</th>\n",
              "      <th>St_cyw</th>\n",
              "      <th>Poz_edu</th>\n",
              "      <th>Inf_praca</th>\n",
              "      <th>Utrzymanie</th>\n",
              "      <th>Sukces</th>\n",
              "      <th>Miejsce</th>\n",
              "      <th>Sposób</th>\n",
              "      <th>Stan</th>\n",
              "      <th>Używanie</th>\n",
              "      <th>Leczenie</th>\n",
              "      <th>Data_rok</th>\n",
              "      <th>Data_miesiąc</th>\n",
              "      <th>L_powodów</th>\n",
              "    </tr>\n",
              "  </thead>\n",
              "  <tbody>\n",
              "    <tr>\n",
              "      <th>0</th>\n",
              "      <td>114581552,00</td>\n",
              "      <td>01.2013</td>\n",
              "      <td>NaN</td>\n",
              "      <td>M</td>\n",
              "      <td>NaN</td>\n",
              "      <td>NaN</td>\n",
              "      <td>NaN</td>\n",
              "      <td>NaN</td>\n",
              "      <td>NaN</td>\n",
              "      <td>NaN</td>\n",
              "      <td>NaN</td>\n",
              "      <td>NaN</td>\n",
              "      <td>NaN</td>\n",
              "      <td>NaN</td>\n",
              "      <td>2013</td>\n",
              "      <td>01</td>\n",
              "      <td>0</td>\n",
              "    </tr>\n",
              "    <tr>\n",
              "      <th>1</th>\n",
              "      <td>114584284,00</td>\n",
              "      <td>01.2013</td>\n",
              "      <td>13-18</td>\n",
              "      <td>M</td>\n",
              "      <td>NaN</td>\n",
              "      <td>NaN</td>\n",
              "      <td>Uczeń</td>\n",
              "      <td>NaN</td>\n",
              "      <td>1.0</td>\n",
              "      <td>Droga</td>\n",
              "      <td>Pod_pojazd</td>\n",
              "      <td>NaN</td>\n",
              "      <td>NaN</td>\n",
              "      <td>NaN</td>\n",
              "      <td>2013</td>\n",
              "      <td>01</td>\n",
              "      <td>0</td>\n",
              "    </tr>\n",
              "    <tr>\n",
              "      <th>2</th>\n",
              "      <td>114584293,00</td>\n",
              "      <td>01.2013</td>\n",
              "      <td>13-18</td>\n",
              "      <td>K</td>\n",
              "      <td>Samotność</td>\n",
              "      <td>Podst</td>\n",
              "      <td>Uczeń</td>\n",
              "      <td>Zależny</td>\n",
              "      <td>1.0</td>\n",
              "      <td>Inne</td>\n",
              "      <td>Z_wysokości</td>\n",
              "      <td>NaN</td>\n",
              "      <td>NaN</td>\n",
              "      <td>NaN</td>\n",
              "      <td>2013</td>\n",
              "      <td>01</td>\n",
              "      <td>0</td>\n",
              "    </tr>\n",
              "    <tr>\n",
              "      <th>3</th>\n",
              "      <td>114584312,00</td>\n",
              "      <td>01.2013</td>\n",
              "      <td>19-24</td>\n",
              "      <td>M</td>\n",
              "      <td>Samotność</td>\n",
              "      <td>NaN</td>\n",
              "      <td>NaN</td>\n",
              "      <td>NaN</td>\n",
              "      <td>1.0</td>\n",
              "      <td>NaN</td>\n",
              "      <td>Inny</td>\n",
              "      <td>NaN</td>\n",
              "      <td>NaN</td>\n",
              "      <td>NaN</td>\n",
              "      <td>2013</td>\n",
              "      <td>01</td>\n",
              "      <td>1</td>\n",
              "    </tr>\n",
              "    <tr>\n",
              "      <th>4</th>\n",
              "      <td>114584399,00</td>\n",
              "      <td>01.2013</td>\n",
              "      <td>40-44</td>\n",
              "      <td>M</td>\n",
              "      <td>Samotność</td>\n",
              "      <td>NaN</td>\n",
              "      <td>Bezrobotny</td>\n",
              "      <td>NaN</td>\n",
              "      <td>1.0</td>\n",
              "      <td>Zabudowania</td>\n",
              "      <td>Powieszenie</td>\n",
              "      <td>Alko</td>\n",
              "      <td>NaN</td>\n",
              "      <td>NaN</td>\n",
              "      <td>2013</td>\n",
              "      <td>01</td>\n",
              "      <td>0</td>\n",
              "    </tr>\n",
              "  </tbody>\n",
              "</table>\n",
              "</div>\n",
              "    <div class=\"colab-df-buttons\">\n",
              "\n",
              "  <div class=\"colab-df-container\">\n",
              "    <button class=\"colab-df-convert\" onclick=\"convertToInteractive('df-b3f15247-a3ac-4a5c-ac28-9edb9fc5fee0')\"\n",
              "            title=\"Convert this dataframe to an interactive table.\"\n",
              "            style=\"display:none;\">\n",
              "\n",
              "  <svg xmlns=\"http://www.w3.org/2000/svg\" height=\"24px\" viewBox=\"0 -960 960 960\">\n",
              "    <path d=\"M120-120v-720h720v720H120Zm60-500h600v-160H180v160Zm220 220h160v-160H400v160Zm0 220h160v-160H400v160ZM180-400h160v-160H180v160Zm440 0h160v-160H620v160ZM180-180h160v-160H180v160Zm440 0h160v-160H620v160Z\"/>\n",
              "  </svg>\n",
              "    </button>\n",
              "\n",
              "  <style>\n",
              "    .colab-df-container {\n",
              "      display:flex;\n",
              "      gap: 12px;\n",
              "    }\n",
              "\n",
              "    .colab-df-convert {\n",
              "      background-color: #E8F0FE;\n",
              "      border: none;\n",
              "      border-radius: 50%;\n",
              "      cursor: pointer;\n",
              "      display: none;\n",
              "      fill: #1967D2;\n",
              "      height: 32px;\n",
              "      padding: 0 0 0 0;\n",
              "      width: 32px;\n",
              "    }\n",
              "\n",
              "    .colab-df-convert:hover {\n",
              "      background-color: #E2EBFA;\n",
              "      box-shadow: 0px 1px 2px rgba(60, 64, 67, 0.3), 0px 1px 3px 1px rgba(60, 64, 67, 0.15);\n",
              "      fill: #174EA6;\n",
              "    }\n",
              "\n",
              "    .colab-df-buttons div {\n",
              "      margin-bottom: 4px;\n",
              "    }\n",
              "\n",
              "    [theme=dark] .colab-df-convert {\n",
              "      background-color: #3B4455;\n",
              "      fill: #D2E3FC;\n",
              "    }\n",
              "\n",
              "    [theme=dark] .colab-df-convert:hover {\n",
              "      background-color: #434B5C;\n",
              "      box-shadow: 0px 1px 3px 1px rgba(0, 0, 0, 0.15);\n",
              "      filter: drop-shadow(0px 1px 2px rgba(0, 0, 0, 0.3));\n",
              "      fill: #FFFFFF;\n",
              "    }\n",
              "  </style>\n",
              "\n",
              "    <script>\n",
              "      const buttonEl =\n",
              "        document.querySelector('#df-b3f15247-a3ac-4a5c-ac28-9edb9fc5fee0 button.colab-df-convert');\n",
              "      buttonEl.style.display =\n",
              "        google.colab.kernel.accessAllowed ? 'block' : 'none';\n",
              "\n",
              "      async function convertToInteractive(key) {\n",
              "        const element = document.querySelector('#df-b3f15247-a3ac-4a5c-ac28-9edb9fc5fee0');\n",
              "        const dataTable =\n",
              "          await google.colab.kernel.invokeFunction('convertToInteractive',\n",
              "                                                    [key], {});\n",
              "        if (!dataTable) return;\n",
              "\n",
              "        const docLinkHtml = 'Like what you see? Visit the ' +\n",
              "          '<a target=\"_blank\" href=https://colab.research.google.com/notebooks/data_table.ipynb>data table notebook</a>'\n",
              "          + ' to learn more about interactive tables.';\n",
              "        element.innerHTML = '';\n",
              "        dataTable['output_type'] = 'display_data';\n",
              "        await google.colab.output.renderOutput(dataTable, element);\n",
              "        const docLink = document.createElement('div');\n",
              "        docLink.innerHTML = docLinkHtml;\n",
              "        element.appendChild(docLink);\n",
              "      }\n",
              "    </script>\n",
              "  </div>\n",
              "\n",
              "\n",
              "<div id=\"df-8dca2c53-9fce-487c-b106-037c23cfd92a\">\n",
              "  <button class=\"colab-df-quickchart\" onclick=\"quickchart('df-8dca2c53-9fce-487c-b106-037c23cfd92a')\"\n",
              "            title=\"Suggest charts\"\n",
              "            style=\"display:none;\">\n",
              "\n",
              "<svg xmlns=\"http://www.w3.org/2000/svg\" height=\"24px\"viewBox=\"0 0 24 24\"\n",
              "     width=\"24px\">\n",
              "    <g>\n",
              "        <path d=\"M19 3H5c-1.1 0-2 .9-2 2v14c0 1.1.9 2 2 2h14c1.1 0 2-.9 2-2V5c0-1.1-.9-2-2-2zM9 17H7v-7h2v7zm4 0h-2V7h2v10zm4 0h-2v-4h2v4z\"/>\n",
              "    </g>\n",
              "</svg>\n",
              "  </button>\n",
              "\n",
              "<style>\n",
              "  .colab-df-quickchart {\n",
              "      --bg-color: #E8F0FE;\n",
              "      --fill-color: #1967D2;\n",
              "      --hover-bg-color: #E2EBFA;\n",
              "      --hover-fill-color: #174EA6;\n",
              "      --disabled-fill-color: #AAA;\n",
              "      --disabled-bg-color: #DDD;\n",
              "  }\n",
              "\n",
              "  [theme=dark] .colab-df-quickchart {\n",
              "      --bg-color: #3B4455;\n",
              "      --fill-color: #D2E3FC;\n",
              "      --hover-bg-color: #434B5C;\n",
              "      --hover-fill-color: #FFFFFF;\n",
              "      --disabled-bg-color: #3B4455;\n",
              "      --disabled-fill-color: #666;\n",
              "  }\n",
              "\n",
              "  .colab-df-quickchart {\n",
              "    background-color: var(--bg-color);\n",
              "    border: none;\n",
              "    border-radius: 50%;\n",
              "    cursor: pointer;\n",
              "    display: none;\n",
              "    fill: var(--fill-color);\n",
              "    height: 32px;\n",
              "    padding: 0;\n",
              "    width: 32px;\n",
              "  }\n",
              "\n",
              "  .colab-df-quickchart:hover {\n",
              "    background-color: var(--hover-bg-color);\n",
              "    box-shadow: 0 1px 2px rgba(60, 64, 67, 0.3), 0 1px 3px 1px rgba(60, 64, 67, 0.15);\n",
              "    fill: var(--button-hover-fill-color);\n",
              "  }\n",
              "\n",
              "  .colab-df-quickchart-complete:disabled,\n",
              "  .colab-df-quickchart-complete:disabled:hover {\n",
              "    background-color: var(--disabled-bg-color);\n",
              "    fill: var(--disabled-fill-color);\n",
              "    box-shadow: none;\n",
              "  }\n",
              "\n",
              "  .colab-df-spinner {\n",
              "    border: 2px solid var(--fill-color);\n",
              "    border-color: transparent;\n",
              "    border-bottom-color: var(--fill-color);\n",
              "    animation:\n",
              "      spin 1s steps(1) infinite;\n",
              "  }\n",
              "\n",
              "  @keyframes spin {\n",
              "    0% {\n",
              "      border-color: transparent;\n",
              "      border-bottom-color: var(--fill-color);\n",
              "      border-left-color: var(--fill-color);\n",
              "    }\n",
              "    20% {\n",
              "      border-color: transparent;\n",
              "      border-left-color: var(--fill-color);\n",
              "      border-top-color: var(--fill-color);\n",
              "    }\n",
              "    30% {\n",
              "      border-color: transparent;\n",
              "      border-left-color: var(--fill-color);\n",
              "      border-top-color: var(--fill-color);\n",
              "      border-right-color: var(--fill-color);\n",
              "    }\n",
              "    40% {\n",
              "      border-color: transparent;\n",
              "      border-right-color: var(--fill-color);\n",
              "      border-top-color: var(--fill-color);\n",
              "    }\n",
              "    60% {\n",
              "      border-color: transparent;\n",
              "      border-right-color: var(--fill-color);\n",
              "    }\n",
              "    80% {\n",
              "      border-color: transparent;\n",
              "      border-right-color: var(--fill-color);\n",
              "      border-bottom-color: var(--fill-color);\n",
              "    }\n",
              "    90% {\n",
              "      border-color: transparent;\n",
              "      border-bottom-color: var(--fill-color);\n",
              "    }\n",
              "  }\n",
              "</style>\n",
              "\n",
              "  <script>\n",
              "    async function quickchart(key) {\n",
              "      const quickchartButtonEl =\n",
              "        document.querySelector('#' + key + ' button');\n",
              "      quickchartButtonEl.disabled = true;  // To prevent multiple clicks.\n",
              "      quickchartButtonEl.classList.add('colab-df-spinner');\n",
              "      try {\n",
              "        const charts = await google.colab.kernel.invokeFunction(\n",
              "            'suggestCharts', [key], {});\n",
              "      } catch (error) {\n",
              "        console.error('Error during call to suggestCharts:', error);\n",
              "      }\n",
              "      quickchartButtonEl.classList.remove('colab-df-spinner');\n",
              "      quickchartButtonEl.classList.add('colab-df-quickchart-complete');\n",
              "    }\n",
              "    (() => {\n",
              "      let quickchartButtonEl =\n",
              "        document.querySelector('#df-8dca2c53-9fce-487c-b106-037c23cfd92a button');\n",
              "      quickchartButtonEl.style.display =\n",
              "        google.colab.kernel.accessAllowed ? 'block' : 'none';\n",
              "    })();\n",
              "  </script>\n",
              "</div>\n",
              "    </div>\n",
              "  </div>\n"
            ],
            "application/vnd.google.colaboratory.intrinsic+json": {
              "type": "dataframe",
              "variable_name": "df_raw"
            }
          },
          "metadata": {},
          "execution_count": 30
        }
      ]
    },
    {
      "cell_type": "markdown",
      "source": [
        "# 2013_2022"
      ],
      "metadata": {
        "id": "N7uhW5wHIG_n"
      }
    },
    {
      "cell_type": "code",
      "source": [
        "df_raw = pd.read_csv('https://raw.githubusercontent.com/Hubert26/suicides_IPPAN/main/data/final_samobojstwa_2013_2022.csv', delimiter=',', low_memory=False)"
      ],
      "metadata": {
        "id": "Uqdae34UIG_u"
      },
      "execution_count": null,
      "outputs": []
    },
    {
      "cell_type": "code",
      "source": [
        "df_raw.head()"
      ],
      "metadata": {
        "colab": {
          "base_uri": "https://localhost:8080/",
          "height": 278
        },
        "outputId": "00b1280c-abae-41c9-e338-b50108b67a1d",
        "id": "gRsxr-heIG_u"
      },
      "execution_count": null,
      "outputs": [
        {
          "output_type": "execute_result",
          "data": {
            "text/plain": [
              "   ID samobójcy Data raportu [RRRRMM]  Przedział wiekowy  Płeć  Stan cywilny  \\\n",
              "0  114581552,00                201301                  0     2             0   \n",
              "1  114584284,00                201301                  2     2             0   \n",
              "2  114584293,00                201301                  2     1             1   \n",
              "3  114584312,00                201301                  3     2             1   \n",
              "4  114584399,00                201301                  7     2             1   \n",
              "\n",
              "   Wykształcenie  Informacje o pracy i nauce  Źródło utrzymania  \\\n",
              "0              0                           0                  0   \n",
              "1              0                           1                  0   \n",
              "2              2                           1                  1   \n",
              "3              0                           0                  0   \n",
              "4              0                           9                  0   \n",
              "\n",
              "   Czy samobójstwo zakończyło się zgonem  Miejsce zamachu  Sposób popełnienia  \\\n",
              "0                                      0                0                   0   \n",
              "1                                      1                1                   1   \n",
              "2                                      1               15                   2   \n",
              "3                                      1                0                  18   \n",
              "4                                      1                2                   3   \n",
              "\n",
              "   Powód zamachu Powód zamachu 2  Powód zamachu 3  Powód zamachu 4  \\\n",
              "0              0             NaN              NaN              NaN   \n",
              "1              0             NaN              NaN              NaN   \n",
              "2              0             NaN              NaN              NaN   \n",
              "3              1             NaN              NaN              NaN   \n",
              "4              0             NaN              NaN              NaN   \n",
              "\n",
              "   Stan świadomości  Informacje o używaniu substancji  \\\n",
              "0                 0                                 0   \n",
              "1                 0                                 0   \n",
              "2                 0                                 0   \n",
              "3                 0                                 0   \n",
              "4                 2                                 0   \n",
              "\n",
              "   Informacje dotyczące leczenia z powodu alkoholizmu/narkomanii  \n",
              "0                                                  0              \n",
              "1                                                  0              \n",
              "2                                                  0              \n",
              "3                                                  0              \n",
              "4                                                  0              "
            ],
            "text/html": [
              "\n",
              "  <div id=\"df-8cd39ce1-9634-44f9-8266-0bcab9dce864\" class=\"colab-df-container\">\n",
              "    <div>\n",
              "<style scoped>\n",
              "    .dataframe tbody tr th:only-of-type {\n",
              "        vertical-align: middle;\n",
              "    }\n",
              "\n",
              "    .dataframe tbody tr th {\n",
              "        vertical-align: top;\n",
              "    }\n",
              "\n",
              "    .dataframe thead th {\n",
              "        text-align: right;\n",
              "    }\n",
              "</style>\n",
              "<table border=\"1\" class=\"dataframe\">\n",
              "  <thead>\n",
              "    <tr style=\"text-align: right;\">\n",
              "      <th></th>\n",
              "      <th>ID samobójcy</th>\n",
              "      <th>Data raportu [RRRRMM]</th>\n",
              "      <th>Przedział wiekowy</th>\n",
              "      <th>Płeć</th>\n",
              "      <th>Stan cywilny</th>\n",
              "      <th>Wykształcenie</th>\n",
              "      <th>Informacje o pracy i nauce</th>\n",
              "      <th>Źródło utrzymania</th>\n",
              "      <th>Czy samobójstwo zakończyło się zgonem</th>\n",
              "      <th>Miejsce zamachu</th>\n",
              "      <th>Sposób popełnienia</th>\n",
              "      <th>Powód zamachu</th>\n",
              "      <th>Powód zamachu 2</th>\n",
              "      <th>Powód zamachu 3</th>\n",
              "      <th>Powód zamachu 4</th>\n",
              "      <th>Stan świadomości</th>\n",
              "      <th>Informacje o używaniu substancji</th>\n",
              "      <th>Informacje dotyczące leczenia z powodu alkoholizmu/narkomanii</th>\n",
              "    </tr>\n",
              "  </thead>\n",
              "  <tbody>\n",
              "    <tr>\n",
              "      <th>0</th>\n",
              "      <td>114581552,00</td>\n",
              "      <td>201301</td>\n",
              "      <td>0</td>\n",
              "      <td>2</td>\n",
              "      <td>0</td>\n",
              "      <td>0</td>\n",
              "      <td>0</td>\n",
              "      <td>0</td>\n",
              "      <td>0</td>\n",
              "      <td>0</td>\n",
              "      <td>0</td>\n",
              "      <td>0</td>\n",
              "      <td>NaN</td>\n",
              "      <td>NaN</td>\n",
              "      <td>NaN</td>\n",
              "      <td>0</td>\n",
              "      <td>0</td>\n",
              "      <td>0</td>\n",
              "    </tr>\n",
              "    <tr>\n",
              "      <th>1</th>\n",
              "      <td>114584284,00</td>\n",
              "      <td>201301</td>\n",
              "      <td>2</td>\n",
              "      <td>2</td>\n",
              "      <td>0</td>\n",
              "      <td>0</td>\n",
              "      <td>1</td>\n",
              "      <td>0</td>\n",
              "      <td>1</td>\n",
              "      <td>1</td>\n",
              "      <td>1</td>\n",
              "      <td>0</td>\n",
              "      <td>NaN</td>\n",
              "      <td>NaN</td>\n",
              "      <td>NaN</td>\n",
              "      <td>0</td>\n",
              "      <td>0</td>\n",
              "      <td>0</td>\n",
              "    </tr>\n",
              "    <tr>\n",
              "      <th>2</th>\n",
              "      <td>114584293,00</td>\n",
              "      <td>201301</td>\n",
              "      <td>2</td>\n",
              "      <td>1</td>\n",
              "      <td>1</td>\n",
              "      <td>2</td>\n",
              "      <td>1</td>\n",
              "      <td>1</td>\n",
              "      <td>1</td>\n",
              "      <td>15</td>\n",
              "      <td>2</td>\n",
              "      <td>0</td>\n",
              "      <td>NaN</td>\n",
              "      <td>NaN</td>\n",
              "      <td>NaN</td>\n",
              "      <td>0</td>\n",
              "      <td>0</td>\n",
              "      <td>0</td>\n",
              "    </tr>\n",
              "    <tr>\n",
              "      <th>3</th>\n",
              "      <td>114584312,00</td>\n",
              "      <td>201301</td>\n",
              "      <td>3</td>\n",
              "      <td>2</td>\n",
              "      <td>1</td>\n",
              "      <td>0</td>\n",
              "      <td>0</td>\n",
              "      <td>0</td>\n",
              "      <td>1</td>\n",
              "      <td>0</td>\n",
              "      <td>18</td>\n",
              "      <td>1</td>\n",
              "      <td>NaN</td>\n",
              "      <td>NaN</td>\n",
              "      <td>NaN</td>\n",
              "      <td>0</td>\n",
              "      <td>0</td>\n",
              "      <td>0</td>\n",
              "    </tr>\n",
              "    <tr>\n",
              "      <th>4</th>\n",
              "      <td>114584399,00</td>\n",
              "      <td>201301</td>\n",
              "      <td>7</td>\n",
              "      <td>2</td>\n",
              "      <td>1</td>\n",
              "      <td>0</td>\n",
              "      <td>9</td>\n",
              "      <td>0</td>\n",
              "      <td>1</td>\n",
              "      <td>2</td>\n",
              "      <td>3</td>\n",
              "      <td>0</td>\n",
              "      <td>NaN</td>\n",
              "      <td>NaN</td>\n",
              "      <td>NaN</td>\n",
              "      <td>2</td>\n",
              "      <td>0</td>\n",
              "      <td>0</td>\n",
              "    </tr>\n",
              "  </tbody>\n",
              "</table>\n",
              "</div>\n",
              "    <div class=\"colab-df-buttons\">\n",
              "\n",
              "  <div class=\"colab-df-container\">\n",
              "    <button class=\"colab-df-convert\" onclick=\"convertToInteractive('df-8cd39ce1-9634-44f9-8266-0bcab9dce864')\"\n",
              "            title=\"Convert this dataframe to an interactive table.\"\n",
              "            style=\"display:none;\">\n",
              "\n",
              "  <svg xmlns=\"http://www.w3.org/2000/svg\" height=\"24px\" viewBox=\"0 -960 960 960\">\n",
              "    <path d=\"M120-120v-720h720v720H120Zm60-500h600v-160H180v160Zm220 220h160v-160H400v160Zm0 220h160v-160H400v160ZM180-400h160v-160H180v160Zm440 0h160v-160H620v160ZM180-180h160v-160H180v160Zm440 0h160v-160H620v160Z\"/>\n",
              "  </svg>\n",
              "    </button>\n",
              "\n",
              "  <style>\n",
              "    .colab-df-container {\n",
              "      display:flex;\n",
              "      gap: 12px;\n",
              "    }\n",
              "\n",
              "    .colab-df-convert {\n",
              "      background-color: #E8F0FE;\n",
              "      border: none;\n",
              "      border-radius: 50%;\n",
              "      cursor: pointer;\n",
              "      display: none;\n",
              "      fill: #1967D2;\n",
              "      height: 32px;\n",
              "      padding: 0 0 0 0;\n",
              "      width: 32px;\n",
              "    }\n",
              "\n",
              "    .colab-df-convert:hover {\n",
              "      background-color: #E2EBFA;\n",
              "      box-shadow: 0px 1px 2px rgba(60, 64, 67, 0.3), 0px 1px 3px 1px rgba(60, 64, 67, 0.15);\n",
              "      fill: #174EA6;\n",
              "    }\n",
              "\n",
              "    .colab-df-buttons div {\n",
              "      margin-bottom: 4px;\n",
              "    }\n",
              "\n",
              "    [theme=dark] .colab-df-convert {\n",
              "      background-color: #3B4455;\n",
              "      fill: #D2E3FC;\n",
              "    }\n",
              "\n",
              "    [theme=dark] .colab-df-convert:hover {\n",
              "      background-color: #434B5C;\n",
              "      box-shadow: 0px 1px 3px 1px rgba(0, 0, 0, 0.15);\n",
              "      filter: drop-shadow(0px 1px 2px rgba(0, 0, 0, 0.3));\n",
              "      fill: #FFFFFF;\n",
              "    }\n",
              "  </style>\n",
              "\n",
              "    <script>\n",
              "      const buttonEl =\n",
              "        document.querySelector('#df-8cd39ce1-9634-44f9-8266-0bcab9dce864 button.colab-df-convert');\n",
              "      buttonEl.style.display =\n",
              "        google.colab.kernel.accessAllowed ? 'block' : 'none';\n",
              "\n",
              "      async function convertToInteractive(key) {\n",
              "        const element = document.querySelector('#df-8cd39ce1-9634-44f9-8266-0bcab9dce864');\n",
              "        const dataTable =\n",
              "          await google.colab.kernel.invokeFunction('convertToInteractive',\n",
              "                                                    [key], {});\n",
              "        if (!dataTable) return;\n",
              "\n",
              "        const docLinkHtml = 'Like what you see? Visit the ' +\n",
              "          '<a target=\"_blank\" href=https://colab.research.google.com/notebooks/data_table.ipynb>data table notebook</a>'\n",
              "          + ' to learn more about interactive tables.';\n",
              "        element.innerHTML = '';\n",
              "        dataTable['output_type'] = 'display_data';\n",
              "        await google.colab.output.renderOutput(dataTable, element);\n",
              "        const docLink = document.createElement('div');\n",
              "        docLink.innerHTML = docLinkHtml;\n",
              "        element.appendChild(docLink);\n",
              "      }\n",
              "    </script>\n",
              "  </div>\n",
              "\n",
              "\n",
              "<div id=\"df-7849c992-8e04-4a37-ad90-091138e5d220\">\n",
              "  <button class=\"colab-df-quickchart\" onclick=\"quickchart('df-7849c992-8e04-4a37-ad90-091138e5d220')\"\n",
              "            title=\"Suggest charts\"\n",
              "            style=\"display:none;\">\n",
              "\n",
              "<svg xmlns=\"http://www.w3.org/2000/svg\" height=\"24px\"viewBox=\"0 0 24 24\"\n",
              "     width=\"24px\">\n",
              "    <g>\n",
              "        <path d=\"M19 3H5c-1.1 0-2 .9-2 2v14c0 1.1.9 2 2 2h14c1.1 0 2-.9 2-2V5c0-1.1-.9-2-2-2zM9 17H7v-7h2v7zm4 0h-2V7h2v10zm4 0h-2v-4h2v4z\"/>\n",
              "    </g>\n",
              "</svg>\n",
              "  </button>\n",
              "\n",
              "<style>\n",
              "  .colab-df-quickchart {\n",
              "      --bg-color: #E8F0FE;\n",
              "      --fill-color: #1967D2;\n",
              "      --hover-bg-color: #E2EBFA;\n",
              "      --hover-fill-color: #174EA6;\n",
              "      --disabled-fill-color: #AAA;\n",
              "      --disabled-bg-color: #DDD;\n",
              "  }\n",
              "\n",
              "  [theme=dark] .colab-df-quickchart {\n",
              "      --bg-color: #3B4455;\n",
              "      --fill-color: #D2E3FC;\n",
              "      --hover-bg-color: #434B5C;\n",
              "      --hover-fill-color: #FFFFFF;\n",
              "      --disabled-bg-color: #3B4455;\n",
              "      --disabled-fill-color: #666;\n",
              "  }\n",
              "\n",
              "  .colab-df-quickchart {\n",
              "    background-color: var(--bg-color);\n",
              "    border: none;\n",
              "    border-radius: 50%;\n",
              "    cursor: pointer;\n",
              "    display: none;\n",
              "    fill: var(--fill-color);\n",
              "    height: 32px;\n",
              "    padding: 0;\n",
              "    width: 32px;\n",
              "  }\n",
              "\n",
              "  .colab-df-quickchart:hover {\n",
              "    background-color: var(--hover-bg-color);\n",
              "    box-shadow: 0 1px 2px rgba(60, 64, 67, 0.3), 0 1px 3px 1px rgba(60, 64, 67, 0.15);\n",
              "    fill: var(--button-hover-fill-color);\n",
              "  }\n",
              "\n",
              "  .colab-df-quickchart-complete:disabled,\n",
              "  .colab-df-quickchart-complete:disabled:hover {\n",
              "    background-color: var(--disabled-bg-color);\n",
              "    fill: var(--disabled-fill-color);\n",
              "    box-shadow: none;\n",
              "  }\n",
              "\n",
              "  .colab-df-spinner {\n",
              "    border: 2px solid var(--fill-color);\n",
              "    border-color: transparent;\n",
              "    border-bottom-color: var(--fill-color);\n",
              "    animation:\n",
              "      spin 1s steps(1) infinite;\n",
              "  }\n",
              "\n",
              "  @keyframes spin {\n",
              "    0% {\n",
              "      border-color: transparent;\n",
              "      border-bottom-color: var(--fill-color);\n",
              "      border-left-color: var(--fill-color);\n",
              "    }\n",
              "    20% {\n",
              "      border-color: transparent;\n",
              "      border-left-color: var(--fill-color);\n",
              "      border-top-color: var(--fill-color);\n",
              "    }\n",
              "    30% {\n",
              "      border-color: transparent;\n",
              "      border-left-color: var(--fill-color);\n",
              "      border-top-color: var(--fill-color);\n",
              "      border-right-color: var(--fill-color);\n",
              "    }\n",
              "    40% {\n",
              "      border-color: transparent;\n",
              "      border-right-color: var(--fill-color);\n",
              "      border-top-color: var(--fill-color);\n",
              "    }\n",
              "    60% {\n",
              "      border-color: transparent;\n",
              "      border-right-color: var(--fill-color);\n",
              "    }\n",
              "    80% {\n",
              "      border-color: transparent;\n",
              "      border-right-color: var(--fill-color);\n",
              "      border-bottom-color: var(--fill-color);\n",
              "    }\n",
              "    90% {\n",
              "      border-color: transparent;\n",
              "      border-bottom-color: var(--fill-color);\n",
              "    }\n",
              "  }\n",
              "</style>\n",
              "\n",
              "  <script>\n",
              "    async function quickchart(key) {\n",
              "      const quickchartButtonEl =\n",
              "        document.querySelector('#' + key + ' button');\n",
              "      quickchartButtonEl.disabled = true;  // To prevent multiple clicks.\n",
              "      quickchartButtonEl.classList.add('colab-df-spinner');\n",
              "      try {\n",
              "        const charts = await google.colab.kernel.invokeFunction(\n",
              "            'suggestCharts', [key], {});\n",
              "      } catch (error) {\n",
              "        console.error('Error during call to suggestCharts:', error);\n",
              "      }\n",
              "      quickchartButtonEl.classList.remove('colab-df-spinner');\n",
              "      quickchartButtonEl.classList.add('colab-df-quickchart-complete');\n",
              "    }\n",
              "    (() => {\n",
              "      let quickchartButtonEl =\n",
              "        document.querySelector('#df-7849c992-8e04-4a37-ad90-091138e5d220 button');\n",
              "      quickchartButtonEl.style.display =\n",
              "        google.colab.kernel.accessAllowed ? 'block' : 'none';\n",
              "    })();\n",
              "  </script>\n",
              "</div>\n",
              "    </div>\n",
              "  </div>\n"
            ],
            "application/vnd.google.colaboratory.intrinsic+json": {
              "type": "dataframe",
              "variable_name": "df_raw"
            }
          },
          "metadata": {},
          "execution_count": 3
        }
      ]
    },
    {
      "cell_type": "markdown",
      "source": [
        "##Zamiana nazw kolumn"
      ],
      "metadata": {
        "id": "074jUdrHIG_v"
      }
    },
    {
      "cell_type": "code",
      "source": [
        "# Zamiana spacji na podkreślenia w nazwach kolumn\n",
        "df_raw.rename(columns=lambda x: x.replace(' ', '_'), inplace=True)\n"
      ],
      "metadata": {
        "id": "RMQV6X2fIG_v"
      },
      "execution_count": null,
      "outputs": []
    },
    {
      "cell_type": "code",
      "source": [
        "df_raw.rename(columns={'Data_raportu_[RRRRMM]': 'Data'}, inplace=True)"
      ],
      "metadata": {
        "id": "1zqeRANaIG_v"
      },
      "execution_count": null,
      "outputs": []
    },
    {
      "cell_type": "markdown",
      "source": [
        "## Daty"
      ],
      "metadata": {
        "id": "z3cznhoIIG_v"
      }
    },
    {
      "cell_type": "code",
      "source": [
        "# Wyodrębnienie roku i miesiąca\n",
        "df_raw['Data_rok'] = df_raw['Data'].apply(lambda x: x[0:4] if len(x) > 8 else x[:4])\n",
        "df_raw['Data_miesiąc'] = df_raw['Data'].apply(lambda x: x[5:7] if len(x) > 8 else x[4:6])"
      ],
      "metadata": {
        "id": "NLW1NrRQIG_v"
      },
      "execution_count": null,
      "outputs": []
    },
    {
      "cell_type": "code",
      "source": [
        "# Połączenie roku i miesiąca w formacie MM.YYYY\n",
        "df_raw['Data'] = df_raw['Data_miesiąc'] + '.' + df_raw['Data_rok']"
      ],
      "metadata": {
        "id": "gjZPEOw6IG_v"
      },
      "execution_count": null,
      "outputs": []
    },
    {
      "cell_type": "markdown",
      "source": [
        "##Mapowanie"
      ],
      "metadata": {
        "id": "e0cGZIf0IG_v"
      }
    },
    {
      "cell_type": "markdown",
      "source": [
        "###Przedział_wiekowy"
      ],
      "metadata": {
        "id": "xdPcT6d3IG_v"
      }
    },
    {
      "cell_type": "code",
      "source": [
        "column = 'Przedział_wiekowy'\n",
        "mapping = {\n",
        "    0: np.nan,\n",
        "    1: '07-12',\n",
        "    2: '13-18',\n",
        "    3: '19-24',\n",
        "    4: '25-29',\n",
        "    5: '30-34',\n",
        "    6: '35-39',\n",
        "    7: '40-44',\n",
        "    8: '45-49',\n",
        "    9: '50-54',\n",
        "    10: '55-59',\n",
        "    11: '60-64',\n",
        "    12: '65-69',\n",
        "    13: '70-74',\n",
        "    14: '75-79',\n",
        "    15: '80-84',\n",
        "    16: '85+'\n",
        "}\n",
        "\n",
        "df_raw[column] = df_raw[column].map(mapping)\n",
        "df_raw.rename(columns={column: 'Wiek'}, inplace=True)"
      ],
      "metadata": {
        "id": "Kk4vDXL8IG_v"
      },
      "execution_count": null,
      "outputs": []
    },
    {
      "cell_type": "markdown",
      "source": [
        "###Płeć"
      ],
      "metadata": {
        "id": "SgF1OtkUIG_w"
      }
    },
    {
      "cell_type": "code",
      "source": [
        "column = 'Płeć'\n",
        "mapping = {\n",
        "    0: np.nan,\n",
        "    1: 'K',\n",
        "    2: 'M'\n",
        "}\n",
        "\n",
        "df_raw[column] = df_raw[column].map(mapping)\n"
      ],
      "metadata": {
        "id": "RUqBhAgxIG_w"
      },
      "execution_count": null,
      "outputs": []
    },
    {
      "cell_type": "markdown",
      "source": [
        "###Stan_cywilny"
      ],
      "metadata": {
        "id": "HzDsuD8SIG_w"
      }
    },
    {
      "cell_type": "code",
      "source": [
        "column = 'Stan_cywilny'\n",
        "mapping = {\n",
        "    0: np.nan,\n",
        "    1: 'Samotność',\n",
        "    2: 'Partnerstwo',\n",
        "    3: 'Małżeństwo',\n",
        "    4: 'Separacja',\n",
        "    5: 'Rozwód',\n",
        "    6: 'Wdowieństwo'\n",
        "}\n",
        "\n",
        "df_raw[column] = df_raw[column].map(mapping)\n",
        "df_raw.rename(columns={column: 'St_cyw'}, inplace=True)\n"
      ],
      "metadata": {
        "id": "IddDlQWJIG_w"
      },
      "execution_count": null,
      "outputs": []
    },
    {
      "cell_type": "markdown",
      "source": [
        "###Wykształcenie"
      ],
      "metadata": {
        "id": "8l7_VjOHIG_w"
      }
    },
    {
      "cell_type": "code",
      "source": [
        "column = 'Wykształcenie'\n",
        "mapping = {\n",
        "    0: np.nan,\n",
        "    1: 'Podst_niepełne',\n",
        "    2: 'Podst',\n",
        "    3: 'Gimnazjalne',\n",
        "    4: 'Zawodowe',\n",
        "    5: 'Średnie',\n",
        "    6: 'Policealne',\n",
        "    7: 'Wyższe'\n",
        "}\n",
        "\n",
        "df_raw[column] = df_raw[column].map(mapping)\n",
        "df_raw.rename(columns={column: 'Poz_edu'}, inplace=True)\n",
        "\n"
      ],
      "metadata": {
        "id": "FtOuUiy9IG_w"
      },
      "execution_count": null,
      "outputs": []
    },
    {
      "cell_type": "markdown",
      "source": [
        "###Informacje_o_pracy_i_nauce"
      ],
      "metadata": {
        "id": "PAM0Pc8SIG_w"
      }
    },
    {
      "cell_type": "code",
      "source": [
        "column = 'Informacje_o_pracy_i_nauce'\n",
        "mapping = {\n",
        "    0: np.nan,\n",
        "    1: 'Uczeń',\n",
        "    2: 'Student',\n",
        "    3: 'Umysłowa',\n",
        "    4: 'Fizyczna',\n",
        "    5: 'Rolnik',\n",
        "    6: 'Własna',\n",
        "    7: 'Stała',\n",
        "    8: 'Dorywcza',\n",
        "    9: 'Bezrobotny'\n",
        "}\n",
        "\n",
        "df_raw[column] = df_raw[column].map(mapping)\n",
        "df_raw.rename(columns={column: 'Inf_praca'}, inplace=True)"
      ],
      "metadata": {
        "id": "Npx2ORiSIG_w"
      },
      "execution_count": null,
      "outputs": []
    },
    {
      "cell_type": "markdown",
      "source": [
        "###Źródło_utrzymania"
      ],
      "metadata": {
        "id": "M2Jl6XJdIG_w"
      }
    },
    {
      "cell_type": "code",
      "source": [
        "column = 'Źródło_utrzymania'\n",
        "mapping = {\n",
        "    0: np.nan,  # Zamiana 0 na NaN\n",
        "    1: 'Zależny',\n",
        "    2: 'Praca',\n",
        "    3: 'Świadczenia',\n",
        "    4: 'Bez_dochodu'\n",
        "}\n",
        "\n",
        "df_raw[column] = df_raw[column].map(mapping)\n",
        "df_raw.rename(columns={column: 'Utrzymanie'}, inplace=True)"
      ],
      "metadata": {
        "id": "y5Imo6s1IG_w"
      },
      "execution_count": null,
      "outputs": []
    },
    {
      "cell_type": "markdown",
      "source": [
        "###Czy_samobójstwo_zakończyło_się_zgonem"
      ],
      "metadata": {
        "id": "KnCUubyEIG_w"
      }
    },
    {
      "cell_type": "code",
      "source": [
        "column = 'Czy_samobójstwo_zakończyło_się_zgonem'\n",
        "\n",
        "mapping = {\n",
        "    0: np.nan,  # Zamiana 0 na NaN\n",
        "    1: 1,\n",
        "    2: 0\n",
        "}\n",
        "df_raw[column] = df_raw[column].map(mapping)\n",
        "df_raw.rename(columns={column: 'Sukces'}, inplace=True)"
      ],
      "metadata": {
        "id": "yPC-C3PxIG_x"
      },
      "execution_count": null,
      "outputs": []
    },
    {
      "cell_type": "markdown",
      "source": [
        "###Miejsce_zamachu"
      ],
      "metadata": {
        "id": "KpzjZbZWIG_x"
      }
    },
    {
      "cell_type": "code",
      "source": [
        "column = 'Miejsce_zamachu'\n",
        "mapping = {\n",
        "    0: np.nan,\n",
        "    1: 'Droga',\n",
        "    2: 'Zabudowania',\n",
        "    3: 'Mieszkanie',\n",
        "    4: 'Tory',\n",
        "    5: 'Park',\n",
        "    6: 'Piwnica',\n",
        "    7: 'Woda',\n",
        "    8: 'Praca',\n",
        "    9: 'Lecznica',\n",
        "    10: 'Izolacja',\n",
        "    11: 'Wojsko',\n",
        "    12: 'Opieka',\n",
        "    13: 'Szkoła',\n",
        "    14: 'Policja',\n",
        "    15: 'Inne'\n",
        "}\n",
        "\n",
        "df_raw[column] = df_raw[column].map(mapping)\n",
        "df_raw.rename(columns={column: 'Miejsce'}, inplace=True)\n"
      ],
      "metadata": {
        "id": "5pBLHw0PIG_x"
      },
      "execution_count": null,
      "outputs": []
    },
    {
      "cell_type": "markdown",
      "source": [
        "###Sposób_popełnienia"
      ],
      "metadata": {
        "id": "OlDEM5sHIG_x"
      }
    },
    {
      "cell_type": "code",
      "source": [
        "column = 'Sposób_popełnienia'\n",
        "mapping = {\n",
        "    0: np.nan,\n",
        "    1: 'Pod_pojazd',\n",
        "    2: 'Z_wysokości',\n",
        "    3: 'Powieszenie',\n",
        "    4: 'Układ_krwionośny',\n",
        "    5: 'Zastrzelenie',\n",
        "    6: 'Samookaleczenie_pow.',\n",
        "    7: 'Samookaleczenie_inne',\n",
        "    8: 'Środki_nasenne',\n",
        "    9: 'Trucizna',\n",
        "    10: 'Gaz',\n",
        "    11: 'Inne_leki',\n",
        "    12: 'Środki_chemiczne',\n",
        "    13: 'Odurzające',\n",
        "    14: 'Dopalacze',\n",
        "    15: 'Utonięcie',\n",
        "    16: 'Podpalenie',\n",
        "    17: 'Uduszenie',\n",
        "    18: 'Inny'\n",
        "}\n",
        "\n",
        "df_raw[column] = df_raw[column].map(mapping)\n",
        "df_raw.rename(columns={column: 'Sposób'}, inplace=True)"
      ],
      "metadata": {
        "id": "Ew-fvAqcIG_x"
      },
      "execution_count": null,
      "outputs": []
    },
    {
      "cell_type": "markdown",
      "source": [
        "###Powód_zamachu"
      ],
      "metadata": {
        "id": "jDB1mAzaIG_x"
      }
    },
    {
      "cell_type": "code",
      "source": [
        "column = 'Powód_zamachu'\n",
        "mapping = {\n",
        "    0: np.nan,\n",
        "    1: 'Miłość',\n",
        "    2: 'Choroby_psych',\n",
        "    3: 'Konflikty_rodzinne',\n",
        "    4: 'HIV/AIDS',\n",
        "    5: 'Utrata_utrzymania',\n",
        "    6: 'Finanse',\n",
        "    7: 'Choroba',\n",
        "    8: 'Praca',\n",
        "    9: 'Śmierć_bliskiego',\n",
        "    10: 'Przestępstwa',\n",
        "    11: 'Kalectwo',\n",
        "    12: 'Ciąża',\n",
        "    13: 'Choroby_fiz',\n",
        "    14: 'Zdrowie',\n",
        "    15: 'Konflikty_inni',\n",
        "    16: 'Bezdomność',\n",
        "    17: 'Mobbing',\n",
        "    18: 'Inne'\n",
        "}\n",
        "\n",
        "df_raw[column] = df_raw[column].map(mapping)\n",
        "df_raw.rename(columns={column: 'Powód'}, inplace=True)"
      ],
      "metadata": {
        "id": "0k838_vDIG_x"
      },
      "execution_count": null,
      "outputs": []
    },
    {
      "cell_type": "markdown",
      "source": [
        "###Powód_zamachu_2"
      ],
      "metadata": {
        "id": "PKPu-QhZIG_x"
      }
    },
    {
      "cell_type": "code",
      "source": [
        "column = 'Powód_zamachu_2'\n",
        "mapping = {\n",
        "    0: np.nan,\n",
        "    1: 'Miłość',\n",
        "    2: 'Choroby_psych',\n",
        "    3: 'Konflikty_rodzinne',\n",
        "    4: 'HIV/AIDS',\n",
        "    5: 'Utrata_utrzymania',\n",
        "    6: 'Finanse',\n",
        "    7: 'Choroba',\n",
        "    8: 'Praca',\n",
        "    9: 'Śmierć_bliskiego',\n",
        "    10: 'Przestępstwa',\n",
        "    11: 'Kalectwo',\n",
        "    12: 'Ciąża',\n",
        "    13: 'Choroby_fiz',\n",
        "    14: 'Zdrowie',\n",
        "    15: 'Konflikty_inni',\n",
        "    16: 'Bezdomność',\n",
        "    17: 'Mobbing',\n",
        "    18: 'Inne'\n",
        "}\n",
        "\n",
        "df_raw[column] = df_raw[column].map(mapping)\n",
        "df_raw.rename(columns={column: 'Powód_2'}, inplace=True)"
      ],
      "metadata": {
        "id": "1kjnoGOrIG_x"
      },
      "execution_count": null,
      "outputs": []
    },
    {
      "cell_type": "markdown",
      "source": [
        "###Powód_zamachu_3"
      ],
      "metadata": {
        "id": "wFKEZTMbIG_y"
      }
    },
    {
      "cell_type": "code",
      "source": [
        "column = 'Powód_zamachu_3'\n",
        "mapping = {\n",
        "    0: np.nan,\n",
        "    1: 'Miłość',\n",
        "    2: 'Choroby_psych',\n",
        "    3: 'Konflikty_rodzinne',\n",
        "    4: 'HIV/AIDS',\n",
        "    5: 'Utrata_utrzymania',\n",
        "    6: 'Finanse',\n",
        "    7: 'Choroba',\n",
        "    8: 'Praca',\n",
        "    9: 'Śmierć_bliskiego',\n",
        "    10: 'Przestępstwa',\n",
        "    11: 'Kalectwo',\n",
        "    12: 'Ciąża',\n",
        "    13: 'Choroby_fiz',\n",
        "    14: 'Zdrowie',\n",
        "    15: 'Konflikty_inni',\n",
        "    16: 'Bezdomność',\n",
        "    17: 'Mobbing',\n",
        "    18: 'Inne'\n",
        "}\n",
        "\n",
        "df_raw[column] = df_raw[column].map(mapping)\n",
        "df_raw.rename(columns={column: 'Powód_3'}, inplace=True)"
      ],
      "metadata": {
        "id": "U1-ZAbayIG_y"
      },
      "execution_count": null,
      "outputs": []
    },
    {
      "cell_type": "markdown",
      "source": [
        "###Powód_zamachu_4"
      ],
      "metadata": {
        "id": "5T3z-61lIG_y"
      }
    },
    {
      "cell_type": "code",
      "source": [
        "column = 'Powód_zamachu_4'\n",
        "mapping = {\n",
        "    0: np.nan,\n",
        "    1: 'Miłość',\n",
        "    2: 'Choroby_psych',\n",
        "    3: 'Konflikty_rodzinne',\n",
        "    4: 'HIV/AIDS',\n",
        "    5: 'Utrata_utrzymania',\n",
        "    6: 'Finanse',\n",
        "    7: 'Choroba',\n",
        "    8: 'Praca',\n",
        "    9: 'Śmierć_bliskiego',\n",
        "    10: 'Przestępstwa',\n",
        "    11: 'Kalectwo',\n",
        "    12: 'Ciąża',\n",
        "    13: 'Choroby_fiz',\n",
        "    14: 'Zdrowie',\n",
        "    15: 'Konflikty_inni',\n",
        "    16: 'Bezdomność',\n",
        "    17: 'Mobbing',\n",
        "    18: 'Inne'\n",
        "}\n",
        "\n",
        "df_raw[column] = df_raw[column].map(mapping)\n",
        "df_raw.rename(columns={column: 'Powód_4'}, inplace=True)"
      ],
      "metadata": {
        "id": "gcQkAZ0wIG_y"
      },
      "execution_count": null,
      "outputs": []
    },
    {
      "cell_type": "markdown",
      "source": [
        "###Stan_świadomości"
      ],
      "metadata": {
        "id": "b2nfVPzoIG_y"
      }
    },
    {
      "cell_type": "code",
      "source": [
        "column = 'Stan_świadomości'\n",
        "mapping = {\n",
        "    0: np.nan,\n",
        "    1: 'Trzeźwy',\n",
        "    2: 'Alko',\n",
        "    3: 'Dopa',\n",
        "    4: 'Narko',\n",
        "    5: 'Leki',\n",
        "    6: 'Odurza',\n",
        "    7: 'Alko+dopa',\n",
        "    8: 'Alko+narko',\n",
        "    9: 'Alko+leki',\n",
        "    10: 'Alko+odurza',\n",
        "    11: 'Alko+dopa+odurza',\n",
        "    12: 'Dopa+odurza',\n",
        "    13: 'Leki+odurza',\n",
        "    14: 'Leki+dopa',\n",
        "    15: 'Leki+narko',\n",
        "    16: 'Leki+dopa+odurza',\n",
        "    17: 'Alko+leki+odurza',\n",
        "    18: 'Alko+leki+dopa+odurza'\n",
        "}\n",
        "\n",
        "df_raw[column] = df_raw[column].map(mapping)\n",
        "df_raw.rename(columns={column: 'Stan'}, inplace=True)"
      ],
      "metadata": {
        "id": "sffXG4U3IG_y"
      },
      "execution_count": null,
      "outputs": []
    },
    {
      "cell_type": "markdown",
      "source": [
        "###Informacje_o_używaniu_substancji"
      ],
      "metadata": {
        "id": "InHhQIpfIG_y"
      }
    },
    {
      "cell_type": "code",
      "source": [
        "column = 'Informacje_o_używaniu_substancji'\n",
        "mapping = {\n",
        "    0: np.nan,\n",
        "    1: 'Alko',\n",
        "    2: 'Narko',\n",
        "    3: 'Dopa',\n",
        "    4: 'Alko+dopa',\n",
        "    5: 'Narko+dopa',\n",
        "    6: 'Alko+narko',\n",
        "    7: 'Alko+narko+dopa'\n",
        "}\n",
        "\n",
        "df_raw[column] = df_raw[column].map(mapping)\n",
        "df_raw.rename(columns={column: 'Używanie'}, inplace=True)\n"
      ],
      "metadata": {
        "id": "C8a1kC4wIG_y"
      },
      "execution_count": null,
      "outputs": []
    },
    {
      "cell_type": "markdown",
      "source": [
        "###Informacje_dotyczące_leczenia_z_powodu_alkoholizmu/narkomanii"
      ],
      "metadata": {
        "id": "ScqLK2vRIG_y"
      }
    },
    {
      "cell_type": "code",
      "source": [
        "column = 'Informacje_dotyczące_leczenia_z_powodu_alkoholizmu/narkomanii'\n",
        "mapping = {\n",
        "    0: np.nan,\n",
        "    1: 'Alko',\n",
        "    2: 'Narko',\n",
        "    3: 'Alko+narko'\n",
        "}\n",
        "\n",
        "df_raw[column] = df_raw[column].map(mapping)\n",
        "df_raw.rename(columns={column: 'Leczenie'}, inplace=True)"
      ],
      "metadata": {
        "id": "WV1FpVNtIG_y"
      },
      "execution_count": null,
      "outputs": []
    },
    {
      "cell_type": "markdown",
      "source": [
        "##Powód zamachu - dummies"
      ],
      "metadata": {
        "id": "n0lu0YQmIG_y"
      }
    },
    {
      "cell_type": "code",
      "source": [
        "columns_to_drop = ['Powód', 'Powód_2', 'Powód_3', 'Powód_4']\n",
        "df_powód_zamachu = df_raw[columns_to_drop]\n",
        "df_raw.drop(columns=columns_to_drop, inplace=True)\n"
      ],
      "metadata": {
        "id": "uVUY7DG1IG_z"
      },
      "execution_count": null,
      "outputs": []
    },
    {
      "cell_type": "code",
      "source": [
        "powód_zamachu_values = (\n",
        "    set(df_powód_zamachu['Powód'].unique()) |\n",
        "    set(df_powód_zamachu['Powód_2'].unique()) |\n",
        "    set(df_powód_zamachu['Powód_3'].unique()) |\n",
        "    set(df_powód_zamachu['Powód_4'].unique())\n",
        ")"
      ],
      "metadata": {
        "id": "0zZylZLQIG_z"
      },
      "execution_count": null,
      "outputs": []
    },
    {
      "cell_type": "code",
      "source": [
        "powód_zamachu_values"
      ],
      "metadata": {
        "colab": {
          "base_uri": "https://localhost:8080/"
        },
        "outputId": "46da40a0-de97-44af-a095-609aeac19101",
        "id": "H3xFSdGQIG_z"
      },
      "execution_count": null,
      "outputs": [
        {
          "output_type": "execute_result",
          "data": {
            "text/plain": [
              "{'Bezdomność',\n",
              " 'Choroba',\n",
              " 'Choroby_fiz',\n",
              " 'Choroby_psych',\n",
              " 'Ciąża',\n",
              " 'Finanse',\n",
              " 'HIV/AIDS',\n",
              " 'Inne',\n",
              " 'Kalectwo',\n",
              " 'Konflikty_inni',\n",
              " 'Konflikty_rodzinne',\n",
              " 'Miłość',\n",
              " 'Mobbing',\n",
              " 'Praca',\n",
              " 'Przestępstwa',\n",
              " 'Utrata_utrzymania',\n",
              " 'Zdrowie',\n",
              " nan,\n",
              " 'Śmierć_bliskiego'}"
            ]
          },
          "metadata": {},
          "execution_count": 26
        }
      ]
    },
    {
      "cell_type": "code",
      "source": [
        "for value in powód_zamachu_values:\n",
        "    column_name = 'Powód_' + str(value)\n",
        "    df_powód_zamachu[column_name] = df_powód_zamachu.apply(lambda row: 1 if value in row.values else 0, axis=1)\n"
      ],
      "metadata": {
        "colab": {
          "base_uri": "https://localhost:8080/"
        },
        "outputId": "83358d2f-042a-488b-e599-47fc9dd7f607",
        "id": "PONMEZsEIG_z"
      },
      "execution_count": null,
      "outputs": [
        {
          "output_type": "stream",
          "name": "stderr",
          "text": [
            "<ipython-input-27-9a28d6c29fb4>:3: SettingWithCopyWarning: \n",
            "A value is trying to be set on a copy of a slice from a DataFrame.\n",
            "Try using .loc[row_indexer,col_indexer] = value instead\n",
            "\n",
            "See the caveats in the documentation: https://pandas.pydata.org/pandas-docs/stable/user_guide/indexing.html#returning-a-view-versus-a-copy\n",
            "  df_powód_zamachu[column_name] = df_powód_zamachu.apply(lambda row: 1 if value in row.values else 0, axis=1)\n",
            "<ipython-input-27-9a28d6c29fb4>:3: SettingWithCopyWarning: \n",
            "A value is trying to be set on a copy of a slice from a DataFrame.\n",
            "Try using .loc[row_indexer,col_indexer] = value instead\n",
            "\n",
            "See the caveats in the documentation: https://pandas.pydata.org/pandas-docs/stable/user_guide/indexing.html#returning-a-view-versus-a-copy\n",
            "  df_powód_zamachu[column_name] = df_powód_zamachu.apply(lambda row: 1 if value in row.values else 0, axis=1)\n",
            "<ipython-input-27-9a28d6c29fb4>:3: SettingWithCopyWarning: \n",
            "A value is trying to be set on a copy of a slice from a DataFrame.\n",
            "Try using .loc[row_indexer,col_indexer] = value instead\n",
            "\n",
            "See the caveats in the documentation: https://pandas.pydata.org/pandas-docs/stable/user_guide/indexing.html#returning-a-view-versus-a-copy\n",
            "  df_powód_zamachu[column_name] = df_powód_zamachu.apply(lambda row: 1 if value in row.values else 0, axis=1)\n",
            "<ipython-input-27-9a28d6c29fb4>:3: SettingWithCopyWarning: \n",
            "A value is trying to be set on a copy of a slice from a DataFrame.\n",
            "Try using .loc[row_indexer,col_indexer] = value instead\n",
            "\n",
            "See the caveats in the documentation: https://pandas.pydata.org/pandas-docs/stable/user_guide/indexing.html#returning-a-view-versus-a-copy\n",
            "  df_powód_zamachu[column_name] = df_powód_zamachu.apply(lambda row: 1 if value in row.values else 0, axis=1)\n",
            "<ipython-input-27-9a28d6c29fb4>:3: SettingWithCopyWarning: \n",
            "A value is trying to be set on a copy of a slice from a DataFrame.\n",
            "Try using .loc[row_indexer,col_indexer] = value instead\n",
            "\n",
            "See the caveats in the documentation: https://pandas.pydata.org/pandas-docs/stable/user_guide/indexing.html#returning-a-view-versus-a-copy\n",
            "  df_powód_zamachu[column_name] = df_powód_zamachu.apply(lambda row: 1 if value in row.values else 0, axis=1)\n",
            "<ipython-input-27-9a28d6c29fb4>:3: SettingWithCopyWarning: \n",
            "A value is trying to be set on a copy of a slice from a DataFrame.\n",
            "Try using .loc[row_indexer,col_indexer] = value instead\n",
            "\n",
            "See the caveats in the documentation: https://pandas.pydata.org/pandas-docs/stable/user_guide/indexing.html#returning-a-view-versus-a-copy\n",
            "  df_powód_zamachu[column_name] = df_powód_zamachu.apply(lambda row: 1 if value in row.values else 0, axis=1)\n",
            "<ipython-input-27-9a28d6c29fb4>:3: SettingWithCopyWarning: \n",
            "A value is trying to be set on a copy of a slice from a DataFrame.\n",
            "Try using .loc[row_indexer,col_indexer] = value instead\n",
            "\n",
            "See the caveats in the documentation: https://pandas.pydata.org/pandas-docs/stable/user_guide/indexing.html#returning-a-view-versus-a-copy\n",
            "  df_powód_zamachu[column_name] = df_powód_zamachu.apply(lambda row: 1 if value in row.values else 0, axis=1)\n",
            "<ipython-input-27-9a28d6c29fb4>:3: SettingWithCopyWarning: \n",
            "A value is trying to be set on a copy of a slice from a DataFrame.\n",
            "Try using .loc[row_indexer,col_indexer] = value instead\n",
            "\n",
            "See the caveats in the documentation: https://pandas.pydata.org/pandas-docs/stable/user_guide/indexing.html#returning-a-view-versus-a-copy\n",
            "  df_powód_zamachu[column_name] = df_powód_zamachu.apply(lambda row: 1 if value in row.values else 0, axis=1)\n",
            "<ipython-input-27-9a28d6c29fb4>:3: SettingWithCopyWarning: \n",
            "A value is trying to be set on a copy of a slice from a DataFrame.\n",
            "Try using .loc[row_indexer,col_indexer] = value instead\n",
            "\n",
            "See the caveats in the documentation: https://pandas.pydata.org/pandas-docs/stable/user_guide/indexing.html#returning-a-view-versus-a-copy\n",
            "  df_powód_zamachu[column_name] = df_powód_zamachu.apply(lambda row: 1 if value in row.values else 0, axis=1)\n",
            "<ipython-input-27-9a28d6c29fb4>:3: SettingWithCopyWarning: \n",
            "A value is trying to be set on a copy of a slice from a DataFrame.\n",
            "Try using .loc[row_indexer,col_indexer] = value instead\n",
            "\n",
            "See the caveats in the documentation: https://pandas.pydata.org/pandas-docs/stable/user_guide/indexing.html#returning-a-view-versus-a-copy\n",
            "  df_powód_zamachu[column_name] = df_powód_zamachu.apply(lambda row: 1 if value in row.values else 0, axis=1)\n",
            "<ipython-input-27-9a28d6c29fb4>:3: SettingWithCopyWarning: \n",
            "A value is trying to be set on a copy of a slice from a DataFrame.\n",
            "Try using .loc[row_indexer,col_indexer] = value instead\n",
            "\n",
            "See the caveats in the documentation: https://pandas.pydata.org/pandas-docs/stable/user_guide/indexing.html#returning-a-view-versus-a-copy\n",
            "  df_powód_zamachu[column_name] = df_powód_zamachu.apply(lambda row: 1 if value in row.values else 0, axis=1)\n"
          ]
        }
      ]
    },
    {
      "cell_type": "code",
      "source": [
        "columns_to_drop = ['Powód', 'Powód_2', 'Powód_3', 'Powód_4', 'Powód_nan']\n",
        "df_powód_zamachu.drop(columns=columns_to_drop, inplace=True)\n"
      ],
      "metadata": {
        "id": "i0yWizHfIG_z"
      },
      "execution_count": null,
      "outputs": []
    },
    {
      "cell_type": "markdown",
      "source": [
        "##Liczba_powodów_zamachu"
      ],
      "metadata": {
        "id": "xWs3vSsyIG_z"
      }
    },
    {
      "cell_type": "code",
      "source": [
        "df_raw['L_powodów'] = df_powód_zamachu.sum(axis=1)"
      ],
      "metadata": {
        "id": "XpeW4CqOIG_z"
      },
      "execution_count": null,
      "outputs": []
    },
    {
      "cell_type": "code",
      "source": [
        "df_raw.head()"
      ],
      "metadata": {
        "colab": {
          "base_uri": "https://localhost:8080/",
          "height": 295
        },
        "outputId": "4560e063-9566-4d51-8b35-9a048fcc8d6e",
        "id": "qdOvzTpzIG_z"
      },
      "execution_count": null,
      "outputs": [
        {
          "output_type": "execute_result",
          "data": {
            "text/plain": [
              "   ID_samobójcy     Data   Wiek Płeć     St_cyw Poz_edu   Inf_praca  \\\n",
              "0  114581552,00  01.2013    NaN    M        NaN     NaN         NaN   \n",
              "1  114584284,00  01.2013  13-18    M        NaN     NaN       Uczeń   \n",
              "2  114584293,00  01.2013  13-18    K  Samotność   Podst       Uczeń   \n",
              "3  114584312,00  01.2013  19-24    M  Samotność     NaN         NaN   \n",
              "4  114584399,00  01.2013  40-44    M  Samotność     NaN  Bezrobotny   \n",
              "\n",
              "  Utrzymanie  Sukces      Miejsce       Sposób  Stan Używanie Leczenie  \\\n",
              "0        NaN     NaN          NaN          NaN   NaN      NaN      NaN   \n",
              "1        NaN     1.0        Droga   Pod_pojazd   NaN      NaN      NaN   \n",
              "2    Zależny     1.0         Inne  Z_wysokości   NaN      NaN      NaN   \n",
              "3        NaN     1.0          NaN         Inny   NaN      NaN      NaN   \n",
              "4        NaN     1.0  Zabudowania  Powieszenie  Alko      NaN      NaN   \n",
              "\n",
              "  Data_rok Data_miesiąc  L_powodów  \n",
              "0     2013           01          0  \n",
              "1     2013           01          0  \n",
              "2     2013           01          0  \n",
              "3     2013           01          1  \n",
              "4     2013           01          0  "
            ],
            "text/html": [
              "\n",
              "  <div id=\"df-b3f15247-a3ac-4a5c-ac28-9edb9fc5fee0\" class=\"colab-df-container\">\n",
              "    <div>\n",
              "<style scoped>\n",
              "    .dataframe tbody tr th:only-of-type {\n",
              "        vertical-align: middle;\n",
              "    }\n",
              "\n",
              "    .dataframe tbody tr th {\n",
              "        vertical-align: top;\n",
              "    }\n",
              "\n",
              "    .dataframe thead th {\n",
              "        text-align: right;\n",
              "    }\n",
              "</style>\n",
              "<table border=\"1\" class=\"dataframe\">\n",
              "  <thead>\n",
              "    <tr style=\"text-align: right;\">\n",
              "      <th></th>\n",
              "      <th>ID_samobójcy</th>\n",
              "      <th>Data</th>\n",
              "      <th>Wiek</th>\n",
              "      <th>Płeć</th>\n",
              "      <th>St_cyw</th>\n",
              "      <th>Poz_edu</th>\n",
              "      <th>Inf_praca</th>\n",
              "      <th>Utrzymanie</th>\n",
              "      <th>Sukces</th>\n",
              "      <th>Miejsce</th>\n",
              "      <th>Sposób</th>\n",
              "      <th>Stan</th>\n",
              "      <th>Używanie</th>\n",
              "      <th>Leczenie</th>\n",
              "      <th>Data_rok</th>\n",
              "      <th>Data_miesiąc</th>\n",
              "      <th>L_powodów</th>\n",
              "    </tr>\n",
              "  </thead>\n",
              "  <tbody>\n",
              "    <tr>\n",
              "      <th>0</th>\n",
              "      <td>114581552,00</td>\n",
              "      <td>01.2013</td>\n",
              "      <td>NaN</td>\n",
              "      <td>M</td>\n",
              "      <td>NaN</td>\n",
              "      <td>NaN</td>\n",
              "      <td>NaN</td>\n",
              "      <td>NaN</td>\n",
              "      <td>NaN</td>\n",
              "      <td>NaN</td>\n",
              "      <td>NaN</td>\n",
              "      <td>NaN</td>\n",
              "      <td>NaN</td>\n",
              "      <td>NaN</td>\n",
              "      <td>2013</td>\n",
              "      <td>01</td>\n",
              "      <td>0</td>\n",
              "    </tr>\n",
              "    <tr>\n",
              "      <th>1</th>\n",
              "      <td>114584284,00</td>\n",
              "      <td>01.2013</td>\n",
              "      <td>13-18</td>\n",
              "      <td>M</td>\n",
              "      <td>NaN</td>\n",
              "      <td>NaN</td>\n",
              "      <td>Uczeń</td>\n",
              "      <td>NaN</td>\n",
              "      <td>1.0</td>\n",
              "      <td>Droga</td>\n",
              "      <td>Pod_pojazd</td>\n",
              "      <td>NaN</td>\n",
              "      <td>NaN</td>\n",
              "      <td>NaN</td>\n",
              "      <td>2013</td>\n",
              "      <td>01</td>\n",
              "      <td>0</td>\n",
              "    </tr>\n",
              "    <tr>\n",
              "      <th>2</th>\n",
              "      <td>114584293,00</td>\n",
              "      <td>01.2013</td>\n",
              "      <td>13-18</td>\n",
              "      <td>K</td>\n",
              "      <td>Samotność</td>\n",
              "      <td>Podst</td>\n",
              "      <td>Uczeń</td>\n",
              "      <td>Zależny</td>\n",
              "      <td>1.0</td>\n",
              "      <td>Inne</td>\n",
              "      <td>Z_wysokości</td>\n",
              "      <td>NaN</td>\n",
              "      <td>NaN</td>\n",
              "      <td>NaN</td>\n",
              "      <td>2013</td>\n",
              "      <td>01</td>\n",
              "      <td>0</td>\n",
              "    </tr>\n",
              "    <tr>\n",
              "      <th>3</th>\n",
              "      <td>114584312,00</td>\n",
              "      <td>01.2013</td>\n",
              "      <td>19-24</td>\n",
              "      <td>M</td>\n",
              "      <td>Samotność</td>\n",
              "      <td>NaN</td>\n",
              "      <td>NaN</td>\n",
              "      <td>NaN</td>\n",
              "      <td>1.0</td>\n",
              "      <td>NaN</td>\n",
              "      <td>Inny</td>\n",
              "      <td>NaN</td>\n",
              "      <td>NaN</td>\n",
              "      <td>NaN</td>\n",
              "      <td>2013</td>\n",
              "      <td>01</td>\n",
              "      <td>1</td>\n",
              "    </tr>\n",
              "    <tr>\n",
              "      <th>4</th>\n",
              "      <td>114584399,00</td>\n",
              "      <td>01.2013</td>\n",
              "      <td>40-44</td>\n",
              "      <td>M</td>\n",
              "      <td>Samotność</td>\n",
              "      <td>NaN</td>\n",
              "      <td>Bezrobotny</td>\n",
              "      <td>NaN</td>\n",
              "      <td>1.0</td>\n",
              "      <td>Zabudowania</td>\n",
              "      <td>Powieszenie</td>\n",
              "      <td>Alko</td>\n",
              "      <td>NaN</td>\n",
              "      <td>NaN</td>\n",
              "      <td>2013</td>\n",
              "      <td>01</td>\n",
              "      <td>0</td>\n",
              "    </tr>\n",
              "  </tbody>\n",
              "</table>\n",
              "</div>\n",
              "    <div class=\"colab-df-buttons\">\n",
              "\n",
              "  <div class=\"colab-df-container\">\n",
              "    <button class=\"colab-df-convert\" onclick=\"convertToInteractive('df-b3f15247-a3ac-4a5c-ac28-9edb9fc5fee0')\"\n",
              "            title=\"Convert this dataframe to an interactive table.\"\n",
              "            style=\"display:none;\">\n",
              "\n",
              "  <svg xmlns=\"http://www.w3.org/2000/svg\" height=\"24px\" viewBox=\"0 -960 960 960\">\n",
              "    <path d=\"M120-120v-720h720v720H120Zm60-500h600v-160H180v160Zm220 220h160v-160H400v160Zm0 220h160v-160H400v160ZM180-400h160v-160H180v160Zm440 0h160v-160H620v160ZM180-180h160v-160H180v160Zm440 0h160v-160H620v160Z\"/>\n",
              "  </svg>\n",
              "    </button>\n",
              "\n",
              "  <style>\n",
              "    .colab-df-container {\n",
              "      display:flex;\n",
              "      gap: 12px;\n",
              "    }\n",
              "\n",
              "    .colab-df-convert {\n",
              "      background-color: #E8F0FE;\n",
              "      border: none;\n",
              "      border-radius: 50%;\n",
              "      cursor: pointer;\n",
              "      display: none;\n",
              "      fill: #1967D2;\n",
              "      height: 32px;\n",
              "      padding: 0 0 0 0;\n",
              "      width: 32px;\n",
              "    }\n",
              "\n",
              "    .colab-df-convert:hover {\n",
              "      background-color: #E2EBFA;\n",
              "      box-shadow: 0px 1px 2px rgba(60, 64, 67, 0.3), 0px 1px 3px 1px rgba(60, 64, 67, 0.15);\n",
              "      fill: #174EA6;\n",
              "    }\n",
              "\n",
              "    .colab-df-buttons div {\n",
              "      margin-bottom: 4px;\n",
              "    }\n",
              "\n",
              "    [theme=dark] .colab-df-convert {\n",
              "      background-color: #3B4455;\n",
              "      fill: #D2E3FC;\n",
              "    }\n",
              "\n",
              "    [theme=dark] .colab-df-convert:hover {\n",
              "      background-color: #434B5C;\n",
              "      box-shadow: 0px 1px 3px 1px rgba(0, 0, 0, 0.15);\n",
              "      filter: drop-shadow(0px 1px 2px rgba(0, 0, 0, 0.3));\n",
              "      fill: #FFFFFF;\n",
              "    }\n",
              "  </style>\n",
              "\n",
              "    <script>\n",
              "      const buttonEl =\n",
              "        document.querySelector('#df-b3f15247-a3ac-4a5c-ac28-9edb9fc5fee0 button.colab-df-convert');\n",
              "      buttonEl.style.display =\n",
              "        google.colab.kernel.accessAllowed ? 'block' : 'none';\n",
              "\n",
              "      async function convertToInteractive(key) {\n",
              "        const element = document.querySelector('#df-b3f15247-a3ac-4a5c-ac28-9edb9fc5fee0');\n",
              "        const dataTable =\n",
              "          await google.colab.kernel.invokeFunction('convertToInteractive',\n",
              "                                                    [key], {});\n",
              "        if (!dataTable) return;\n",
              "\n",
              "        const docLinkHtml = 'Like what you see? Visit the ' +\n",
              "          '<a target=\"_blank\" href=https://colab.research.google.com/notebooks/data_table.ipynb>data table notebook</a>'\n",
              "          + ' to learn more about interactive tables.';\n",
              "        element.innerHTML = '';\n",
              "        dataTable['output_type'] = 'display_data';\n",
              "        await google.colab.output.renderOutput(dataTable, element);\n",
              "        const docLink = document.createElement('div');\n",
              "        docLink.innerHTML = docLinkHtml;\n",
              "        element.appendChild(docLink);\n",
              "      }\n",
              "    </script>\n",
              "  </div>\n",
              "\n",
              "\n",
              "<div id=\"df-8dca2c53-9fce-487c-b106-037c23cfd92a\">\n",
              "  <button class=\"colab-df-quickchart\" onclick=\"quickchart('df-8dca2c53-9fce-487c-b106-037c23cfd92a')\"\n",
              "            title=\"Suggest charts\"\n",
              "            style=\"display:none;\">\n",
              "\n",
              "<svg xmlns=\"http://www.w3.org/2000/svg\" height=\"24px\"viewBox=\"0 0 24 24\"\n",
              "     width=\"24px\">\n",
              "    <g>\n",
              "        <path d=\"M19 3H5c-1.1 0-2 .9-2 2v14c0 1.1.9 2 2 2h14c1.1 0 2-.9 2-2V5c0-1.1-.9-2-2-2zM9 17H7v-7h2v7zm4 0h-2V7h2v10zm4 0h-2v-4h2v4z\"/>\n",
              "    </g>\n",
              "</svg>\n",
              "  </button>\n",
              "\n",
              "<style>\n",
              "  .colab-df-quickchart {\n",
              "      --bg-color: #E8F0FE;\n",
              "      --fill-color: #1967D2;\n",
              "      --hover-bg-color: #E2EBFA;\n",
              "      --hover-fill-color: #174EA6;\n",
              "      --disabled-fill-color: #AAA;\n",
              "      --disabled-bg-color: #DDD;\n",
              "  }\n",
              "\n",
              "  [theme=dark] .colab-df-quickchart {\n",
              "      --bg-color: #3B4455;\n",
              "      --fill-color: #D2E3FC;\n",
              "      --hover-bg-color: #434B5C;\n",
              "      --hover-fill-color: #FFFFFF;\n",
              "      --disabled-bg-color: #3B4455;\n",
              "      --disabled-fill-color: #666;\n",
              "  }\n",
              "\n",
              "  .colab-df-quickchart {\n",
              "    background-color: var(--bg-color);\n",
              "    border: none;\n",
              "    border-radius: 50%;\n",
              "    cursor: pointer;\n",
              "    display: none;\n",
              "    fill: var(--fill-color);\n",
              "    height: 32px;\n",
              "    padding: 0;\n",
              "    width: 32px;\n",
              "  }\n",
              "\n",
              "  .colab-df-quickchart:hover {\n",
              "    background-color: var(--hover-bg-color);\n",
              "    box-shadow: 0 1px 2px rgba(60, 64, 67, 0.3), 0 1px 3px 1px rgba(60, 64, 67, 0.15);\n",
              "    fill: var(--button-hover-fill-color);\n",
              "  }\n",
              "\n",
              "  .colab-df-quickchart-complete:disabled,\n",
              "  .colab-df-quickchart-complete:disabled:hover {\n",
              "    background-color: var(--disabled-bg-color);\n",
              "    fill: var(--disabled-fill-color);\n",
              "    box-shadow: none;\n",
              "  }\n",
              "\n",
              "  .colab-df-spinner {\n",
              "    border: 2px solid var(--fill-color);\n",
              "    border-color: transparent;\n",
              "    border-bottom-color: var(--fill-color);\n",
              "    animation:\n",
              "      spin 1s steps(1) infinite;\n",
              "  }\n",
              "\n",
              "  @keyframes spin {\n",
              "    0% {\n",
              "      border-color: transparent;\n",
              "      border-bottom-color: var(--fill-color);\n",
              "      border-left-color: var(--fill-color);\n",
              "    }\n",
              "    20% {\n",
              "      border-color: transparent;\n",
              "      border-left-color: var(--fill-color);\n",
              "      border-top-color: var(--fill-color);\n",
              "    }\n",
              "    30% {\n",
              "      border-color: transparent;\n",
              "      border-left-color: var(--fill-color);\n",
              "      border-top-color: var(--fill-color);\n",
              "      border-right-color: var(--fill-color);\n",
              "    }\n",
              "    40% {\n",
              "      border-color: transparent;\n",
              "      border-right-color: var(--fill-color);\n",
              "      border-top-color: var(--fill-color);\n",
              "    }\n",
              "    60% {\n",
              "      border-color: transparent;\n",
              "      border-right-color: var(--fill-color);\n",
              "    }\n",
              "    80% {\n",
              "      border-color: transparent;\n",
              "      border-right-color: var(--fill-color);\n",
              "      border-bottom-color: var(--fill-color);\n",
              "    }\n",
              "    90% {\n",
              "      border-color: transparent;\n",
              "      border-bottom-color: var(--fill-color);\n",
              "    }\n",
              "  }\n",
              "</style>\n",
              "\n",
              "  <script>\n",
              "    async function quickchart(key) {\n",
              "      const quickchartButtonEl =\n",
              "        document.querySelector('#' + key + ' button');\n",
              "      quickchartButtonEl.disabled = true;  // To prevent multiple clicks.\n",
              "      quickchartButtonEl.classList.add('colab-df-spinner');\n",
              "      try {\n",
              "        const charts = await google.colab.kernel.invokeFunction(\n",
              "            'suggestCharts', [key], {});\n",
              "      } catch (error) {\n",
              "        console.error('Error during call to suggestCharts:', error);\n",
              "      }\n",
              "      quickchartButtonEl.classList.remove('colab-df-spinner');\n",
              "      quickchartButtonEl.classList.add('colab-df-quickchart-complete');\n",
              "    }\n",
              "    (() => {\n",
              "      let quickchartButtonEl =\n",
              "        document.querySelector('#df-8dca2c53-9fce-487c-b106-037c23cfd92a button');\n",
              "      quickchartButtonEl.style.display =\n",
              "        google.colab.kernel.accessAllowed ? 'block' : 'none';\n",
              "    })();\n",
              "  </script>\n",
              "</div>\n",
              "    </div>\n",
              "  </div>\n"
            ],
            "application/vnd.google.colaboratory.intrinsic+json": {
              "type": "dataframe",
              "variable_name": "df_raw"
            }
          },
          "metadata": {},
          "execution_count": 30
        }
      ]
    },
    {
      "cell_type": "markdown",
      "source": [
        "#Zapis"
      ],
      "metadata": {
        "id": "a0F-OBCVMVH3"
      }
    },
    {
      "cell_type": "code",
      "source": [
        "# from google.colab import drive\n",
        "# drive.mount('/content/drive')\n",
        "# df_raw.to_csv('/content/drive/My Drive/preped_samobojstwa_2013_2022.csv', index=False)\n",
        "# df_powód_zamachu.to_csv('/content/drive/My Drive/preped_powod_zamachu_samobojstwa_2013_2022.csv', index=False)"
      ],
      "metadata": {
        "id": "eBrQESiniq7M"
      },
      "execution_count": null,
      "outputs": []
    },
    {
      "cell_type": "code",
      "source": [
        "file_name = 'preped_samobojstwa_2013_2022.csv'\n",
        "df_raw.to_csv(file_name, index=False)\n",
        "files.download(file_name)"
      ],
      "metadata": {
        "id": "BEbhrd7W8cng",
        "outputId": "dcb01fce-b71a-424f-90dc-2cb1c31cf7b3",
        "colab": {
          "base_uri": "https://localhost:8080/",
          "height": 17
        }
      },
      "execution_count": null,
      "outputs": [
        {
          "output_type": "display_data",
          "data": {
            "text/plain": [
              "<IPython.core.display.Javascript object>"
            ],
            "application/javascript": [
              "\n",
              "    async function download(id, filename, size) {\n",
              "      if (!google.colab.kernel.accessAllowed) {\n",
              "        return;\n",
              "      }\n",
              "      const div = document.createElement('div');\n",
              "      const label = document.createElement('label');\n",
              "      label.textContent = `Downloading \"${filename}\": `;\n",
              "      div.appendChild(label);\n",
              "      const progress = document.createElement('progress');\n",
              "      progress.max = size;\n",
              "      div.appendChild(progress);\n",
              "      document.body.appendChild(div);\n",
              "\n",
              "      const buffers = [];\n",
              "      let downloaded = 0;\n",
              "\n",
              "      const channel = await google.colab.kernel.comms.open(id);\n",
              "      // Send a message to notify the kernel that we're ready.\n",
              "      channel.send({})\n",
              "\n",
              "      for await (const message of channel.messages) {\n",
              "        // Send a message to notify the kernel that we're ready.\n",
              "        channel.send({})\n",
              "        if (message.buffers) {\n",
              "          for (const buffer of message.buffers) {\n",
              "            buffers.push(buffer);\n",
              "            downloaded += buffer.byteLength;\n",
              "            progress.value = downloaded;\n",
              "          }\n",
              "        }\n",
              "      }\n",
              "      const blob = new Blob(buffers, {type: 'application/binary'});\n",
              "      const a = document.createElement('a');\n",
              "      a.href = window.URL.createObjectURL(blob);\n",
              "      a.download = filename;\n",
              "      div.appendChild(a);\n",
              "      a.click();\n",
              "      div.remove();\n",
              "    }\n",
              "  "
            ]
          },
          "metadata": {}
        },
        {
          "output_type": "display_data",
          "data": {
            "text/plain": [
              "<IPython.core.display.Javascript object>"
            ],
            "application/javascript": [
              "download(\"download_36d2905a-2567-4c9d-bc6c-f22f86ff4171\", \"preped_samobojstwa_2013_2022.csv\", 11156102)"
            ]
          },
          "metadata": {}
        }
      ]
    },
    {
      "cell_type": "code",
      "source": [
        "file_name = 'preped_powod_zamachu_samobojstwa_2013_2022.csv'\n",
        "df_powód_zamachu.to_csv(file_name, index=False)\n",
        "files.download(file_name)"
      ],
      "metadata": {
        "id": "NdwoWCij-bii",
        "outputId": "f9b763c5-1eb9-4cfd-82a0-467001dccfff",
        "colab": {
          "base_uri": "https://localhost:8080/",
          "height": 17
        }
      },
      "execution_count": null,
      "outputs": [
        {
          "output_type": "display_data",
          "data": {
            "text/plain": [
              "<IPython.core.display.Javascript object>"
            ],
            "application/javascript": [
              "\n",
              "    async function download(id, filename, size) {\n",
              "      if (!google.colab.kernel.accessAllowed) {\n",
              "        return;\n",
              "      }\n",
              "      const div = document.createElement('div');\n",
              "      const label = document.createElement('label');\n",
              "      label.textContent = `Downloading \"${filename}\": `;\n",
              "      div.appendChild(label);\n",
              "      const progress = document.createElement('progress');\n",
              "      progress.max = size;\n",
              "      div.appendChild(progress);\n",
              "      document.body.appendChild(div);\n",
              "\n",
              "      const buffers = [];\n",
              "      let downloaded = 0;\n",
              "\n",
              "      const channel = await google.colab.kernel.comms.open(id);\n",
              "      // Send a message to notify the kernel that we're ready.\n",
              "      channel.send({})\n",
              "\n",
              "      for await (const message of channel.messages) {\n",
              "        // Send a message to notify the kernel that we're ready.\n",
              "        channel.send({})\n",
              "        if (message.buffers) {\n",
              "          for (const buffer of message.buffers) {\n",
              "            buffers.push(buffer);\n",
              "            downloaded += buffer.byteLength;\n",
              "            progress.value = downloaded;\n",
              "          }\n",
              "        }\n",
              "      }\n",
              "      const blob = new Blob(buffers, {type: 'application/binary'});\n",
              "      const a = document.createElement('a');\n",
              "      a.href = window.URL.createObjectURL(blob);\n",
              "      a.download = filename;\n",
              "      div.appendChild(a);\n",
              "      a.click();\n",
              "      div.remove();\n",
              "    }\n",
              "  "
            ]
          },
          "metadata": {}
        },
        {
          "output_type": "display_data",
          "data": {
            "text/plain": [
              "<IPython.core.display.Javascript object>"
            ],
            "application/javascript": [
              "download(\"download_11850074-a18b-4a1a-a30c-d1139a879585\", \"preped_powod_zamachu_samobojstwa_2013_2022.csv\", 4075385)"
            ]
          },
          "metadata": {}
        }
      ]
    }
  ]
}