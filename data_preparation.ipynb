{
  "nbformat": 4,
  "nbformat_minor": 0,
  "metadata": {
    "colab": {
      "provenance": [],
      "toc_visible": true,
      "authorship_tag": "ABX9TyMfMP7uRpVZBA6gZIhimDFh",
      "include_colab_link": true
    },
    "kernelspec": {
      "name": "python3",
      "display_name": "Python 3"
    },
    "language_info": {
      "name": "python"
    }
  },
  "cells": [
    {
      "cell_type": "markdown",
      "metadata": {
        "id": "view-in-github",
        "colab_type": "text"
      },
      "source": [
        "<a href=\"https://colab.research.google.com/github/Hubert26/suicides_IPPAN/blob/main/data_preparation.ipynb\" target=\"_parent\"><img src=\"https://colab.research.google.com/assets/colab-badge.svg\" alt=\"Open In Colab\"/></a>"
      ]
    },
    {
      "cell_type": "code",
      "execution_count": null,
      "metadata": {
        "id": "cpTIzsiWDrRd"
      },
      "outputs": [],
      "source": [
        "import pandas as pd\n",
        "import numpy as np\n",
        "from pydrive2.auth import GoogleAuth\n",
        "from pydrive2.drive import GoogleDrive\n",
        "import os\n",
        "from google.colab import files\n",
        "\n",
        "#Ustawienie braku maksymalnej ilości wyświetlanych kolumn\n",
        "pd.options.display.max_columns = None"
      ]
    },
    {
      "cell_type": "code",
      "source": [
        "df_raw = pd.read_csv('https://raw.githubusercontent.com/Hubert26/suicides_IPPAN/main/data/final_samobojstwa_2013_2022.csv', delimiter=',', low_memory=False)"
      ],
      "metadata": {
        "id": "6tkdlq4U9IiR"
      },
      "execution_count": null,
      "outputs": []
    },
    {
      "cell_type": "code",
      "source": [
        "df_raw.head()"
      ],
      "metadata": {
        "colab": {
          "base_uri": "https://localhost:8080/",
          "height": 278
        },
        "id": "I82sDdsenwpk",
        "outputId": "bae80f56-47e9-44e1-f00d-0186e661432b"
      },
      "execution_count": null,
      "outputs": [
        {
          "output_type": "execute_result",
          "data": {
            "text/plain": [
              "   ID samobójcy Data raportu [RRRRMM]  Przedział wiekowy  Płeć  Stan cywilny  \\\n",
              "0  114581552,00                201301                  0     2             0   \n",
              "1  114584284,00                201301                  2     2             0   \n",
              "2  114584293,00                201301                  2     1             1   \n",
              "3  114584312,00                201301                  3     2             1   \n",
              "4  114584399,00                201301                  7     2             1   \n",
              "\n",
              "   Wykształcenie  Informacje o pracy i nauce  Źródło utrzymania  \\\n",
              "0              0                           0                  0   \n",
              "1              0                           1                  0   \n",
              "2              2                           1                  1   \n",
              "3              0                           0                  0   \n",
              "4              0                           9                  0   \n",
              "\n",
              "   Czy samobójstwo zakończyło się zgonem  Miejsce zamachu  Sposób popełnienia  \\\n",
              "0                                      0                0                   0   \n",
              "1                                      1                1                   1   \n",
              "2                                      1               15                   2   \n",
              "3                                      1                0                  18   \n",
              "4                                      1                2                   3   \n",
              "\n",
              "   Powód zamachu Powód zamachu 2  Powód zamachu 3  Powód zamachu 4  \\\n",
              "0              0             NaN              NaN              NaN   \n",
              "1              0             NaN              NaN              NaN   \n",
              "2              0             NaN              NaN              NaN   \n",
              "3              1             NaN              NaN              NaN   \n",
              "4              0             NaN              NaN              NaN   \n",
              "\n",
              "   Stan świadomości  Informacje o używaniu substancji  \\\n",
              "0                 0                                 0   \n",
              "1                 0                                 0   \n",
              "2                 0                                 0   \n",
              "3                 0                                 0   \n",
              "4                 2                                 0   \n",
              "\n",
              "   Informacje dotyczące leczenia z powodu alkoholizmu/narkomanii  \n",
              "0                                                  0              \n",
              "1                                                  0              \n",
              "2                                                  0              \n",
              "3                                                  0              \n",
              "4                                                  0              "
            ],
            "text/html": [
              "\n",
              "  <div id=\"df-8ff1211a-6873-4de9-b3a5-539981f39c5d\" class=\"colab-df-container\">\n",
              "    <div>\n",
              "<style scoped>\n",
              "    .dataframe tbody tr th:only-of-type {\n",
              "        vertical-align: middle;\n",
              "    }\n",
              "\n",
              "    .dataframe tbody tr th {\n",
              "        vertical-align: top;\n",
              "    }\n",
              "\n",
              "    .dataframe thead th {\n",
              "        text-align: right;\n",
              "    }\n",
              "</style>\n",
              "<table border=\"1\" class=\"dataframe\">\n",
              "  <thead>\n",
              "    <tr style=\"text-align: right;\">\n",
              "      <th></th>\n",
              "      <th>ID samobójcy</th>\n",
              "      <th>Data raportu [RRRRMM]</th>\n",
              "      <th>Przedział wiekowy</th>\n",
              "      <th>Płeć</th>\n",
              "      <th>Stan cywilny</th>\n",
              "      <th>Wykształcenie</th>\n",
              "      <th>Informacje o pracy i nauce</th>\n",
              "      <th>Źródło utrzymania</th>\n",
              "      <th>Czy samobójstwo zakończyło się zgonem</th>\n",
              "      <th>Miejsce zamachu</th>\n",
              "      <th>Sposób popełnienia</th>\n",
              "      <th>Powód zamachu</th>\n",
              "      <th>Powód zamachu 2</th>\n",
              "      <th>Powód zamachu 3</th>\n",
              "      <th>Powód zamachu 4</th>\n",
              "      <th>Stan świadomości</th>\n",
              "      <th>Informacje o używaniu substancji</th>\n",
              "      <th>Informacje dotyczące leczenia z powodu alkoholizmu/narkomanii</th>\n",
              "    </tr>\n",
              "  </thead>\n",
              "  <tbody>\n",
              "    <tr>\n",
              "      <th>0</th>\n",
              "      <td>114581552,00</td>\n",
              "      <td>201301</td>\n",
              "      <td>0</td>\n",
              "      <td>2</td>\n",
              "      <td>0</td>\n",
              "      <td>0</td>\n",
              "      <td>0</td>\n",
              "      <td>0</td>\n",
              "      <td>0</td>\n",
              "      <td>0</td>\n",
              "      <td>0</td>\n",
              "      <td>0</td>\n",
              "      <td>NaN</td>\n",
              "      <td>NaN</td>\n",
              "      <td>NaN</td>\n",
              "      <td>0</td>\n",
              "      <td>0</td>\n",
              "      <td>0</td>\n",
              "    </tr>\n",
              "    <tr>\n",
              "      <th>1</th>\n",
              "      <td>114584284,00</td>\n",
              "      <td>201301</td>\n",
              "      <td>2</td>\n",
              "      <td>2</td>\n",
              "      <td>0</td>\n",
              "      <td>0</td>\n",
              "      <td>1</td>\n",
              "      <td>0</td>\n",
              "      <td>1</td>\n",
              "      <td>1</td>\n",
              "      <td>1</td>\n",
              "      <td>0</td>\n",
              "      <td>NaN</td>\n",
              "      <td>NaN</td>\n",
              "      <td>NaN</td>\n",
              "      <td>0</td>\n",
              "      <td>0</td>\n",
              "      <td>0</td>\n",
              "    </tr>\n",
              "    <tr>\n",
              "      <th>2</th>\n",
              "      <td>114584293,00</td>\n",
              "      <td>201301</td>\n",
              "      <td>2</td>\n",
              "      <td>1</td>\n",
              "      <td>1</td>\n",
              "      <td>2</td>\n",
              "      <td>1</td>\n",
              "      <td>1</td>\n",
              "      <td>1</td>\n",
              "      <td>15</td>\n",
              "      <td>2</td>\n",
              "      <td>0</td>\n",
              "      <td>NaN</td>\n",
              "      <td>NaN</td>\n",
              "      <td>NaN</td>\n",
              "      <td>0</td>\n",
              "      <td>0</td>\n",
              "      <td>0</td>\n",
              "    </tr>\n",
              "    <tr>\n",
              "      <th>3</th>\n",
              "      <td>114584312,00</td>\n",
              "      <td>201301</td>\n",
              "      <td>3</td>\n",
              "      <td>2</td>\n",
              "      <td>1</td>\n",
              "      <td>0</td>\n",
              "      <td>0</td>\n",
              "      <td>0</td>\n",
              "      <td>1</td>\n",
              "      <td>0</td>\n",
              "      <td>18</td>\n",
              "      <td>1</td>\n",
              "      <td>NaN</td>\n",
              "      <td>NaN</td>\n",
              "      <td>NaN</td>\n",
              "      <td>0</td>\n",
              "      <td>0</td>\n",
              "      <td>0</td>\n",
              "    </tr>\n",
              "    <tr>\n",
              "      <th>4</th>\n",
              "      <td>114584399,00</td>\n",
              "      <td>201301</td>\n",
              "      <td>7</td>\n",
              "      <td>2</td>\n",
              "      <td>1</td>\n",
              "      <td>0</td>\n",
              "      <td>9</td>\n",
              "      <td>0</td>\n",
              "      <td>1</td>\n",
              "      <td>2</td>\n",
              "      <td>3</td>\n",
              "      <td>0</td>\n",
              "      <td>NaN</td>\n",
              "      <td>NaN</td>\n",
              "      <td>NaN</td>\n",
              "      <td>2</td>\n",
              "      <td>0</td>\n",
              "      <td>0</td>\n",
              "    </tr>\n",
              "  </tbody>\n",
              "</table>\n",
              "</div>\n",
              "    <div class=\"colab-df-buttons\">\n",
              "\n",
              "  <div class=\"colab-df-container\">\n",
              "    <button class=\"colab-df-convert\" onclick=\"convertToInteractive('df-8ff1211a-6873-4de9-b3a5-539981f39c5d')\"\n",
              "            title=\"Convert this dataframe to an interactive table.\"\n",
              "            style=\"display:none;\">\n",
              "\n",
              "  <svg xmlns=\"http://www.w3.org/2000/svg\" height=\"24px\" viewBox=\"0 -960 960 960\">\n",
              "    <path d=\"M120-120v-720h720v720H120Zm60-500h600v-160H180v160Zm220 220h160v-160H400v160Zm0 220h160v-160H400v160ZM180-400h160v-160H180v160Zm440 0h160v-160H620v160ZM180-180h160v-160H180v160Zm440 0h160v-160H620v160Z\"/>\n",
              "  </svg>\n",
              "    </button>\n",
              "\n",
              "  <style>\n",
              "    .colab-df-container {\n",
              "      display:flex;\n",
              "      gap: 12px;\n",
              "    }\n",
              "\n",
              "    .colab-df-convert {\n",
              "      background-color: #E8F0FE;\n",
              "      border: none;\n",
              "      border-radius: 50%;\n",
              "      cursor: pointer;\n",
              "      display: none;\n",
              "      fill: #1967D2;\n",
              "      height: 32px;\n",
              "      padding: 0 0 0 0;\n",
              "      width: 32px;\n",
              "    }\n",
              "\n",
              "    .colab-df-convert:hover {\n",
              "      background-color: #E2EBFA;\n",
              "      box-shadow: 0px 1px 2px rgba(60, 64, 67, 0.3), 0px 1px 3px 1px rgba(60, 64, 67, 0.15);\n",
              "      fill: #174EA6;\n",
              "    }\n",
              "\n",
              "    .colab-df-buttons div {\n",
              "      margin-bottom: 4px;\n",
              "    }\n",
              "\n",
              "    [theme=dark] .colab-df-convert {\n",
              "      background-color: #3B4455;\n",
              "      fill: #D2E3FC;\n",
              "    }\n",
              "\n",
              "    [theme=dark] .colab-df-convert:hover {\n",
              "      background-color: #434B5C;\n",
              "      box-shadow: 0px 1px 3px 1px rgba(0, 0, 0, 0.15);\n",
              "      filter: drop-shadow(0px 1px 2px rgba(0, 0, 0, 0.3));\n",
              "      fill: #FFFFFF;\n",
              "    }\n",
              "  </style>\n",
              "\n",
              "    <script>\n",
              "      const buttonEl =\n",
              "        document.querySelector('#df-8ff1211a-6873-4de9-b3a5-539981f39c5d button.colab-df-convert');\n",
              "      buttonEl.style.display =\n",
              "        google.colab.kernel.accessAllowed ? 'block' : 'none';\n",
              "\n",
              "      async function convertToInteractive(key) {\n",
              "        const element = document.querySelector('#df-8ff1211a-6873-4de9-b3a5-539981f39c5d');\n",
              "        const dataTable =\n",
              "          await google.colab.kernel.invokeFunction('convertToInteractive',\n",
              "                                                    [key], {});\n",
              "        if (!dataTable) return;\n",
              "\n",
              "        const docLinkHtml = 'Like what you see? Visit the ' +\n",
              "          '<a target=\"_blank\" href=https://colab.research.google.com/notebooks/data_table.ipynb>data table notebook</a>'\n",
              "          + ' to learn more about interactive tables.';\n",
              "        element.innerHTML = '';\n",
              "        dataTable['output_type'] = 'display_data';\n",
              "        await google.colab.output.renderOutput(dataTable, element);\n",
              "        const docLink = document.createElement('div');\n",
              "        docLink.innerHTML = docLinkHtml;\n",
              "        element.appendChild(docLink);\n",
              "      }\n",
              "    </script>\n",
              "  </div>\n",
              "\n",
              "\n",
              "<div id=\"df-c4a16610-0331-4c75-96ee-b05513a9cba3\">\n",
              "  <button class=\"colab-df-quickchart\" onclick=\"quickchart('df-c4a16610-0331-4c75-96ee-b05513a9cba3')\"\n",
              "            title=\"Suggest charts\"\n",
              "            style=\"display:none;\">\n",
              "\n",
              "<svg xmlns=\"http://www.w3.org/2000/svg\" height=\"24px\"viewBox=\"0 0 24 24\"\n",
              "     width=\"24px\">\n",
              "    <g>\n",
              "        <path d=\"M19 3H5c-1.1 0-2 .9-2 2v14c0 1.1.9 2 2 2h14c1.1 0 2-.9 2-2V5c0-1.1-.9-2-2-2zM9 17H7v-7h2v7zm4 0h-2V7h2v10zm4 0h-2v-4h2v4z\"/>\n",
              "    </g>\n",
              "</svg>\n",
              "  </button>\n",
              "\n",
              "<style>\n",
              "  .colab-df-quickchart {\n",
              "      --bg-color: #E8F0FE;\n",
              "      --fill-color: #1967D2;\n",
              "      --hover-bg-color: #E2EBFA;\n",
              "      --hover-fill-color: #174EA6;\n",
              "      --disabled-fill-color: #AAA;\n",
              "      --disabled-bg-color: #DDD;\n",
              "  }\n",
              "\n",
              "  [theme=dark] .colab-df-quickchart {\n",
              "      --bg-color: #3B4455;\n",
              "      --fill-color: #D2E3FC;\n",
              "      --hover-bg-color: #434B5C;\n",
              "      --hover-fill-color: #FFFFFF;\n",
              "      --disabled-bg-color: #3B4455;\n",
              "      --disabled-fill-color: #666;\n",
              "  }\n",
              "\n",
              "  .colab-df-quickchart {\n",
              "    background-color: var(--bg-color);\n",
              "    border: none;\n",
              "    border-radius: 50%;\n",
              "    cursor: pointer;\n",
              "    display: none;\n",
              "    fill: var(--fill-color);\n",
              "    height: 32px;\n",
              "    padding: 0;\n",
              "    width: 32px;\n",
              "  }\n",
              "\n",
              "  .colab-df-quickchart:hover {\n",
              "    background-color: var(--hover-bg-color);\n",
              "    box-shadow: 0 1px 2px rgba(60, 64, 67, 0.3), 0 1px 3px 1px rgba(60, 64, 67, 0.15);\n",
              "    fill: var(--button-hover-fill-color);\n",
              "  }\n",
              "\n",
              "  .colab-df-quickchart-complete:disabled,\n",
              "  .colab-df-quickchart-complete:disabled:hover {\n",
              "    background-color: var(--disabled-bg-color);\n",
              "    fill: var(--disabled-fill-color);\n",
              "    box-shadow: none;\n",
              "  }\n",
              "\n",
              "  .colab-df-spinner {\n",
              "    border: 2px solid var(--fill-color);\n",
              "    border-color: transparent;\n",
              "    border-bottom-color: var(--fill-color);\n",
              "    animation:\n",
              "      spin 1s steps(1) infinite;\n",
              "  }\n",
              "\n",
              "  @keyframes spin {\n",
              "    0% {\n",
              "      border-color: transparent;\n",
              "      border-bottom-color: var(--fill-color);\n",
              "      border-left-color: var(--fill-color);\n",
              "    }\n",
              "    20% {\n",
              "      border-color: transparent;\n",
              "      border-left-color: var(--fill-color);\n",
              "      border-top-color: var(--fill-color);\n",
              "    }\n",
              "    30% {\n",
              "      border-color: transparent;\n",
              "      border-left-color: var(--fill-color);\n",
              "      border-top-color: var(--fill-color);\n",
              "      border-right-color: var(--fill-color);\n",
              "    }\n",
              "    40% {\n",
              "      border-color: transparent;\n",
              "      border-right-color: var(--fill-color);\n",
              "      border-top-color: var(--fill-color);\n",
              "    }\n",
              "    60% {\n",
              "      border-color: transparent;\n",
              "      border-right-color: var(--fill-color);\n",
              "    }\n",
              "    80% {\n",
              "      border-color: transparent;\n",
              "      border-right-color: var(--fill-color);\n",
              "      border-bottom-color: var(--fill-color);\n",
              "    }\n",
              "    90% {\n",
              "      border-color: transparent;\n",
              "      border-bottom-color: var(--fill-color);\n",
              "    }\n",
              "  }\n",
              "</style>\n",
              "\n",
              "  <script>\n",
              "    async function quickchart(key) {\n",
              "      const quickchartButtonEl =\n",
              "        document.querySelector('#' + key + ' button');\n",
              "      quickchartButtonEl.disabled = true;  // To prevent multiple clicks.\n",
              "      quickchartButtonEl.classList.add('colab-df-spinner');\n",
              "      try {\n",
              "        const charts = await google.colab.kernel.invokeFunction(\n",
              "            'suggestCharts', [key], {});\n",
              "      } catch (error) {\n",
              "        console.error('Error during call to suggestCharts:', error);\n",
              "      }\n",
              "      quickchartButtonEl.classList.remove('colab-df-spinner');\n",
              "      quickchartButtonEl.classList.add('colab-df-quickchart-complete');\n",
              "    }\n",
              "    (() => {\n",
              "      let quickchartButtonEl =\n",
              "        document.querySelector('#df-c4a16610-0331-4c75-96ee-b05513a9cba3 button');\n",
              "      quickchartButtonEl.style.display =\n",
              "        google.colab.kernel.accessAllowed ? 'block' : 'none';\n",
              "    })();\n",
              "  </script>\n",
              "</div>\n",
              "    </div>\n",
              "  </div>\n"
            ],
            "application/vnd.google.colaboratory.intrinsic+json": {
              "type": "dataframe",
              "variable_name": "df_raw"
            }
          },
          "metadata": {},
          "execution_count": 3
        }
      ]
    },
    {
      "cell_type": "markdown",
      "source": [
        "#Zamiana nazw kolumn"
      ],
      "metadata": {
        "id": "rj96zAJgscX0"
      }
    },
    {
      "cell_type": "code",
      "source": [
        "# Zamiana spacji na podkreślenia w nazwach kolumn\n",
        "df_raw.rename(columns=lambda x: x.replace(' ', '_'), inplace=True)\n"
      ],
      "metadata": {
        "id": "vFFTYs2PpRPX"
      },
      "execution_count": null,
      "outputs": []
    },
    {
      "cell_type": "code",
      "source": [
        "df_raw.rename(columns={'Data_raportu_[RRRRMM]': 'Data_raportu'}, inplace=True)"
      ],
      "metadata": {
        "id": "IvJoL7w9qM17"
      },
      "execution_count": null,
      "outputs": []
    },
    {
      "cell_type": "markdown",
      "source": [
        "# Daty"
      ],
      "metadata": {
        "id": "JlALEV7qsgq7"
      }
    },
    {
      "cell_type": "code",
      "source": [
        "# Wyodrębnienie roku i miesiąca\n",
        "df_raw['Data_raportu_rok'] = df_raw['Data_raportu'].apply(lambda x: x[0:4] if len(x) > 8 else x[:4])\n",
        "df_raw['Data_raportu_miesiąc'] = df_raw['Data_raportu'].apply(lambda x: x[5:7] if len(x) > 8 else x[4:6])"
      ],
      "metadata": {
        "id": "c-3hQB6Pqvia"
      },
      "execution_count": null,
      "outputs": []
    },
    {
      "cell_type": "code",
      "source": [
        "# Połączenie roku i miesiąca w formacie MM.YYYY\n",
        "df_raw['Data_raportu'] = df_raw['Data_raportu_miesiąc'] + '.' + df_raw['Data_raportu_rok']"
      ],
      "metadata": {
        "id": "2WM9RCmQsPIz"
      },
      "execution_count": null,
      "outputs": []
    },
    {
      "cell_type": "markdown",
      "source": [
        "#Mapowanie"
      ],
      "metadata": {
        "id": "JiRyS2MWzVc2"
      }
    },
    {
      "cell_type": "markdown",
      "source": [
        "##Przedział_wiekowy"
      ],
      "metadata": {
        "id": "0kaeAdoFslz6"
      }
    },
    {
      "cell_type": "code",
      "source": [
        "column = 'Przedział_wiekowy'\n",
        "mapping = {\n",
        "    0: np.nan,\n",
        "    1: '7-12',\n",
        "    2: '13-18',\n",
        "    3: '19-24',\n",
        "    4: '25-29',\n",
        "    5: '30-34',\n",
        "    6: '35-39',\n",
        "    7: '40-44',\n",
        "    8: '45-49',\n",
        "    9: '50-54',\n",
        "    10: '55-59',\n",
        "    11: '60-64',\n",
        "    12: '65-69',\n",
        "    13: '70-74',\n",
        "    14: '75-79',\n",
        "    15: '80-84',\n",
        "    16: '85+'\n",
        "}\n",
        "\n",
        "df_raw[column] = df_raw[column].map(mapping)"
      ],
      "metadata": {
        "id": "puGo66ZWtnUR"
      },
      "execution_count": null,
      "outputs": []
    },
    {
      "cell_type": "markdown",
      "source": [
        "##Płeć"
      ],
      "metadata": {
        "id": "YyK6HFhazbND"
      }
    },
    {
      "cell_type": "code",
      "source": [
        "column = 'Płeć'\n",
        "mapping = {\n",
        "    0: np.nan,\n",
        "    1: 'Kobieta',\n",
        "    2: 'Mężczyzna'\n",
        "}\n",
        "\n",
        "df_raw[column] = df_raw[column].map(mapping)\n"
      ],
      "metadata": {
        "id": "-TieLJPJufVk"
      },
      "execution_count": null,
      "outputs": []
    },
    {
      "cell_type": "markdown",
      "source": [
        "##Stan_cywilny"
      ],
      "metadata": {
        "id": "l8XgeOBfzfC8"
      }
    },
    {
      "cell_type": "code",
      "source": [
        "column = 'Stan_cywilny'\n",
        "mapping = {\n",
        "    0: np.nan,\n",
        "    1: 'Kawaler/panna',\n",
        "    2: 'Konkubent/konkubina',\n",
        "    3: 'Żonaty/zamężna',\n",
        "    4: 'Separowany/separowana',\n",
        "    5: 'Rozwiedziony/rozwiedziona',\n",
        "    6: 'Wdowiec/wdowa'\n",
        "}\n",
        "\n",
        "df_raw[column] = df_raw[column].map(mapping)\n",
        "\n"
      ],
      "metadata": {
        "id": "3HN6t_OIugpM"
      },
      "execution_count": null,
      "outputs": []
    },
    {
      "cell_type": "markdown",
      "source": [
        "##Wykształcenie"
      ],
      "metadata": {
        "id": "L04fi8Atzh02"
      }
    },
    {
      "cell_type": "code",
      "source": [
        "column = 'Wykształcenie'\n",
        "mapping = {\n",
        "    0: np.nan,  # Zamiana 0 na NaN\n",
        "    1: 'Podstawowe niepełne',\n",
        "    2: 'Podstawowe',\n",
        "    3: 'Gimnazjalne',\n",
        "    4: 'Zasadnicze zawodowe',\n",
        "    5: 'Średnie',\n",
        "    6: 'Policealne',\n",
        "    7: 'Wyższe'\n",
        "}\n",
        "\n",
        "df_raw[column] = df_raw[column].map(mapping)\n"
      ],
      "metadata": {
        "id": "he03vcArumwI"
      },
      "execution_count": null,
      "outputs": []
    },
    {
      "cell_type": "markdown",
      "source": [
        "##Informacje_o_pracy_i_nauce"
      ],
      "metadata": {
        "id": "lgCz59qbzklI"
      }
    },
    {
      "cell_type": "code",
      "source": [
        "column = 'Informacje_o_pracy_i_nauce'\n",
        "mapping = {\n",
        "    0: np.nan,  # Zamiana 0 na NaN\n",
        "    1: 'Uczeń',\n",
        "    2: 'Student',\n",
        "    3: 'Pracownik umysłowy',\n",
        "    4: 'Pracownik fizyczny',\n",
        "    5: 'Rolnik',\n",
        "    6: 'Pracujący na własny rachunek/samodzielna działalność gospodarcza',\n",
        "    7: 'Praca stała',\n",
        "    8: 'Praca dorywcza',\n",
        "    9: 'Bezrobotny'\n",
        "}\n",
        "\n",
        "df_raw[column] = df_raw[column].map(mapping)"
      ],
      "metadata": {
        "id": "s6G7PtRdvWQa"
      },
      "execution_count": null,
      "outputs": []
    },
    {
      "cell_type": "markdown",
      "source": [
        "##Źródło_utrzymania"
      ],
      "metadata": {
        "id": "CqCkSO87zotR"
      }
    },
    {
      "cell_type": "code",
      "source": [
        "column = 'Źródło_utrzymania'\n",
        "mapping = {\n",
        "    0: np.nan,  # Zamiana 0 na NaN\n",
        "    1: 'Na utrzymaniu innej osoby',\n",
        "    2: 'Praca',\n",
        "    3: 'Renta, emerytura, zasiłek lub alimenty',\n",
        "    4: 'Nie ma stałego źródła utrzymania'\n",
        "}\n",
        "\n",
        "df_raw[column] = df_raw[column].map(mapping)"
      ],
      "metadata": {
        "id": "AQ7XQgvZwIwg"
      },
      "execution_count": null,
      "outputs": []
    },
    {
      "cell_type": "markdown",
      "source": [
        "##Czy_samobójstwo_zakończyło_się_zgonem"
      ],
      "metadata": {
        "id": "X88v2NMOzrsb"
      }
    },
    {
      "cell_type": "code",
      "source": [
        "column = 'Czy_samobójstwo_zakończyło_się_zgonem'\n",
        "\n",
        "mapping = {\n",
        "    0: np.nan,  # Zamiana 0 na NaN\n",
        "    1: 1,\n",
        "    2: 0\n",
        "}\n",
        "df_raw[column] = df_raw[column].map(mapping)"
      ],
      "metadata": {
        "id": "QO0wpsKAwnhz"
      },
      "execution_count": null,
      "outputs": []
    },
    {
      "cell_type": "markdown",
      "source": [
        "##Miejsce_zamachu"
      ],
      "metadata": {
        "id": "CUvJTrOxzu3T"
      }
    },
    {
      "cell_type": "code",
      "source": [
        "column = 'Miejsce_zamachu'\n",
        "mapping = {\n",
        "    0: np.nan,\n",
        "    1: 'Droga/ulica/chodnik',\n",
        "    2: 'Zabudowania gospodarcze',\n",
        "    3: 'Mieszkanie/dom',\n",
        "    4: 'Teren kolejowy/tory',\n",
        "    5: 'Park/las',\n",
        "    6: 'Piwnica, strych, garaż korytarz',\n",
        "    7: 'Rzeka, jezioro, inny zbiornik wodny',\n",
        "    8: 'Zakład pracy',\n",
        "    9: 'Placówka lecznicza lub sanatoryjna',\n",
        "    10: 'Miejsce prawnej izolacji',\n",
        "    11: 'Obiekt/jednostka wojskowa',\n",
        "    12: 'Placówka wychowawczo-opiekuńcza',\n",
        "    13: 'Szkoła/uczelnia',\n",
        "    14: 'Obiekt policyjny',\n",
        "    15: 'Inne'\n",
        "}\n",
        "\n",
        "df_raw[column] = df_raw[column].map(mapping)\n"
      ],
      "metadata": {
        "id": "m4XshG-QwqUo"
      },
      "execution_count": null,
      "outputs": []
    },
    {
      "cell_type": "markdown",
      "source": [
        "##Sposób_popełnienia"
      ],
      "metadata": {
        "id": "suOvpkuPzydG"
      }
    },
    {
      "cell_type": "code",
      "source": [
        "column = 'Sposób_popełnienia'\n",
        "mapping = {\n",
        "    0: np.nan,\n",
        "    1: 'Rzucenie się pod pojazd w ruchu',\n",
        "    2: 'Rzucenie się z wysokości',\n",
        "    3: 'Powieszenie się',\n",
        "    4: 'Uszkodzenie układu krwionośnego',\n",
        "    5: 'Zastrzelenie się/użycie broni palnej',\n",
        "    6: 'Samookaleczenie powierzchowne',\n",
        "    7: 'Samookaleczenie inne',\n",
        "    8: 'Zażycie środków nasennych/leków psychotropowych',\n",
        "    9: 'Zażycie trucizny',\n",
        "    10: 'Zatrucie gazem/spalinami',\n",
        "    11: 'Zażycie innych leków',\n",
        "    12: 'Zatrucie środkami chemicznymi/toksycznymi',\n",
        "    13: 'Zatrucie środkami odurzającymi',\n",
        "    14: 'Zatrucie dopalaczami',\n",
        "    15: 'Utonięcie/utopienie się',\n",
        "    16: 'Samopodpalenie',\n",
        "    17: 'Uduszenie',\n",
        "    18: 'Inny'\n",
        "}\n",
        "\n",
        "df_raw[column] = df_raw[column].map(mapping)\n"
      ],
      "metadata": {
        "id": "BMmRn_2_x9xh"
      },
      "execution_count": null,
      "outputs": []
    },
    {
      "cell_type": "markdown",
      "source": [
        "##Powód_zamachu"
      ],
      "metadata": {
        "id": "qgdtLHi8z121"
      }
    },
    {
      "cell_type": "code",
      "source": [
        "column = 'Powód_zamachu'\n",
        "mapping = {\n",
        "    0: np.nan,\n",
        "    1: 'Zawód miłosny',\n",
        "    2: 'Choroba psychiczna/zaburzenia psychiczne',\n",
        "    3: 'Nieporozumienie rodzinne/przemoc w rodzinie',\n",
        "    4: 'Nosiciel wirusa HIV, chory na AIDS',\n",
        "    5: 'Nagła utrata źródła utrzymania',\n",
        "    6: 'Złe warunki ekonomiczne/długi',\n",
        "    7: 'Przewlekła choroba',\n",
        "    8: 'Problemy w szkole lub pracy',\n",
        "    9: 'Śmierć bliskiej osoby',\n",
        "    10: 'Dokonanie przestępstwa lub wykroczenia',\n",
        "    11: 'Trwałe kalectwo',\n",
        "    12: 'Niepożądana ciąża',\n",
        "    13: 'Choroba fizyczna',\n",
        "    14: 'Pogorszenie lub nagła utrata zdrowia',\n",
        "    15: 'Konflikt z osobami spoza rodziny',\n",
        "    16: 'Zagrożenie lub utrata miejsca zamieszkania',\n",
        "    17: 'Mobbing, cybermobbing, znęcanie',\n",
        "    18: 'Inny niewymieniony'\n",
        "}\n",
        "\n",
        "df_raw[column] = df_raw[column].map(mapping)"
      ],
      "metadata": {
        "id": "hW3GSfEax_xd"
      },
      "execution_count": null,
      "outputs": []
    },
    {
      "cell_type": "markdown",
      "source": [
        "##Powód_zamachu_2"
      ],
      "metadata": {
        "id": "0CEz-khuz5wB"
      }
    },
    {
      "cell_type": "code",
      "source": [
        "column = 'Powód_zamachu_2'\n",
        "mapping = {\n",
        "    0: np.nan,\n",
        "    1: 'Zawód miłosny',\n",
        "    2: 'Choroba psychiczna/zaburzenia psychiczne',\n",
        "    3: 'Nieporozumienie rodzinne/przemoc w rodzinie',\n",
        "    4: 'Nosiciel wirusa HIV, chory na AIDS',\n",
        "    5: 'Nagła utrata źródła utrzymania',\n",
        "    6: 'Złe warunki ekonomiczne/długi',\n",
        "    7: 'Przewlekła choroba',\n",
        "    8: 'Problemy w szkole lub pracy',\n",
        "    9: 'Śmierć bliskiej osoby',\n",
        "    10: 'Dokonanie przestępstwa lub wykroczenia',\n",
        "    11: 'Trwałe kalectwo',\n",
        "    12: 'Niepożądana ciąża',\n",
        "    13: 'Choroba fizyczna',\n",
        "    14: 'Pogorszenie lub nagła utrata zdrowia',\n",
        "    15: 'Konflikt z osobami spoza rodziny',\n",
        "    16: 'Zagrożenie lub utrata miejsca zamieszkania',\n",
        "    17: 'Mobbing, cybermobbing, znęcanie',\n",
        "    18: 'Inny niewymieniony'\n",
        "}\n",
        "\n",
        "df_raw[column] = df_raw[column].map(mapping)"
      ],
      "metadata": {
        "id": "1XaA_qOOyafz"
      },
      "execution_count": null,
      "outputs": []
    },
    {
      "cell_type": "markdown",
      "source": [
        "##Powód_zamachu_3"
      ],
      "metadata": {
        "id": "CgmO4pp_z81K"
      }
    },
    {
      "cell_type": "code",
      "source": [
        "column = 'Powód_zamachu_3'\n",
        "mapping = {\n",
        "    0: np.nan,\n",
        "    1: 'Zawód miłosny',\n",
        "    2: 'Choroba psychiczna/zaburzenia psychiczne',\n",
        "    3: 'Nieporozumienie rodzinne/przemoc w rodzinie',\n",
        "    4: 'Nosiciel wirusa HIV, chory na AIDS',\n",
        "    5: 'Nagła utrata źródła utrzymania',\n",
        "    6: 'Złe warunki ekonomiczne/długi',\n",
        "    7: 'Przewlekła choroba',\n",
        "    8: 'Problemy w szkole lub pracy',\n",
        "    9: 'Śmierć bliskiej osoby',\n",
        "    10: 'Dokonanie przestępstwa lub wykroczenia',\n",
        "    11: 'Trwałe kalectwo',\n",
        "    12: 'Niepożądana ciąża',\n",
        "    13: 'Choroba fizyczna',\n",
        "    14: 'Pogorszenie lub nagła utrata zdrowia',\n",
        "    15: 'Konflikt z osobami spoza rodziny',\n",
        "    16: 'Zagrożenie lub utrata miejsca zamieszkania',\n",
        "    17: 'Mobbing, cybermobbing, znęcanie',\n",
        "    18: 'Inny niewymieniony'\n",
        "}\n",
        "\n",
        "df_raw[column] = df_raw[column].map(mapping)"
      ],
      "metadata": {
        "id": "3--sD14jyfps"
      },
      "execution_count": null,
      "outputs": []
    },
    {
      "cell_type": "markdown",
      "source": [
        "##Powód_zamachu_4"
      ],
      "metadata": {
        "id": "nHkSTPa-0AFl"
      }
    },
    {
      "cell_type": "code",
      "source": [
        "column = 'Powód_zamachu_4'\n",
        "mapping = {\n",
        "    0: np.nan,\n",
        "    1: 'Zawód miłosny',\n",
        "    2: 'Choroba psychiczna/zaburzenia psychiczne',\n",
        "    3: 'Nieporozumienie rodzinne/przemoc w rodzinie',\n",
        "    4: 'Nosiciel wirusa HIV, chory na AIDS',\n",
        "    5: 'Nagła utrata źródła utrzymania',\n",
        "    6: 'Złe warunki ekonomiczne/długi',\n",
        "    7: 'Przewlekła choroba',\n",
        "    8: 'Problemy w szkole lub pracy',\n",
        "    9: 'Śmierć bliskiej osoby',\n",
        "    10: 'Dokonanie przestępstwa lub wykroczenia',\n",
        "    11: 'Trwałe kalectwo',\n",
        "    12: 'Niepożądana ciąża',\n",
        "    13: 'Choroba fizyczna',\n",
        "    14: 'Pogorszenie lub nagła utrata zdrowia',\n",
        "    15: 'Konflikt z osobami spoza rodziny',\n",
        "    16: 'Zagrożenie lub utrata miejsca zamieszkania',\n",
        "    17: 'Mobbing, cybermobbing, znęcanie',\n",
        "    18: 'Inny niewymieniony'\n",
        "}\n",
        "\n",
        "df_raw[column] = df_raw[column].map(mapping)"
      ],
      "metadata": {
        "id": "heLXHV5DyifN"
      },
      "execution_count": null,
      "outputs": []
    },
    {
      "cell_type": "markdown",
      "source": [
        "##Stan_świadomości"
      ],
      "metadata": {
        "id": "j_oh1VT20DWr"
      }
    },
    {
      "cell_type": "code",
      "source": [
        "column = 'Stan_świadomości'\n",
        "mapping = {\n",
        "    0: np.nan,\n",
        "    1: 'Trzeźwy',\n",
        "    2: 'Pod wpływem alkoholu',\n",
        "    3: 'Pod wpływem zastępczych środków/substancji (dopalaczy)',\n",
        "    4: 'Pod wpływem substancji psychotropowych (narkotyki, itp.)',\n",
        "    5: 'Pod wpływem leków',\n",
        "    6: 'Pod wpływem środków odurzających',\n",
        "    7: 'Pod wpływem alkoholu i zastępczych środków/substancji (dopalaczy)',\n",
        "    8: 'Pod wpływem alkoholu i substancji psychotropowych (narkotyki, itp.)',\n",
        "    9: 'Pod wpływem alkoholu i leków',\n",
        "    10: 'Pod wpływem alkoholu i środków odurzających',\n",
        "    11: 'Pod wpływem alkoholu, zastępczych środków/substancji (dopalaczy) i środków odurzających',\n",
        "    12: 'Pod wpływem zastępczych środków/substancji (dopalaczy) i środków odurzających',\n",
        "    13: 'Pod wpływem leków i środków odurzających',\n",
        "    14: 'Pod wpływem leków i zastępczych środków/substancji (dopalaczy)',\n",
        "    15: 'Pod wpływem leków i substancji psychotropowych (narkotyki, itp.)',\n",
        "    16: 'Pod wpływem leków, zastępczych środków/substancji (dopalaczy) i środków odurzających',\n",
        "    17: 'Pod wpływem leków, alkoholu i środków odurzających',\n",
        "    18: 'Pod wpływem alkoholu, leków, zastępczych środków/substancji (dopalaczy) i środków odurzających'\n",
        "}\n",
        "\n",
        "df_raw[column] = df_raw[column].map(mapping)\n"
      ],
      "metadata": {
        "id": "besYtKDAyuDh"
      },
      "execution_count": null,
      "outputs": []
    },
    {
      "cell_type": "markdown",
      "source": [
        "##Informacje_o_używaniu_substancji"
      ],
      "metadata": {
        "id": "0x9OkF8k0XMo"
      }
    },
    {
      "cell_type": "code",
      "source": [
        "column = 'Informacje_o_używaniu_substancji'\n",
        "mapping = {\n",
        "    0: np.nan,\n",
        "    1: 'Nadużywał alkoholu',\n",
        "    2: 'Nadużywał narkotyków',\n",
        "    3: 'Nadużywał dopalaczy',\n",
        "    4: 'Nadużywał alkoholu i dopalaczy',\n",
        "    5: 'Nadużywał narkotyków i dopalaczy',\n",
        "    6: 'Nadużywał alkoholu i narkotyków',\n",
        "    7: 'Nadużywał alkoholu, narkotyków i dopalaczy'\n",
        "}\n",
        "\n",
        "df_raw[column] = df_raw[column].map(mapping)\n"
      ],
      "metadata": {
        "id": "T0gL7Dz70UAC"
      },
      "execution_count": null,
      "outputs": []
    },
    {
      "cell_type": "markdown",
      "source": [
        "##Informacje_dotyczące_leczenia_z_powodu_alkoholizmu/narkomanii"
      ],
      "metadata": {
        "id": "39BndAwP0tKh"
      }
    },
    {
      "cell_type": "code",
      "source": [
        "column = 'Informacje_dotyczące_leczenia_z_powodu_alkoholizmu/narkomanii'\n",
        "mapping = {\n",
        "    0: np.nan,\n",
        "    1: 'Leczony z powodu alkoholizmu',\n",
        "    2: 'Leczony z powodu narkomanii',\n",
        "    3: 'Leczony z powodu alkoholizmu i narkomanii'\n",
        "}\n",
        "\n",
        "df_raw[column] = df_raw[column].map(mapping)\n"
      ],
      "metadata": {
        "id": "HuH1oJO10aUJ"
      },
      "execution_count": null,
      "outputs": []
    },
    {
      "cell_type": "markdown",
      "source": [
        "#Powód zamachu - dummies"
      ],
      "metadata": {
        "id": "_4G-mhMt-hla"
      }
    },
    {
      "cell_type": "code",
      "source": [
        "columns_to_drop = ['Powód_zamachu', 'Powód_zamachu_2', 'Powód_zamachu_3', 'Powód_zamachu_4']\n",
        "df_powód_zamachu = df_raw[columns_to_drop]\n",
        "df_raw.drop(columns=columns_to_drop, inplace=True)\n"
      ],
      "metadata": {
        "id": "3Q73Z-45-pGJ"
      },
      "execution_count": null,
      "outputs": []
    },
    {
      "cell_type": "code",
      "source": [
        "powód_zamachu_values = (\n",
        "    set(df_powód_zamachu['Powód_zamachu'].unique()) |\n",
        "    set(df_powód_zamachu['Powód_zamachu_2'].unique()) |\n",
        "    set(df_powód_zamachu['Powód_zamachu_3'].unique()) |\n",
        "    set(df_powód_zamachu['Powód_zamachu_4'].unique())\n",
        ")"
      ],
      "metadata": {
        "id": "C4txX3uZD1Ni"
      },
      "execution_count": null,
      "outputs": []
    },
    {
      "cell_type": "code",
      "source": [
        "powód_zamachu_values"
      ],
      "metadata": {
        "colab": {
          "base_uri": "https://localhost:8080/"
        },
        "id": "erRmfj905sqi",
        "outputId": "30dcd8d5-a697-41a7-9884-db94a12f1001"
      },
      "execution_count": null,
      "outputs": [
        {
          "output_type": "execute_result",
          "data": {
            "text/plain": [
              "{'Choroba fizyczna',\n",
              " 'Choroba psychiczna/zaburzenia psychiczne',\n",
              " 'Dokonanie przestępstwa lub wykroczenia',\n",
              " 'Inny niewymieniony',\n",
              " 'Konflikt z osobami spoza rodziny',\n",
              " 'Mobbing, cybermobbing, znęcanie',\n",
              " 'Nagła utrata źródła utrzymania',\n",
              " 'Nieporozumienie rodzinne/przemoc w rodzinie',\n",
              " 'Niepożądana ciąża',\n",
              " 'Nosiciel wirusa HIV, chory na AIDS',\n",
              " 'Pogorszenie lub nagła utrata zdrowia',\n",
              " 'Problemy w szkole lub pracy',\n",
              " 'Przewlekła choroba',\n",
              " 'Trwałe kalectwo',\n",
              " 'Zagrożenie lub utrata miejsca zamieszkania',\n",
              " 'Zawód miłosny',\n",
              " 'Złe warunki ekonomiczne/długi',\n",
              " nan,\n",
              " 'Śmierć bliskiej osoby'}"
            ]
          },
          "metadata": {},
          "execution_count": 28
        }
      ]
    },
    {
      "cell_type": "code",
      "source": [
        "for value in powód_zamachu_values:\n",
        "    column_name = 'Powód_zamachu_' + str(value)\n",
        "    df_powód_zamachu[column_name] = df_powód_zamachu.apply(lambda row: 1 if value in row.values else 0, axis=1)\n"
      ],
      "metadata": {
        "colab": {
          "base_uri": "https://localhost:8080/"
        },
        "id": "rziPLN8qGahL",
        "outputId": "bdd59bd3-8967-479b-a71e-9ecff109bade"
      },
      "execution_count": null,
      "outputs": [
        {
          "output_type": "stream",
          "name": "stderr",
          "text": [
            "<ipython-input-29-f9e5e51963ac>:3: SettingWithCopyWarning: \n",
            "A value is trying to be set on a copy of a slice from a DataFrame.\n",
            "Try using .loc[row_indexer,col_indexer] = value instead\n",
            "\n",
            "See the caveats in the documentation: https://pandas.pydata.org/pandas-docs/stable/user_guide/indexing.html#returning-a-view-versus-a-copy\n",
            "  df_powód_zamachu[column_name] = df_powód_zamachu.apply(lambda row: 1 if value in row.values else 0, axis=1)\n",
            "<ipython-input-29-f9e5e51963ac>:3: SettingWithCopyWarning: \n",
            "A value is trying to be set on a copy of a slice from a DataFrame.\n",
            "Try using .loc[row_indexer,col_indexer] = value instead\n",
            "\n",
            "See the caveats in the documentation: https://pandas.pydata.org/pandas-docs/stable/user_guide/indexing.html#returning-a-view-versus-a-copy\n",
            "  df_powód_zamachu[column_name] = df_powód_zamachu.apply(lambda row: 1 if value in row.values else 0, axis=1)\n",
            "<ipython-input-29-f9e5e51963ac>:3: SettingWithCopyWarning: \n",
            "A value is trying to be set on a copy of a slice from a DataFrame.\n",
            "Try using .loc[row_indexer,col_indexer] = value instead\n",
            "\n",
            "See the caveats in the documentation: https://pandas.pydata.org/pandas-docs/stable/user_guide/indexing.html#returning-a-view-versus-a-copy\n",
            "  df_powód_zamachu[column_name] = df_powód_zamachu.apply(lambda row: 1 if value in row.values else 0, axis=1)\n",
            "<ipython-input-29-f9e5e51963ac>:3: SettingWithCopyWarning: \n",
            "A value is trying to be set on a copy of a slice from a DataFrame.\n",
            "Try using .loc[row_indexer,col_indexer] = value instead\n",
            "\n",
            "See the caveats in the documentation: https://pandas.pydata.org/pandas-docs/stable/user_guide/indexing.html#returning-a-view-versus-a-copy\n",
            "  df_powód_zamachu[column_name] = df_powód_zamachu.apply(lambda row: 1 if value in row.values else 0, axis=1)\n",
            "<ipython-input-29-f9e5e51963ac>:3: SettingWithCopyWarning: \n",
            "A value is trying to be set on a copy of a slice from a DataFrame.\n",
            "Try using .loc[row_indexer,col_indexer] = value instead\n",
            "\n",
            "See the caveats in the documentation: https://pandas.pydata.org/pandas-docs/stable/user_guide/indexing.html#returning-a-view-versus-a-copy\n",
            "  df_powód_zamachu[column_name] = df_powód_zamachu.apply(lambda row: 1 if value in row.values else 0, axis=1)\n",
            "<ipython-input-29-f9e5e51963ac>:3: SettingWithCopyWarning: \n",
            "A value is trying to be set on a copy of a slice from a DataFrame.\n",
            "Try using .loc[row_indexer,col_indexer] = value instead\n",
            "\n",
            "See the caveats in the documentation: https://pandas.pydata.org/pandas-docs/stable/user_guide/indexing.html#returning-a-view-versus-a-copy\n",
            "  df_powód_zamachu[column_name] = df_powód_zamachu.apply(lambda row: 1 if value in row.values else 0, axis=1)\n",
            "<ipython-input-29-f9e5e51963ac>:3: SettingWithCopyWarning: \n",
            "A value is trying to be set on a copy of a slice from a DataFrame.\n",
            "Try using .loc[row_indexer,col_indexer] = value instead\n",
            "\n",
            "See the caveats in the documentation: https://pandas.pydata.org/pandas-docs/stable/user_guide/indexing.html#returning-a-view-versus-a-copy\n",
            "  df_powód_zamachu[column_name] = df_powód_zamachu.apply(lambda row: 1 if value in row.values else 0, axis=1)\n",
            "<ipython-input-29-f9e5e51963ac>:3: SettingWithCopyWarning: \n",
            "A value is trying to be set on a copy of a slice from a DataFrame.\n",
            "Try using .loc[row_indexer,col_indexer] = value instead\n",
            "\n",
            "See the caveats in the documentation: https://pandas.pydata.org/pandas-docs/stable/user_guide/indexing.html#returning-a-view-versus-a-copy\n",
            "  df_powód_zamachu[column_name] = df_powód_zamachu.apply(lambda row: 1 if value in row.values else 0, axis=1)\n",
            "<ipython-input-29-f9e5e51963ac>:3: SettingWithCopyWarning: \n",
            "A value is trying to be set on a copy of a slice from a DataFrame.\n",
            "Try using .loc[row_indexer,col_indexer] = value instead\n",
            "\n",
            "See the caveats in the documentation: https://pandas.pydata.org/pandas-docs/stable/user_guide/indexing.html#returning-a-view-versus-a-copy\n",
            "  df_powód_zamachu[column_name] = df_powód_zamachu.apply(lambda row: 1 if value in row.values else 0, axis=1)\n",
            "<ipython-input-29-f9e5e51963ac>:3: SettingWithCopyWarning: \n",
            "A value is trying to be set on a copy of a slice from a DataFrame.\n",
            "Try using .loc[row_indexer,col_indexer] = value instead\n",
            "\n",
            "See the caveats in the documentation: https://pandas.pydata.org/pandas-docs/stable/user_guide/indexing.html#returning-a-view-versus-a-copy\n",
            "  df_powód_zamachu[column_name] = df_powód_zamachu.apply(lambda row: 1 if value in row.values else 0, axis=1)\n",
            "<ipython-input-29-f9e5e51963ac>:3: SettingWithCopyWarning: \n",
            "A value is trying to be set on a copy of a slice from a DataFrame.\n",
            "Try using .loc[row_indexer,col_indexer] = value instead\n",
            "\n",
            "See the caveats in the documentation: https://pandas.pydata.org/pandas-docs/stable/user_guide/indexing.html#returning-a-view-versus-a-copy\n",
            "  df_powód_zamachu[column_name] = df_powód_zamachu.apply(lambda row: 1 if value in row.values else 0, axis=1)\n"
          ]
        }
      ]
    },
    {
      "cell_type": "code",
      "source": [
        "columns_to_drop = ['Powód_zamachu', 'Powód_zamachu_2', 'Powód_zamachu_3', 'Powód_zamachu_4', 'Powód_zamachu_nan']\n",
        "df_powód_zamachu.drop(columns=columns_to_drop, inplace=True)\n"
      ],
      "metadata": {
        "id": "fQ73shBOG1II"
      },
      "execution_count": null,
      "outputs": []
    },
    {
      "cell_type": "markdown",
      "source": [
        "#Liczba_powodów_zamachu"
      ],
      "metadata": {
        "id": "Hagqy4z-JnQ3"
      }
    },
    {
      "cell_type": "code",
      "source": [
        "df_raw['Liczba_powodów_zamachu'] = df_powód_zamachu.sum(axis=1)"
      ],
      "metadata": {
        "id": "_EZNn51KJwDr"
      },
      "execution_count": null,
      "outputs": []
    },
    {
      "cell_type": "code",
      "source": [
        "df_raw.head()"
      ],
      "metadata": {
        "colab": {
          "base_uri": "https://localhost:8080/",
          "height": 278
        },
        "id": "eluFOpAZKOXZ",
        "outputId": "7da9f293-e742-4017-b98e-6254ba7520cc"
      },
      "execution_count": null,
      "outputs": [
        {
          "output_type": "execute_result",
          "data": {
            "text/plain": [
              "   ID_samobójcy Data_raportu Przedział_wiekowy       Płeć   Stan_cywilny  \\\n",
              "0  114581552,00      01.2013               NaN  Mężczyzna            NaN   \n",
              "1  114584284,00      01.2013               NaN  Mężczyzna            NaN   \n",
              "2  114584293,00      01.2013               NaN    Kobieta  Kawaler/panna   \n",
              "3  114584312,00      01.2013               NaN  Mężczyzna  Kawaler/panna   \n",
              "4  114584399,00      01.2013               NaN  Mężczyzna  Kawaler/panna   \n",
              "\n",
              "  Wykształcenie Informacje_o_pracy_i_nauce          Źródło_utrzymania  \\\n",
              "0           NaN                        NaN                        NaN   \n",
              "1           NaN                      Uczeń                        NaN   \n",
              "2    Podstawowe                      Uczeń  Na utrzymaniu innej osoby   \n",
              "3           NaN                        NaN                        NaN   \n",
              "4           NaN                 Bezrobotny                        NaN   \n",
              "\n",
              "   Czy_samobójstwo_zakończyło_się_zgonem          Miejsce_zamachu  \\\n",
              "0                                    NaN                      NaN   \n",
              "1                                    1.0      Droga/ulica/chodnik   \n",
              "2                                    1.0                     Inne   \n",
              "3                                    1.0                      NaN   \n",
              "4                                    1.0  Zabudowania gospodarcze   \n",
              "\n",
              "                Sposób_popełnienia      Stan_świadomości  \\\n",
              "0                              NaN                   NaN   \n",
              "1  Rzucenie się pod pojazd w ruchu                   NaN   \n",
              "2         Rzucenie się z wysokości                   NaN   \n",
              "3                             Inny                   NaN   \n",
              "4                  Powieszenie się  Pod wpływem alkoholu   \n",
              "\n",
              "  Informacje_o_używaniu_substancji  \\\n",
              "0                              NaN   \n",
              "1                              NaN   \n",
              "2                              NaN   \n",
              "3                              NaN   \n",
              "4                              NaN   \n",
              "\n",
              "  Informacje_dotyczące_leczenia_z_powodu_alkoholizmu/narkomanii  \\\n",
              "0                                                NaN              \n",
              "1                                                NaN              \n",
              "2                                                NaN              \n",
              "3                                                NaN              \n",
              "4                                                NaN              \n",
              "\n",
              "  Data_raportu_rok Data_raportu_miesiąc  Liczba_powodów_zamachu  \n",
              "0             2013                   01                       0  \n",
              "1             2013                   01                       0  \n",
              "2             2013                   01                       0  \n",
              "3             2013                   01                       1  \n",
              "4             2013                   01                       0  "
            ],
            "text/html": [
              "\n",
              "  <div id=\"df-222223fd-d43c-4d7d-af58-157cec846765\" class=\"colab-df-container\">\n",
              "    <div>\n",
              "<style scoped>\n",
              "    .dataframe tbody tr th:only-of-type {\n",
              "        vertical-align: middle;\n",
              "    }\n",
              "\n",
              "    .dataframe tbody tr th {\n",
              "        vertical-align: top;\n",
              "    }\n",
              "\n",
              "    .dataframe thead th {\n",
              "        text-align: right;\n",
              "    }\n",
              "</style>\n",
              "<table border=\"1\" class=\"dataframe\">\n",
              "  <thead>\n",
              "    <tr style=\"text-align: right;\">\n",
              "      <th></th>\n",
              "      <th>ID_samobójcy</th>\n",
              "      <th>Data_raportu</th>\n",
              "      <th>Przedział_wiekowy</th>\n",
              "      <th>Płeć</th>\n",
              "      <th>Stan_cywilny</th>\n",
              "      <th>Wykształcenie</th>\n",
              "      <th>Informacje_o_pracy_i_nauce</th>\n",
              "      <th>Źródło_utrzymania</th>\n",
              "      <th>Czy_samobójstwo_zakończyło_się_zgonem</th>\n",
              "      <th>Miejsce_zamachu</th>\n",
              "      <th>Sposób_popełnienia</th>\n",
              "      <th>Stan_świadomości</th>\n",
              "      <th>Informacje_o_używaniu_substancji</th>\n",
              "      <th>Informacje_dotyczące_leczenia_z_powodu_alkoholizmu/narkomanii</th>\n",
              "      <th>Data_raportu_rok</th>\n",
              "      <th>Data_raportu_miesiąc</th>\n",
              "      <th>Liczba_powodów_zamachu</th>\n",
              "    </tr>\n",
              "  </thead>\n",
              "  <tbody>\n",
              "    <tr>\n",
              "      <th>0</th>\n",
              "      <td>114581552,00</td>\n",
              "      <td>01.2013</td>\n",
              "      <td>NaN</td>\n",
              "      <td>Mężczyzna</td>\n",
              "      <td>NaN</td>\n",
              "      <td>NaN</td>\n",
              "      <td>NaN</td>\n",
              "      <td>NaN</td>\n",
              "      <td>NaN</td>\n",
              "      <td>NaN</td>\n",
              "      <td>NaN</td>\n",
              "      <td>NaN</td>\n",
              "      <td>NaN</td>\n",
              "      <td>NaN</td>\n",
              "      <td>2013</td>\n",
              "      <td>01</td>\n",
              "      <td>0</td>\n",
              "    </tr>\n",
              "    <tr>\n",
              "      <th>1</th>\n",
              "      <td>114584284,00</td>\n",
              "      <td>01.2013</td>\n",
              "      <td>NaN</td>\n",
              "      <td>Mężczyzna</td>\n",
              "      <td>NaN</td>\n",
              "      <td>NaN</td>\n",
              "      <td>Uczeń</td>\n",
              "      <td>NaN</td>\n",
              "      <td>1.0</td>\n",
              "      <td>Droga/ulica/chodnik</td>\n",
              "      <td>Rzucenie się pod pojazd w ruchu</td>\n",
              "      <td>NaN</td>\n",
              "      <td>NaN</td>\n",
              "      <td>NaN</td>\n",
              "      <td>2013</td>\n",
              "      <td>01</td>\n",
              "      <td>0</td>\n",
              "    </tr>\n",
              "    <tr>\n",
              "      <th>2</th>\n",
              "      <td>114584293,00</td>\n",
              "      <td>01.2013</td>\n",
              "      <td>NaN</td>\n",
              "      <td>Kobieta</td>\n",
              "      <td>Kawaler/panna</td>\n",
              "      <td>Podstawowe</td>\n",
              "      <td>Uczeń</td>\n",
              "      <td>Na utrzymaniu innej osoby</td>\n",
              "      <td>1.0</td>\n",
              "      <td>Inne</td>\n",
              "      <td>Rzucenie się z wysokości</td>\n",
              "      <td>NaN</td>\n",
              "      <td>NaN</td>\n",
              "      <td>NaN</td>\n",
              "      <td>2013</td>\n",
              "      <td>01</td>\n",
              "      <td>0</td>\n",
              "    </tr>\n",
              "    <tr>\n",
              "      <th>3</th>\n",
              "      <td>114584312,00</td>\n",
              "      <td>01.2013</td>\n",
              "      <td>NaN</td>\n",
              "      <td>Mężczyzna</td>\n",
              "      <td>Kawaler/panna</td>\n",
              "      <td>NaN</td>\n",
              "      <td>NaN</td>\n",
              "      <td>NaN</td>\n",
              "      <td>1.0</td>\n",
              "      <td>NaN</td>\n",
              "      <td>Inny</td>\n",
              "      <td>NaN</td>\n",
              "      <td>NaN</td>\n",
              "      <td>NaN</td>\n",
              "      <td>2013</td>\n",
              "      <td>01</td>\n",
              "      <td>1</td>\n",
              "    </tr>\n",
              "    <tr>\n",
              "      <th>4</th>\n",
              "      <td>114584399,00</td>\n",
              "      <td>01.2013</td>\n",
              "      <td>NaN</td>\n",
              "      <td>Mężczyzna</td>\n",
              "      <td>Kawaler/panna</td>\n",
              "      <td>NaN</td>\n",
              "      <td>Bezrobotny</td>\n",
              "      <td>NaN</td>\n",
              "      <td>1.0</td>\n",
              "      <td>Zabudowania gospodarcze</td>\n",
              "      <td>Powieszenie się</td>\n",
              "      <td>Pod wpływem alkoholu</td>\n",
              "      <td>NaN</td>\n",
              "      <td>NaN</td>\n",
              "      <td>2013</td>\n",
              "      <td>01</td>\n",
              "      <td>0</td>\n",
              "    </tr>\n",
              "  </tbody>\n",
              "</table>\n",
              "</div>\n",
              "    <div class=\"colab-df-buttons\">\n",
              "\n",
              "  <div class=\"colab-df-container\">\n",
              "    <button class=\"colab-df-convert\" onclick=\"convertToInteractive('df-222223fd-d43c-4d7d-af58-157cec846765')\"\n",
              "            title=\"Convert this dataframe to an interactive table.\"\n",
              "            style=\"display:none;\">\n",
              "\n",
              "  <svg xmlns=\"http://www.w3.org/2000/svg\" height=\"24px\" viewBox=\"0 -960 960 960\">\n",
              "    <path d=\"M120-120v-720h720v720H120Zm60-500h600v-160H180v160Zm220 220h160v-160H400v160Zm0 220h160v-160H400v160ZM180-400h160v-160H180v160Zm440 0h160v-160H620v160ZM180-180h160v-160H180v160Zm440 0h160v-160H620v160Z\"/>\n",
              "  </svg>\n",
              "    </button>\n",
              "\n",
              "  <style>\n",
              "    .colab-df-container {\n",
              "      display:flex;\n",
              "      gap: 12px;\n",
              "    }\n",
              "\n",
              "    .colab-df-convert {\n",
              "      background-color: #E8F0FE;\n",
              "      border: none;\n",
              "      border-radius: 50%;\n",
              "      cursor: pointer;\n",
              "      display: none;\n",
              "      fill: #1967D2;\n",
              "      height: 32px;\n",
              "      padding: 0 0 0 0;\n",
              "      width: 32px;\n",
              "    }\n",
              "\n",
              "    .colab-df-convert:hover {\n",
              "      background-color: #E2EBFA;\n",
              "      box-shadow: 0px 1px 2px rgba(60, 64, 67, 0.3), 0px 1px 3px 1px rgba(60, 64, 67, 0.15);\n",
              "      fill: #174EA6;\n",
              "    }\n",
              "\n",
              "    .colab-df-buttons div {\n",
              "      margin-bottom: 4px;\n",
              "    }\n",
              "\n",
              "    [theme=dark] .colab-df-convert {\n",
              "      background-color: #3B4455;\n",
              "      fill: #D2E3FC;\n",
              "    }\n",
              "\n",
              "    [theme=dark] .colab-df-convert:hover {\n",
              "      background-color: #434B5C;\n",
              "      box-shadow: 0px 1px 3px 1px rgba(0, 0, 0, 0.15);\n",
              "      filter: drop-shadow(0px 1px 2px rgba(0, 0, 0, 0.3));\n",
              "      fill: #FFFFFF;\n",
              "    }\n",
              "  </style>\n",
              "\n",
              "    <script>\n",
              "      const buttonEl =\n",
              "        document.querySelector('#df-222223fd-d43c-4d7d-af58-157cec846765 button.colab-df-convert');\n",
              "      buttonEl.style.display =\n",
              "        google.colab.kernel.accessAllowed ? 'block' : 'none';\n",
              "\n",
              "      async function convertToInteractive(key) {\n",
              "        const element = document.querySelector('#df-222223fd-d43c-4d7d-af58-157cec846765');\n",
              "        const dataTable =\n",
              "          await google.colab.kernel.invokeFunction('convertToInteractive',\n",
              "                                                    [key], {});\n",
              "        if (!dataTable) return;\n",
              "\n",
              "        const docLinkHtml = 'Like what you see? Visit the ' +\n",
              "          '<a target=\"_blank\" href=https://colab.research.google.com/notebooks/data_table.ipynb>data table notebook</a>'\n",
              "          + ' to learn more about interactive tables.';\n",
              "        element.innerHTML = '';\n",
              "        dataTable['output_type'] = 'display_data';\n",
              "        await google.colab.output.renderOutput(dataTable, element);\n",
              "        const docLink = document.createElement('div');\n",
              "        docLink.innerHTML = docLinkHtml;\n",
              "        element.appendChild(docLink);\n",
              "      }\n",
              "    </script>\n",
              "  </div>\n",
              "\n",
              "\n",
              "<div id=\"df-98eb27e9-0bef-4241-8800-41de9f2f6f4c\">\n",
              "  <button class=\"colab-df-quickchart\" onclick=\"quickchart('df-98eb27e9-0bef-4241-8800-41de9f2f6f4c')\"\n",
              "            title=\"Suggest charts\"\n",
              "            style=\"display:none;\">\n",
              "\n",
              "<svg xmlns=\"http://www.w3.org/2000/svg\" height=\"24px\"viewBox=\"0 0 24 24\"\n",
              "     width=\"24px\">\n",
              "    <g>\n",
              "        <path d=\"M19 3H5c-1.1 0-2 .9-2 2v14c0 1.1.9 2 2 2h14c1.1 0 2-.9 2-2V5c0-1.1-.9-2-2-2zM9 17H7v-7h2v7zm4 0h-2V7h2v10zm4 0h-2v-4h2v4z\"/>\n",
              "    </g>\n",
              "</svg>\n",
              "  </button>\n",
              "\n",
              "<style>\n",
              "  .colab-df-quickchart {\n",
              "      --bg-color: #E8F0FE;\n",
              "      --fill-color: #1967D2;\n",
              "      --hover-bg-color: #E2EBFA;\n",
              "      --hover-fill-color: #174EA6;\n",
              "      --disabled-fill-color: #AAA;\n",
              "      --disabled-bg-color: #DDD;\n",
              "  }\n",
              "\n",
              "  [theme=dark] .colab-df-quickchart {\n",
              "      --bg-color: #3B4455;\n",
              "      --fill-color: #D2E3FC;\n",
              "      --hover-bg-color: #434B5C;\n",
              "      --hover-fill-color: #FFFFFF;\n",
              "      --disabled-bg-color: #3B4455;\n",
              "      --disabled-fill-color: #666;\n",
              "  }\n",
              "\n",
              "  .colab-df-quickchart {\n",
              "    background-color: var(--bg-color);\n",
              "    border: none;\n",
              "    border-radius: 50%;\n",
              "    cursor: pointer;\n",
              "    display: none;\n",
              "    fill: var(--fill-color);\n",
              "    height: 32px;\n",
              "    padding: 0;\n",
              "    width: 32px;\n",
              "  }\n",
              "\n",
              "  .colab-df-quickchart:hover {\n",
              "    background-color: var(--hover-bg-color);\n",
              "    box-shadow: 0 1px 2px rgba(60, 64, 67, 0.3), 0 1px 3px 1px rgba(60, 64, 67, 0.15);\n",
              "    fill: var(--button-hover-fill-color);\n",
              "  }\n",
              "\n",
              "  .colab-df-quickchart-complete:disabled,\n",
              "  .colab-df-quickchart-complete:disabled:hover {\n",
              "    background-color: var(--disabled-bg-color);\n",
              "    fill: var(--disabled-fill-color);\n",
              "    box-shadow: none;\n",
              "  }\n",
              "\n",
              "  .colab-df-spinner {\n",
              "    border: 2px solid var(--fill-color);\n",
              "    border-color: transparent;\n",
              "    border-bottom-color: var(--fill-color);\n",
              "    animation:\n",
              "      spin 1s steps(1) infinite;\n",
              "  }\n",
              "\n",
              "  @keyframes spin {\n",
              "    0% {\n",
              "      border-color: transparent;\n",
              "      border-bottom-color: var(--fill-color);\n",
              "      border-left-color: var(--fill-color);\n",
              "    }\n",
              "    20% {\n",
              "      border-color: transparent;\n",
              "      border-left-color: var(--fill-color);\n",
              "      border-top-color: var(--fill-color);\n",
              "    }\n",
              "    30% {\n",
              "      border-color: transparent;\n",
              "      border-left-color: var(--fill-color);\n",
              "      border-top-color: var(--fill-color);\n",
              "      border-right-color: var(--fill-color);\n",
              "    }\n",
              "    40% {\n",
              "      border-color: transparent;\n",
              "      border-right-color: var(--fill-color);\n",
              "      border-top-color: var(--fill-color);\n",
              "    }\n",
              "    60% {\n",
              "      border-color: transparent;\n",
              "      border-right-color: var(--fill-color);\n",
              "    }\n",
              "    80% {\n",
              "      border-color: transparent;\n",
              "      border-right-color: var(--fill-color);\n",
              "      border-bottom-color: var(--fill-color);\n",
              "    }\n",
              "    90% {\n",
              "      border-color: transparent;\n",
              "      border-bottom-color: var(--fill-color);\n",
              "    }\n",
              "  }\n",
              "</style>\n",
              "\n",
              "  <script>\n",
              "    async function quickchart(key) {\n",
              "      const quickchartButtonEl =\n",
              "        document.querySelector('#' + key + ' button');\n",
              "      quickchartButtonEl.disabled = true;  // To prevent multiple clicks.\n",
              "      quickchartButtonEl.classList.add('colab-df-spinner');\n",
              "      try {\n",
              "        const charts = await google.colab.kernel.invokeFunction(\n",
              "            'suggestCharts', [key], {});\n",
              "      } catch (error) {\n",
              "        console.error('Error during call to suggestCharts:', error);\n",
              "      }\n",
              "      quickchartButtonEl.classList.remove('colab-df-spinner');\n",
              "      quickchartButtonEl.classList.add('colab-df-quickchart-complete');\n",
              "    }\n",
              "    (() => {\n",
              "      let quickchartButtonEl =\n",
              "        document.querySelector('#df-98eb27e9-0bef-4241-8800-41de9f2f6f4c button');\n",
              "      quickchartButtonEl.style.display =\n",
              "        google.colab.kernel.accessAllowed ? 'block' : 'none';\n",
              "    })();\n",
              "  </script>\n",
              "</div>\n",
              "    </div>\n",
              "  </div>\n"
            ],
            "application/vnd.google.colaboratory.intrinsic+json": {
              "type": "dataframe",
              "variable_name": "df_raw"
            }
          },
          "metadata": {},
          "execution_count": 32
        }
      ]
    },
    {
      "cell_type": "markdown",
      "source": [
        "#Zapis"
      ],
      "metadata": {
        "id": "a0F-OBCVMVH3"
      }
    },
    {
      "cell_type": "code",
      "source": [
        "# from google.colab import drive\n",
        "# drive.mount('/content/drive')\n",
        "# df_raw.to_csv('/content/drive/My Drive/preped_samobojstwa_2013_2022.csv', index=False)\n",
        "# df_powód_zamachu.to_csv('/content/drive/My Drive/preped_powod_zamachu_samobojstwa_2013_2022.csv', index=False)"
      ],
      "metadata": {
        "id": "eBrQESiniq7M"
      },
      "execution_count": null,
      "outputs": []
    },
    {
      "cell_type": "code",
      "source": [
        "file_name = 'preped_samobojstwa_2013_2022.csv'\n",
        "df_raw.to_csv(file_name, index=False)\n",
        "files.download(file_name)"
      ],
      "metadata": {
        "id": "BEbhrd7W8cng",
        "outputId": "5849e166-e1bd-4b5a-b9c3-efcb47b53c7a",
        "colab": {
          "base_uri": "https://localhost:8080/",
          "height": 17
        }
      },
      "execution_count": null,
      "outputs": [
        {
          "output_type": "display_data",
          "data": {
            "text/plain": [
              "<IPython.core.display.Javascript object>"
            ],
            "application/javascript": [
              "\n",
              "    async function download(id, filename, size) {\n",
              "      if (!google.colab.kernel.accessAllowed) {\n",
              "        return;\n",
              "      }\n",
              "      const div = document.createElement('div');\n",
              "      const label = document.createElement('label');\n",
              "      label.textContent = `Downloading \"${filename}\": `;\n",
              "      div.appendChild(label);\n",
              "      const progress = document.createElement('progress');\n",
              "      progress.max = size;\n",
              "      div.appendChild(progress);\n",
              "      document.body.appendChild(div);\n",
              "\n",
              "      const buffers = [];\n",
              "      let downloaded = 0;\n",
              "\n",
              "      const channel = await google.colab.kernel.comms.open(id);\n",
              "      // Send a message to notify the kernel that we're ready.\n",
              "      channel.send({})\n",
              "\n",
              "      for await (const message of channel.messages) {\n",
              "        // Send a message to notify the kernel that we're ready.\n",
              "        channel.send({})\n",
              "        if (message.buffers) {\n",
              "          for (const buffer of message.buffers) {\n",
              "            buffers.push(buffer);\n",
              "            downloaded += buffer.byteLength;\n",
              "            progress.value = downloaded;\n",
              "          }\n",
              "        }\n",
              "      }\n",
              "      const blob = new Blob(buffers, {type: 'application/binary'});\n",
              "      const a = document.createElement('a');\n",
              "      a.href = window.URL.createObjectURL(blob);\n",
              "      a.download = filename;\n",
              "      div.appendChild(a);\n",
              "      a.click();\n",
              "      div.remove();\n",
              "    }\n",
              "  "
            ]
          },
          "metadata": {}
        },
        {
          "output_type": "display_data",
          "data": {
            "text/plain": [
              "<IPython.core.display.Javascript object>"
            ],
            "application/javascript": [
              "download(\"download_3ec41f7b-cc03-4988-b464-bc547e5e436d\", \"suicides_raw.csv\", 16620892)"
            ]
          },
          "metadata": {}
        }
      ]
    },
    {
      "cell_type": "code",
      "source": [
        "file_name = 'preped_powod_zamachu_samobojstwa_2013_2022.csv'\n",
        "df_raw.to_csv(file_name, index=False)\n",
        "files.download(file_name)"
      ],
      "metadata": {
        "id": "NdwoWCij-bii"
      },
      "execution_count": null,
      "outputs": []
    }
  ]
}