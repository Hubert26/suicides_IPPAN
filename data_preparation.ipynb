{
  "nbformat": 4,
  "nbformat_minor": 0,
  "metadata": {
    "colab": {
      "provenance": [],
      "toc_visible": true,
      "authorship_tag": "ABX9TyPConCOO1I5Bo5pS78+xbz3",
      "include_colab_link": true
    },
    "kernelspec": {
      "name": "python3",
      "display_name": "Python 3"
    },
    "language_info": {
      "name": "python"
    }
  },
  "cells": [
    {
      "cell_type": "markdown",
      "metadata": {
        "id": "view-in-github",
        "colab_type": "text"
      },
      "source": [
        "<a href=\"https://colab.research.google.com/github/Hubert26/suicides_IPPAN/blob/main/data_preparation.ipynb\" target=\"_parent\"><img src=\"https://colab.research.google.com/assets/colab-badge.svg\" alt=\"Open In Colab\"/></a>"
      ]
    },
    {
      "cell_type": "code",
      "execution_count": 139,
      "metadata": {
        "id": "cpTIzsiWDrRd"
      },
      "outputs": [],
      "source": [
        "import pandas as pd\n",
        "import numpy as np\n",
        "from pydrive2.auth import GoogleAuth\n",
        "from pydrive2.drive import GoogleDrive\n",
        "import os\n",
        "from google.colab import files\n",
        "\n",
        "#Ustawienie braku maksymalnej ilości wyświetlanych kolumn\n",
        "pd.options.display.max_columns = None"
      ]
    },
    {
      "cell_type": "markdown",
      "source": [
        "# 2023"
      ],
      "metadata": {
        "id": "N7uhW5wHIG_n"
      }
    },
    {
      "cell_type": "code",
      "source": [
        "df_raw_2023 = pd.read_excel('https://raw.githubusercontent.com/Hubert26/suicides_IPPAN/main/data/Samobojstwa_2023.xlsx')"
      ],
      "metadata": {
        "id": "Uqdae34UIG_u"
      },
      "execution_count": 140,
      "outputs": []
    },
    {
      "cell_type": "code",
      "source": [
        "df_raw_2023.head(5)"
      ],
      "metadata": {
        "colab": {
          "base_uri": "https://localhost:8080/",
          "height": 590
        },
        "outputId": "5081f4eb-a125-412c-9f86-754b4b3b5d64",
        "id": "gRsxr-heIG_u"
      },
      "execution_count": 141,
      "outputs": [
        {
          "output_type": "execute_result",
          "data": {
            "text/plain": [
              "  ID samobójcy    Data rejestracji Przedział wiekowy       Płeć  \\\n",
              "0    138421942 2023-01-01 01:15:42             25-29  Mężczyzna   \n",
              "1    138421944 2023-01-01 01:32:02             55-59  Mężczyzna   \n",
              "2    138421949 2023-01-01 01:54:15             13-18    Kobieta   \n",
              "3    138421953 2023-01-01 02:19:35             55-59  Mężczyzna   \n",
              "4    138421954 2023-01-01 02:32:52             19-24    Kobieta   \n",
              "\n",
              "          Stan cywilny            Wykształcenie Informacje o pracy i nauce  \\\n",
              "0  Konkubent/konkubina  Brak danych/nieustalone                 Bezrobotny   \n",
              "1       Żonaty/zamężna  Brak danych/nieustalone    Brak danych/nieustalono   \n",
              "2        Kawaler/panna  Brak danych/nieustalone                      Uczeń   \n",
              "3       Żonaty/zamężna  Brak danych/nieustalone    Brak danych/nieustalono   \n",
              "4  Konkubent/konkubina  Brak danych/nieustalone    Brak danych/nieustalono   \n",
              "\n",
              "           Źródło utrzymania Czy samobójstwo zakończyło się zgonem  \\\n",
              "0    Brak danych/nieustalony                                     N   \n",
              "1    Brak danych/nieustalony                                     N   \n",
              "2  Na utrzymaniu innej osoby                                     N   \n",
              "3    Brak danych/nieustalony                                     N   \n",
              "4    Brak danych/nieustalony                                     N   \n",
              "\n",
              "  Miejsce zamachu                           Klasa miejscowości  \\\n",
              "0  Mieszkanie/dom                                         Wieś   \n",
              "1  Mieszkanie/dom    Miasto o liczbie ludności 20 000 – 49 999   \n",
              "2  Mieszkanie/dom                                         Wieś   \n",
              "3  Mieszkanie/dom          Miasto o liczbie ludności do 19 999   \n",
              "4  Mieszkanie/dom  Miasto o liczbie ludności 100 000 – 499 999   \n",
              "\n",
              "              Sposób popełnienia                              Powód zamachu *  \\\n",
              "0  Samookaleczenie powierzchowne                   Inny niewymieniony powyżej   \n",
              "1                Powieszenie się                                  Nieustalony   \n",
              "2           Zażycie innych leków  Nieporozumienie rodzinne/przemoc w rodzinie   \n",
              "3  Samookaleczenie powierzchowne  Nieporozumienie rodzinne/przemoc w rodzinie   \n",
              "4           Zażycie innych leków             Konflikt z osobami spoza rodziny   \n",
              "\n",
              "                               Powód zamachu 2 Powód zamachu 3  \\\n",
              "0  Nieporozumienie rodzinne/przemoc w rodzinie             NaN   \n",
              "1                                          NaN             NaN   \n",
              "2                                          NaN             NaN   \n",
              "3                                          NaN             NaN   \n",
              "4                                          NaN             NaN   \n",
              "\n",
              "  Powód zamachu 4       Stan świadomości *  \\\n",
              "0             NaN     Pod wpływem alkoholu   \n",
              "1             NaN  Brak danych/nieustalony   \n",
              "2             NaN               Trzeźwy(a)   \n",
              "3             NaN     Pod wpływem alkoholu   \n",
              "4             NaN     Pod wpływem alkoholu   \n",
              "\n",
              "  Informacje dotyczące stanu zdrowia *  \\\n",
              "0              Brak danych/nieustalono   \n",
              "1              Brak danych/nieustalono   \n",
              "2              Brak danych/nieustalono   \n",
              "3                Nadużywał(a) alkoholu   \n",
              "4                Nadużywał(a) alkoholu   \n",
              "\n",
              "  Informacje dotyczące leczenia z powodu alkoholizmu/narkomanii  \\\n",
              "0                                                NaN              \n",
              "1                                                NaN              \n",
              "2                                                NaN              \n",
              "3                                                NaN              \n",
              "4                                                NaN              \n",
              "\n",
              "  W ciągu ostatniego miesiąca sprawca zdarzenia miał przynajmniej jeden raz kontakt z *  \n",
              "0                          Brak możliwości ustalenia                                     \n",
              "1                          Brak możliwości ustalenia                                     \n",
              "2                                 Placówką leczniczą                                     \n",
              "3                          Brak możliwości ustalenia                                     \n",
              "4                          Brak możliwości ustalenia                                     "
            ],
            "text/html": [
              "\n",
              "  <div id=\"df-fec2ca0e-1cb0-4c1b-9c3a-a86b62525e34\" class=\"colab-df-container\">\n",
              "    <div>\n",
              "<style scoped>\n",
              "    .dataframe tbody tr th:only-of-type {\n",
              "        vertical-align: middle;\n",
              "    }\n",
              "\n",
              "    .dataframe tbody tr th {\n",
              "        vertical-align: top;\n",
              "    }\n",
              "\n",
              "    .dataframe thead th {\n",
              "        text-align: right;\n",
              "    }\n",
              "</style>\n",
              "<table border=\"1\" class=\"dataframe\">\n",
              "  <thead>\n",
              "    <tr style=\"text-align: right;\">\n",
              "      <th></th>\n",
              "      <th>ID samobójcy</th>\n",
              "      <th>Data rejestracji</th>\n",
              "      <th>Przedział wiekowy</th>\n",
              "      <th>Płeć</th>\n",
              "      <th>Stan cywilny</th>\n",
              "      <th>Wykształcenie</th>\n",
              "      <th>Informacje o pracy i nauce</th>\n",
              "      <th>Źródło utrzymania</th>\n",
              "      <th>Czy samobójstwo zakończyło się zgonem</th>\n",
              "      <th>Miejsce zamachu</th>\n",
              "      <th>Klasa miejscowości</th>\n",
              "      <th>Sposób popełnienia</th>\n",
              "      <th>Powód zamachu *</th>\n",
              "      <th>Powód zamachu 2</th>\n",
              "      <th>Powód zamachu 3</th>\n",
              "      <th>Powód zamachu 4</th>\n",
              "      <th>Stan świadomości *</th>\n",
              "      <th>Informacje dotyczące stanu zdrowia *</th>\n",
              "      <th>Informacje dotyczące leczenia z powodu alkoholizmu/narkomanii</th>\n",
              "      <th>W ciągu ostatniego miesiąca sprawca zdarzenia miał przynajmniej jeden raz kontakt z *</th>\n",
              "    </tr>\n",
              "  </thead>\n",
              "  <tbody>\n",
              "    <tr>\n",
              "      <th>0</th>\n",
              "      <td>138421942</td>\n",
              "      <td>2023-01-01 01:15:42</td>\n",
              "      <td>25-29</td>\n",
              "      <td>Mężczyzna</td>\n",
              "      <td>Konkubent/konkubina</td>\n",
              "      <td>Brak danych/nieustalone</td>\n",
              "      <td>Bezrobotny</td>\n",
              "      <td>Brak danych/nieustalony</td>\n",
              "      <td>N</td>\n",
              "      <td>Mieszkanie/dom</td>\n",
              "      <td>Wieś</td>\n",
              "      <td>Samookaleczenie powierzchowne</td>\n",
              "      <td>Inny niewymieniony powyżej</td>\n",
              "      <td>Nieporozumienie rodzinne/przemoc w rodzinie</td>\n",
              "      <td>NaN</td>\n",
              "      <td>NaN</td>\n",
              "      <td>Pod wpływem alkoholu</td>\n",
              "      <td>Brak danych/nieustalono</td>\n",
              "      <td>NaN</td>\n",
              "      <td>Brak możliwości ustalenia</td>\n",
              "    </tr>\n",
              "    <tr>\n",
              "      <th>1</th>\n",
              "      <td>138421944</td>\n",
              "      <td>2023-01-01 01:32:02</td>\n",
              "      <td>55-59</td>\n",
              "      <td>Mężczyzna</td>\n",
              "      <td>Żonaty/zamężna</td>\n",
              "      <td>Brak danych/nieustalone</td>\n",
              "      <td>Brak danych/nieustalono</td>\n",
              "      <td>Brak danych/nieustalony</td>\n",
              "      <td>N</td>\n",
              "      <td>Mieszkanie/dom</td>\n",
              "      <td>Miasto o liczbie ludności 20 000 – 49 999</td>\n",
              "      <td>Powieszenie się</td>\n",
              "      <td>Nieustalony</td>\n",
              "      <td>NaN</td>\n",
              "      <td>NaN</td>\n",
              "      <td>NaN</td>\n",
              "      <td>Brak danych/nieustalony</td>\n",
              "      <td>Brak danych/nieustalono</td>\n",
              "      <td>NaN</td>\n",
              "      <td>Brak możliwości ustalenia</td>\n",
              "    </tr>\n",
              "    <tr>\n",
              "      <th>2</th>\n",
              "      <td>138421949</td>\n",
              "      <td>2023-01-01 01:54:15</td>\n",
              "      <td>13-18</td>\n",
              "      <td>Kobieta</td>\n",
              "      <td>Kawaler/panna</td>\n",
              "      <td>Brak danych/nieustalone</td>\n",
              "      <td>Uczeń</td>\n",
              "      <td>Na utrzymaniu innej osoby</td>\n",
              "      <td>N</td>\n",
              "      <td>Mieszkanie/dom</td>\n",
              "      <td>Wieś</td>\n",
              "      <td>Zażycie innych leków</td>\n",
              "      <td>Nieporozumienie rodzinne/przemoc w rodzinie</td>\n",
              "      <td>NaN</td>\n",
              "      <td>NaN</td>\n",
              "      <td>NaN</td>\n",
              "      <td>Trzeźwy(a)</td>\n",
              "      <td>Brak danych/nieustalono</td>\n",
              "      <td>NaN</td>\n",
              "      <td>Placówką leczniczą</td>\n",
              "    </tr>\n",
              "    <tr>\n",
              "      <th>3</th>\n",
              "      <td>138421953</td>\n",
              "      <td>2023-01-01 02:19:35</td>\n",
              "      <td>55-59</td>\n",
              "      <td>Mężczyzna</td>\n",
              "      <td>Żonaty/zamężna</td>\n",
              "      <td>Brak danych/nieustalone</td>\n",
              "      <td>Brak danych/nieustalono</td>\n",
              "      <td>Brak danych/nieustalony</td>\n",
              "      <td>N</td>\n",
              "      <td>Mieszkanie/dom</td>\n",
              "      <td>Miasto o liczbie ludności do 19 999</td>\n",
              "      <td>Samookaleczenie powierzchowne</td>\n",
              "      <td>Nieporozumienie rodzinne/przemoc w rodzinie</td>\n",
              "      <td>NaN</td>\n",
              "      <td>NaN</td>\n",
              "      <td>NaN</td>\n",
              "      <td>Pod wpływem alkoholu</td>\n",
              "      <td>Nadużywał(a) alkoholu</td>\n",
              "      <td>NaN</td>\n",
              "      <td>Brak możliwości ustalenia</td>\n",
              "    </tr>\n",
              "    <tr>\n",
              "      <th>4</th>\n",
              "      <td>138421954</td>\n",
              "      <td>2023-01-01 02:32:52</td>\n",
              "      <td>19-24</td>\n",
              "      <td>Kobieta</td>\n",
              "      <td>Konkubent/konkubina</td>\n",
              "      <td>Brak danych/nieustalone</td>\n",
              "      <td>Brak danych/nieustalono</td>\n",
              "      <td>Brak danych/nieustalony</td>\n",
              "      <td>N</td>\n",
              "      <td>Mieszkanie/dom</td>\n",
              "      <td>Miasto o liczbie ludności 100 000 – 499 999</td>\n",
              "      <td>Zażycie innych leków</td>\n",
              "      <td>Konflikt z osobami spoza rodziny</td>\n",
              "      <td>NaN</td>\n",
              "      <td>NaN</td>\n",
              "      <td>NaN</td>\n",
              "      <td>Pod wpływem alkoholu</td>\n",
              "      <td>Nadużywał(a) alkoholu</td>\n",
              "      <td>NaN</td>\n",
              "      <td>Brak możliwości ustalenia</td>\n",
              "    </tr>\n",
              "  </tbody>\n",
              "</table>\n",
              "</div>\n",
              "    <div class=\"colab-df-buttons\">\n",
              "\n",
              "  <div class=\"colab-df-container\">\n",
              "    <button class=\"colab-df-convert\" onclick=\"convertToInteractive('df-fec2ca0e-1cb0-4c1b-9c3a-a86b62525e34')\"\n",
              "            title=\"Convert this dataframe to an interactive table.\"\n",
              "            style=\"display:none;\">\n",
              "\n",
              "  <svg xmlns=\"http://www.w3.org/2000/svg\" height=\"24px\" viewBox=\"0 -960 960 960\">\n",
              "    <path d=\"M120-120v-720h720v720H120Zm60-500h600v-160H180v160Zm220 220h160v-160H400v160Zm0 220h160v-160H400v160ZM180-400h160v-160H180v160Zm440 0h160v-160H620v160ZM180-180h160v-160H180v160Zm440 0h160v-160H620v160Z\"/>\n",
              "  </svg>\n",
              "    </button>\n",
              "\n",
              "  <style>\n",
              "    .colab-df-container {\n",
              "      display:flex;\n",
              "      gap: 12px;\n",
              "    }\n",
              "\n",
              "    .colab-df-convert {\n",
              "      background-color: #E8F0FE;\n",
              "      border: none;\n",
              "      border-radius: 50%;\n",
              "      cursor: pointer;\n",
              "      display: none;\n",
              "      fill: #1967D2;\n",
              "      height: 32px;\n",
              "      padding: 0 0 0 0;\n",
              "      width: 32px;\n",
              "    }\n",
              "\n",
              "    .colab-df-convert:hover {\n",
              "      background-color: #E2EBFA;\n",
              "      box-shadow: 0px 1px 2px rgba(60, 64, 67, 0.3), 0px 1px 3px 1px rgba(60, 64, 67, 0.15);\n",
              "      fill: #174EA6;\n",
              "    }\n",
              "\n",
              "    .colab-df-buttons div {\n",
              "      margin-bottom: 4px;\n",
              "    }\n",
              "\n",
              "    [theme=dark] .colab-df-convert {\n",
              "      background-color: #3B4455;\n",
              "      fill: #D2E3FC;\n",
              "    }\n",
              "\n",
              "    [theme=dark] .colab-df-convert:hover {\n",
              "      background-color: #434B5C;\n",
              "      box-shadow: 0px 1px 3px 1px rgba(0, 0, 0, 0.15);\n",
              "      filter: drop-shadow(0px 1px 2px rgba(0, 0, 0, 0.3));\n",
              "      fill: #FFFFFF;\n",
              "    }\n",
              "  </style>\n",
              "\n",
              "    <script>\n",
              "      const buttonEl =\n",
              "        document.querySelector('#df-fec2ca0e-1cb0-4c1b-9c3a-a86b62525e34 button.colab-df-convert');\n",
              "      buttonEl.style.display =\n",
              "        google.colab.kernel.accessAllowed ? 'block' : 'none';\n",
              "\n",
              "      async function convertToInteractive(key) {\n",
              "        const element = document.querySelector('#df-fec2ca0e-1cb0-4c1b-9c3a-a86b62525e34');\n",
              "        const dataTable =\n",
              "          await google.colab.kernel.invokeFunction('convertToInteractive',\n",
              "                                                    [key], {});\n",
              "        if (!dataTable) return;\n",
              "\n",
              "        const docLinkHtml = 'Like what you see? Visit the ' +\n",
              "          '<a target=\"_blank\" href=https://colab.research.google.com/notebooks/data_table.ipynb>data table notebook</a>'\n",
              "          + ' to learn more about interactive tables.';\n",
              "        element.innerHTML = '';\n",
              "        dataTable['output_type'] = 'display_data';\n",
              "        await google.colab.output.renderOutput(dataTable, element);\n",
              "        const docLink = document.createElement('div');\n",
              "        docLink.innerHTML = docLinkHtml;\n",
              "        element.appendChild(docLink);\n",
              "      }\n",
              "    </script>\n",
              "  </div>\n",
              "\n",
              "\n",
              "<div id=\"df-d07b7e78-5754-4ac6-9991-fd291066e53f\">\n",
              "  <button class=\"colab-df-quickchart\" onclick=\"quickchart('df-d07b7e78-5754-4ac6-9991-fd291066e53f')\"\n",
              "            title=\"Suggest charts\"\n",
              "            style=\"display:none;\">\n",
              "\n",
              "<svg xmlns=\"http://www.w3.org/2000/svg\" height=\"24px\"viewBox=\"0 0 24 24\"\n",
              "     width=\"24px\">\n",
              "    <g>\n",
              "        <path d=\"M19 3H5c-1.1 0-2 .9-2 2v14c0 1.1.9 2 2 2h14c1.1 0 2-.9 2-2V5c0-1.1-.9-2-2-2zM9 17H7v-7h2v7zm4 0h-2V7h2v10zm4 0h-2v-4h2v4z\"/>\n",
              "    </g>\n",
              "</svg>\n",
              "  </button>\n",
              "\n",
              "<style>\n",
              "  .colab-df-quickchart {\n",
              "      --bg-color: #E8F0FE;\n",
              "      --fill-color: #1967D2;\n",
              "      --hover-bg-color: #E2EBFA;\n",
              "      --hover-fill-color: #174EA6;\n",
              "      --disabled-fill-color: #AAA;\n",
              "      --disabled-bg-color: #DDD;\n",
              "  }\n",
              "\n",
              "  [theme=dark] .colab-df-quickchart {\n",
              "      --bg-color: #3B4455;\n",
              "      --fill-color: #D2E3FC;\n",
              "      --hover-bg-color: #434B5C;\n",
              "      --hover-fill-color: #FFFFFF;\n",
              "      --disabled-bg-color: #3B4455;\n",
              "      --disabled-fill-color: #666;\n",
              "  }\n",
              "\n",
              "  .colab-df-quickchart {\n",
              "    background-color: var(--bg-color);\n",
              "    border: none;\n",
              "    border-radius: 50%;\n",
              "    cursor: pointer;\n",
              "    display: none;\n",
              "    fill: var(--fill-color);\n",
              "    height: 32px;\n",
              "    padding: 0;\n",
              "    width: 32px;\n",
              "  }\n",
              "\n",
              "  .colab-df-quickchart:hover {\n",
              "    background-color: var(--hover-bg-color);\n",
              "    box-shadow: 0 1px 2px rgba(60, 64, 67, 0.3), 0 1px 3px 1px rgba(60, 64, 67, 0.15);\n",
              "    fill: var(--button-hover-fill-color);\n",
              "  }\n",
              "\n",
              "  .colab-df-quickchart-complete:disabled,\n",
              "  .colab-df-quickchart-complete:disabled:hover {\n",
              "    background-color: var(--disabled-bg-color);\n",
              "    fill: var(--disabled-fill-color);\n",
              "    box-shadow: none;\n",
              "  }\n",
              "\n",
              "  .colab-df-spinner {\n",
              "    border: 2px solid var(--fill-color);\n",
              "    border-color: transparent;\n",
              "    border-bottom-color: var(--fill-color);\n",
              "    animation:\n",
              "      spin 1s steps(1) infinite;\n",
              "  }\n",
              "\n",
              "  @keyframes spin {\n",
              "    0% {\n",
              "      border-color: transparent;\n",
              "      border-bottom-color: var(--fill-color);\n",
              "      border-left-color: var(--fill-color);\n",
              "    }\n",
              "    20% {\n",
              "      border-color: transparent;\n",
              "      border-left-color: var(--fill-color);\n",
              "      border-top-color: var(--fill-color);\n",
              "    }\n",
              "    30% {\n",
              "      border-color: transparent;\n",
              "      border-left-color: var(--fill-color);\n",
              "      border-top-color: var(--fill-color);\n",
              "      border-right-color: var(--fill-color);\n",
              "    }\n",
              "    40% {\n",
              "      border-color: transparent;\n",
              "      border-right-color: var(--fill-color);\n",
              "      border-top-color: var(--fill-color);\n",
              "    }\n",
              "    60% {\n",
              "      border-color: transparent;\n",
              "      border-right-color: var(--fill-color);\n",
              "    }\n",
              "    80% {\n",
              "      border-color: transparent;\n",
              "      border-right-color: var(--fill-color);\n",
              "      border-bottom-color: var(--fill-color);\n",
              "    }\n",
              "    90% {\n",
              "      border-color: transparent;\n",
              "      border-bottom-color: var(--fill-color);\n",
              "    }\n",
              "  }\n",
              "</style>\n",
              "\n",
              "  <script>\n",
              "    async function quickchart(key) {\n",
              "      const quickchartButtonEl =\n",
              "        document.querySelector('#' + key + ' button');\n",
              "      quickchartButtonEl.disabled = true;  // To prevent multiple clicks.\n",
              "      quickchartButtonEl.classList.add('colab-df-spinner');\n",
              "      try {\n",
              "        const charts = await google.colab.kernel.invokeFunction(\n",
              "            'suggestCharts', [key], {});\n",
              "      } catch (error) {\n",
              "        console.error('Error during call to suggestCharts:', error);\n",
              "      }\n",
              "      quickchartButtonEl.classList.remove('colab-df-spinner');\n",
              "      quickchartButtonEl.classList.add('colab-df-quickchart-complete');\n",
              "    }\n",
              "    (() => {\n",
              "      let quickchartButtonEl =\n",
              "        document.querySelector('#df-d07b7e78-5754-4ac6-9991-fd291066e53f button');\n",
              "      quickchartButtonEl.style.display =\n",
              "        google.colab.kernel.accessAllowed ? 'block' : 'none';\n",
              "    })();\n",
              "  </script>\n",
              "</div>\n",
              "\n",
              "    </div>\n",
              "  </div>\n"
            ],
            "application/vnd.google.colaboratory.intrinsic+json": {
              "type": "dataframe",
              "variable_name": "df_raw_2023",
              "summary": "{\n  \"name\": \"df_raw_2023\",\n  \"rows\": 15136,\n  \"fields\": [\n    {\n      \"column\": \"ID samob\\u00f3jcy\",\n      \"properties\": {\n        \"dtype\": \"string\",\n        \"num_unique_values\": 15134,\n        \"samples\": [\n          138537735,\n          139320393,\n          139252885\n        ],\n        \"semantic_type\": \"\",\n        \"description\": \"\"\n      }\n    },\n    {\n      \"column\": \"Data rejestracji\",\n      \"properties\": {\n        \"dtype\": \"date\",\n        \"min\": \"2023-01-01 00:22:14\",\n        \"max\": \"2023-12-31 23:35:55\",\n        \"num_unique_values\": 15100,\n        \"samples\": [\n          \"2023-12-25 00:15:02\",\n          \"2023-12-07 14:39:58\",\n          \"2023-12-25 18:54:26\"\n        ],\n        \"semantic_type\": \"\",\n        \"description\": \"\"\n      }\n    },\n    {\n      \"column\": \"Przedzia\\u0142 wiekowy\",\n      \"properties\": {\n        \"dtype\": \"category\",\n        \"num_unique_values\": 17,\n        \"samples\": [\n          \"25-29\",\n          \"55-59\",\n          \"50-54\"\n        ],\n        \"semantic_type\": \"\",\n        \"description\": \"\"\n      }\n    },\n    {\n      \"column\": \"P\\u0142e\\u0107\",\n      \"properties\": {\n        \"dtype\": \"category\",\n        \"num_unique_values\": 2,\n        \"samples\": [\n          \"Kobieta\",\n          \"M\\u0119\\u017cczyzna\"\n        ],\n        \"semantic_type\": \"\",\n        \"description\": \"\"\n      }\n    },\n    {\n      \"column\": \"Stan cywilny\",\n      \"properties\": {\n        \"dtype\": \"category\",\n        \"num_unique_values\": 7,\n        \"samples\": [\n          \"Konkubent/konkubina\",\n          \"\\u017bonaty/zam\\u0119\\u017cna\"\n        ],\n        \"semantic_type\": \"\",\n        \"description\": \"\"\n      }\n    },\n    {\n      \"column\": \"Wykszta\\u0142cenie\",\n      \"properties\": {\n        \"dtype\": \"category\",\n        \"num_unique_values\": 8,\n        \"samples\": [\n          \"Podstawowe\",\n          \"Wy\\u017csze\"\n        ],\n        \"semantic_type\": \"\",\n        \"description\": \"\"\n      }\n    },\n    {\n      \"column\": \"Informacje o pracy i nauce\",\n      \"properties\": {\n        \"dtype\": \"category\",\n        \"num_unique_values\": 8,\n        \"samples\": [\n          \"Brak danych/nieustalono\",\n          \"Praca dorywcza\"\n        ],\n        \"semantic_type\": \"\",\n        \"description\": \"\"\n      }\n    },\n    {\n      \"column\": \"\\u0179r\\u00f3d\\u0142o utrzymania\",\n      \"properties\": {\n        \"dtype\": \"category\",\n        \"num_unique_values\": 7,\n        \"samples\": [\n          \"Brak danych/nieustalony\",\n          \"Na utrzymaniu innej osoby\"\n        ],\n        \"semantic_type\": \"\",\n        \"description\": \"\"\n      }\n    },\n    {\n      \"column\": \"Czy samob\\u00f3jstwo zako\\u0144czy\\u0142o si\\u0119 zgonem\",\n      \"properties\": {\n        \"dtype\": \"category\",\n        \"num_unique_values\": 2,\n        \"samples\": [\n          \"T\",\n          \"N\"\n        ],\n        \"semantic_type\": \"\",\n        \"description\": \"\"\n      }\n    },\n    {\n      \"column\": \"Miejsce zamachu\",\n      \"properties\": {\n        \"dtype\": \"category\",\n        \"num_unique_values\": 15,\n        \"samples\": [\n          \"Zak\\u0142ad pracy\",\n          \"Plac\\u00f3wka lecznicza lub sanatoryjna\"\n        ],\n        \"semantic_type\": \"\",\n        \"description\": \"\"\n      }\n    },\n    {\n      \"column\": \"Klasa miejscowo\\u015bci\",\n      \"properties\": {\n        \"dtype\": \"category\",\n        \"num_unique_values\": 7,\n        \"samples\": [\n          \"Wie\\u015b\",\n          \"Miasto o liczbie ludno\\u015bci 20 000 \\u2013 49 999\"\n        ],\n        \"semantic_type\": \"\",\n        \"description\": \"\"\n      }\n    },\n    {\n      \"column\": \"Spos\\u00f3b pope\\u0142nienia\",\n      \"properties\": {\n        \"dtype\": \"category\",\n        \"num_unique_values\": 16,\n        \"samples\": [\n          \"Samookaleczenie powierzchowne\",\n          \"Powieszenie si\\u0119\"\n        ],\n        \"semantic_type\": \"\",\n        \"description\": \"\"\n      }\n    },\n    {\n      \"column\": \"Pow\\u00f3d zamachu *\",\n      \"properties\": {\n        \"dtype\": \"category\",\n        \"num_unique_values\": 19,\n        \"samples\": [\n          \"Inny niewymieniony powy\\u017cej\",\n          \"Pogorszenie lub nag\\u0142a utrata zdrowia\"\n        ],\n        \"semantic_type\": \"\",\n        \"description\": \"\"\n      }\n    },\n    {\n      \"column\": \"Pow\\u00f3d zamachu 2\",\n      \"properties\": {\n        \"dtype\": \"category\",\n        \"num_unique_values\": 17,\n        \"samples\": [\n          \"Nieporozumienie rodzinne/przemoc w rodzinie\",\n          \"Leczony(a) psychiatrycznie\"\n        ],\n        \"semantic_type\": \"\",\n        \"description\": \"\"\n      }\n    },\n    {\n      \"column\": \"Pow\\u00f3d zamachu 3\",\n      \"properties\": {\n        \"dtype\": \"category\",\n        \"num_unique_values\": 11,\n        \"samples\": [\n          \"Problemy w szkole lub pracy\",\n          \"Zaw\\u00f3d mi\\u0142osny\"\n        ],\n        \"semantic_type\": \"\",\n        \"description\": \"\"\n      }\n    },\n    {\n      \"column\": \"Pow\\u00f3d zamachu 4\",\n      \"properties\": {\n        \"dtype\": \"category\",\n        \"num_unique_values\": 6,\n        \"samples\": [\n          \"Trwa\\u0142e kalectwo\",\n          \"Zaw\\u00f3d mi\\u0142osny\"\n        ],\n        \"semantic_type\": \"\",\n        \"description\": \"\"\n      }\n    },\n    {\n      \"column\": \"Stan \\u015bwiadomo\\u015bci *\",\n      \"properties\": {\n        \"dtype\": \"category\",\n        \"num_unique_values\": 13,\n        \"samples\": [\n          \"Pod wp\\u0142ywem alkoholu zast\\u0119pczych \\u015brodk\\u00f3w/substancji (dopalaczy)\",\n          \"Pod wp\\u0142ywem alkoholu i zast\\u0119pczych \\u015brodk\\u00f3w/substancji (dopalaczy)\"\n        ],\n        \"semantic_type\": \"\",\n        \"description\": \"\"\n      }\n    },\n    {\n      \"column\": \"Informacje dotycz\\u0105ce stanu zdrowia *\",\n      \"properties\": {\n        \"dtype\": \"category\",\n        \"num_unique_values\": 19,\n        \"samples\": [\n          \"Brak danych/nieustalono\",\n          \"Trwa\\u0142e kalectwo\"\n        ],\n        \"semantic_type\": \"\",\n        \"description\": \"\"\n      }\n    },\n    {\n      \"column\": \"Informacje dotycz\\u0105ce leczenia z powodu alkoholizmu/narkomanii\",\n      \"properties\": {\n        \"dtype\": \"category\",\n        \"num_unique_values\": 5,\n        \"samples\": [\n          \"Leczony(a) z powodu alkoholizmu\",\n          \"Leczony(a) psychiatrycznie\"\n        ],\n        \"semantic_type\": \"\",\n        \"description\": \"\"\n      }\n    },\n    {\n      \"column\": \"W ci\\u0105gu ostatniego miesi\\u0105ca sprawca zdarzenia mia\\u0142 przynajmniej jeden raz kontakt z *\",\n      \"properties\": {\n        \"dtype\": \"category\",\n        \"num_unique_values\": 7,\n        \"samples\": [\n          \"Brak mo\\u017cliwo\\u015bci ustalenia\",\n          \"Plac\\u00f3wk\\u0105 lecznicz\\u0105\"\n        ],\n        \"semantic_type\": \"\",\n        \"description\": \"\"\n      }\n    }\n  ]\n}"
            }
          },
          "metadata": {},
          "execution_count": 141
        }
      ]
    },
    {
      "cell_type": "markdown",
      "source": [
        "##Zamiana nazw kolumn"
      ],
      "metadata": {
        "id": "074jUdrHIG_v"
      }
    },
    {
      "cell_type": "code",
      "source": [
        "# Zamiana spacji na podkreślenia w nazwach kolumn\n",
        "df_raw_2023.rename(columns=lambda x: x.replace(' ', '_'), inplace=True)\n"
      ],
      "metadata": {
        "id": "RMQV6X2fIG_v"
      },
      "execution_count": 142,
      "outputs": []
    },
    {
      "cell_type": "code",
      "source": [
        "df_raw_2023.rename(columns={'Data_rejestracji': 'Date'}, inplace=True)"
      ],
      "metadata": {
        "id": "1zqeRANaIG_v"
      },
      "execution_count": 143,
      "outputs": []
    },
    {
      "cell_type": "markdown",
      "source": [
        "## Daty"
      ],
      "metadata": {
        "id": "z3cznhoIIG_v"
      }
    },
    {
      "cell_type": "code",
      "source": [
        "# Wyodrębnienie roku i miesiąca\n",
        "df_raw_2023['Date'] = pd.to_datetime(df_raw_2023['Date'])\n",
        "df_raw_2023['DateY'] = df_raw_2023['Date'].dt.strftime('%Y')\n",
        "df_raw_2023['DateM'] = df_raw_2023['Date'].dt.strftime('%m')"
      ],
      "metadata": {
        "id": "NLW1NrRQIG_v"
      },
      "execution_count": 144,
      "outputs": []
    },
    {
      "cell_type": "code",
      "source": [
        "df_raw_2023['DateY'].unique()"
      ],
      "metadata": {
        "colab": {
          "base_uri": "https://localhost:8080/"
        },
        "id": "KTUAkl7xwYHZ",
        "outputId": "5aeddc37-03e8-427c-87bc-bd8c2a3bfe19"
      },
      "execution_count": 145,
      "outputs": [
        {
          "output_type": "execute_result",
          "data": {
            "text/plain": [
              "array(['2023', nan], dtype=object)"
            ]
          },
          "metadata": {},
          "execution_count": 145
        }
      ]
    },
    {
      "cell_type": "code",
      "source": [
        "df_raw_2023['DateM'].unique()"
      ],
      "metadata": {
        "colab": {
          "base_uri": "https://localhost:8080/"
        },
        "id": "ef8vE44QwdvQ",
        "outputId": "89886687-f957-487b-ff86-c1096d0e7c94"
      },
      "execution_count": 146,
      "outputs": [
        {
          "output_type": "execute_result",
          "data": {
            "text/plain": [
              "array(['01', '02', nan, '03', '04', '05', '06', '07', '08', '09', '10',\n",
              "       '11', '12'], dtype=object)"
            ]
          },
          "metadata": {},
          "execution_count": 146
        }
      ]
    },
    {
      "cell_type": "code",
      "source": [
        "# Połączenie roku i miesiąca w formacie MM.YYYY\n",
        "df_raw_2023['Date'] = df_raw_2023['DateM'] + '.' + df_raw_2023['DateY']"
      ],
      "metadata": {
        "id": "gjZPEOw6IG_v"
      },
      "execution_count": 147,
      "outputs": []
    },
    {
      "cell_type": "code",
      "source": [
        "df_raw_2023['Date'].unique()"
      ],
      "metadata": {
        "id": "e4EFtfjgxqVw",
        "outputId": "9f608e81-608e-41b2-f168-bf19410148ac",
        "colab": {
          "base_uri": "https://localhost:8080/"
        }
      },
      "execution_count": 148,
      "outputs": [
        {
          "output_type": "execute_result",
          "data": {
            "text/plain": [
              "array(['01.2023', '02.2023', nan, '03.2023', '04.2023', '05.2023',\n",
              "       '06.2023', '07.2023', '08.2023', '09.2023', '10.2023', '11.2023',\n",
              "       '12.2023'], dtype=object)"
            ]
          },
          "metadata": {},
          "execution_count": 148
        }
      ]
    },
    {
      "cell_type": "markdown",
      "source": [
        "##Mapowanie"
      ],
      "metadata": {
        "id": "e0cGZIf0IG_v"
      }
    },
    {
      "cell_type": "markdown",
      "source": [
        "###Przedział_wiekowy"
      ],
      "metadata": {
        "id": "xdPcT6d3IG_v"
      }
    },
    {
      "cell_type": "code",
      "source": [
        "column = 'Przedział_wiekowy'\n",
        "df_raw_2023.rename(columns={column: 'Age1'}, inplace=True)"
      ],
      "metadata": {
        "id": "Kk4vDXL8IG_v"
      },
      "execution_count": 149,
      "outputs": []
    },
    {
      "cell_type": "code",
      "source": [
        "df_raw_2023['Age1'].unique()"
      ],
      "metadata": {
        "colab": {
          "base_uri": "https://localhost:8080/"
        },
        "id": "RjXm260akSFf",
        "outputId": "c9766ae4-3ca3-4411-f347-51bed71e3a63"
      },
      "execution_count": 150,
      "outputs": [
        {
          "output_type": "execute_result",
          "data": {
            "text/plain": [
              "array(['25-29', '55-59', '13-18', '19-24', '30-34', '50-54', '40-44',\n",
              "       '45-49', '35-39', '65-69', '75-79', '80-84', '60-64', '70-74',\n",
              "       '85+', '7-12', 'Nieustalony wiek', nan], dtype=object)"
            ]
          },
          "metadata": {},
          "execution_count": 150
        }
      ]
    },
    {
      "cell_type": "code",
      "source": [
        "column = 'Age1'\n",
        "mapping = {\n",
        "    \"7-12\": '07-12',\n",
        "    '13-18': '13-18',\n",
        "    '19-24': '19-24',\n",
        "    '25-29': '25-29',\n",
        "    '30-34': '30-34',\n",
        "    '35-39': '35-39',\n",
        "    '40-44': '40-44',\n",
        "    '45-49': '45-49',\n",
        "    '50-54': '50-54',\n",
        "    '55-59': '55-59',\n",
        "    '60-64': '60-64',\n",
        "    '65-69': '65-69',\n",
        "    '70-74': '70-74',\n",
        "    '75-79': '75-79',\n",
        "    '80-84': '80-84',\n",
        "    '85+': '85+',\n",
        "    'Nieustalony wiek': np.nan\n",
        "}\n",
        "\n",
        "df_raw_2023[column] = df_raw_2023[column].map(mapping)\n"
      ],
      "metadata": {
        "id": "_bDcgIl8AKFY"
      },
      "execution_count": 151,
      "outputs": []
    },
    {
      "cell_type": "code",
      "source": [
        "df_raw_2023['Age2'] = df_raw_2023['Age1']"
      ],
      "metadata": {
        "id": "FO_WawuaB6hq"
      },
      "execution_count": 152,
      "outputs": []
    },
    {
      "cell_type": "code",
      "source": [
        "df_raw_2023['Age2'].unique()"
      ],
      "metadata": {
        "colab": {
          "base_uri": "https://localhost:8080/"
        },
        "id": "hPs544N0CJ1j",
        "outputId": "b8185d88-3cb3-45fd-91bb-9c0e7d4114d2"
      },
      "execution_count": 153,
      "outputs": [
        {
          "output_type": "execute_result",
          "data": {
            "text/plain": [
              "array(['25-29', '55-59', '13-18', '19-24', '30-34', '50-54', '40-44',\n",
              "       '45-49', '35-39', '65-69', '75-79', '80-84', '60-64', '70-74',\n",
              "       '85+', '07-12', nan], dtype=object)"
            ]
          },
          "metadata": {},
          "execution_count": 153
        }
      ]
    },
    {
      "cell_type": "code",
      "source": [
        "column = 'Age2'\n",
        "mapping = {\n",
        "    \"07-12\": '00-18',\n",
        "    '13-18': '00-18',\n",
        "    '19-24': '19-34',\n",
        "    '25-29': '19-34',\n",
        "    '30-34': '19-34',\n",
        "    '35-39': '35-64',\n",
        "    '40-44': '35-64',\n",
        "    '45-49': '35-64',\n",
        "    '50-54': '35-64',\n",
        "    '55-59': '35-64',\n",
        "    '60-64': '35-64',\n",
        "    '65-69': '65+',\n",
        "    '70-74': '65+',\n",
        "    '75-79': '65+',\n",
        "    '80-84': '65+',\n",
        "    '85+': '65+'\n",
        "}\n",
        "\n",
        "df_raw_2023[column] = df_raw_2023[column].map(mapping)\n"
      ],
      "metadata": {
        "id": "UKCRY1YwCDyN"
      },
      "execution_count": 154,
      "outputs": []
    },
    {
      "cell_type": "markdown",
      "source": [
        "###Płeć"
      ],
      "metadata": {
        "id": "SgF1OtkUIG_w"
      }
    },
    {
      "cell_type": "code",
      "source": [
        "df_raw_2023['Płeć'].unique()"
      ],
      "metadata": {
        "id": "RRNDUMTXRYSo",
        "outputId": "e2ff1118-6c0e-4314-c27d-9c04f4e17947",
        "colab": {
          "base_uri": "https://localhost:8080/"
        }
      },
      "execution_count": 155,
      "outputs": [
        {
          "output_type": "execute_result",
          "data": {
            "text/plain": [
              "array(['Mężczyzna', 'Kobieta', nan], dtype=object)"
            ]
          },
          "metadata": {},
          "execution_count": 155
        }
      ]
    },
    {
      "cell_type": "code",
      "source": [
        "df_raw_2023.rename(columns={'Płeć': 'Gender'}, inplace=True)"
      ],
      "metadata": {
        "id": "2P2hZ-LMDvlH"
      },
      "execution_count": 156,
      "outputs": []
    },
    {
      "cell_type": "code",
      "source": [
        "column = 'Gender'\n",
        "mapping = {\n",
        "    \"Kobieta\": 'F',\n",
        "    \"Mężczyzna\": 'M'\n",
        "}\n",
        "\n",
        "df_raw_2023[column] = df_raw_2023[column].map(mapping)\n"
      ],
      "metadata": {
        "id": "RUqBhAgxIG_w"
      },
      "execution_count": 157,
      "outputs": []
    },
    {
      "cell_type": "code",
      "source": [
        "df_raw_2023['Gender'].unique()"
      ],
      "metadata": {
        "colab": {
          "base_uri": "https://localhost:8080/"
        },
        "id": "UAYACSY-kVDE",
        "outputId": "d7039711-2980-4e32-aa36-09713d9a9eb2"
      },
      "execution_count": 158,
      "outputs": [
        {
          "output_type": "execute_result",
          "data": {
            "text/plain": [
              "array(['M', 'F', nan], dtype=object)"
            ]
          },
          "metadata": {},
          "execution_count": 158
        }
      ]
    },
    {
      "cell_type": "markdown",
      "source": [
        "###Stan_cywilny"
      ],
      "metadata": {
        "id": "HzDsuD8SIG_w"
      }
    },
    {
      "cell_type": "code",
      "source": [
        "df_raw_2023['Stan_cywilny'].unique()"
      ],
      "metadata": {
        "colab": {
          "base_uri": "https://localhost:8080/"
        },
        "id": "_U66bbENUS0l",
        "outputId": "43b6898b-bbe7-486d-fffb-e78524d75f3d"
      },
      "execution_count": 159,
      "outputs": [
        {
          "output_type": "execute_result",
          "data": {
            "text/plain": [
              "array(['Konkubent/konkubina', 'Żonaty/zamężna', 'Kawaler/panna',\n",
              "       'Brak danych/nieustalony', 'Rozwiedziony/rozwiedziona',\n",
              "       'Wdowiec/wdowa', 'Separowany/separowana', nan], dtype=object)"
            ]
          },
          "metadata": {},
          "execution_count": 159
        }
      ]
    },
    {
      "cell_type": "code",
      "source": [
        "column = 'Stan_cywilny'\n",
        "mapping = {\n",
        "    \"Brak danych/nieustalony\": np.nan,\n",
        "    \"Kawaler/panna\": 'Single ',\n",
        "    \"Konkubent/konkubina\": 'Cohabitant',\n",
        "    \"Żonaty/zamężna\": 'Married',\n",
        "    \"Separowany/separowana\": 'Separated',\n",
        "    \"Rozwiedziony/rozwiedziona\": 'Divorced',\n",
        "    \"Wdowiec/wdowa\": 'Widowed'\n",
        "}\n",
        "\n",
        "df_raw_2023[column] = df_raw_2023[column].map(mapping)\n",
        "df_raw_2023.rename(columns={column: 'Marital'}, inplace=True)\n"
      ],
      "metadata": {
        "id": "IddDlQWJIG_w"
      },
      "execution_count": 160,
      "outputs": []
    },
    {
      "cell_type": "code",
      "source": [
        "df_raw_2023['Marital'].unique()"
      ],
      "metadata": {
        "colab": {
          "base_uri": "https://localhost:8080/"
        },
        "id": "k5YtMAfXkXl1",
        "outputId": "3ae16452-3c17-43db-d39f-3fbe6286078b"
      },
      "execution_count": 161,
      "outputs": [
        {
          "output_type": "execute_result",
          "data": {
            "text/plain": [
              "array(['Cohabitant', 'Married', 'Single ', nan, 'Divorced', 'Widowed',\n",
              "       'Separated'], dtype=object)"
            ]
          },
          "metadata": {},
          "execution_count": 161
        }
      ]
    },
    {
      "cell_type": "markdown",
      "source": [
        "###Wykształcenie"
      ],
      "metadata": {
        "id": "8l7_VjOHIG_w"
      }
    },
    {
      "cell_type": "code",
      "source": [
        "df_raw_2023['Wykształcenie'].unique()"
      ],
      "metadata": {
        "colab": {
          "base_uri": "https://localhost:8080/"
        },
        "id": "5CHk6Tv5Uy-4",
        "outputId": "8b81dd3e-8329-40ab-88b2-165a4f4ede1d"
      },
      "execution_count": 162,
      "outputs": [
        {
          "output_type": "execute_result",
          "data": {
            "text/plain": [
              "array(['Brak danych/nieustalone', 'Podstawowe', 'Średnie',\n",
              "       'Zasadnicze zawodowe', 'Podstawowe niepełne', 'Wyższe',\n",
              "       'Gimnazjalne', 'Policealne', nan], dtype=object)"
            ]
          },
          "metadata": {},
          "execution_count": 162
        }
      ]
    },
    {
      "cell_type": "code",
      "source": [
        "column = 'Wykształcenie'\n",
        "mapping = {\n",
        "    'Brak danych/nieustalone': np.nan,\n",
        "    'Podstawowe niepełne': 'Pre-primary',\n",
        "    'Podstawowe': 'Primary',\n",
        "    'Gimnazjalne': 'Secondary',\n",
        "    'Zasadnicze zawodowe': 'Vocational',\n",
        "    'Średnie': 'Secondary',\n",
        "    'Policealne': 'Secondary',\n",
        "    'Wyższe': 'Higher'\n",
        "}\n",
        "\n",
        "df_raw_2023[column] = df_raw_2023[column].map(mapping)\n",
        "df_raw_2023.rename(columns={column: 'Education'}, inplace=True)\n",
        "\n"
      ],
      "metadata": {
        "id": "FtOuUiy9IG_w"
      },
      "execution_count": 163,
      "outputs": []
    },
    {
      "cell_type": "code",
      "source": [
        "df_raw_2023['Education'].unique()"
      ],
      "metadata": {
        "colab": {
          "base_uri": "https://localhost:8080/"
        },
        "id": "m6rovlTZVUre",
        "outputId": "ad4abc0d-ac18-40e8-bdf2-fb1ad781fff6"
      },
      "execution_count": 164,
      "outputs": [
        {
          "output_type": "execute_result",
          "data": {
            "text/plain": [
              "array([nan, 'Primary', 'Secondary', 'Vocational', 'Pre-primary', 'Higher'],\n",
              "      dtype=object)"
            ]
          },
          "metadata": {},
          "execution_count": 164
        }
      ]
    },
    {
      "cell_type": "markdown",
      "source": [
        "###Informacje_o_pracy_i_nauce"
      ],
      "metadata": {
        "id": "PAM0Pc8SIG_w"
      }
    },
    {
      "cell_type": "code",
      "source": [
        "df_raw_2023['Informacje_o_pracy_i_nauce'].unique()"
      ],
      "metadata": {
        "colab": {
          "base_uri": "https://localhost:8080/"
        },
        "id": "SXAvAC8vkp8S",
        "outputId": "db519f41-e7c6-4503-fc0e-fe4c8c657df5"
      },
      "execution_count": 165,
      "outputs": [
        {
          "output_type": "execute_result",
          "data": {
            "text/plain": [
              "array(['Bezrobotny', 'Brak danych/nieustalono', 'Uczeń', 'Praca stała',\n",
              "       'Rolnik', 'Praca dorywcza', 'Student',\n",
              "       'Pracujący na własny rachunek/samodzielna działalność gospodarcza',\n",
              "       nan], dtype=object)"
            ]
          },
          "metadata": {},
          "execution_count": 165
        }
      ]
    },
    {
      "cell_type": "code",
      "source": [
        "column = 'Informacje_o_pracy_i_nauce'\n",
        "mapping = {\n",
        "    'Brak danych/nieustalono': np.nan,\n",
        "    'Uczeń': 'Student',\n",
        "    'Student': 'Student',\n",
        "    'Rolnik': 'Agriculturalist',\n",
        "    'Pracujący na własny rachunek/samodzielna działalność gospodarcza': 'Employed',\n",
        "    'Praca stała': 'Employed',\n",
        "    'Praca dorywcza': 'Employed',\n",
        "    'Bezrobotny': 'Unemployed'\n",
        "}\n",
        "\n",
        "df_raw_2023[column] = df_raw_2023[column].map(mapping)\n",
        "df_raw_2023.rename(columns={column: 'WorkInfo'}, inplace=True)"
      ],
      "metadata": {
        "id": "Npx2ORiSIG_w"
      },
      "execution_count": 166,
      "outputs": []
    },
    {
      "cell_type": "code",
      "source": [
        "df_raw_2023['WorkInfo'].unique()"
      ],
      "metadata": {
        "colab": {
          "base_uri": "https://localhost:8080/"
        },
        "id": "HtvE3Qn0kt6t",
        "outputId": "c21d0be3-5a30-493c-f3ea-e54ae6bd5eb7"
      },
      "execution_count": 167,
      "outputs": [
        {
          "output_type": "execute_result",
          "data": {
            "text/plain": [
              "array(['Unemployed', nan, 'Student', 'Employed', 'Agriculturalist'],\n",
              "      dtype=object)"
            ]
          },
          "metadata": {},
          "execution_count": 167
        }
      ]
    },
    {
      "cell_type": "markdown",
      "source": [
        "###Źródło_utrzymania"
      ],
      "metadata": {
        "id": "M2Jl6XJdIG_w"
      }
    },
    {
      "cell_type": "code",
      "source": [
        "df_raw_2023['Źródło_utrzymania'].unique()"
      ],
      "metadata": {
        "colab": {
          "base_uri": "https://localhost:8080/"
        },
        "id": "CSdqNxJXWDkX",
        "outputId": "7ac1001d-512f-49b8-967a-2bcd7d2c6a8c"
      },
      "execution_count": 168,
      "outputs": [
        {
          "output_type": "execute_result",
          "data": {
            "text/plain": [
              "array(['Brak danych/nieustalony', 'Na utrzymaniu innej osoby', 'Praca',\n",
              "       'Emerytura', 'Nie ma stałego źródła utrzymania', 'Renta',\n",
              "       'Zasiłek/alimenty', nan], dtype=object)"
            ]
          },
          "metadata": {},
          "execution_count": 168
        }
      ]
    },
    {
      "cell_type": "code",
      "source": [
        "column = 'Źródło_utrzymania'\n",
        "mapping = {\n",
        "    'Brak danych/nieustalony': np.nan,\n",
        "    'Na utrzymaniu innej osoby': 'Dependent',\n",
        "    'Praca': 'Steady',\n",
        "    'Emerytura': 'Benefits',\n",
        "    'Renta': 'Benefits',\n",
        "    'Zasiłek/alimenty': 'Benefits',\n",
        "    'Nie ma stałego źródła utrzymania': 'NoSteady'\n",
        "}\n",
        "\n",
        "df_raw_2023[column] = df_raw_2023[column].map(mapping)\n",
        "df_raw_2023.rename(columns={column: 'Income'}, inplace=True)"
      ],
      "metadata": {
        "id": "y5Imo6s1IG_w"
      },
      "execution_count": 169,
      "outputs": []
    },
    {
      "cell_type": "code",
      "source": [
        "df_raw_2023['Income'].unique()"
      ],
      "metadata": {
        "colab": {
          "base_uri": "https://localhost:8080/"
        },
        "id": "NKyPy1vmk0le",
        "outputId": "55fecd3a-373d-413d-e5cd-5a91dbd4c21a"
      },
      "execution_count": 170,
      "outputs": [
        {
          "output_type": "execute_result",
          "data": {
            "text/plain": [
              "array([nan, 'Dependent', 'Steady', 'Benefits', 'NoSteady'], dtype=object)"
            ]
          },
          "metadata": {},
          "execution_count": 170
        }
      ]
    },
    {
      "cell_type": "markdown",
      "source": [
        "###Czy_samobójstwo_zakończyło_się_zgonem"
      ],
      "metadata": {
        "id": "KnCUubyEIG_w"
      }
    },
    {
      "cell_type": "code",
      "source": [
        "df_raw_2023['Czy_samobójstwo_zakończyło_się_zgonem'].unique()"
      ],
      "metadata": {
        "colab": {
          "base_uri": "https://localhost:8080/"
        },
        "id": "JJiUDk4NWuC0",
        "outputId": "ef9d7de5-cc41-4dcd-94c5-368abe3c739b"
      },
      "execution_count": 171,
      "outputs": [
        {
          "output_type": "execute_result",
          "data": {
            "text/plain": [
              "array(['N', 'T', nan], dtype=object)"
            ]
          },
          "metadata": {},
          "execution_count": 171
        }
      ]
    },
    {
      "cell_type": "code",
      "source": [
        "column = 'Czy_samobójstwo_zakończyło_się_zgonem'\n",
        "\n",
        "mapping = {\n",
        "    'T': 1,\n",
        "    'N': 0\n",
        "}\n",
        "df_raw_2023[column] = df_raw_2023[column].map(mapping)\n",
        "df_raw_2023.rename(columns={column: 'Fatal'}, inplace=True)"
      ],
      "metadata": {
        "id": "yPC-C3PxIG_x"
      },
      "execution_count": 172,
      "outputs": []
    },
    {
      "cell_type": "code",
      "source": [
        "df_raw_2023['Fatal'].unique()"
      ],
      "metadata": {
        "colab": {
          "base_uri": "https://localhost:8080/"
        },
        "id": "8PXEMAHQk8od",
        "outputId": "17aa071b-505e-482c-9947-6b8b982e8f85"
      },
      "execution_count": 173,
      "outputs": [
        {
          "output_type": "execute_result",
          "data": {
            "text/plain": [
              "array([ 0.,  1., nan])"
            ]
          },
          "metadata": {},
          "execution_count": 173
        }
      ]
    },
    {
      "cell_type": "markdown",
      "source": [
        "###Miejsce_zamachu"
      ],
      "metadata": {
        "id": "KpzjZbZWIG_x"
      }
    },
    {
      "cell_type": "code",
      "source": [
        "df_raw_2023['Miejsce_zamachu'].unique()"
      ],
      "metadata": {
        "colab": {
          "base_uri": "https://localhost:8080/"
        },
        "id": "kkJnwiyhXD9O",
        "outputId": "56e0c517-eecb-45d7-bc72-4d4b8de43eb3"
      },
      "execution_count": 174,
      "outputs": [
        {
          "output_type": "execute_result",
          "data": {
            "text/plain": [
              "array(['Mieszkanie/dom', 'Rzeka/jezioro/inny zbiornik wodny',\n",
              "       'Zabudowania gospodarcze', 'Garaż/piwnica/strych',\n",
              "       'Droga/ulica/chodnik', 'Teren kolei/tory', 'Park, las', 'Inne',\n",
              "       'Szkoła/uczelnia', 'Zakład pracy',\n",
              "       'Placówka wychowawczo-opiekuńcza',\n",
              "       'Placówka lecznicza lub sanatoryjna', 'Miejsce prawnej izolacji',\n",
              "       'Obiekt policyjny', 'Obiekt wojskowy', nan], dtype=object)"
            ]
          },
          "metadata": {},
          "execution_count": 174
        }
      ]
    },
    {
      "cell_type": "code",
      "source": [
        "column = 'Miejsce_zamachu'\n",
        "mapping = {\n",
        "    'Droga/ulica/chodnik': 'Road',\n",
        "    'Zabudowania gospodarcze': 'UtilitySpaces',\n",
        "    'Mieszkanie/dom': 'House',\n",
        "    'Teren kolei/tory': 'Railway',\n",
        "    'Park, las': 'Forest',\n",
        "    'Garaż/piwnica/strych': 'House',\n",
        "    'Rzeka/jezioro/inny zbiornik wodny': 'WaterRes',\n",
        "    'Zakład pracy': 'Work',\n",
        "    'Placówka lecznicza lub sanatoryjna': 'Institution',\n",
        "    'Miejsce prawnej izolacji': 'Isolation',\n",
        "    'Obiekt wojskowy': 'PoliceArmy',\n",
        "    'Placówka wychowawczo-opiekuńcza': 'Institution',\n",
        "    'Szkoła/uczelnia': 'School',\n",
        "    'Obiekt policyjny': 'PoliceArmy',\n",
        "    'Inne': 'Other'\n",
        "}\n",
        "\n",
        "df_raw_2023[column] = df_raw_2023[column].map(mapping)\n",
        "df_raw_2023.rename(columns={column: 'Place'}, inplace=True)\n"
      ],
      "metadata": {
        "id": "5pBLHw0PIG_x"
      },
      "execution_count": 175,
      "outputs": []
    },
    {
      "cell_type": "code",
      "source": [
        "df_raw_2023['Place'].unique()"
      ],
      "metadata": {
        "colab": {
          "base_uri": "https://localhost:8080/"
        },
        "id": "_OKGNKUAlBi5",
        "outputId": "4a2cbd14-c2ad-4834-d937-4fce7b6f12f8"
      },
      "execution_count": 176,
      "outputs": [
        {
          "output_type": "execute_result",
          "data": {
            "text/plain": [
              "array(['House', 'WaterRes', 'UtilitySpaces', 'Road', 'Railway', 'Forest',\n",
              "       'Other', 'School', 'Work', 'Institution', 'Isolation',\n",
              "       'PoliceArmy', nan], dtype=object)"
            ]
          },
          "metadata": {},
          "execution_count": 176
        }
      ]
    },
    {
      "cell_type": "markdown",
      "source": [
        "###Sposób_popełnienia"
      ],
      "metadata": {
        "id": "OlDEM5sHIG_x"
      }
    },
    {
      "cell_type": "code",
      "source": [
        "df_raw_2023['Sposób_popełnienia'].unique()"
      ],
      "metadata": {
        "colab": {
          "base_uri": "https://localhost:8080/"
        },
        "id": "GSU0EjcNYQnm",
        "outputId": "789130ba-5c4f-4786-e72d-53bff1d3723f"
      },
      "execution_count": 177,
      "outputs": [
        {
          "output_type": "execute_result",
          "data": {
            "text/plain": [
              "array(['Samookaleczenie powierzchowne', 'Powieszenie się',\n",
              "       'Zażycie innych leków',\n",
              "       'Zażycie środków nasennych/leków psychotropowych',\n",
              "       'Uszkodzenie układu krwionośnego', 'Inny',\n",
              "       'Utonięcie/utopienie się', 'Rzucenie się pod pojazd w ruchu',\n",
              "       'Uduszenie się', 'Rzucenie się z wysokości',\n",
              "       'Zastrzelenie się/użycie broni palnej', 'Zatrucie gazem/spalinami',\n",
              "       'Samopodpalenie', 'Zatrucie środkami chemicznymi/toksycznymi',\n",
              "       'Zatrucie środkami odurzającymi', 'Zatrucie dopalaczami', nan],\n",
              "      dtype=object)"
            ]
          },
          "metadata": {},
          "execution_count": 177
        }
      ]
    },
    {
      "cell_type": "code",
      "source": [
        "column = 'Sposób_popełnienia'\n",
        "mapping = {\n",
        "    'Rzucenie się pod pojazd w ruchu': 'Vehicle',\n",
        "    'Rzucenie się z wysokości': 'Jumping',\n",
        "    'Powieszenie się': 'Hanging',\n",
        "    'Uszkodzenie układu krwionośnego': 'Self-harm',\n",
        "    'Zastrzelenie się/użycie broni palnej': 'Schooting',\n",
        "    'Samookaleczenie powierzchowne': 'Self-harm',\n",
        "    'Zażycie środków nasennych/leków psychotropowych': 'Drugs',\n",
        "    'Zatrucie gazem/spalinami': 'Gas',\n",
        "    'Zażycie innych leków': 'Drugs',\n",
        "    'Zatrucie środkami chemicznymi/toksycznymi': 'Poisoning',\n",
        "    'Zatrucie środkami odurzającymi': 'Drugs',\n",
        "    'Zatrucie dopalaczami': 'Drugs',\n",
        "    'Utonięcie/utopienie się': 'Drowning',\n",
        "    'Samopodpalenie': 'Self-harm',\n",
        "    'Uduszenie się': 'Other',\n",
        "    'Inny': 'Other'\n",
        "}\n",
        "\n",
        "df_raw_2023[column] = df_raw_2023[column].map(mapping)\n",
        "df_raw_2023.rename(columns={column: 'Method'}, inplace=True)"
      ],
      "metadata": {
        "id": "Ew-fvAqcIG_x"
      },
      "execution_count": 178,
      "outputs": []
    },
    {
      "cell_type": "code",
      "source": [
        "df_raw_2023['Method'].unique()"
      ],
      "metadata": {
        "colab": {
          "base_uri": "https://localhost:8080/"
        },
        "id": "8mnNa3AqlGKq",
        "outputId": "67e0ef9a-5e18-4a65-f154-b19507fd824d"
      },
      "execution_count": 179,
      "outputs": [
        {
          "output_type": "execute_result",
          "data": {
            "text/plain": [
              "array(['Self-harm', 'Hanging', 'Drugs', 'Other', 'Drowning', 'Vehicle',\n",
              "       'Jumping', 'Schooting', 'Gas', 'Poisoning', nan], dtype=object)"
            ]
          },
          "metadata": {},
          "execution_count": 179
        }
      ]
    },
    {
      "cell_type": "markdown",
      "source": [
        "###Powód_zamachu"
      ],
      "metadata": {
        "id": "jDB1mAzaIG_x"
      }
    },
    {
      "cell_type": "code",
      "source": [
        "list(set(df_raw_2023['Powód_zamachu_*'].unique()) | set(df_raw_2023['Powód_zamachu_2'].unique()) | set(df_raw_2023['Powód_zamachu_3'].unique()) | set(df_raw_2023['Powód_zamachu_4'].unique()))"
      ],
      "metadata": {
        "id": "OJ47Jy9hTxak",
        "outputId": "9e8e4e85-df96-486f-f6f7-b7604a28272d",
        "colab": {
          "base_uri": "https://localhost:8080/"
        }
      },
      "execution_count": 180,
      "outputs": [
        {
          "output_type": "execute_result",
          "data": {
            "text/plain": [
              "['Trwałe kalectwo',\n",
              " 'Dokonanie przestępstwa lub wykroczenia',\n",
              " 'Konflikt z osobami spoza rodziny',\n",
              " 'Nagła utrata źródła utrzymania',\n",
              " 'Zawód miłosny',\n",
              " 'Leczony(a) psychiatrycznie',\n",
              " 'Inny niewymieniony powyżej',\n",
              " 'Choroba psychiczna/zaburzenia psychiczne',\n",
              " 'Choroba fizyczna',\n",
              " 'Niepożądana ciąża',\n",
              " 'Problemy w szkole lub pracy',\n",
              " nan,\n",
              " 'Nieporozumienie rodzinne/przemoc w rodzinie',\n",
              " 'Pogorszenie lub nagła utrata zdrowia',\n",
              " 'Zagrożenie lub utrata miejsca zamieszkania',\n",
              " 'Nieustalony',\n",
              " 'Złe warunki ekonomiczne/długi',\n",
              " 'Nosiciel wirusa HIV, chory na AIDS',\n",
              " 'Mobbing, cybermobbing, znęcanie',\n",
              " 'Śmierć bliskiej osoby']"
            ]
          },
          "metadata": {},
          "execution_count": 180
        }
      ]
    },
    {
      "cell_type": "code",
      "source": [
        "column = 'Powód_zamachu_*'\n",
        "mapping = {\n",
        "    'Nieustalony': np.nan,\n",
        "    'Zawód miłosny': 'HeartBreak',\n",
        "    'Leczony(a) psychiatrycznie': 'MentalHealth',\n",
        "    'Nieporozumienie rodzinne/przemoc w rodzinie': 'FamilyConflict',\n",
        "    'Nosiciel wirusa HIV, chory na AIDS': 'HealthLoss',\n",
        "    'Nagła utrata źródła utrzymania': 'Finances',\n",
        "    'Złe warunki ekonomiczne/długi': 'Finances',\n",
        "    'Choroba psychiczna/zaburzenia psychiczne': 'MentalHealth',\n",
        "    'Problemy w szkole lub pracy': 'SchoolWork',\n",
        "    'Śmierć bliskiej osoby': 'CloseDeath',\n",
        "    'Dokonanie przestępstwa lub wykroczenia': 'Crime',\n",
        "    'Trwałe kalectwo': 'Disability',\n",
        "    'Niepożądana ciąża': 'Other',\n",
        "    'Choroba fizyczna': 'HealthLoss',\n",
        "    'Pogorszenie lub nagła utrata zdrowia': 'HealthLoss',\n",
        "    'Konflikt z osobami spoza rodziny': 'SchoolWork',\n",
        "    'Zagrożenie lub utrata miejsca zamieszkania': 'Finances',\n",
        "    'Mobbing, cybermobbing, znęcanie': 'SchoolWork',\n",
        "    'Inny niewymieniony powyżej': 'Other'\n",
        "}\n",
        "\n",
        "df_raw_2023[column] = df_raw_2023[column].map(mapping)\n",
        "df_raw_2023.rename(columns={column: 'Context'}, inplace=True)"
      ],
      "metadata": {
        "id": "0k838_vDIG_x"
      },
      "execution_count": 181,
      "outputs": []
    },
    {
      "cell_type": "markdown",
      "source": [
        "###Powód_zamachu_2"
      ],
      "metadata": {
        "id": "PKPu-QhZIG_x"
      }
    },
    {
      "cell_type": "code",
      "source": [
        "column = 'Powód_zamachu_2'\n",
        "mapping = {\n",
        "    'Nieustalony': np.nan,\n",
        "    'Zawód miłosny': 'HeartBreak',\n",
        "    'Leczony(a) psychiatrycznie': 'MentalHealth',\n",
        "    'Nieporozumienie rodzinne/przemoc w rodzinie': 'FamilyConflict',\n",
        "    'Nosiciel wirusa HIV, chory na AIDS': 'HealthLoss',\n",
        "    'Nagła utrata źródła utrzymania': 'Finances',\n",
        "    'Złe warunki ekonomiczne/długi': 'Finances',\n",
        "    'Choroba psychiczna/zaburzenia psychiczne': 'MentalHealth',\n",
        "    'Problemy w szkole lub pracy': 'SchoolWork',\n",
        "    'Śmierć bliskiej osoby': 'CloseDeath',\n",
        "    'Dokonanie przestępstwa lub wykroczenia': 'Crime',\n",
        "    'Trwałe kalectwo': 'Disability',\n",
        "    'Niepożądana ciąża': 'Other',\n",
        "    'Choroba fizyczna': 'HealthLoss',\n",
        "    'Pogorszenie lub nagła utrata zdrowia': 'HealthLoss',\n",
        "    'Konflikt z osobami spoza rodziny': 'SchoolWork',\n",
        "    'Zagrożenie lub utrata miejsca zamieszkania': 'Finances',\n",
        "    'Mobbing, cybermobbing, znęcanie': 'SchoolWork',\n",
        "    'Inny niewymieniony powyżej': 'Other'\n",
        "}\n",
        "\n",
        "df_raw_2023[column] = df_raw_2023[column].map(mapping)\n",
        "df_raw_2023.rename(columns={column: 'Context2'}, inplace=True)"
      ],
      "metadata": {
        "id": "ksbGzo_ZS0RN"
      },
      "execution_count": 182,
      "outputs": []
    },
    {
      "cell_type": "markdown",
      "source": [
        "###Powód_zamachu_3"
      ],
      "metadata": {
        "id": "wFKEZTMbIG_y"
      }
    },
    {
      "cell_type": "code",
      "source": [
        "column = 'Powód_zamachu_3'\n",
        "mapping = {\n",
        "    'Nieustalony': np.nan,\n",
        "    'Zawód miłosny': 'HeartBreak',\n",
        "    'Leczony(a) psychiatrycznie': 'MentalHealth',\n",
        "    'Nieporozumienie rodzinne/przemoc w rodzinie': 'FamilyConflict',\n",
        "    'Nosiciel wirusa HIV, chory na AIDS': 'HealthLoss',\n",
        "    'Nagła utrata źródła utrzymania': 'Finances',\n",
        "    'Złe warunki ekonomiczne/długi': 'Finances',\n",
        "    'Choroba psychiczna/zaburzenia psychiczne': 'MentalHealth',\n",
        "    'Problemy w szkole lub pracy': 'SchoolWork',\n",
        "    'Śmierć bliskiej osoby': 'CloseDeath',\n",
        "    'Dokonanie przestępstwa lub wykroczenia': 'Crime',\n",
        "    'Trwałe kalectwo': 'Disability',\n",
        "    'Niepożądana ciąża': 'Other',\n",
        "    'Choroba fizyczna': 'HealthLoss',\n",
        "    'Pogorszenie lub nagła utrata zdrowia': 'HealthLoss',\n",
        "    'Konflikt z osobami spoza rodziny': 'SchoolWork',\n",
        "    'Zagrożenie lub utrata miejsca zamieszkania': 'Finances',\n",
        "    'Mobbing, cybermobbing, znęcanie': 'SchoolWork',\n",
        "    'Inny niewymieniony powyżej': 'Other'\n",
        "}\n",
        "\n",
        "df_raw_2023[column] = df_raw_2023[column].map(mapping)\n",
        "df_raw_2023.rename(columns={column: 'Context3'}, inplace=True)"
      ],
      "metadata": {
        "id": "fFnnrbdpTFwE"
      },
      "execution_count": 183,
      "outputs": []
    },
    {
      "cell_type": "markdown",
      "source": [
        "###Powód_zamachu_4"
      ],
      "metadata": {
        "id": "5T3z-61lIG_y"
      }
    },
    {
      "cell_type": "code",
      "source": [
        "column = 'Powód_zamachu_4'\n",
        "mapping = {\n",
        "    'Nieustalony': np.nan,\n",
        "    'Zawód miłosny': 'HeartBreak',\n",
        "    'Leczony(a) psychiatrycznie': 'MentalHealth',\n",
        "    'Nieporozumienie rodzinne/przemoc w rodzinie': 'FamilyConflict',\n",
        "    'Nosiciel wirusa HIV, chory na AIDS': 'HealthLoss',\n",
        "    'Nagła utrata źródła utrzymania': 'Finances',\n",
        "    'Złe warunki ekonomiczne/długi': 'Finances',\n",
        "    'Choroba psychiczna/zaburzenia psychiczne': 'MentalHealth',\n",
        "    'Problemy w szkole lub pracy': 'SchoolWork',\n",
        "    'Śmierć bliskiej osoby': 'CloseDeath',\n",
        "    'Dokonanie przestępstwa lub wykroczenia': 'Crime',\n",
        "    'Trwałe kalectwo': 'Disability',\n",
        "    'Niepożądana ciąża': 'Other',\n",
        "    'Choroba fizyczna': 'HealthLoss',\n",
        "    'Pogorszenie lub nagła utrata zdrowia': 'HealthLoss',\n",
        "    'Konflikt z osobami spoza rodziny': 'SchoolWork',\n",
        "    'Zagrożenie lub utrata miejsca zamieszkania': 'Finances',\n",
        "    'Mobbing, cybermobbing, znęcanie': 'SchoolWork',\n",
        "    'Inny niewymieniony powyżej': 'Other'\n",
        "}\n",
        "\n",
        "df_raw_2023[column] = df_raw_2023[column].map(mapping)\n",
        "df_raw_2023.rename(columns={column: 'Context4'}, inplace=True)"
      ],
      "metadata": {
        "id": "tqX-ZIP_TQ3r"
      },
      "execution_count": 184,
      "outputs": []
    },
    {
      "cell_type": "code",
      "source": [
        "list(set(df_raw_2023['Context'].unique()) | set(df_raw_2023['Context2'].unique()) | set(df_raw_2023['Context3'].unique()) | set(df_raw_2023['Context4'].unique()))"
      ],
      "metadata": {
        "colab": {
          "base_uri": "https://localhost:8080/"
        },
        "id": "p2F1Vi57lQ5U",
        "outputId": "40912cd8-bc18-4257-df2f-e646db41f918"
      },
      "execution_count": 185,
      "outputs": [
        {
          "output_type": "execute_result",
          "data": {
            "text/plain": [
              "['CloseDeath',\n",
              " 'Finances',\n",
              " nan,\n",
              " 'FamilyConflict',\n",
              " 'Disability',\n",
              " 'Crime',\n",
              " 'SchoolWork',\n",
              " 'MentalHealth',\n",
              " 'Other',\n",
              " 'HeartBreak',\n",
              " 'HealthLoss']"
            ]
          },
          "metadata": {},
          "execution_count": 185
        }
      ]
    },
    {
      "cell_type": "markdown",
      "source": [
        "###Stan_świadomości"
      ],
      "metadata": {
        "id": "b2nfVPzoIG_y"
      }
    },
    {
      "cell_type": "code",
      "source": [
        "df_raw_2023['Stan_świadomości_*'].unique()"
      ],
      "metadata": {
        "colab": {
          "base_uri": "https://localhost:8080/"
        },
        "id": "YAB553vJXJKU",
        "outputId": "c7ccac1e-2cbc-4cba-b93f-a7e0afb3b256"
      },
      "execution_count": 186,
      "outputs": [
        {
          "output_type": "execute_result",
          "data": {
            "text/plain": [
              "array(['Pod wpływem alkoholu', 'Brak danych/nieustalony', 'Trzeźwy(a)',\n",
              "       'Pod wpływem leków', 'Pod wpływem alkoholu i środków odurzających',\n",
              "       'Pod wpływem alkoholu i leków', 'Pod wpływem środków odurzających',\n",
              "       'Pod wpływem alkoholu, leków i środków odurzających',\n",
              "       'Pod wpływem zastępczych środków/substancji (dopalaczy)',\n",
              "       'Pod wpływem alkoholu i zastępczych środków/substancji (dopalaczy)',\n",
              "       'Pod wpływem leków i środków odurzających',\n",
              "       'Pod wpływem alkoholu zastępczych środków/substancji (dopalaczy)',\n",
              "       'Pod wpływem leków i srodków odurzających', nan], dtype=object)"
            ]
          },
          "metadata": {},
          "execution_count": 186
        }
      ]
    },
    {
      "cell_type": "code",
      "source": [
        "column = 'Stan_świadomości_*'\n",
        "mapping = {\n",
        "    'Brak danych/nieustalony': np.nan,\n",
        "    'Trzeźwy(a)': 'Sober',\n",
        "    'Pod wpływem alkoholu': 'Alco',\n",
        "    'Pod wpływem zastępczych środków/substancji (dopalaczy)': 'OtherSub',\n",
        "    'Pod wpływem leków': 'OtherSub',\n",
        "    'Pod wpływem środków odurzających': 'OtherSub',\n",
        "    'Pod wpływem alkoholu i zastępczych środków/substancji (dopalaczy)': 'Alco&OtherSub',\n",
        "    'Pod wpływem alkoholu zastępczych środków/substancji (dopalaczy)': 'Alco&OtherSub',\n",
        "    'Pod wpływem alkoholu i leków': 'Alco&OtherSub',\n",
        "    'Pod wpływem alkoholu i środków odurzających': 'Alco&OtherSub',\n",
        "    'Pod wpływem leków i środków odurzających': 'OtherSub',\n",
        "    'Pod wpływem alkoholu, leków i środków odurzających': 'Alco&OtherSub'\n",
        "}\n",
        "\n",
        "df_raw_2023[column] = df_raw_2023[column].map(mapping)\n",
        "df_raw_2023.rename(columns={column: 'Substance'}, inplace=True)"
      ],
      "metadata": {
        "id": "sffXG4U3IG_y"
      },
      "execution_count": 187,
      "outputs": []
    },
    {
      "cell_type": "code",
      "source": [
        "df_raw_2023['Substance'].unique()"
      ],
      "metadata": {
        "outputId": "d103d4c1-4272-4d9c-c7fb-02b395539a45",
        "colab": {
          "base_uri": "https://localhost:8080/"
        },
        "id": "eyD_vM0Lalus"
      },
      "execution_count": 188,
      "outputs": [
        {
          "output_type": "execute_result",
          "data": {
            "text/plain": [
              "array(['Alco', nan, 'Sober', 'OtherSub', 'Alco&OtherSub'], dtype=object)"
            ]
          },
          "metadata": {},
          "execution_count": 188
        }
      ]
    },
    {
      "cell_type": "markdown",
      "source": [
        "###Informacje_dotyczące_leczenia_z_powodu_alkoholizmu/narkomanii"
      ],
      "metadata": {
        "id": "ScqLK2vRIG_y"
      }
    },
    {
      "cell_type": "code",
      "source": [
        "df_raw_2023['Informacje_dotyczące_leczenia_z_powodu_alkoholizmu/narkomanii'].unique()"
      ],
      "metadata": {
        "id": "twcza4erbmIR",
        "outputId": "18cc16ad-5e5d-4e8a-d981-5569f594dc8a",
        "colab": {
          "base_uri": "https://localhost:8080/"
        }
      },
      "execution_count": 189,
      "outputs": [
        {
          "output_type": "execute_result",
          "data": {
            "text/plain": [
              "array([nan, 'Nadużywał(a) alkoholu', 'Leczony(a) z powodu alkoholizmu',\n",
              "       'Leczony(a) z powodu narkomanii',\n",
              "       'Leczony(a) z powodu alkoholizmu i narkomanii',\n",
              "       'Leczony(a) psychiatrycznie'], dtype=object)"
            ]
          },
          "metadata": {},
          "execution_count": 189
        }
      ]
    },
    {
      "cell_type": "code",
      "source": [
        "column = 'Informacje_dotyczące_leczenia_z_powodu_alkoholizmu/narkomanii'\n",
        "mapping = {\n",
        "    'Leczony(a) psychiatrycznie': np.nan,\n",
        "    'Nadużywał(a) alkoholu': 'Alco',\n",
        "    'Leczony(a) z powodu alkoholizmu': 'Alco',\n",
        "    'Leczony(a) z powodu narkomanii': 'OtherSub',\n",
        "    'Leczony(a) z powodu alkoholizmu i narkomanii': 'Alco&OtherSub'\n",
        "}\n",
        "\n",
        "df_raw_2023[column] = df_raw_2023[column].map(mapping)\n",
        "df_raw_2023.rename(columns={column: 'AbuseInfo'}, inplace=True)"
      ],
      "metadata": {
        "id": "WV1FpVNtIG_y"
      },
      "execution_count": 190,
      "outputs": []
    },
    {
      "cell_type": "code",
      "source": [
        "df_raw_2023['AbuseInfo'].unique()"
      ],
      "metadata": {
        "id": "WOQR0ZlHcIps",
        "outputId": "1ae3ba8c-b54d-471f-cee1-f75bde239de5",
        "colab": {
          "base_uri": "https://localhost:8080/"
        }
      },
      "execution_count": 191,
      "outputs": [
        {
          "output_type": "execute_result",
          "data": {
            "text/plain": [
              "array([nan, 'Alco', 'OtherSub', 'Alco&OtherSub'], dtype=object)"
            ]
          },
          "metadata": {},
          "execution_count": 191
        }
      ]
    },
    {
      "cell_type": "code",
      "source": [
        "df_raw_2023['Informacje_dotyczące_stanu_zdrowia_*'].unique()"
      ],
      "metadata": {
        "colab": {
          "base_uri": "https://localhost:8080/"
        },
        "id": "ZT5ZVmuvYQQo",
        "outputId": "68ae24e8-0874-45d5-e986-d1a48c52658c"
      },
      "execution_count": 192,
      "outputs": [
        {
          "output_type": "execute_result",
          "data": {
            "text/plain": [
              "array(['Brak danych/nieustalono', 'Nadużywał(a) alkoholu',\n",
              "       'Leczony(a) psychiatrycznie', 'Leczony(a) z powodu alkoholizmu',\n",
              "       'Choroba fizyczna', 'Trwałe kalectwo',\n",
              "       'Zatrzymany(a) w izbie wytrzeźwień', 'Używał narkotyków',\n",
              "       'Nadużywał(a) alkoholu i narkotyków',\n",
              "       'Nadużywał(a) alkoholu i nakrotyków',\n",
              "       'Leczony(a) z powodu narkomanii', 'Używał dopalaczy i narkotyków',\n",
              "       'Nadużywał(a) alkoholu i narkotykó',\n",
              "       'Nadużywał(a) alkoholu, dopalaczy i narkotyków',\n",
              "       'Nadużywał(a) alkoholu, narkotyków i dopalaczy',\n",
              "       'Nadużywał(a) alkoholu i dopalaczy', 'Używał dopalaczy',\n",
              "       'Nadużywał(a) alkoholu, dopalaczy, narkotyków',\n",
              "       'Leczony(a) psychiatrycznie, nadużywał(a) alkoholu', nan],\n",
              "      dtype=object)"
            ]
          },
          "metadata": {},
          "execution_count": 192
        }
      ]
    },
    {
      "cell_type": "code",
      "source": [
        "column = 'Informacje_dotyczące_stanu_zdrowia_*'\n",
        "mapping = {\n",
        "    'Brak danych/nieustalono': np.nan,\n",
        "    'Nadużywał(a) alkoholu': 'Alco',\n",
        "    'Leczony(a) psychiatrycznie': np.nan,\n",
        "    'Leczony(a) z powodu alkoholizmu': 'Alco',\n",
        "    'Choroba fizyczna': np.nan,\n",
        "    'Trwałe kalectwo': np.nan,\n",
        "    'Zatrzymany(a) w izbie wytrzeźwień': 'Alco',\n",
        "    'Nadużywał(a) alkoholu i narkotyków': 'Alco&OtherSub',\n",
        "    'Nadużywał(a) alkoholu i nakrotyków': 'Alco&OtherSub',\n",
        "    'Leczony(a) z powodu narkomanii': 'OtherSub',\n",
        "    'Używał dopalaczy i narkotyków': 'OtherSub',\n",
        "    'Nadużywał(a) alkoholu i narkotykó': 'OtherSub',\n",
        "    'Nadużywał(a) alkoholu, dopalaczy i narkotyków': 'Alco&OtherSub',\n",
        "    'Nadużywał(a) alkoholu, narkotyków i dopalaczy': 'Alco&OtherSub',\n",
        "    'Nadużywał(a) alkoholu i dopalaczy': 'Alco&OtherSub',\n",
        "    'Używał dopalaczy': 'OtherSub',\n",
        "    'Nadużywał(a) alkoholu, dopalaczy, narkotyków': 'Alco&OtherSub',\n",
        "    'Leczony(a) psychiatrycznie, nadużywał(a) alkoholu': 'Alco',\n",
        "}\n",
        "\n",
        "df_raw_2023[column] = df_raw_2023[column].map(mapping)"
      ],
      "metadata": {
        "id": "FqFRfBgtZAwP"
      },
      "execution_count": 193,
      "outputs": []
    },
    {
      "cell_type": "code",
      "source": [
        "df_raw_2023['AbuseInfo'] = df_raw_2023['AbuseInfo'].fillna(df_raw_2023['Informacje_dotyczące_stanu_zdrowia_*'])\n",
        "df_raw_2023.drop(columns='Informacje_dotyczące_stanu_zdrowia_*', inplace=True)"
      ],
      "metadata": {
        "id": "KbSX7AcWc_le"
      },
      "execution_count": 194,
      "outputs": []
    },
    {
      "cell_type": "markdown",
      "source": [
        "##Powód zamachu - dummies"
      ],
      "metadata": {
        "id": "n0lu0YQmIG_y"
      }
    },
    {
      "cell_type": "code",
      "source": [
        "columns_to_drop = ['Context', 'Context2', 'Context3', 'Context4']\n",
        "df_powód_zamachu_2023 = df_raw_2023[columns_to_drop]\n",
        "df_raw_2023.drop(columns=columns_to_drop, inplace=True)\n"
      ],
      "metadata": {
        "id": "uVUY7DG1IG_z"
      },
      "execution_count": 195,
      "outputs": []
    },
    {
      "cell_type": "code",
      "source": [
        "powód_zamachu_values = (\n",
        "    set(df_powód_zamachu_2023['Context'].unique()) |\n",
        "    set(df_powód_zamachu_2023['Context2'].unique()) |\n",
        "    set(df_powód_zamachu_2023['Context3'].unique()) |\n",
        "    set(df_powód_zamachu_2023['Context4'].unique())\n",
        ")"
      ],
      "metadata": {
        "id": "0zZylZLQIG_z"
      },
      "execution_count": 196,
      "outputs": []
    },
    {
      "cell_type": "code",
      "source": [
        "powód_zamachu_values"
      ],
      "metadata": {
        "colab": {
          "base_uri": "https://localhost:8080/"
        },
        "outputId": "b34d6dbd-c74d-48e5-ee25-4690521fa6ad",
        "id": "H3xFSdGQIG_z"
      },
      "execution_count": 197,
      "outputs": [
        {
          "output_type": "execute_result",
          "data": {
            "text/plain": [
              "{'CloseDeath',\n",
              " 'Crime',\n",
              " 'Disability',\n",
              " 'FamilyConflict',\n",
              " 'Finances',\n",
              " 'HealthLoss',\n",
              " 'HeartBreak',\n",
              " 'MentalHealth',\n",
              " 'Other',\n",
              " 'SchoolWork',\n",
              " nan}"
            ]
          },
          "metadata": {},
          "execution_count": 197
        }
      ]
    },
    {
      "cell_type": "code",
      "source": [
        "for value in powód_zamachu_values:\n",
        "    column_name = 'Context_' + str(value)\n",
        "    df_powód_zamachu_2023[column_name] = df_powód_zamachu_2023.apply(lambda row: 1 if value in row.values else 0, axis=1)\n"
      ],
      "metadata": {
        "colab": {
          "base_uri": "https://localhost:8080/"
        },
        "outputId": "57f98660-6758-4f7b-b48d-c8926e2721ab",
        "id": "PONMEZsEIG_z"
      },
      "execution_count": 198,
      "outputs": [
        {
          "output_type": "stream",
          "name": "stderr",
          "text": [
            "<ipython-input-198-2ae7b8e01b52>:3: SettingWithCopyWarning: \n",
            "A value is trying to be set on a copy of a slice from a DataFrame.\n",
            "Try using .loc[row_indexer,col_indexer] = value instead\n",
            "\n",
            "See the caveats in the documentation: https://pandas.pydata.org/pandas-docs/stable/user_guide/indexing.html#returning-a-view-versus-a-copy\n",
            "  df_powód_zamachu_2023[column_name] = df_powód_zamachu_2023.apply(lambda row: 1 if value in row.values else 0, axis=1)\n",
            "<ipython-input-198-2ae7b8e01b52>:3: SettingWithCopyWarning: \n",
            "A value is trying to be set on a copy of a slice from a DataFrame.\n",
            "Try using .loc[row_indexer,col_indexer] = value instead\n",
            "\n",
            "See the caveats in the documentation: https://pandas.pydata.org/pandas-docs/stable/user_guide/indexing.html#returning-a-view-versus-a-copy\n",
            "  df_powód_zamachu_2023[column_name] = df_powód_zamachu_2023.apply(lambda row: 1 if value in row.values else 0, axis=1)\n",
            "<ipython-input-198-2ae7b8e01b52>:3: SettingWithCopyWarning: \n",
            "A value is trying to be set on a copy of a slice from a DataFrame.\n",
            "Try using .loc[row_indexer,col_indexer] = value instead\n",
            "\n",
            "See the caveats in the documentation: https://pandas.pydata.org/pandas-docs/stable/user_guide/indexing.html#returning-a-view-versus-a-copy\n",
            "  df_powód_zamachu_2023[column_name] = df_powód_zamachu_2023.apply(lambda row: 1 if value in row.values else 0, axis=1)\n",
            "<ipython-input-198-2ae7b8e01b52>:3: SettingWithCopyWarning: \n",
            "A value is trying to be set on a copy of a slice from a DataFrame.\n",
            "Try using .loc[row_indexer,col_indexer] = value instead\n",
            "\n",
            "See the caveats in the documentation: https://pandas.pydata.org/pandas-docs/stable/user_guide/indexing.html#returning-a-view-versus-a-copy\n",
            "  df_powód_zamachu_2023[column_name] = df_powód_zamachu_2023.apply(lambda row: 1 if value in row.values else 0, axis=1)\n",
            "<ipython-input-198-2ae7b8e01b52>:3: SettingWithCopyWarning: \n",
            "A value is trying to be set on a copy of a slice from a DataFrame.\n",
            "Try using .loc[row_indexer,col_indexer] = value instead\n",
            "\n",
            "See the caveats in the documentation: https://pandas.pydata.org/pandas-docs/stable/user_guide/indexing.html#returning-a-view-versus-a-copy\n",
            "  df_powód_zamachu_2023[column_name] = df_powód_zamachu_2023.apply(lambda row: 1 if value in row.values else 0, axis=1)\n",
            "<ipython-input-198-2ae7b8e01b52>:3: SettingWithCopyWarning: \n",
            "A value is trying to be set on a copy of a slice from a DataFrame.\n",
            "Try using .loc[row_indexer,col_indexer] = value instead\n",
            "\n",
            "See the caveats in the documentation: https://pandas.pydata.org/pandas-docs/stable/user_guide/indexing.html#returning-a-view-versus-a-copy\n",
            "  df_powód_zamachu_2023[column_name] = df_powód_zamachu_2023.apply(lambda row: 1 if value in row.values else 0, axis=1)\n",
            "<ipython-input-198-2ae7b8e01b52>:3: SettingWithCopyWarning: \n",
            "A value is trying to be set on a copy of a slice from a DataFrame.\n",
            "Try using .loc[row_indexer,col_indexer] = value instead\n",
            "\n",
            "See the caveats in the documentation: https://pandas.pydata.org/pandas-docs/stable/user_guide/indexing.html#returning-a-view-versus-a-copy\n",
            "  df_powód_zamachu_2023[column_name] = df_powód_zamachu_2023.apply(lambda row: 1 if value in row.values else 0, axis=1)\n",
            "<ipython-input-198-2ae7b8e01b52>:3: SettingWithCopyWarning: \n",
            "A value is trying to be set on a copy of a slice from a DataFrame.\n",
            "Try using .loc[row_indexer,col_indexer] = value instead\n",
            "\n",
            "See the caveats in the documentation: https://pandas.pydata.org/pandas-docs/stable/user_guide/indexing.html#returning-a-view-versus-a-copy\n",
            "  df_powód_zamachu_2023[column_name] = df_powód_zamachu_2023.apply(lambda row: 1 if value in row.values else 0, axis=1)\n",
            "<ipython-input-198-2ae7b8e01b52>:3: SettingWithCopyWarning: \n",
            "A value is trying to be set on a copy of a slice from a DataFrame.\n",
            "Try using .loc[row_indexer,col_indexer] = value instead\n",
            "\n",
            "See the caveats in the documentation: https://pandas.pydata.org/pandas-docs/stable/user_guide/indexing.html#returning-a-view-versus-a-copy\n",
            "  df_powód_zamachu_2023[column_name] = df_powód_zamachu_2023.apply(lambda row: 1 if value in row.values else 0, axis=1)\n",
            "<ipython-input-198-2ae7b8e01b52>:3: SettingWithCopyWarning: \n",
            "A value is trying to be set on a copy of a slice from a DataFrame.\n",
            "Try using .loc[row_indexer,col_indexer] = value instead\n",
            "\n",
            "See the caveats in the documentation: https://pandas.pydata.org/pandas-docs/stable/user_guide/indexing.html#returning-a-view-versus-a-copy\n",
            "  df_powód_zamachu_2023[column_name] = df_powód_zamachu_2023.apply(lambda row: 1 if value in row.values else 0, axis=1)\n",
            "<ipython-input-198-2ae7b8e01b52>:3: SettingWithCopyWarning: \n",
            "A value is trying to be set on a copy of a slice from a DataFrame.\n",
            "Try using .loc[row_indexer,col_indexer] = value instead\n",
            "\n",
            "See the caveats in the documentation: https://pandas.pydata.org/pandas-docs/stable/user_guide/indexing.html#returning-a-view-versus-a-copy\n",
            "  df_powód_zamachu_2023[column_name] = df_powód_zamachu_2023.apply(lambda row: 1 if value in row.values else 0, axis=1)\n"
          ]
        }
      ]
    },
    {
      "cell_type": "code",
      "source": [
        "columns_to_drop = ['Context', 'Context2', 'Context3', 'Context4', 'Context_nan']\n",
        "df_powód_zamachu_2023.drop(columns=columns_to_drop, inplace=True)\n"
      ],
      "metadata": {
        "id": "i0yWizHfIG_z",
        "colab": {
          "base_uri": "https://localhost:8080/"
        },
        "outputId": "003d98b7-0daa-44b6-bca4-5d2043018114"
      },
      "execution_count": 199,
      "outputs": [
        {
          "output_type": "stream",
          "name": "stderr",
          "text": [
            "<ipython-input-199-1efdf2541b49>:2: SettingWithCopyWarning: \n",
            "A value is trying to be set on a copy of a slice from a DataFrame\n",
            "\n",
            "See the caveats in the documentation: https://pandas.pydata.org/pandas-docs/stable/user_guide/indexing.html#returning-a-view-versus-a-copy\n",
            "  df_powód_zamachu_2023.drop(columns=columns_to_drop, inplace=True)\n"
          ]
        }
      ]
    },
    {
      "cell_type": "code",
      "source": [
        "df_powód_zamachu_2023.head(5)"
      ],
      "metadata": {
        "colab": {
          "base_uri": "https://localhost:8080/",
          "height": 226
        },
        "id": "jNI0UL3yo6Lz",
        "outputId": "61c0643f-0102-4c05-d647-6984902f4193"
      },
      "execution_count": 200,
      "outputs": [
        {
          "output_type": "execute_result",
          "data": {
            "text/plain": [
              "   Context_CloseDeath  Context_Finances  Context_FamilyConflict  \\\n",
              "0                   0                 0                       1   \n",
              "1                   0                 0                       0   \n",
              "2                   0                 0                       1   \n",
              "3                   0                 0                       1   \n",
              "4                   0                 0                       0   \n",
              "\n",
              "   Context_Disability  Context_Crime  Context_SchoolWork  \\\n",
              "0                   0              0                   0   \n",
              "1                   0              0                   0   \n",
              "2                   0              0                   0   \n",
              "3                   0              0                   0   \n",
              "4                   0              0                   1   \n",
              "\n",
              "   Context_MentalHealth  Context_Other  Context_HeartBreak  Context_HealthLoss  \n",
              "0                     0              1                   0                   0  \n",
              "1                     0              0                   0                   0  \n",
              "2                     0              0                   0                   0  \n",
              "3                     0              0                   0                   0  \n",
              "4                     0              0                   0                   0  "
            ],
            "text/html": [
              "\n",
              "  <div id=\"df-5a99761c-ba8b-4548-9b95-f53c9f6fbb79\" class=\"colab-df-container\">\n",
              "    <div>\n",
              "<style scoped>\n",
              "    .dataframe tbody tr th:only-of-type {\n",
              "        vertical-align: middle;\n",
              "    }\n",
              "\n",
              "    .dataframe tbody tr th {\n",
              "        vertical-align: top;\n",
              "    }\n",
              "\n",
              "    .dataframe thead th {\n",
              "        text-align: right;\n",
              "    }\n",
              "</style>\n",
              "<table border=\"1\" class=\"dataframe\">\n",
              "  <thead>\n",
              "    <tr style=\"text-align: right;\">\n",
              "      <th></th>\n",
              "      <th>Context_CloseDeath</th>\n",
              "      <th>Context_Finances</th>\n",
              "      <th>Context_FamilyConflict</th>\n",
              "      <th>Context_Disability</th>\n",
              "      <th>Context_Crime</th>\n",
              "      <th>Context_SchoolWork</th>\n",
              "      <th>Context_MentalHealth</th>\n",
              "      <th>Context_Other</th>\n",
              "      <th>Context_HeartBreak</th>\n",
              "      <th>Context_HealthLoss</th>\n",
              "    </tr>\n",
              "  </thead>\n",
              "  <tbody>\n",
              "    <tr>\n",
              "      <th>0</th>\n",
              "      <td>0</td>\n",
              "      <td>0</td>\n",
              "      <td>1</td>\n",
              "      <td>0</td>\n",
              "      <td>0</td>\n",
              "      <td>0</td>\n",
              "      <td>0</td>\n",
              "      <td>1</td>\n",
              "      <td>0</td>\n",
              "      <td>0</td>\n",
              "    </tr>\n",
              "    <tr>\n",
              "      <th>1</th>\n",
              "      <td>0</td>\n",
              "      <td>0</td>\n",
              "      <td>0</td>\n",
              "      <td>0</td>\n",
              "      <td>0</td>\n",
              "      <td>0</td>\n",
              "      <td>0</td>\n",
              "      <td>0</td>\n",
              "      <td>0</td>\n",
              "      <td>0</td>\n",
              "    </tr>\n",
              "    <tr>\n",
              "      <th>2</th>\n",
              "      <td>0</td>\n",
              "      <td>0</td>\n",
              "      <td>1</td>\n",
              "      <td>0</td>\n",
              "      <td>0</td>\n",
              "      <td>0</td>\n",
              "      <td>0</td>\n",
              "      <td>0</td>\n",
              "      <td>0</td>\n",
              "      <td>0</td>\n",
              "    </tr>\n",
              "    <tr>\n",
              "      <th>3</th>\n",
              "      <td>0</td>\n",
              "      <td>0</td>\n",
              "      <td>1</td>\n",
              "      <td>0</td>\n",
              "      <td>0</td>\n",
              "      <td>0</td>\n",
              "      <td>0</td>\n",
              "      <td>0</td>\n",
              "      <td>0</td>\n",
              "      <td>0</td>\n",
              "    </tr>\n",
              "    <tr>\n",
              "      <th>4</th>\n",
              "      <td>0</td>\n",
              "      <td>0</td>\n",
              "      <td>0</td>\n",
              "      <td>0</td>\n",
              "      <td>0</td>\n",
              "      <td>1</td>\n",
              "      <td>0</td>\n",
              "      <td>0</td>\n",
              "      <td>0</td>\n",
              "      <td>0</td>\n",
              "    </tr>\n",
              "  </tbody>\n",
              "</table>\n",
              "</div>\n",
              "    <div class=\"colab-df-buttons\">\n",
              "\n",
              "  <div class=\"colab-df-container\">\n",
              "    <button class=\"colab-df-convert\" onclick=\"convertToInteractive('df-5a99761c-ba8b-4548-9b95-f53c9f6fbb79')\"\n",
              "            title=\"Convert this dataframe to an interactive table.\"\n",
              "            style=\"display:none;\">\n",
              "\n",
              "  <svg xmlns=\"http://www.w3.org/2000/svg\" height=\"24px\" viewBox=\"0 -960 960 960\">\n",
              "    <path d=\"M120-120v-720h720v720H120Zm60-500h600v-160H180v160Zm220 220h160v-160H400v160Zm0 220h160v-160H400v160ZM180-400h160v-160H180v160Zm440 0h160v-160H620v160ZM180-180h160v-160H180v160Zm440 0h160v-160H620v160Z\"/>\n",
              "  </svg>\n",
              "    </button>\n",
              "\n",
              "  <style>\n",
              "    .colab-df-container {\n",
              "      display:flex;\n",
              "      gap: 12px;\n",
              "    }\n",
              "\n",
              "    .colab-df-convert {\n",
              "      background-color: #E8F0FE;\n",
              "      border: none;\n",
              "      border-radius: 50%;\n",
              "      cursor: pointer;\n",
              "      display: none;\n",
              "      fill: #1967D2;\n",
              "      height: 32px;\n",
              "      padding: 0 0 0 0;\n",
              "      width: 32px;\n",
              "    }\n",
              "\n",
              "    .colab-df-convert:hover {\n",
              "      background-color: #E2EBFA;\n",
              "      box-shadow: 0px 1px 2px rgba(60, 64, 67, 0.3), 0px 1px 3px 1px rgba(60, 64, 67, 0.15);\n",
              "      fill: #174EA6;\n",
              "    }\n",
              "\n",
              "    .colab-df-buttons div {\n",
              "      margin-bottom: 4px;\n",
              "    }\n",
              "\n",
              "    [theme=dark] .colab-df-convert {\n",
              "      background-color: #3B4455;\n",
              "      fill: #D2E3FC;\n",
              "    }\n",
              "\n",
              "    [theme=dark] .colab-df-convert:hover {\n",
              "      background-color: #434B5C;\n",
              "      box-shadow: 0px 1px 3px 1px rgba(0, 0, 0, 0.15);\n",
              "      filter: drop-shadow(0px 1px 2px rgba(0, 0, 0, 0.3));\n",
              "      fill: #FFFFFF;\n",
              "    }\n",
              "  </style>\n",
              "\n",
              "    <script>\n",
              "      const buttonEl =\n",
              "        document.querySelector('#df-5a99761c-ba8b-4548-9b95-f53c9f6fbb79 button.colab-df-convert');\n",
              "      buttonEl.style.display =\n",
              "        google.colab.kernel.accessAllowed ? 'block' : 'none';\n",
              "\n",
              "      async function convertToInteractive(key) {\n",
              "        const element = document.querySelector('#df-5a99761c-ba8b-4548-9b95-f53c9f6fbb79');\n",
              "        const dataTable =\n",
              "          await google.colab.kernel.invokeFunction('convertToInteractive',\n",
              "                                                    [key], {});\n",
              "        if (!dataTable) return;\n",
              "\n",
              "        const docLinkHtml = 'Like what you see? Visit the ' +\n",
              "          '<a target=\"_blank\" href=https://colab.research.google.com/notebooks/data_table.ipynb>data table notebook</a>'\n",
              "          + ' to learn more about interactive tables.';\n",
              "        element.innerHTML = '';\n",
              "        dataTable['output_type'] = 'display_data';\n",
              "        await google.colab.output.renderOutput(dataTable, element);\n",
              "        const docLink = document.createElement('div');\n",
              "        docLink.innerHTML = docLinkHtml;\n",
              "        element.appendChild(docLink);\n",
              "      }\n",
              "    </script>\n",
              "  </div>\n",
              "\n",
              "\n",
              "<div id=\"df-338c6ad5-8572-4f61-8a25-3a97b45d6751\">\n",
              "  <button class=\"colab-df-quickchart\" onclick=\"quickchart('df-338c6ad5-8572-4f61-8a25-3a97b45d6751')\"\n",
              "            title=\"Suggest charts\"\n",
              "            style=\"display:none;\">\n",
              "\n",
              "<svg xmlns=\"http://www.w3.org/2000/svg\" height=\"24px\"viewBox=\"0 0 24 24\"\n",
              "     width=\"24px\">\n",
              "    <g>\n",
              "        <path d=\"M19 3H5c-1.1 0-2 .9-2 2v14c0 1.1.9 2 2 2h14c1.1 0 2-.9 2-2V5c0-1.1-.9-2-2-2zM9 17H7v-7h2v7zm4 0h-2V7h2v10zm4 0h-2v-4h2v4z\"/>\n",
              "    </g>\n",
              "</svg>\n",
              "  </button>\n",
              "\n",
              "<style>\n",
              "  .colab-df-quickchart {\n",
              "      --bg-color: #E8F0FE;\n",
              "      --fill-color: #1967D2;\n",
              "      --hover-bg-color: #E2EBFA;\n",
              "      --hover-fill-color: #174EA6;\n",
              "      --disabled-fill-color: #AAA;\n",
              "      --disabled-bg-color: #DDD;\n",
              "  }\n",
              "\n",
              "  [theme=dark] .colab-df-quickchart {\n",
              "      --bg-color: #3B4455;\n",
              "      --fill-color: #D2E3FC;\n",
              "      --hover-bg-color: #434B5C;\n",
              "      --hover-fill-color: #FFFFFF;\n",
              "      --disabled-bg-color: #3B4455;\n",
              "      --disabled-fill-color: #666;\n",
              "  }\n",
              "\n",
              "  .colab-df-quickchart {\n",
              "    background-color: var(--bg-color);\n",
              "    border: none;\n",
              "    border-radius: 50%;\n",
              "    cursor: pointer;\n",
              "    display: none;\n",
              "    fill: var(--fill-color);\n",
              "    height: 32px;\n",
              "    padding: 0;\n",
              "    width: 32px;\n",
              "  }\n",
              "\n",
              "  .colab-df-quickchart:hover {\n",
              "    background-color: var(--hover-bg-color);\n",
              "    box-shadow: 0 1px 2px rgba(60, 64, 67, 0.3), 0 1px 3px 1px rgba(60, 64, 67, 0.15);\n",
              "    fill: var(--button-hover-fill-color);\n",
              "  }\n",
              "\n",
              "  .colab-df-quickchart-complete:disabled,\n",
              "  .colab-df-quickchart-complete:disabled:hover {\n",
              "    background-color: var(--disabled-bg-color);\n",
              "    fill: var(--disabled-fill-color);\n",
              "    box-shadow: none;\n",
              "  }\n",
              "\n",
              "  .colab-df-spinner {\n",
              "    border: 2px solid var(--fill-color);\n",
              "    border-color: transparent;\n",
              "    border-bottom-color: var(--fill-color);\n",
              "    animation:\n",
              "      spin 1s steps(1) infinite;\n",
              "  }\n",
              "\n",
              "  @keyframes spin {\n",
              "    0% {\n",
              "      border-color: transparent;\n",
              "      border-bottom-color: var(--fill-color);\n",
              "      border-left-color: var(--fill-color);\n",
              "    }\n",
              "    20% {\n",
              "      border-color: transparent;\n",
              "      border-left-color: var(--fill-color);\n",
              "      border-top-color: var(--fill-color);\n",
              "    }\n",
              "    30% {\n",
              "      border-color: transparent;\n",
              "      border-left-color: var(--fill-color);\n",
              "      border-top-color: var(--fill-color);\n",
              "      border-right-color: var(--fill-color);\n",
              "    }\n",
              "    40% {\n",
              "      border-color: transparent;\n",
              "      border-right-color: var(--fill-color);\n",
              "      border-top-color: var(--fill-color);\n",
              "    }\n",
              "    60% {\n",
              "      border-color: transparent;\n",
              "      border-right-color: var(--fill-color);\n",
              "    }\n",
              "    80% {\n",
              "      border-color: transparent;\n",
              "      border-right-color: var(--fill-color);\n",
              "      border-bottom-color: var(--fill-color);\n",
              "    }\n",
              "    90% {\n",
              "      border-color: transparent;\n",
              "      border-bottom-color: var(--fill-color);\n",
              "    }\n",
              "  }\n",
              "</style>\n",
              "\n",
              "  <script>\n",
              "    async function quickchart(key) {\n",
              "      const quickchartButtonEl =\n",
              "        document.querySelector('#' + key + ' button');\n",
              "      quickchartButtonEl.disabled = true;  // To prevent multiple clicks.\n",
              "      quickchartButtonEl.classList.add('colab-df-spinner');\n",
              "      try {\n",
              "        const charts = await google.colab.kernel.invokeFunction(\n",
              "            'suggestCharts', [key], {});\n",
              "      } catch (error) {\n",
              "        console.error('Error during call to suggestCharts:', error);\n",
              "      }\n",
              "      quickchartButtonEl.classList.remove('colab-df-spinner');\n",
              "      quickchartButtonEl.classList.add('colab-df-quickchart-complete');\n",
              "    }\n",
              "    (() => {\n",
              "      let quickchartButtonEl =\n",
              "        document.querySelector('#df-338c6ad5-8572-4f61-8a25-3a97b45d6751 button');\n",
              "      quickchartButtonEl.style.display =\n",
              "        google.colab.kernel.accessAllowed ? 'block' : 'none';\n",
              "    })();\n",
              "  </script>\n",
              "</div>\n",
              "\n",
              "    </div>\n",
              "  </div>\n"
            ],
            "application/vnd.google.colaboratory.intrinsic+json": {
              "type": "dataframe",
              "variable_name": "df_powód_zamachu_2023",
              "summary": "{\n  \"name\": \"df_pow\\u00f3d_zamachu_2023\",\n  \"rows\": 15136,\n  \"fields\": [\n    {\n      \"column\": \"Context_CloseDeath\",\n      \"properties\": {\n        \"dtype\": \"number\",\n        \"std\": 0,\n        \"min\": 0,\n        \"max\": 1,\n        \"num_unique_values\": 2,\n        \"samples\": [\n          1,\n          0\n        ],\n        \"semantic_type\": \"\",\n        \"description\": \"\"\n      }\n    },\n    {\n      \"column\": \"Context_Finances\",\n      \"properties\": {\n        \"dtype\": \"number\",\n        \"std\": 0,\n        \"min\": 0,\n        \"max\": 1,\n        \"num_unique_values\": 2,\n        \"samples\": [\n          1,\n          0\n        ],\n        \"semantic_type\": \"\",\n        \"description\": \"\"\n      }\n    },\n    {\n      \"column\": \"Context_FamilyConflict\",\n      \"properties\": {\n        \"dtype\": \"number\",\n        \"std\": 0,\n        \"min\": 0,\n        \"max\": 1,\n        \"num_unique_values\": 2,\n        \"samples\": [\n          0,\n          1\n        ],\n        \"semantic_type\": \"\",\n        \"description\": \"\"\n      }\n    },\n    {\n      \"column\": \"Context_Disability\",\n      \"properties\": {\n        \"dtype\": \"number\",\n        \"std\": 0,\n        \"min\": 0,\n        \"max\": 1,\n        \"num_unique_values\": 2,\n        \"samples\": [\n          1,\n          0\n        ],\n        \"semantic_type\": \"\",\n        \"description\": \"\"\n      }\n    },\n    {\n      \"column\": \"Context_Crime\",\n      \"properties\": {\n        \"dtype\": \"number\",\n        \"std\": 0,\n        \"min\": 0,\n        \"max\": 1,\n        \"num_unique_values\": 2,\n        \"samples\": [\n          1,\n          0\n        ],\n        \"semantic_type\": \"\",\n        \"description\": \"\"\n      }\n    },\n    {\n      \"column\": \"Context_SchoolWork\",\n      \"properties\": {\n        \"dtype\": \"number\",\n        \"std\": 0,\n        \"min\": 0,\n        \"max\": 1,\n        \"num_unique_values\": 2,\n        \"samples\": [\n          1,\n          0\n        ],\n        \"semantic_type\": \"\",\n        \"description\": \"\"\n      }\n    },\n    {\n      \"column\": \"Context_MentalHealth\",\n      \"properties\": {\n        \"dtype\": \"number\",\n        \"std\": 0,\n        \"min\": 0,\n        \"max\": 1,\n        \"num_unique_values\": 2,\n        \"samples\": [\n          1,\n          0\n        ],\n        \"semantic_type\": \"\",\n        \"description\": \"\"\n      }\n    },\n    {\n      \"column\": \"Context_Other\",\n      \"properties\": {\n        \"dtype\": \"number\",\n        \"std\": 0,\n        \"min\": 0,\n        \"max\": 1,\n        \"num_unique_values\": 2,\n        \"samples\": [\n          0,\n          1\n        ],\n        \"semantic_type\": \"\",\n        \"description\": \"\"\n      }\n    },\n    {\n      \"column\": \"Context_HeartBreak\",\n      \"properties\": {\n        \"dtype\": \"number\",\n        \"std\": 0,\n        \"min\": 0,\n        \"max\": 1,\n        \"num_unique_values\": 2,\n        \"samples\": [\n          1,\n          0\n        ],\n        \"semantic_type\": \"\",\n        \"description\": \"\"\n      }\n    },\n    {\n      \"column\": \"Context_HealthLoss\",\n      \"properties\": {\n        \"dtype\": \"number\",\n        \"std\": 0,\n        \"min\": 0,\n        \"max\": 1,\n        \"num_unique_values\": 2,\n        \"samples\": [\n          1,\n          0\n        ],\n        \"semantic_type\": \"\",\n        \"description\": \"\"\n      }\n    }\n  ]\n}"
            }
          },
          "metadata": {},
          "execution_count": 200
        }
      ]
    },
    {
      "cell_type": "markdown",
      "source": [
        "##Liczba_powodów_zamachu"
      ],
      "metadata": {
        "id": "xWs3vSsyIG_z"
      }
    },
    {
      "cell_type": "code",
      "source": [
        "df_raw_2023['CountContext'] = df_powód_zamachu_2023.sum(axis=1)"
      ],
      "metadata": {
        "id": "XpeW4CqOIG_z"
      },
      "execution_count": 201,
      "outputs": []
    },
    {
      "cell_type": "code",
      "source": [
        "df_raw_2023.head(5)"
      ],
      "metadata": {
        "colab": {
          "base_uri": "https://localhost:8080/",
          "height": 347
        },
        "outputId": "3354e4ae-1f76-4886-849a-404c79599949",
        "id": "qdOvzTpzIG_z"
      },
      "execution_count": 202,
      "outputs": [
        {
          "output_type": "execute_result",
          "data": {
            "text/plain": [
              "  ID_samobójcy     Date   Age1 Gender     Marital Education    WorkInfo  \\\n",
              "0    138421942  01.2023  25-29      M  Cohabitant       NaN  Unemployed   \n",
              "1    138421944  01.2023  55-59      M     Married       NaN         NaN   \n",
              "2    138421949  01.2023  13-18      F     Single        NaN     Student   \n",
              "3    138421953  01.2023  55-59      M     Married       NaN         NaN   \n",
              "4    138421954  01.2023  19-24      F  Cohabitant       NaN         NaN   \n",
              "\n",
              "      Income  Fatal  Place                           Klasa_miejscowości  \\\n",
              "0        NaN    0.0  House                                         Wieś   \n",
              "1        NaN    0.0  House    Miasto o liczbie ludności 20 000 – 49 999   \n",
              "2  Dependent    0.0  House                                         Wieś   \n",
              "3        NaN    0.0  House          Miasto o liczbie ludności do 19 999   \n",
              "4        NaN    0.0  House  Miasto o liczbie ludności 100 000 – 499 999   \n",
              "\n",
              "      Method Substance AbuseInfo  \\\n",
              "0  Self-harm      Alco       NaN   \n",
              "1    Hanging       NaN       NaN   \n",
              "2      Drugs     Sober       NaN   \n",
              "3  Self-harm      Alco      Alco   \n",
              "4      Drugs      Alco      Alco   \n",
              "\n",
              "  W_ciągu_ostatniego_miesiąca_sprawca_zdarzenia_miał_przynajmniej_jeden_raz_kontakt_z_*  \\\n",
              "0                          Brak możliwości ustalenia                                      \n",
              "1                          Brak możliwości ustalenia                                      \n",
              "2                                 Placówką leczniczą                                      \n",
              "3                          Brak możliwości ustalenia                                      \n",
              "4                          Brak możliwości ustalenia                                      \n",
              "\n",
              "  DateY DateM   Age2  CountContext  \n",
              "0  2023    01  19-34             2  \n",
              "1  2023    01  35-64             0  \n",
              "2  2023    01  00-18             1  \n",
              "3  2023    01  35-64             1  \n",
              "4  2023    01  19-34             1  "
            ],
            "text/html": [
              "\n",
              "  <div id=\"df-1431fc2c-b2a9-4369-91d6-92f99a25101f\" class=\"colab-df-container\">\n",
              "    <div>\n",
              "<style scoped>\n",
              "    .dataframe tbody tr th:only-of-type {\n",
              "        vertical-align: middle;\n",
              "    }\n",
              "\n",
              "    .dataframe tbody tr th {\n",
              "        vertical-align: top;\n",
              "    }\n",
              "\n",
              "    .dataframe thead th {\n",
              "        text-align: right;\n",
              "    }\n",
              "</style>\n",
              "<table border=\"1\" class=\"dataframe\">\n",
              "  <thead>\n",
              "    <tr style=\"text-align: right;\">\n",
              "      <th></th>\n",
              "      <th>ID_samobójcy</th>\n",
              "      <th>Date</th>\n",
              "      <th>Age1</th>\n",
              "      <th>Gender</th>\n",
              "      <th>Marital</th>\n",
              "      <th>Education</th>\n",
              "      <th>WorkInfo</th>\n",
              "      <th>Income</th>\n",
              "      <th>Fatal</th>\n",
              "      <th>Place</th>\n",
              "      <th>Klasa_miejscowości</th>\n",
              "      <th>Method</th>\n",
              "      <th>Substance</th>\n",
              "      <th>AbuseInfo</th>\n",
              "      <th>W_ciągu_ostatniego_miesiąca_sprawca_zdarzenia_miał_przynajmniej_jeden_raz_kontakt_z_*</th>\n",
              "      <th>DateY</th>\n",
              "      <th>DateM</th>\n",
              "      <th>Age2</th>\n",
              "      <th>CountContext</th>\n",
              "    </tr>\n",
              "  </thead>\n",
              "  <tbody>\n",
              "    <tr>\n",
              "      <th>0</th>\n",
              "      <td>138421942</td>\n",
              "      <td>01.2023</td>\n",
              "      <td>25-29</td>\n",
              "      <td>M</td>\n",
              "      <td>Cohabitant</td>\n",
              "      <td>NaN</td>\n",
              "      <td>Unemployed</td>\n",
              "      <td>NaN</td>\n",
              "      <td>0.0</td>\n",
              "      <td>House</td>\n",
              "      <td>Wieś</td>\n",
              "      <td>Self-harm</td>\n",
              "      <td>Alco</td>\n",
              "      <td>NaN</td>\n",
              "      <td>Brak możliwości ustalenia</td>\n",
              "      <td>2023</td>\n",
              "      <td>01</td>\n",
              "      <td>19-34</td>\n",
              "      <td>2</td>\n",
              "    </tr>\n",
              "    <tr>\n",
              "      <th>1</th>\n",
              "      <td>138421944</td>\n",
              "      <td>01.2023</td>\n",
              "      <td>55-59</td>\n",
              "      <td>M</td>\n",
              "      <td>Married</td>\n",
              "      <td>NaN</td>\n",
              "      <td>NaN</td>\n",
              "      <td>NaN</td>\n",
              "      <td>0.0</td>\n",
              "      <td>House</td>\n",
              "      <td>Miasto o liczbie ludności 20 000 – 49 999</td>\n",
              "      <td>Hanging</td>\n",
              "      <td>NaN</td>\n",
              "      <td>NaN</td>\n",
              "      <td>Brak możliwości ustalenia</td>\n",
              "      <td>2023</td>\n",
              "      <td>01</td>\n",
              "      <td>35-64</td>\n",
              "      <td>0</td>\n",
              "    </tr>\n",
              "    <tr>\n",
              "      <th>2</th>\n",
              "      <td>138421949</td>\n",
              "      <td>01.2023</td>\n",
              "      <td>13-18</td>\n",
              "      <td>F</td>\n",
              "      <td>Single</td>\n",
              "      <td>NaN</td>\n",
              "      <td>Student</td>\n",
              "      <td>Dependent</td>\n",
              "      <td>0.0</td>\n",
              "      <td>House</td>\n",
              "      <td>Wieś</td>\n",
              "      <td>Drugs</td>\n",
              "      <td>Sober</td>\n",
              "      <td>NaN</td>\n",
              "      <td>Placówką leczniczą</td>\n",
              "      <td>2023</td>\n",
              "      <td>01</td>\n",
              "      <td>00-18</td>\n",
              "      <td>1</td>\n",
              "    </tr>\n",
              "    <tr>\n",
              "      <th>3</th>\n",
              "      <td>138421953</td>\n",
              "      <td>01.2023</td>\n",
              "      <td>55-59</td>\n",
              "      <td>M</td>\n",
              "      <td>Married</td>\n",
              "      <td>NaN</td>\n",
              "      <td>NaN</td>\n",
              "      <td>NaN</td>\n",
              "      <td>0.0</td>\n",
              "      <td>House</td>\n",
              "      <td>Miasto o liczbie ludności do 19 999</td>\n",
              "      <td>Self-harm</td>\n",
              "      <td>Alco</td>\n",
              "      <td>Alco</td>\n",
              "      <td>Brak możliwości ustalenia</td>\n",
              "      <td>2023</td>\n",
              "      <td>01</td>\n",
              "      <td>35-64</td>\n",
              "      <td>1</td>\n",
              "    </tr>\n",
              "    <tr>\n",
              "      <th>4</th>\n",
              "      <td>138421954</td>\n",
              "      <td>01.2023</td>\n",
              "      <td>19-24</td>\n",
              "      <td>F</td>\n",
              "      <td>Cohabitant</td>\n",
              "      <td>NaN</td>\n",
              "      <td>NaN</td>\n",
              "      <td>NaN</td>\n",
              "      <td>0.0</td>\n",
              "      <td>House</td>\n",
              "      <td>Miasto o liczbie ludności 100 000 – 499 999</td>\n",
              "      <td>Drugs</td>\n",
              "      <td>Alco</td>\n",
              "      <td>Alco</td>\n",
              "      <td>Brak możliwości ustalenia</td>\n",
              "      <td>2023</td>\n",
              "      <td>01</td>\n",
              "      <td>19-34</td>\n",
              "      <td>1</td>\n",
              "    </tr>\n",
              "  </tbody>\n",
              "</table>\n",
              "</div>\n",
              "    <div class=\"colab-df-buttons\">\n",
              "\n",
              "  <div class=\"colab-df-container\">\n",
              "    <button class=\"colab-df-convert\" onclick=\"convertToInteractive('df-1431fc2c-b2a9-4369-91d6-92f99a25101f')\"\n",
              "            title=\"Convert this dataframe to an interactive table.\"\n",
              "            style=\"display:none;\">\n",
              "\n",
              "  <svg xmlns=\"http://www.w3.org/2000/svg\" height=\"24px\" viewBox=\"0 -960 960 960\">\n",
              "    <path d=\"M120-120v-720h720v720H120Zm60-500h600v-160H180v160Zm220 220h160v-160H400v160Zm0 220h160v-160H400v160ZM180-400h160v-160H180v160Zm440 0h160v-160H620v160ZM180-180h160v-160H180v160Zm440 0h160v-160H620v160Z\"/>\n",
              "  </svg>\n",
              "    </button>\n",
              "\n",
              "  <style>\n",
              "    .colab-df-container {\n",
              "      display:flex;\n",
              "      gap: 12px;\n",
              "    }\n",
              "\n",
              "    .colab-df-convert {\n",
              "      background-color: #E8F0FE;\n",
              "      border: none;\n",
              "      border-radius: 50%;\n",
              "      cursor: pointer;\n",
              "      display: none;\n",
              "      fill: #1967D2;\n",
              "      height: 32px;\n",
              "      padding: 0 0 0 0;\n",
              "      width: 32px;\n",
              "    }\n",
              "\n",
              "    .colab-df-convert:hover {\n",
              "      background-color: #E2EBFA;\n",
              "      box-shadow: 0px 1px 2px rgba(60, 64, 67, 0.3), 0px 1px 3px 1px rgba(60, 64, 67, 0.15);\n",
              "      fill: #174EA6;\n",
              "    }\n",
              "\n",
              "    .colab-df-buttons div {\n",
              "      margin-bottom: 4px;\n",
              "    }\n",
              "\n",
              "    [theme=dark] .colab-df-convert {\n",
              "      background-color: #3B4455;\n",
              "      fill: #D2E3FC;\n",
              "    }\n",
              "\n",
              "    [theme=dark] .colab-df-convert:hover {\n",
              "      background-color: #434B5C;\n",
              "      box-shadow: 0px 1px 3px 1px rgba(0, 0, 0, 0.15);\n",
              "      filter: drop-shadow(0px 1px 2px rgba(0, 0, 0, 0.3));\n",
              "      fill: #FFFFFF;\n",
              "    }\n",
              "  </style>\n",
              "\n",
              "    <script>\n",
              "      const buttonEl =\n",
              "        document.querySelector('#df-1431fc2c-b2a9-4369-91d6-92f99a25101f button.colab-df-convert');\n",
              "      buttonEl.style.display =\n",
              "        google.colab.kernel.accessAllowed ? 'block' : 'none';\n",
              "\n",
              "      async function convertToInteractive(key) {\n",
              "        const element = document.querySelector('#df-1431fc2c-b2a9-4369-91d6-92f99a25101f');\n",
              "        const dataTable =\n",
              "          await google.colab.kernel.invokeFunction('convertToInteractive',\n",
              "                                                    [key], {});\n",
              "        if (!dataTable) return;\n",
              "\n",
              "        const docLinkHtml = 'Like what you see? Visit the ' +\n",
              "          '<a target=\"_blank\" href=https://colab.research.google.com/notebooks/data_table.ipynb>data table notebook</a>'\n",
              "          + ' to learn more about interactive tables.';\n",
              "        element.innerHTML = '';\n",
              "        dataTable['output_type'] = 'display_data';\n",
              "        await google.colab.output.renderOutput(dataTable, element);\n",
              "        const docLink = document.createElement('div');\n",
              "        docLink.innerHTML = docLinkHtml;\n",
              "        element.appendChild(docLink);\n",
              "      }\n",
              "    </script>\n",
              "  </div>\n",
              "\n",
              "\n",
              "<div id=\"df-41e260d3-8da4-4383-bae2-14ab651ba041\">\n",
              "  <button class=\"colab-df-quickchart\" onclick=\"quickchart('df-41e260d3-8da4-4383-bae2-14ab651ba041')\"\n",
              "            title=\"Suggest charts\"\n",
              "            style=\"display:none;\">\n",
              "\n",
              "<svg xmlns=\"http://www.w3.org/2000/svg\" height=\"24px\"viewBox=\"0 0 24 24\"\n",
              "     width=\"24px\">\n",
              "    <g>\n",
              "        <path d=\"M19 3H5c-1.1 0-2 .9-2 2v14c0 1.1.9 2 2 2h14c1.1 0 2-.9 2-2V5c0-1.1-.9-2-2-2zM9 17H7v-7h2v7zm4 0h-2V7h2v10zm4 0h-2v-4h2v4z\"/>\n",
              "    </g>\n",
              "</svg>\n",
              "  </button>\n",
              "\n",
              "<style>\n",
              "  .colab-df-quickchart {\n",
              "      --bg-color: #E8F0FE;\n",
              "      --fill-color: #1967D2;\n",
              "      --hover-bg-color: #E2EBFA;\n",
              "      --hover-fill-color: #174EA6;\n",
              "      --disabled-fill-color: #AAA;\n",
              "      --disabled-bg-color: #DDD;\n",
              "  }\n",
              "\n",
              "  [theme=dark] .colab-df-quickchart {\n",
              "      --bg-color: #3B4455;\n",
              "      --fill-color: #D2E3FC;\n",
              "      --hover-bg-color: #434B5C;\n",
              "      --hover-fill-color: #FFFFFF;\n",
              "      --disabled-bg-color: #3B4455;\n",
              "      --disabled-fill-color: #666;\n",
              "  }\n",
              "\n",
              "  .colab-df-quickchart {\n",
              "    background-color: var(--bg-color);\n",
              "    border: none;\n",
              "    border-radius: 50%;\n",
              "    cursor: pointer;\n",
              "    display: none;\n",
              "    fill: var(--fill-color);\n",
              "    height: 32px;\n",
              "    padding: 0;\n",
              "    width: 32px;\n",
              "  }\n",
              "\n",
              "  .colab-df-quickchart:hover {\n",
              "    background-color: var(--hover-bg-color);\n",
              "    box-shadow: 0 1px 2px rgba(60, 64, 67, 0.3), 0 1px 3px 1px rgba(60, 64, 67, 0.15);\n",
              "    fill: var(--button-hover-fill-color);\n",
              "  }\n",
              "\n",
              "  .colab-df-quickchart-complete:disabled,\n",
              "  .colab-df-quickchart-complete:disabled:hover {\n",
              "    background-color: var(--disabled-bg-color);\n",
              "    fill: var(--disabled-fill-color);\n",
              "    box-shadow: none;\n",
              "  }\n",
              "\n",
              "  .colab-df-spinner {\n",
              "    border: 2px solid var(--fill-color);\n",
              "    border-color: transparent;\n",
              "    border-bottom-color: var(--fill-color);\n",
              "    animation:\n",
              "      spin 1s steps(1) infinite;\n",
              "  }\n",
              "\n",
              "  @keyframes spin {\n",
              "    0% {\n",
              "      border-color: transparent;\n",
              "      border-bottom-color: var(--fill-color);\n",
              "      border-left-color: var(--fill-color);\n",
              "    }\n",
              "    20% {\n",
              "      border-color: transparent;\n",
              "      border-left-color: var(--fill-color);\n",
              "      border-top-color: var(--fill-color);\n",
              "    }\n",
              "    30% {\n",
              "      border-color: transparent;\n",
              "      border-left-color: var(--fill-color);\n",
              "      border-top-color: var(--fill-color);\n",
              "      border-right-color: var(--fill-color);\n",
              "    }\n",
              "    40% {\n",
              "      border-color: transparent;\n",
              "      border-right-color: var(--fill-color);\n",
              "      border-top-color: var(--fill-color);\n",
              "    }\n",
              "    60% {\n",
              "      border-color: transparent;\n",
              "      border-right-color: var(--fill-color);\n",
              "    }\n",
              "    80% {\n",
              "      border-color: transparent;\n",
              "      border-right-color: var(--fill-color);\n",
              "      border-bottom-color: var(--fill-color);\n",
              "    }\n",
              "    90% {\n",
              "      border-color: transparent;\n",
              "      border-bottom-color: var(--fill-color);\n",
              "    }\n",
              "  }\n",
              "</style>\n",
              "\n",
              "  <script>\n",
              "    async function quickchart(key) {\n",
              "      const quickchartButtonEl =\n",
              "        document.querySelector('#' + key + ' button');\n",
              "      quickchartButtonEl.disabled = true;  // To prevent multiple clicks.\n",
              "      quickchartButtonEl.classList.add('colab-df-spinner');\n",
              "      try {\n",
              "        const charts = await google.colab.kernel.invokeFunction(\n",
              "            'suggestCharts', [key], {});\n",
              "      } catch (error) {\n",
              "        console.error('Error during call to suggestCharts:', error);\n",
              "      }\n",
              "      quickchartButtonEl.classList.remove('colab-df-spinner');\n",
              "      quickchartButtonEl.classList.add('colab-df-quickchart-complete');\n",
              "    }\n",
              "    (() => {\n",
              "      let quickchartButtonEl =\n",
              "        document.querySelector('#df-41e260d3-8da4-4383-bae2-14ab651ba041 button');\n",
              "      quickchartButtonEl.style.display =\n",
              "        google.colab.kernel.accessAllowed ? 'block' : 'none';\n",
              "    })();\n",
              "  </script>\n",
              "</div>\n",
              "\n",
              "    </div>\n",
              "  </div>\n"
            ],
            "application/vnd.google.colaboratory.intrinsic+json": {
              "type": "dataframe",
              "variable_name": "df_raw_2023",
              "summary": "{\n  \"name\": \"df_raw_2023\",\n  \"rows\": 15136,\n  \"fields\": [\n    {\n      \"column\": \"ID_samob\\u00f3jcy\",\n      \"properties\": {\n        \"dtype\": \"string\",\n        \"num_unique_values\": 15134,\n        \"samples\": [\n          138537735,\n          139320393,\n          139252885\n        ],\n        \"semantic_type\": \"\",\n        \"description\": \"\"\n      }\n    },\n    {\n      \"column\": \"Date\",\n      \"properties\": {\n        \"dtype\": \"category\",\n        \"num_unique_values\": 12,\n        \"samples\": [\n          \"11.2023\",\n          \"10.2023\",\n          \"01.2023\"\n        ],\n        \"semantic_type\": \"\",\n        \"description\": \"\"\n      }\n    },\n    {\n      \"column\": \"Age1\",\n      \"properties\": {\n        \"dtype\": \"category\",\n        \"num_unique_values\": 16,\n        \"samples\": [\n          \"25-29\",\n          \"55-59\",\n          \"50-54\"\n        ],\n        \"semantic_type\": \"\",\n        \"description\": \"\"\n      }\n    },\n    {\n      \"column\": \"Gender\",\n      \"properties\": {\n        \"dtype\": \"category\",\n        \"num_unique_values\": 2,\n        \"samples\": [\n          \"F\",\n          \"M\"\n        ],\n        \"semantic_type\": \"\",\n        \"description\": \"\"\n      }\n    },\n    {\n      \"column\": \"Marital\",\n      \"properties\": {\n        \"dtype\": \"category\",\n        \"num_unique_values\": 6,\n        \"samples\": [\n          \"Cohabitant\",\n          \"Married\"\n        ],\n        \"semantic_type\": \"\",\n        \"description\": \"\"\n      }\n    },\n    {\n      \"column\": \"Education\",\n      \"properties\": {\n        \"dtype\": \"category\",\n        \"num_unique_values\": 5,\n        \"samples\": [\n          \"Secondary\",\n          \"Higher\"\n        ],\n        \"semantic_type\": \"\",\n        \"description\": \"\"\n      }\n    },\n    {\n      \"column\": \"WorkInfo\",\n      \"properties\": {\n        \"dtype\": \"category\",\n        \"num_unique_values\": 4,\n        \"samples\": [\n          \"Student\",\n          \"Agriculturalist\"\n        ],\n        \"semantic_type\": \"\",\n        \"description\": \"\"\n      }\n    },\n    {\n      \"column\": \"Income\",\n      \"properties\": {\n        \"dtype\": \"category\",\n        \"num_unique_values\": 4,\n        \"samples\": [\n          \"Steady\",\n          \"NoSteady\"\n        ],\n        \"semantic_type\": \"\",\n        \"description\": \"\"\n      }\n    },\n    {\n      \"column\": \"Fatal\",\n      \"properties\": {\n        \"dtype\": \"number\",\n        \"std\": 0.4756294647878996,\n        \"min\": 0.0,\n        \"max\": 1.0,\n        \"num_unique_values\": 2,\n        \"samples\": [\n          1.0,\n          0.0\n        ],\n        \"semantic_type\": \"\",\n        \"description\": \"\"\n      }\n    },\n    {\n      \"column\": \"Place\",\n      \"properties\": {\n        \"dtype\": \"category\",\n        \"num_unique_values\": 12,\n        \"samples\": [\n          \"Isolation\",\n          \"Institution\"\n        ],\n        \"semantic_type\": \"\",\n        \"description\": \"\"\n      }\n    },\n    {\n      \"column\": \"Klasa_miejscowo\\u015bci\",\n      \"properties\": {\n        \"dtype\": \"category\",\n        \"num_unique_values\": 7,\n        \"samples\": [\n          \"Wie\\u015b\",\n          \"Miasto o liczbie ludno\\u015bci 20 000 \\u2013 49 999\"\n        ],\n        \"semantic_type\": \"\",\n        \"description\": \"\"\n      }\n    },\n    {\n      \"column\": \"Method\",\n      \"properties\": {\n        \"dtype\": \"category\",\n        \"num_unique_values\": 10,\n        \"samples\": [\n          \"Gas\",\n          \"Hanging\"\n        ],\n        \"semantic_type\": \"\",\n        \"description\": \"\"\n      }\n    },\n    {\n      \"column\": \"Substance\",\n      \"properties\": {\n        \"dtype\": \"category\",\n        \"num_unique_values\": 4,\n        \"samples\": [\n          \"Sober\",\n          \"Alco&OtherSub\"\n        ],\n        \"semantic_type\": \"\",\n        \"description\": \"\"\n      }\n    },\n    {\n      \"column\": \"AbuseInfo\",\n      \"properties\": {\n        \"dtype\": \"category\",\n        \"num_unique_values\": 3,\n        \"samples\": [\n          \"Alco\",\n          \"Alco&OtherSub\"\n        ],\n        \"semantic_type\": \"\",\n        \"description\": \"\"\n      }\n    },\n    {\n      \"column\": \"W_ci\\u0105gu_ostatniego_miesi\\u0105ca_sprawca_zdarzenia_mia\\u0142_przynajmniej_jeden_raz_kontakt_z_*\",\n      \"properties\": {\n        \"dtype\": \"category\",\n        \"num_unique_values\": 7,\n        \"samples\": [\n          \"Brak mo\\u017cliwo\\u015bci ustalenia\",\n          \"Plac\\u00f3wk\\u0105 lecznicz\\u0105\"\n        ],\n        \"semantic_type\": \"\",\n        \"description\": \"\"\n      }\n    },\n    {\n      \"column\": \"DateY\",\n      \"properties\": {\n        \"dtype\": \"object\",\n        \"num_unique_values\": 1,\n        \"samples\": [\n          \"2023\"\n        ],\n        \"semantic_type\": \"\",\n        \"description\": \"\"\n      }\n    },\n    {\n      \"column\": \"DateM\",\n      \"properties\": {\n        \"dtype\": \"category\",\n        \"num_unique_values\": 12,\n        \"samples\": [\n          \"11\"\n        ],\n        \"semantic_type\": \"\",\n        \"description\": \"\"\n      }\n    },\n    {\n      \"column\": \"Age2\",\n      \"properties\": {\n        \"dtype\": \"category\",\n        \"num_unique_values\": 4,\n        \"samples\": [\n          \"35-64\"\n        ],\n        \"semantic_type\": \"\",\n        \"description\": \"\"\n      }\n    },\n    {\n      \"column\": \"CountContext\",\n      \"properties\": {\n        \"dtype\": \"number\",\n        \"std\": 0,\n        \"min\": 0,\n        \"max\": 4,\n        \"num_unique_values\": 5,\n        \"samples\": [\n          0\n        ],\n        \"semantic_type\": \"\",\n        \"description\": \"\"\n      }\n    }\n  ]\n}"
            }
          },
          "metadata": {},
          "execution_count": 202
        }
      ]
    },
    {
      "cell_type": "markdown",
      "source": [
        "# 2013_2022"
      ],
      "metadata": {
        "id": "FQACGwJoHX3N"
      }
    },
    {
      "cell_type": "code",
      "source": [
        "df_raw_2013_2022 = pd.read_csv('https://raw.githubusercontent.com/Hubert26/suicides_IPPAN/main/data/final_samobojstwa_2013_2022.csv', delimiter=',', low_memory=False)"
      ],
      "metadata": {
        "id": "6tkdlq4U9IiR"
      },
      "execution_count": 203,
      "outputs": []
    },
    {
      "cell_type": "code",
      "source": [
        "df_raw_2013_2022.head(5)"
      ],
      "metadata": {
        "colab": {
          "base_uri": "https://localhost:8080/",
          "height": 278
        },
        "id": "I82sDdsenwpk",
        "outputId": "3de59568-d919-48ba-83ab-63c60c6d7569"
      },
      "execution_count": 204,
      "outputs": [
        {
          "output_type": "execute_result",
          "data": {
            "text/plain": [
              "   ID samobójcy Data raportu [RRRRMM]  Przedział wiekowy  Płeć  Stan cywilny  \\\n",
              "0  114581552,00                201301                  0     2             0   \n",
              "1  114584284,00                201301                  2     2             0   \n",
              "2  114584293,00                201301                  2     1             1   \n",
              "3  114584312,00                201301                  3     2             1   \n",
              "4  114584399,00                201301                  7     2             1   \n",
              "\n",
              "   Wykształcenie  Informacje o pracy i nauce  Źródło utrzymania  \\\n",
              "0              0                           0                  0   \n",
              "1              0                           1                  0   \n",
              "2              2                           1                  1   \n",
              "3              0                           0                  0   \n",
              "4              0                           9                  0   \n",
              "\n",
              "   Czy samobójstwo zakończyło się zgonem  Miejsce zamachu  Sposób popełnienia  \\\n",
              "0                                      0                0                   0   \n",
              "1                                      1                1                   1   \n",
              "2                                      1               15                   2   \n",
              "3                                      1                0                  18   \n",
              "4                                      1                2                   3   \n",
              "\n",
              "   Powód zamachu Powód zamachu 2  Powód zamachu 3  Powód zamachu 4  \\\n",
              "0              0             NaN              NaN              NaN   \n",
              "1              0             NaN              NaN              NaN   \n",
              "2              0             NaN              NaN              NaN   \n",
              "3              1             NaN              NaN              NaN   \n",
              "4              0             NaN              NaN              NaN   \n",
              "\n",
              "   Stan świadomości  Informacje o używaniu substancji  \\\n",
              "0                 0                                 0   \n",
              "1                 0                                 0   \n",
              "2                 0                                 0   \n",
              "3                 0                                 0   \n",
              "4                 2                                 0   \n",
              "\n",
              "   Informacje dotyczące leczenia z powodu alkoholizmu/narkomanii  \n",
              "0                                                  0              \n",
              "1                                                  0              \n",
              "2                                                  0              \n",
              "3                                                  0              \n",
              "4                                                  0              "
            ],
            "text/html": [
              "\n",
              "  <div id=\"df-1b33b597-1bc1-442c-bec2-30bd1670af80\" class=\"colab-df-container\">\n",
              "    <div>\n",
              "<style scoped>\n",
              "    .dataframe tbody tr th:only-of-type {\n",
              "        vertical-align: middle;\n",
              "    }\n",
              "\n",
              "    .dataframe tbody tr th {\n",
              "        vertical-align: top;\n",
              "    }\n",
              "\n",
              "    .dataframe thead th {\n",
              "        text-align: right;\n",
              "    }\n",
              "</style>\n",
              "<table border=\"1\" class=\"dataframe\">\n",
              "  <thead>\n",
              "    <tr style=\"text-align: right;\">\n",
              "      <th></th>\n",
              "      <th>ID samobójcy</th>\n",
              "      <th>Data raportu [RRRRMM]</th>\n",
              "      <th>Przedział wiekowy</th>\n",
              "      <th>Płeć</th>\n",
              "      <th>Stan cywilny</th>\n",
              "      <th>Wykształcenie</th>\n",
              "      <th>Informacje o pracy i nauce</th>\n",
              "      <th>Źródło utrzymania</th>\n",
              "      <th>Czy samobójstwo zakończyło się zgonem</th>\n",
              "      <th>Miejsce zamachu</th>\n",
              "      <th>Sposób popełnienia</th>\n",
              "      <th>Powód zamachu</th>\n",
              "      <th>Powód zamachu 2</th>\n",
              "      <th>Powód zamachu 3</th>\n",
              "      <th>Powód zamachu 4</th>\n",
              "      <th>Stan świadomości</th>\n",
              "      <th>Informacje o używaniu substancji</th>\n",
              "      <th>Informacje dotyczące leczenia z powodu alkoholizmu/narkomanii</th>\n",
              "    </tr>\n",
              "  </thead>\n",
              "  <tbody>\n",
              "    <tr>\n",
              "      <th>0</th>\n",
              "      <td>114581552,00</td>\n",
              "      <td>201301</td>\n",
              "      <td>0</td>\n",
              "      <td>2</td>\n",
              "      <td>0</td>\n",
              "      <td>0</td>\n",
              "      <td>0</td>\n",
              "      <td>0</td>\n",
              "      <td>0</td>\n",
              "      <td>0</td>\n",
              "      <td>0</td>\n",
              "      <td>0</td>\n",
              "      <td>NaN</td>\n",
              "      <td>NaN</td>\n",
              "      <td>NaN</td>\n",
              "      <td>0</td>\n",
              "      <td>0</td>\n",
              "      <td>0</td>\n",
              "    </tr>\n",
              "    <tr>\n",
              "      <th>1</th>\n",
              "      <td>114584284,00</td>\n",
              "      <td>201301</td>\n",
              "      <td>2</td>\n",
              "      <td>2</td>\n",
              "      <td>0</td>\n",
              "      <td>0</td>\n",
              "      <td>1</td>\n",
              "      <td>0</td>\n",
              "      <td>1</td>\n",
              "      <td>1</td>\n",
              "      <td>1</td>\n",
              "      <td>0</td>\n",
              "      <td>NaN</td>\n",
              "      <td>NaN</td>\n",
              "      <td>NaN</td>\n",
              "      <td>0</td>\n",
              "      <td>0</td>\n",
              "      <td>0</td>\n",
              "    </tr>\n",
              "    <tr>\n",
              "      <th>2</th>\n",
              "      <td>114584293,00</td>\n",
              "      <td>201301</td>\n",
              "      <td>2</td>\n",
              "      <td>1</td>\n",
              "      <td>1</td>\n",
              "      <td>2</td>\n",
              "      <td>1</td>\n",
              "      <td>1</td>\n",
              "      <td>1</td>\n",
              "      <td>15</td>\n",
              "      <td>2</td>\n",
              "      <td>0</td>\n",
              "      <td>NaN</td>\n",
              "      <td>NaN</td>\n",
              "      <td>NaN</td>\n",
              "      <td>0</td>\n",
              "      <td>0</td>\n",
              "      <td>0</td>\n",
              "    </tr>\n",
              "    <tr>\n",
              "      <th>3</th>\n",
              "      <td>114584312,00</td>\n",
              "      <td>201301</td>\n",
              "      <td>3</td>\n",
              "      <td>2</td>\n",
              "      <td>1</td>\n",
              "      <td>0</td>\n",
              "      <td>0</td>\n",
              "      <td>0</td>\n",
              "      <td>1</td>\n",
              "      <td>0</td>\n",
              "      <td>18</td>\n",
              "      <td>1</td>\n",
              "      <td>NaN</td>\n",
              "      <td>NaN</td>\n",
              "      <td>NaN</td>\n",
              "      <td>0</td>\n",
              "      <td>0</td>\n",
              "      <td>0</td>\n",
              "    </tr>\n",
              "    <tr>\n",
              "      <th>4</th>\n",
              "      <td>114584399,00</td>\n",
              "      <td>201301</td>\n",
              "      <td>7</td>\n",
              "      <td>2</td>\n",
              "      <td>1</td>\n",
              "      <td>0</td>\n",
              "      <td>9</td>\n",
              "      <td>0</td>\n",
              "      <td>1</td>\n",
              "      <td>2</td>\n",
              "      <td>3</td>\n",
              "      <td>0</td>\n",
              "      <td>NaN</td>\n",
              "      <td>NaN</td>\n",
              "      <td>NaN</td>\n",
              "      <td>2</td>\n",
              "      <td>0</td>\n",
              "      <td>0</td>\n",
              "    </tr>\n",
              "  </tbody>\n",
              "</table>\n",
              "</div>\n",
              "    <div class=\"colab-df-buttons\">\n",
              "\n",
              "  <div class=\"colab-df-container\">\n",
              "    <button class=\"colab-df-convert\" onclick=\"convertToInteractive('df-1b33b597-1bc1-442c-bec2-30bd1670af80')\"\n",
              "            title=\"Convert this dataframe to an interactive table.\"\n",
              "            style=\"display:none;\">\n",
              "\n",
              "  <svg xmlns=\"http://www.w3.org/2000/svg\" height=\"24px\" viewBox=\"0 -960 960 960\">\n",
              "    <path d=\"M120-120v-720h720v720H120Zm60-500h600v-160H180v160Zm220 220h160v-160H400v160Zm0 220h160v-160H400v160ZM180-400h160v-160H180v160Zm440 0h160v-160H620v160ZM180-180h160v-160H180v160Zm440 0h160v-160H620v160Z\"/>\n",
              "  </svg>\n",
              "    </button>\n",
              "\n",
              "  <style>\n",
              "    .colab-df-container {\n",
              "      display:flex;\n",
              "      gap: 12px;\n",
              "    }\n",
              "\n",
              "    .colab-df-convert {\n",
              "      background-color: #E8F0FE;\n",
              "      border: none;\n",
              "      border-radius: 50%;\n",
              "      cursor: pointer;\n",
              "      display: none;\n",
              "      fill: #1967D2;\n",
              "      height: 32px;\n",
              "      padding: 0 0 0 0;\n",
              "      width: 32px;\n",
              "    }\n",
              "\n",
              "    .colab-df-convert:hover {\n",
              "      background-color: #E2EBFA;\n",
              "      box-shadow: 0px 1px 2px rgba(60, 64, 67, 0.3), 0px 1px 3px 1px rgba(60, 64, 67, 0.15);\n",
              "      fill: #174EA6;\n",
              "    }\n",
              "\n",
              "    .colab-df-buttons div {\n",
              "      margin-bottom: 4px;\n",
              "    }\n",
              "\n",
              "    [theme=dark] .colab-df-convert {\n",
              "      background-color: #3B4455;\n",
              "      fill: #D2E3FC;\n",
              "    }\n",
              "\n",
              "    [theme=dark] .colab-df-convert:hover {\n",
              "      background-color: #434B5C;\n",
              "      box-shadow: 0px 1px 3px 1px rgba(0, 0, 0, 0.15);\n",
              "      filter: drop-shadow(0px 1px 2px rgba(0, 0, 0, 0.3));\n",
              "      fill: #FFFFFF;\n",
              "    }\n",
              "  </style>\n",
              "\n",
              "    <script>\n",
              "      const buttonEl =\n",
              "        document.querySelector('#df-1b33b597-1bc1-442c-bec2-30bd1670af80 button.colab-df-convert');\n",
              "      buttonEl.style.display =\n",
              "        google.colab.kernel.accessAllowed ? 'block' : 'none';\n",
              "\n",
              "      async function convertToInteractive(key) {\n",
              "        const element = document.querySelector('#df-1b33b597-1bc1-442c-bec2-30bd1670af80');\n",
              "        const dataTable =\n",
              "          await google.colab.kernel.invokeFunction('convertToInteractive',\n",
              "                                                    [key], {});\n",
              "        if (!dataTable) return;\n",
              "\n",
              "        const docLinkHtml = 'Like what you see? Visit the ' +\n",
              "          '<a target=\"_blank\" href=https://colab.research.google.com/notebooks/data_table.ipynb>data table notebook</a>'\n",
              "          + ' to learn more about interactive tables.';\n",
              "        element.innerHTML = '';\n",
              "        dataTable['output_type'] = 'display_data';\n",
              "        await google.colab.output.renderOutput(dataTable, element);\n",
              "        const docLink = document.createElement('div');\n",
              "        docLink.innerHTML = docLinkHtml;\n",
              "        element.appendChild(docLink);\n",
              "      }\n",
              "    </script>\n",
              "  </div>\n",
              "\n",
              "\n",
              "<div id=\"df-f8fd8bca-937d-47e5-ba4f-38af2003a205\">\n",
              "  <button class=\"colab-df-quickchart\" onclick=\"quickchart('df-f8fd8bca-937d-47e5-ba4f-38af2003a205')\"\n",
              "            title=\"Suggest charts\"\n",
              "            style=\"display:none;\">\n",
              "\n",
              "<svg xmlns=\"http://www.w3.org/2000/svg\" height=\"24px\"viewBox=\"0 0 24 24\"\n",
              "     width=\"24px\">\n",
              "    <g>\n",
              "        <path d=\"M19 3H5c-1.1 0-2 .9-2 2v14c0 1.1.9 2 2 2h14c1.1 0 2-.9 2-2V5c0-1.1-.9-2-2-2zM9 17H7v-7h2v7zm4 0h-2V7h2v10zm4 0h-2v-4h2v4z\"/>\n",
              "    </g>\n",
              "</svg>\n",
              "  </button>\n",
              "\n",
              "<style>\n",
              "  .colab-df-quickchart {\n",
              "      --bg-color: #E8F0FE;\n",
              "      --fill-color: #1967D2;\n",
              "      --hover-bg-color: #E2EBFA;\n",
              "      --hover-fill-color: #174EA6;\n",
              "      --disabled-fill-color: #AAA;\n",
              "      --disabled-bg-color: #DDD;\n",
              "  }\n",
              "\n",
              "  [theme=dark] .colab-df-quickchart {\n",
              "      --bg-color: #3B4455;\n",
              "      --fill-color: #D2E3FC;\n",
              "      --hover-bg-color: #434B5C;\n",
              "      --hover-fill-color: #FFFFFF;\n",
              "      --disabled-bg-color: #3B4455;\n",
              "      --disabled-fill-color: #666;\n",
              "  }\n",
              "\n",
              "  .colab-df-quickchart {\n",
              "    background-color: var(--bg-color);\n",
              "    border: none;\n",
              "    border-radius: 50%;\n",
              "    cursor: pointer;\n",
              "    display: none;\n",
              "    fill: var(--fill-color);\n",
              "    height: 32px;\n",
              "    padding: 0;\n",
              "    width: 32px;\n",
              "  }\n",
              "\n",
              "  .colab-df-quickchart:hover {\n",
              "    background-color: var(--hover-bg-color);\n",
              "    box-shadow: 0 1px 2px rgba(60, 64, 67, 0.3), 0 1px 3px 1px rgba(60, 64, 67, 0.15);\n",
              "    fill: var(--button-hover-fill-color);\n",
              "  }\n",
              "\n",
              "  .colab-df-quickchart-complete:disabled,\n",
              "  .colab-df-quickchart-complete:disabled:hover {\n",
              "    background-color: var(--disabled-bg-color);\n",
              "    fill: var(--disabled-fill-color);\n",
              "    box-shadow: none;\n",
              "  }\n",
              "\n",
              "  .colab-df-spinner {\n",
              "    border: 2px solid var(--fill-color);\n",
              "    border-color: transparent;\n",
              "    border-bottom-color: var(--fill-color);\n",
              "    animation:\n",
              "      spin 1s steps(1) infinite;\n",
              "  }\n",
              "\n",
              "  @keyframes spin {\n",
              "    0% {\n",
              "      border-color: transparent;\n",
              "      border-bottom-color: var(--fill-color);\n",
              "      border-left-color: var(--fill-color);\n",
              "    }\n",
              "    20% {\n",
              "      border-color: transparent;\n",
              "      border-left-color: var(--fill-color);\n",
              "      border-top-color: var(--fill-color);\n",
              "    }\n",
              "    30% {\n",
              "      border-color: transparent;\n",
              "      border-left-color: var(--fill-color);\n",
              "      border-top-color: var(--fill-color);\n",
              "      border-right-color: var(--fill-color);\n",
              "    }\n",
              "    40% {\n",
              "      border-color: transparent;\n",
              "      border-right-color: var(--fill-color);\n",
              "      border-top-color: var(--fill-color);\n",
              "    }\n",
              "    60% {\n",
              "      border-color: transparent;\n",
              "      border-right-color: var(--fill-color);\n",
              "    }\n",
              "    80% {\n",
              "      border-color: transparent;\n",
              "      border-right-color: var(--fill-color);\n",
              "      border-bottom-color: var(--fill-color);\n",
              "    }\n",
              "    90% {\n",
              "      border-color: transparent;\n",
              "      border-bottom-color: var(--fill-color);\n",
              "    }\n",
              "  }\n",
              "</style>\n",
              "\n",
              "  <script>\n",
              "    async function quickchart(key) {\n",
              "      const quickchartButtonEl =\n",
              "        document.querySelector('#' + key + ' button');\n",
              "      quickchartButtonEl.disabled = true;  // To prevent multiple clicks.\n",
              "      quickchartButtonEl.classList.add('colab-df-spinner');\n",
              "      try {\n",
              "        const charts = await google.colab.kernel.invokeFunction(\n",
              "            'suggestCharts', [key], {});\n",
              "      } catch (error) {\n",
              "        console.error('Error during call to suggestCharts:', error);\n",
              "      }\n",
              "      quickchartButtonEl.classList.remove('colab-df-spinner');\n",
              "      quickchartButtonEl.classList.add('colab-df-quickchart-complete');\n",
              "    }\n",
              "    (() => {\n",
              "      let quickchartButtonEl =\n",
              "        document.querySelector('#df-f8fd8bca-937d-47e5-ba4f-38af2003a205 button');\n",
              "      quickchartButtonEl.style.display =\n",
              "        google.colab.kernel.accessAllowed ? 'block' : 'none';\n",
              "    })();\n",
              "  </script>\n",
              "</div>\n",
              "\n",
              "    </div>\n",
              "  </div>\n"
            ],
            "application/vnd.google.colaboratory.intrinsic+json": {
              "type": "dataframe",
              "variable_name": "df_raw_2013_2022"
            }
          },
          "metadata": {},
          "execution_count": 204
        }
      ]
    },
    {
      "cell_type": "markdown",
      "source": [
        "##Zamiana nazw kolumn"
      ],
      "metadata": {
        "id": "rj96zAJgscX0"
      }
    },
    {
      "cell_type": "code",
      "source": [
        "# Zamiana spacji na podkreślenia w nazwach kolumn\n",
        "df_raw_2013_2022.rename(columns=lambda x: x.replace(' ', '_'), inplace=True)\n"
      ],
      "metadata": {
        "id": "vFFTYs2PpRPX"
      },
      "execution_count": 205,
      "outputs": []
    },
    {
      "cell_type": "code",
      "source": [
        "df_raw_2013_2022.rename(columns={'Data_raportu_[RRRRMM]': 'Date'}, inplace=True)"
      ],
      "metadata": {
        "id": "IvJoL7w9qM17"
      },
      "execution_count": 206,
      "outputs": []
    },
    {
      "cell_type": "markdown",
      "source": [
        "## Daty"
      ],
      "metadata": {
        "id": "JlALEV7qsgq7"
      }
    },
    {
      "cell_type": "code",
      "source": [
        "# Wyodrębnienie roku i miesiąca\n",
        "df_raw_2013_2022['DateY'] = df_raw_2013_2022['Date'].apply(lambda x: x[0:4] if len(x) > 8 else x[:4])\n",
        "df_raw_2013_2022['DateM'] = df_raw_2013_2022['Date'].apply(lambda x: x[5:7] if len(x) > 8 else x[4:6])"
      ],
      "metadata": {
        "id": "c-3hQB6Pqvia"
      },
      "execution_count": 207,
      "outputs": []
    },
    {
      "cell_type": "code",
      "source": [
        "df_raw_2013_2022['DateY'].unique()"
      ],
      "metadata": {
        "outputId": "eff566bb-1727-429b-fedc-1fd2f095ace7",
        "colab": {
          "base_uri": "https://localhost:8080/"
        },
        "id": "QLw-wjWfwwH9"
      },
      "execution_count": 208,
      "outputs": [
        {
          "output_type": "execute_result",
          "data": {
            "text/plain": [
              "array(['2013', '2014', '2015', '2016', '2017', '2018', '2019', '2020',\n",
              "       '2021', '2022'], dtype=object)"
            ]
          },
          "metadata": {},
          "execution_count": 208
        }
      ]
    },
    {
      "cell_type": "code",
      "source": [
        "df_raw_2013_2022['DateM'].unique()"
      ],
      "metadata": {
        "outputId": "24cbbcc9-3975-41db-a79f-edaf22bc3bc6",
        "colab": {
          "base_uri": "https://localhost:8080/"
        },
        "id": "zBCSHl4MwwH-"
      },
      "execution_count": 209,
      "outputs": [
        {
          "output_type": "execute_result",
          "data": {
            "text/plain": [
              "array(['01', '02', '03', '04', '05', '06', '07', '08', '09', '10', '11',\n",
              "       '12'], dtype=object)"
            ]
          },
          "metadata": {},
          "execution_count": 209
        }
      ]
    },
    {
      "cell_type": "code",
      "source": [
        "# Połączenie roku i miesiąca w formacie MM.YYYY\n",
        "df_raw_2013_2022['Date'] = df_raw_2013_2022['DateM'] + '.' + df_raw_2013_2022['DateY']"
      ],
      "metadata": {
        "id": "2WM9RCmQsPIz"
      },
      "execution_count": 210,
      "outputs": []
    },
    {
      "cell_type": "code",
      "source": [
        "df_raw_2013_2022['Date'].unique()"
      ],
      "metadata": {
        "id": "xdBZ7CzUxbNQ",
        "outputId": "4aa81dfc-4583-4c00-acb5-9df89d32af3d",
        "colab": {
          "base_uri": "https://localhost:8080/"
        }
      },
      "execution_count": 211,
      "outputs": [
        {
          "output_type": "execute_result",
          "data": {
            "text/plain": [
              "array(['01.2013', '02.2013', '03.2013', '04.2013', '05.2013', '06.2013',\n",
              "       '07.2013', '08.2013', '09.2013', '10.2013', '11.2013', '12.2013',\n",
              "       '01.2014', '02.2014', '03.2014', '04.2014', '05.2014', '06.2014',\n",
              "       '07.2014', '08.2014', '09.2014', '10.2014', '11.2014', '12.2014',\n",
              "       '01.2015', '02.2015', '03.2015', '04.2015', '05.2015', '06.2015',\n",
              "       '07.2015', '08.2015', '09.2015', '10.2015', '11.2015', '12.2015',\n",
              "       '01.2016', '02.2016', '03.2016', '04.2016', '05.2016', '06.2016',\n",
              "       '07.2016', '08.2016', '09.2016', '10.2016', '11.2016', '12.2016',\n",
              "       '01.2017', '02.2017', '03.2017', '04.2017', '05.2017', '06.2017',\n",
              "       '07.2017', '08.2017', '09.2017', '10.2017', '11.2017', '12.2017',\n",
              "       '01.2018', '02.2018', '03.2018', '04.2018', '05.2018', '06.2018',\n",
              "       '07.2018', '08.2018', '09.2018', '10.2018', '11.2018', '12.2018',\n",
              "       '01.2019', '02.2019', '03.2019', '04.2019', '05.2019', '06.2019',\n",
              "       '07.2019', '08.2019', '09.2019', '10.2019', '11.2019', '12.2019',\n",
              "       '01.2020', '02.2020', '03.2020', '04.2020', '05.2020', '06.2020',\n",
              "       '07.2020', '08.2020', '09.2020', '10.2020', '11.2020', '12.2020',\n",
              "       '01.2021', '02.2021', '03.2021', '04.2021', '05.2021', '06.2021',\n",
              "       '07.2021', '08.2021', '09.2021', '10.2021', '11.2021', '12.2021',\n",
              "       '01.2022', '02.2022', '03.2022', '04.2022', '05.2022', '06.2022',\n",
              "       '07.2022', '08.2022', '09.2022', '10.2022', '11.2022', '12.2022'],\n",
              "      dtype=object)"
            ]
          },
          "metadata": {},
          "execution_count": 211
        }
      ]
    },
    {
      "cell_type": "markdown",
      "source": [
        "##Mapowanie"
      ],
      "metadata": {
        "id": "JiRyS2MWzVc2"
      }
    },
    {
      "cell_type": "markdown",
      "source": [
        "###Przedział_wiekowy"
      ],
      "metadata": {
        "id": "0kaeAdoFslz6"
      }
    },
    {
      "cell_type": "code",
      "source": [
        "column = 'Przedział_wiekowy'\n",
        "mapping = {\n",
        "    0: np.nan,\n",
        "    1: '07-12',\n",
        "    2: '13-18',\n",
        "    3: '19-24',\n",
        "    4: '25-29',\n",
        "    5: '30-34',\n",
        "    6: '35-39',\n",
        "    7: '40-44',\n",
        "    8: '45-49',\n",
        "    9: '50-54',\n",
        "    10: '55-59',\n",
        "    11: '60-64',\n",
        "    12: '65-69',\n",
        "    13: '70-74',\n",
        "    14: '75-79',\n",
        "    15: '80-84',\n",
        "    16: '85+'\n",
        "}\n",
        "\n",
        "df_raw_2013_2022[column] = df_raw_2013_2022[column].map(mapping)\n",
        "df_raw_2013_2022.rename(columns={column: 'Age1'}, inplace=True)"
      ],
      "metadata": {
        "id": "puGo66ZWtnUR"
      },
      "execution_count": 212,
      "outputs": []
    },
    {
      "cell_type": "code",
      "source": [
        "df_raw_2013_2022['Age2']=df_raw_2013_2022['Age1']"
      ],
      "metadata": {
        "id": "Jn9Sn7gUfhkP"
      },
      "execution_count": 213,
      "outputs": []
    },
    {
      "cell_type": "code",
      "source": [
        "column = 'Age2'\n",
        "mapping = {\n",
        "    \"07-12\": '00-18',\n",
        "    '13-18': '00-18',\n",
        "    '19-24': '19-34',\n",
        "    '25-29': '19-34',\n",
        "    '30-34': '19-34',\n",
        "    '35-39': '35-64',\n",
        "    '40-44': '35-64',\n",
        "    '45-49': '35-64',\n",
        "    '50-54': '35-64',\n",
        "    '55-59': '35-64',\n",
        "    '60-64': '35-64',\n",
        "    '65-69': '65+',\n",
        "    '70-74': '65+',\n",
        "    '75-79': '65+',\n",
        "    '80-84': '65+',\n",
        "    '85+': '65+'\n",
        "}\n",
        "\n",
        "df_raw_2013_2022[column] = df_raw_2013_2022[column].map(mapping)\n"
      ],
      "metadata": {
        "id": "yLL12Hlefd7e"
      },
      "execution_count": 214,
      "outputs": []
    },
    {
      "cell_type": "code",
      "source": [
        "df_raw_2013_2022['Age2'].unique()"
      ],
      "metadata": {
        "colab": {
          "base_uri": "https://localhost:8080/"
        },
        "id": "i3yn9lUjf8Ki",
        "outputId": "30cf83a7-5567-4b24-b82f-e9e2746cc890"
      },
      "execution_count": 215,
      "outputs": [
        {
          "output_type": "execute_result",
          "data": {
            "text/plain": [
              "array([nan, '00-18', '19-34', '35-64', '65+'], dtype=object)"
            ]
          },
          "metadata": {},
          "execution_count": 215
        }
      ]
    },
    {
      "cell_type": "markdown",
      "source": [
        "###Płeć"
      ],
      "metadata": {
        "id": "YyK6HFhazbND"
      }
    },
    {
      "cell_type": "code",
      "source": [
        "column = 'Płeć'\n",
        "mapping = {\n",
        "    0: np.nan,\n",
        "    1: 'F',\n",
        "    2: 'M'\n",
        "}\n",
        "\n",
        "df_raw_2013_2022[column] = df_raw_2013_2022[column].map(mapping)\n",
        "df_raw_2013_2022.rename(columns={column: 'Gender'}, inplace=True)"
      ],
      "metadata": {
        "id": "-TieLJPJufVk"
      },
      "execution_count": 216,
      "outputs": []
    },
    {
      "cell_type": "code",
      "source": [
        "df_raw_2013_2022['Gender'].unique()"
      ],
      "metadata": {
        "colab": {
          "base_uri": "https://localhost:8080/"
        },
        "id": "iPAoHWAlhFYg",
        "outputId": "f4db45dd-ccc4-4b17-ce0a-512c4fe1895a"
      },
      "execution_count": 217,
      "outputs": [
        {
          "output_type": "execute_result",
          "data": {
            "text/plain": [
              "array(['M', 'F', nan], dtype=object)"
            ]
          },
          "metadata": {},
          "execution_count": 217
        }
      ]
    },
    {
      "cell_type": "markdown",
      "source": [
        "###Stan_cywilny"
      ],
      "metadata": {
        "id": "l8XgeOBfzfC8"
      }
    },
    {
      "cell_type": "code",
      "source": [
        "column = 'Stan_cywilny'\n",
        "mapping = {\n",
        "    0: np.nan,\n",
        "    1: 'Single',\n",
        "    2: 'Cohabitant',\n",
        "    3: 'Married',\n",
        "    4: 'Separated',\n",
        "    5: 'Divorced',\n",
        "    6: 'Widowed'\n",
        "}\n",
        "\n",
        "df_raw_2013_2022[column] = df_raw_2013_2022[column].map(mapping)\n",
        "df_raw_2013_2022.rename(columns={column: 'Marital'}, inplace=True)\n"
      ],
      "metadata": {
        "id": "3HN6t_OIugpM"
      },
      "execution_count": 218,
      "outputs": []
    },
    {
      "cell_type": "code",
      "source": [
        "df_raw_2013_2022['Marital'].unique()"
      ],
      "metadata": {
        "colab": {
          "base_uri": "https://localhost:8080/"
        },
        "id": "uIYaToi7hPyT",
        "outputId": "077a834b-185a-45a1-b79a-6d4a40ce5fe2"
      },
      "execution_count": 219,
      "outputs": [
        {
          "output_type": "execute_result",
          "data": {
            "text/plain": [
              "array([nan, 'Single', 'Married', 'Cohabitant', 'Widowed', 'Separated',\n",
              "       'Divorced'], dtype=object)"
            ]
          },
          "metadata": {},
          "execution_count": 219
        }
      ]
    },
    {
      "cell_type": "markdown",
      "source": [
        "###Wykształcenie"
      ],
      "metadata": {
        "id": "L04fi8Atzh02"
      }
    },
    {
      "cell_type": "code",
      "source": [
        "column = 'Wykształcenie'\n",
        "mapping = {\n",
        "    0: np.nan,\n",
        "    1: 'Pre-primary',\n",
        "    2: 'Primary',\n",
        "    3: 'Secondary',\n",
        "    4: 'Vocational',\n",
        "    5: 'Secondary',\n",
        "    6: 'Secondary',\n",
        "    7: 'Higher'\n",
        "}\n",
        "\n",
        "df_raw_2013_2022[column] = df_raw_2013_2022[column].map(mapping)\n",
        "df_raw_2013_2022.rename(columns={column: 'Education'}, inplace=True)\n",
        "\n"
      ],
      "metadata": {
        "id": "he03vcArumwI"
      },
      "execution_count": 220,
      "outputs": []
    },
    {
      "cell_type": "code",
      "source": [
        "df_raw_2013_2022['Education'].unique()"
      ],
      "metadata": {
        "colab": {
          "base_uri": "https://localhost:8080/"
        },
        "id": "YToQKlWKha_g",
        "outputId": "a371a463-bfe5-452a-ce2e-13a9fb56e50e"
      },
      "execution_count": 221,
      "outputs": [
        {
          "output_type": "execute_result",
          "data": {
            "text/plain": [
              "array([nan, 'Primary', 'Vocational', 'Higher', 'Secondary', 'Pre-primary'],\n",
              "      dtype=object)"
            ]
          },
          "metadata": {},
          "execution_count": 221
        }
      ]
    },
    {
      "cell_type": "markdown",
      "source": [
        "###Informacje_o_pracy_i_nauce"
      ],
      "metadata": {
        "id": "lgCz59qbzklI"
      }
    },
    {
      "cell_type": "code",
      "source": [
        "column = 'Informacje_o_pracy_i_nauce'\n",
        "mapping = {\n",
        "    0: np.nan,\n",
        "    1: 'Student',\n",
        "    2: 'Student',\n",
        "    3: 'Employed',\n",
        "    4: 'Employed',\n",
        "    5: 'Agriculturalist',\n",
        "    6: 'Employed',\n",
        "    7: 'Employed',\n",
        "    8: 'Employed',\n",
        "    9: 'Unemployed'\n",
        "}\n",
        "\n",
        "df_raw_2013_2022[column] = df_raw_2013_2022[column].map(mapping)\n",
        "df_raw_2013_2022.rename(columns={column: 'WorkInfo'}, inplace=True)"
      ],
      "metadata": {
        "id": "s6G7PtRdvWQa"
      },
      "execution_count": 222,
      "outputs": []
    },
    {
      "cell_type": "code",
      "source": [
        "df_raw_2013_2022['WorkInfo'].unique()"
      ],
      "metadata": {
        "colab": {
          "base_uri": "https://localhost:8080/"
        },
        "id": "HLwLKWn3h9Ls",
        "outputId": "fd5039e4-6fc5-4444-cefe-320fe0dafe9f"
      },
      "execution_count": 223,
      "outputs": [
        {
          "output_type": "execute_result",
          "data": {
            "text/plain": [
              "array([nan, 'Student', 'Unemployed', 'Employed', 'Agriculturalist'],\n",
              "      dtype=object)"
            ]
          },
          "metadata": {},
          "execution_count": 223
        }
      ]
    },
    {
      "cell_type": "markdown",
      "source": [
        "###Źródło_utrzymania"
      ],
      "metadata": {
        "id": "CqCkSO87zotR"
      }
    },
    {
      "cell_type": "code",
      "source": [
        "column = 'Źródło_utrzymania'\n",
        "mapping = {\n",
        "    0: np.nan,  # Zamiana 0 na NaN\n",
        "    1: 'Dependent',\n",
        "    2: 'Steady',\n",
        "    3: 'Benefits',\n",
        "    4: 'NoSteady'\n",
        "}\n",
        "\n",
        "df_raw_2013_2022[column] = df_raw_2013_2022[column].map(mapping)\n",
        "df_raw_2013_2022.rename(columns={column: 'Income'}, inplace=True)"
      ],
      "metadata": {
        "id": "AQ7XQgvZwIwg"
      },
      "execution_count": 224,
      "outputs": []
    },
    {
      "cell_type": "code",
      "source": [
        "df_raw_2013_2022['Income'].unique()"
      ],
      "metadata": {
        "colab": {
          "base_uri": "https://localhost:8080/"
        },
        "id": "KORGqS7Gij5A",
        "outputId": "51b3e228-05de-488a-ead6-f60224de2432"
      },
      "execution_count": 225,
      "outputs": [
        {
          "output_type": "execute_result",
          "data": {
            "text/plain": [
              "array([nan, 'Dependent', 'NoSteady', 'Steady', 'Benefits'], dtype=object)"
            ]
          },
          "metadata": {},
          "execution_count": 225
        }
      ]
    },
    {
      "cell_type": "markdown",
      "source": [
        "###Czy_samobójstwo_zakończyło_się_zgonem"
      ],
      "metadata": {
        "id": "X88v2NMOzrsb"
      }
    },
    {
      "cell_type": "code",
      "source": [
        "column = 'Czy_samobójstwo_zakończyło_się_zgonem'\n",
        "\n",
        "mapping = {\n",
        "    0: np.nan,  # Zamiana 0 na NaN\n",
        "    1: 1,\n",
        "    2: 0\n",
        "}\n",
        "df_raw_2013_2022[column] = df_raw_2013_2022[column].map(mapping)\n",
        "df_raw_2013_2022.rename(columns={column: 'Fatal'}, inplace=True)"
      ],
      "metadata": {
        "id": "QO0wpsKAwnhz"
      },
      "execution_count": 226,
      "outputs": []
    },
    {
      "cell_type": "code",
      "source": [
        "df_raw_2013_2022['Fatal'].unique()"
      ],
      "metadata": {
        "id": "7HmNds5njeEN",
        "outputId": "55f04f8b-72c4-447d-d7a0-d1c63c2629bf",
        "colab": {
          "base_uri": "https://localhost:8080/"
        }
      },
      "execution_count": 227,
      "outputs": [
        {
          "output_type": "execute_result",
          "data": {
            "text/plain": [
              "array([nan,  1.,  0.])"
            ]
          },
          "metadata": {},
          "execution_count": 227
        }
      ]
    },
    {
      "cell_type": "markdown",
      "source": [
        "###Miejsce_zamachu"
      ],
      "metadata": {
        "id": "CUvJTrOxzu3T"
      }
    },
    {
      "cell_type": "code",
      "source": [
        "column = 'Miejsce_zamachu'\n",
        "mapping = {\n",
        "    0: np.nan,\n",
        "    1: 'Road',\n",
        "    2: 'UtilitySpaces',\n",
        "    3: 'House',\n",
        "    4: 'Railway',\n",
        "    5: 'Forest',\n",
        "    6: 'House',\n",
        "    7: 'WaterRes',\n",
        "    8: 'Work',\n",
        "    9: 'Institution',\n",
        "    10: 'Isolation',\n",
        "    11: 'PoliceArmy',\n",
        "    12: 'Institution',\n",
        "    13: 'School',\n",
        "    14: 'PoliceArmy',\n",
        "    15: 'Other'\n",
        "}\n",
        "\n",
        "df_raw_2013_2022[column] = df_raw_2013_2022[column].map(mapping)\n",
        "df_raw_2013_2022.rename(columns={column: 'Place'}, inplace=True)\n"
      ],
      "metadata": {
        "id": "m4XshG-QwqUo"
      },
      "execution_count": 228,
      "outputs": []
    },
    {
      "cell_type": "code",
      "source": [
        "df_raw_2013_2022['Place'].unique()"
      ],
      "metadata": {
        "id": "SKrlJq5tjzBw",
        "outputId": "134eb337-f622-405b-c7ea-fe48e728cab4",
        "colab": {
          "base_uri": "https://localhost:8080/"
        }
      },
      "execution_count": 229,
      "outputs": [
        {
          "output_type": "execute_result",
          "data": {
            "text/plain": [
              "array([nan, 'Road', 'Other', 'UtilitySpaces', 'House', 'Railway',\n",
              "       'Forest', 'WaterRes', 'Work', 'Institution', 'Isolation',\n",
              "       'PoliceArmy', 'School'], dtype=object)"
            ]
          },
          "metadata": {},
          "execution_count": 229
        }
      ]
    },
    {
      "cell_type": "markdown",
      "source": [
        "###Sposób_popełnienia"
      ],
      "metadata": {
        "id": "suOvpkuPzydG"
      }
    },
    {
      "cell_type": "code",
      "source": [
        "column = 'Sposób_popełnienia'\n",
        "mapping = {\n",
        "    0: np.nan,\n",
        "    1: 'Vehicle',\n",
        "    2: 'Jumping',\n",
        "    3: 'Hanging',\n",
        "    4: 'Self-harm',\n",
        "    5: 'Schooting',\n",
        "    6: 'Self-harm',\n",
        "    7: 'Self-harm',\n",
        "    8: 'Drugs',\n",
        "    9: 'Poisoning',\n",
        "    10: 'Gas',\n",
        "    11: 'Drugs',\n",
        "    12: 'Poisoning',\n",
        "    13: 'Drugs',\n",
        "    14: 'Drugs',\n",
        "    15: 'Drowning',\n",
        "    16: 'Self-harm',\n",
        "    17: 'Other',\n",
        "    18: 'Other'\n",
        "}\n",
        "\n",
        "df_raw_2013_2022[column] = df_raw_2013_2022[column].map(mapping)\n",
        "df_raw_2013_2022.rename(columns={column: 'Method'}, inplace=True)"
      ],
      "metadata": {
        "id": "BMmRn_2_x9xh"
      },
      "execution_count": 230,
      "outputs": []
    },
    {
      "cell_type": "code",
      "source": [
        "df_raw_2013_2022['Method'].unique()"
      ],
      "metadata": {
        "id": "PlLa1F_-k1Fb",
        "outputId": "42293f8d-6da0-4d22-99b7-6cc8d8f8fbe7",
        "colab": {
          "base_uri": "https://localhost:8080/"
        }
      },
      "execution_count": 231,
      "outputs": [
        {
          "output_type": "execute_result",
          "data": {
            "text/plain": [
              "array([nan, 'Vehicle', 'Jumping', 'Other', 'Hanging', 'Self-harm',\n",
              "       'Schooting', 'Drugs', 'Poisoning', 'Gas', 'Drowning'], dtype=object)"
            ]
          },
          "metadata": {},
          "execution_count": 231
        }
      ]
    },
    {
      "cell_type": "markdown",
      "source": [
        "###Powód_zamachu"
      ],
      "metadata": {
        "id": "qgdtLHi8z121"
      }
    },
    {
      "cell_type": "code",
      "source": [
        "column = 'Powód_zamachu'\n",
        "mapping = {\n",
        "    0: np.nan,\n",
        "    1: 'HeartBreak',\n",
        "    2: 'MentalHealth',\n",
        "    3: 'FamilyConflict',\n",
        "    4: 'HealthLoss',\n",
        "    5: 'Finances',\n",
        "    6: 'Finances',\n",
        "    7: 'HealthLoss',\n",
        "    8: 'SchoolWork',\n",
        "    9: 'CloseDeath',\n",
        "    10: 'Crime',\n",
        "    11: 'Disability',\n",
        "    12: 'Other',\n",
        "    13: 'HealthLoss',\n",
        "    14: 'HealthLoss',\n",
        "    15: 'SchoolWork',\n",
        "    16: 'Finances',\n",
        "    17: 'SchoolWork',\n",
        "    18: 'Other'\n",
        "}\n",
        "\n",
        "df_raw_2013_2022[column] = df_raw_2013_2022[column].map(mapping)\n",
        "df_raw_2013_2022.rename(columns={column: 'Context'}, inplace=True)"
      ],
      "metadata": {
        "id": "hW3GSfEax_xd"
      },
      "execution_count": 232,
      "outputs": []
    },
    {
      "cell_type": "code",
      "source": [
        "df_raw_2013_2022['Context'].unique()"
      ],
      "metadata": {
        "outputId": "ebee53a8-65d1-4d6a-adf0-46f186439ce8",
        "colab": {
          "base_uri": "https://localhost:8080/"
        },
        "id": "1V52LzajHNte"
      },
      "execution_count": 233,
      "outputs": [
        {
          "output_type": "execute_result",
          "data": {
            "text/plain": [
              "array([nan, 'HeartBreak', 'Other', 'MentalHealth', 'FamilyConflict',\n",
              "       'HealthLoss', 'Finances', 'SchoolWork', 'CloseDeath', 'Crime',\n",
              "       'Disability'], dtype=object)"
            ]
          },
          "metadata": {},
          "execution_count": 233
        }
      ]
    },
    {
      "cell_type": "markdown",
      "source": [
        "###Powód_zamachu_2"
      ],
      "metadata": {
        "id": "0CEz-khuz5wB"
      }
    },
    {
      "cell_type": "code",
      "source": [
        "column = 'Powód_zamachu_2'\n",
        "mapping = {\n",
        "    0: np.nan,\n",
        "    1: 'HeartBreak',\n",
        "    2: 'MentalHealth',\n",
        "    3: 'FamilyConflict',\n",
        "    4: 'HealthLoss',\n",
        "    5: 'Finances',\n",
        "    6: 'Finances',\n",
        "    7: 'HealthLoss',\n",
        "    8: 'SchoolWork',\n",
        "    9: 'CloseDeath',\n",
        "    10: 'Crime',\n",
        "    11: 'Disability',\n",
        "    12: 'Other',\n",
        "    13: 'HealthLoss',\n",
        "    14: 'HealthLoss',\n",
        "    15: 'SchoolWork',\n",
        "    16: 'Finances',\n",
        "    17: 'SchoolWork',\n",
        "    18: 'Other'\n",
        "}\n",
        "\n",
        "df_raw_2013_2022[column] = df_raw_2013_2022[column].map(mapping)\n",
        "df_raw_2013_2022.rename(columns={column: 'Context2'}, inplace=True)"
      ],
      "metadata": {
        "id": "1XaA_qOOyafz"
      },
      "execution_count": 234,
      "outputs": []
    },
    {
      "cell_type": "code",
      "source": [
        "df_raw_2013_2022['Context2'].unique()"
      ],
      "metadata": {
        "outputId": "32e35616-dbdf-401e-c0a2-b90b73686e31",
        "colab": {
          "base_uri": "https://localhost:8080/"
        },
        "id": "IlNIuBheHOaU"
      },
      "execution_count": 235,
      "outputs": [
        {
          "output_type": "execute_result",
          "data": {
            "text/plain": [
              "array([nan], dtype=object)"
            ]
          },
          "metadata": {},
          "execution_count": 235
        }
      ]
    },
    {
      "cell_type": "markdown",
      "source": [
        "###Powód_zamachu_3"
      ],
      "metadata": {
        "id": "CgmO4pp_z81K"
      }
    },
    {
      "cell_type": "code",
      "source": [
        "column = 'Powód_zamachu_3'\n",
        "mapping = {\n",
        "    0: np.nan,\n",
        "    1: 'HeartBreak',\n",
        "    2: 'MentalHealth',\n",
        "    3: 'FamilyConflict',\n",
        "    4: 'HealthLoss',\n",
        "    5: 'Finances',\n",
        "    6: 'Finances',\n",
        "    7: 'HealthLoss',\n",
        "    8: 'SchoolWork',\n",
        "    9: 'CloseDeath',\n",
        "    10: 'Crime',\n",
        "    11: 'Disability',\n",
        "    12: 'Other',\n",
        "    13: 'HealthLoss',\n",
        "    14: 'HealthLoss',\n",
        "    15: 'SchoolWork',\n",
        "    16: 'Finances',\n",
        "    17: 'SchoolWork',\n",
        "    18: 'Other'\n",
        "}\n",
        "\n",
        "df_raw_2013_2022[column] = df_raw_2013_2022[column].map(mapping)\n",
        "df_raw_2013_2022.rename(columns={column: 'Context3'}, inplace=True)"
      ],
      "metadata": {
        "id": "3--sD14jyfps"
      },
      "execution_count": 236,
      "outputs": []
    },
    {
      "cell_type": "code",
      "source": [
        "df_raw_2013_2022['Context3'].unique()"
      ],
      "metadata": {
        "outputId": "c49c6d28-337d-49d4-b85a-806b98903568",
        "colab": {
          "base_uri": "https://localhost:8080/"
        },
        "id": "mQ0tIfdhHO8W"
      },
      "execution_count": 237,
      "outputs": [
        {
          "output_type": "execute_result",
          "data": {
            "text/plain": [
              "array([nan, 'MentalHealth', 'Finances', 'CloseDeath', 'HeartBreak',\n",
              "       'HealthLoss', 'Disability', 'SchoolWork', 'FamilyConflict',\n",
              "       'Crime', 'Other'], dtype=object)"
            ]
          },
          "metadata": {},
          "execution_count": 237
        }
      ]
    },
    {
      "cell_type": "markdown",
      "source": [
        "###Powód_zamachu_4"
      ],
      "metadata": {
        "id": "nHkSTPa-0AFl"
      }
    },
    {
      "cell_type": "code",
      "source": [
        "column = 'Powód_zamachu_4'\n",
        "mapping = {\n",
        "    0: np.nan,\n",
        "    1: 'HeartBreak',\n",
        "    2: 'MentalHealth',\n",
        "    3: 'FamilyConflict',\n",
        "    4: 'HealthLoss',\n",
        "    5: 'Finances',\n",
        "    6: 'Finances',\n",
        "    7: 'HealthLoss',\n",
        "    8: 'SchoolWork',\n",
        "    9: 'CloseDeath',\n",
        "    10: 'Crime',\n",
        "    11: 'Disability',\n",
        "    12: 'Other',\n",
        "    13: 'HealthLoss',\n",
        "    14: 'HealthLoss',\n",
        "    15: 'SchoolWork',\n",
        "    16: 'Finances',\n",
        "    17: 'SchoolWork',\n",
        "    18: 'Other'\n",
        "}\n",
        "\n",
        "df_raw_2013_2022[column] = df_raw_2013_2022[column].map(mapping)\n",
        "df_raw_2013_2022.rename(columns={column: 'Context4'}, inplace=True)"
      ],
      "metadata": {
        "id": "heLXHV5DyifN"
      },
      "execution_count": 238,
      "outputs": []
    },
    {
      "cell_type": "code",
      "source": [
        "df_raw_2013_2022['Context4'].unique()"
      ],
      "metadata": {
        "outputId": "87e3fdb4-afdc-4769-ec1d-ee1962687d1a",
        "colab": {
          "base_uri": "https://localhost:8080/"
        },
        "id": "UAtAt-y_HPzM"
      },
      "execution_count": 239,
      "outputs": [
        {
          "output_type": "execute_result",
          "data": {
            "text/plain": [
              "array([nan, 'MentalHealth', 'Finances', 'CloseDeath', 'HeartBreak',\n",
              "       'SchoolWork', 'HealthLoss', 'Disability'], dtype=object)"
            ]
          },
          "metadata": {},
          "execution_count": 239
        }
      ]
    },
    {
      "cell_type": "markdown",
      "source": [
        "###Stan_świadomości"
      ],
      "metadata": {
        "id": "j_oh1VT20DWr"
      }
    },
    {
      "cell_type": "code",
      "source": [
        "column = 'Stan_świadomości'\n",
        "mapping = {\n",
        "    0: np.nan,\n",
        "    1: 'Sober',\n",
        "    2: 'Alco',\n",
        "    3: 'OtherSub',\n",
        "    4: 'OtherSub',\n",
        "    5: 'OtherSub',\n",
        "    6: 'OtherSub',\n",
        "    7: 'Alco&OtherSub',\n",
        "    8: 'Alco&OtherSub',\n",
        "    9: 'Alco&OtherSub',\n",
        "    10: 'Alco&OtherSub',\n",
        "    11: 'Alco&OtherSub',\n",
        "    12: 'OtherSub',\n",
        "    13: 'OtherSub',\n",
        "    14: 'OtherSub',\n",
        "    15: 'OtherSub',\n",
        "    16: 'OtherSub',\n",
        "    17: 'Alco&OtherSub',\n",
        "    18: 'Alco&OtherSub'\n",
        "}\n",
        "\n",
        "df_raw_2013_2022[column] = df_raw_2013_2022[column].map(mapping)\n",
        "df_raw_2013_2022.rename(columns={column: 'Substance'}, inplace=True)"
      ],
      "metadata": {
        "id": "besYtKDAyuDh"
      },
      "execution_count": 240,
      "outputs": []
    },
    {
      "cell_type": "code",
      "source": [
        "df_raw_2013_2022['Substance'].unique()"
      ],
      "metadata": {
        "outputId": "5389c4ee-15d4-4b44-83d8-876bcf5def17",
        "colab": {
          "base_uri": "https://localhost:8080/"
        },
        "id": "3hUyoEUUHQnB"
      },
      "execution_count": 241,
      "outputs": [
        {
          "output_type": "execute_result",
          "data": {
            "text/plain": [
              "array([nan, 'Alco', 'Sober', 'OtherSub', 'Alco&OtherSub'], dtype=object)"
            ]
          },
          "metadata": {},
          "execution_count": 241
        }
      ]
    },
    {
      "cell_type": "markdown",
      "source": [
        "###Informacje_o_używaniu_substancji"
      ],
      "metadata": {
        "id": "0x9OkF8k0XMo"
      }
    },
    {
      "cell_type": "code",
      "source": [
        "column = 'Informacje_o_używaniu_substancji'\n",
        "mapping = {\n",
        "    0: np.nan,\n",
        "    1: 'Alco',\n",
        "    2: 'OtherSub',\n",
        "    3: 'OtherSub',\n",
        "    4: 'Alco&OtherSub',\n",
        "    5: 'OtherSub',\n",
        "    6: 'Alco&OtherSub',\n",
        "    7: 'Alco&OtherSub'\n",
        "}\n",
        "\n",
        "df_raw_2013_2022[column] = df_raw_2013_2022[column].map(mapping)\n",
        "df_raw_2013_2022.rename(columns={column: 'AbuseInfo'}, inplace=True)\n"
      ],
      "metadata": {
        "id": "T0gL7Dz70UAC"
      },
      "execution_count": 242,
      "outputs": []
    },
    {
      "cell_type": "code",
      "source": [
        "df_raw_2013_2022['AbuseInfo'].unique()"
      ],
      "metadata": {
        "outputId": "68312079-124c-47fe-efd4-1f19824dce9f",
        "colab": {
          "base_uri": "https://localhost:8080/"
        },
        "id": "5T9m4wRBHROU"
      },
      "execution_count": 243,
      "outputs": [
        {
          "output_type": "execute_result",
          "data": {
            "text/plain": [
              "array([nan, 'Alco', 'OtherSub', 'Alco&OtherSub'], dtype=object)"
            ]
          },
          "metadata": {},
          "execution_count": 243
        }
      ]
    },
    {
      "cell_type": "markdown",
      "source": [
        "###Informacje_dotyczące_leczenia_z_powodu_alkoholizmu/narkomanii"
      ],
      "metadata": {
        "id": "39BndAwP0tKh"
      }
    },
    {
      "cell_type": "code",
      "source": [
        "column = 'Informacje_dotyczące_leczenia_z_powodu_alkoholizmu/narkomanii'\n",
        "mapping = {\n",
        "    0: np.nan,\n",
        "    1: 'Alco',\n",
        "    2: 'OtherSub',\n",
        "    3: 'Alco&OtherSub'\n",
        "}\n",
        "\n",
        "df_raw_2013_2022[column] = df_raw_2013_2022[column].map(mapping)\n"
      ],
      "metadata": {
        "id": "HuH1oJO10aUJ"
      },
      "execution_count": 244,
      "outputs": []
    },
    {
      "cell_type": "code",
      "source": [
        "df_raw_2013_2022['Informacje_dotyczące_leczenia_z_powodu_alkoholizmu/narkomanii'].unique()"
      ],
      "metadata": {
        "outputId": "d652f60c-ba8b-43d5-921f-80ae02fec112",
        "colab": {
          "base_uri": "https://localhost:8080/"
        },
        "id": "epIsW34DHSB6"
      },
      "execution_count": 245,
      "outputs": [
        {
          "output_type": "execute_result",
          "data": {
            "text/plain": [
              "array([nan, 'Alco', 'OtherSub', 'Alco&OtherSub'], dtype=object)"
            ]
          },
          "metadata": {},
          "execution_count": 245
        }
      ]
    },
    {
      "cell_type": "code",
      "source": [
        "df_raw_2013_2022['AbuseInfo'] = df_raw_2013_2022['AbuseInfo'].fillna(df_raw_2013_2022['Informacje_dotyczące_leczenia_z_powodu_alkoholizmu/narkomanii'])\n",
        "df_raw_2013_2022.drop(columns='Informacje_dotyczące_leczenia_z_powodu_alkoholizmu/narkomanii', inplace=True)"
      ],
      "metadata": {
        "id": "XMi0iXcfG8Ib"
      },
      "execution_count": 246,
      "outputs": []
    },
    {
      "cell_type": "markdown",
      "source": [
        "##Powód zamachu - dummies"
      ],
      "metadata": {
        "id": "_4G-mhMt-hla"
      }
    },
    {
      "cell_type": "code",
      "source": [
        "columns_to_drop = ['Context', 'Context2', 'Context3', 'Context4']\n",
        "df_powód_zamachu_2013_2022 = df_raw_2013_2022[columns_to_drop]\n",
        "df_raw_2013_2022.drop(columns=columns_to_drop, inplace=True)\n"
      ],
      "metadata": {
        "id": "3Q73Z-45-pGJ"
      },
      "execution_count": 247,
      "outputs": []
    },
    {
      "cell_type": "code",
      "source": [
        "powód_zamachu_values = (\n",
        "    set(df_powód_zamachu_2013_2022['Context'].unique()) |\n",
        "    set(df_powód_zamachu_2013_2022['Context2'].unique()) |\n",
        "    set(df_powód_zamachu_2013_2022['Context3'].unique()) |\n",
        "    set(df_powód_zamachu_2013_2022['Context4'].unique())\n",
        ")"
      ],
      "metadata": {
        "id": "C4txX3uZD1Ni"
      },
      "execution_count": 248,
      "outputs": []
    },
    {
      "cell_type": "code",
      "source": [
        "powód_zamachu_values"
      ],
      "metadata": {
        "colab": {
          "base_uri": "https://localhost:8080/"
        },
        "id": "erRmfj905sqi",
        "outputId": "174203e9-067a-485e-a973-d2e944c85cdd"
      },
      "execution_count": 249,
      "outputs": [
        {
          "output_type": "execute_result",
          "data": {
            "text/plain": [
              "{'CloseDeath',\n",
              " 'Crime',\n",
              " 'Disability',\n",
              " 'FamilyConflict',\n",
              " 'Finances',\n",
              " 'HealthLoss',\n",
              " 'HeartBreak',\n",
              " 'MentalHealth',\n",
              " 'Other',\n",
              " 'SchoolWork',\n",
              " nan}"
            ]
          },
          "metadata": {},
          "execution_count": 249
        }
      ]
    },
    {
      "cell_type": "code",
      "source": [
        "for value in powód_zamachu_values:\n",
        "    column_name = 'Context_' + str(value)\n",
        "    df_powód_zamachu_2013_2022[column_name] = df_powód_zamachu_2013_2022.apply(lambda row: 1 if value in row.values else 0, axis=1)\n"
      ],
      "metadata": {
        "colab": {
          "base_uri": "https://localhost:8080/"
        },
        "id": "rziPLN8qGahL",
        "outputId": "58b908c7-686a-4950-c55a-44cff93bb7cf"
      },
      "execution_count": 250,
      "outputs": [
        {
          "output_type": "stream",
          "name": "stderr",
          "text": [
            "<ipython-input-250-0e5087bd058e>:3: SettingWithCopyWarning: \n",
            "A value is trying to be set on a copy of a slice from a DataFrame.\n",
            "Try using .loc[row_indexer,col_indexer] = value instead\n",
            "\n",
            "See the caveats in the documentation: https://pandas.pydata.org/pandas-docs/stable/user_guide/indexing.html#returning-a-view-versus-a-copy\n",
            "  df_powód_zamachu_2013_2022[column_name] = df_powód_zamachu_2013_2022.apply(lambda row: 1 if value in row.values else 0, axis=1)\n",
            "<ipython-input-250-0e5087bd058e>:3: SettingWithCopyWarning: \n",
            "A value is trying to be set on a copy of a slice from a DataFrame.\n",
            "Try using .loc[row_indexer,col_indexer] = value instead\n",
            "\n",
            "See the caveats in the documentation: https://pandas.pydata.org/pandas-docs/stable/user_guide/indexing.html#returning-a-view-versus-a-copy\n",
            "  df_powód_zamachu_2013_2022[column_name] = df_powód_zamachu_2013_2022.apply(lambda row: 1 if value in row.values else 0, axis=1)\n",
            "<ipython-input-250-0e5087bd058e>:3: SettingWithCopyWarning: \n",
            "A value is trying to be set on a copy of a slice from a DataFrame.\n",
            "Try using .loc[row_indexer,col_indexer] = value instead\n",
            "\n",
            "See the caveats in the documentation: https://pandas.pydata.org/pandas-docs/stable/user_guide/indexing.html#returning-a-view-versus-a-copy\n",
            "  df_powód_zamachu_2013_2022[column_name] = df_powód_zamachu_2013_2022.apply(lambda row: 1 if value in row.values else 0, axis=1)\n",
            "<ipython-input-250-0e5087bd058e>:3: SettingWithCopyWarning: \n",
            "A value is trying to be set on a copy of a slice from a DataFrame.\n",
            "Try using .loc[row_indexer,col_indexer] = value instead\n",
            "\n",
            "See the caveats in the documentation: https://pandas.pydata.org/pandas-docs/stable/user_guide/indexing.html#returning-a-view-versus-a-copy\n",
            "  df_powód_zamachu_2013_2022[column_name] = df_powód_zamachu_2013_2022.apply(lambda row: 1 if value in row.values else 0, axis=1)\n",
            "<ipython-input-250-0e5087bd058e>:3: SettingWithCopyWarning: \n",
            "A value is trying to be set on a copy of a slice from a DataFrame.\n",
            "Try using .loc[row_indexer,col_indexer] = value instead\n",
            "\n",
            "See the caveats in the documentation: https://pandas.pydata.org/pandas-docs/stable/user_guide/indexing.html#returning-a-view-versus-a-copy\n",
            "  df_powód_zamachu_2013_2022[column_name] = df_powód_zamachu_2013_2022.apply(lambda row: 1 if value in row.values else 0, axis=1)\n",
            "<ipython-input-250-0e5087bd058e>:3: SettingWithCopyWarning: \n",
            "A value is trying to be set on a copy of a slice from a DataFrame.\n",
            "Try using .loc[row_indexer,col_indexer] = value instead\n",
            "\n",
            "See the caveats in the documentation: https://pandas.pydata.org/pandas-docs/stable/user_guide/indexing.html#returning-a-view-versus-a-copy\n",
            "  df_powód_zamachu_2013_2022[column_name] = df_powód_zamachu_2013_2022.apply(lambda row: 1 if value in row.values else 0, axis=1)\n",
            "<ipython-input-250-0e5087bd058e>:3: SettingWithCopyWarning: \n",
            "A value is trying to be set on a copy of a slice from a DataFrame.\n",
            "Try using .loc[row_indexer,col_indexer] = value instead\n",
            "\n",
            "See the caveats in the documentation: https://pandas.pydata.org/pandas-docs/stable/user_guide/indexing.html#returning-a-view-versus-a-copy\n",
            "  df_powód_zamachu_2013_2022[column_name] = df_powód_zamachu_2013_2022.apply(lambda row: 1 if value in row.values else 0, axis=1)\n",
            "<ipython-input-250-0e5087bd058e>:3: SettingWithCopyWarning: \n",
            "A value is trying to be set on a copy of a slice from a DataFrame.\n",
            "Try using .loc[row_indexer,col_indexer] = value instead\n",
            "\n",
            "See the caveats in the documentation: https://pandas.pydata.org/pandas-docs/stable/user_guide/indexing.html#returning-a-view-versus-a-copy\n",
            "  df_powód_zamachu_2013_2022[column_name] = df_powód_zamachu_2013_2022.apply(lambda row: 1 if value in row.values else 0, axis=1)\n",
            "<ipython-input-250-0e5087bd058e>:3: SettingWithCopyWarning: \n",
            "A value is trying to be set on a copy of a slice from a DataFrame.\n",
            "Try using .loc[row_indexer,col_indexer] = value instead\n",
            "\n",
            "See the caveats in the documentation: https://pandas.pydata.org/pandas-docs/stable/user_guide/indexing.html#returning-a-view-versus-a-copy\n",
            "  df_powód_zamachu_2013_2022[column_name] = df_powód_zamachu_2013_2022.apply(lambda row: 1 if value in row.values else 0, axis=1)\n",
            "<ipython-input-250-0e5087bd058e>:3: SettingWithCopyWarning: \n",
            "A value is trying to be set on a copy of a slice from a DataFrame.\n",
            "Try using .loc[row_indexer,col_indexer] = value instead\n",
            "\n",
            "See the caveats in the documentation: https://pandas.pydata.org/pandas-docs/stable/user_guide/indexing.html#returning-a-view-versus-a-copy\n",
            "  df_powód_zamachu_2013_2022[column_name] = df_powód_zamachu_2013_2022.apply(lambda row: 1 if value in row.values else 0, axis=1)\n",
            "<ipython-input-250-0e5087bd058e>:3: SettingWithCopyWarning: \n",
            "A value is trying to be set on a copy of a slice from a DataFrame.\n",
            "Try using .loc[row_indexer,col_indexer] = value instead\n",
            "\n",
            "See the caveats in the documentation: https://pandas.pydata.org/pandas-docs/stable/user_guide/indexing.html#returning-a-view-versus-a-copy\n",
            "  df_powód_zamachu_2013_2022[column_name] = df_powód_zamachu_2013_2022.apply(lambda row: 1 if value in row.values else 0, axis=1)\n"
          ]
        }
      ]
    },
    {
      "cell_type": "code",
      "source": [
        "columns_to_drop = ['Context', 'Context2', 'Context3', 'Context4', 'Context_nan']\n",
        "df_powód_zamachu_2013_2022.drop(columns=columns_to_drop, inplace=True)\n"
      ],
      "metadata": {
        "id": "fQ73shBOG1II",
        "outputId": "8853b58b-53ed-43ab-9753-a85d849ea421",
        "colab": {
          "base_uri": "https://localhost:8080/"
        }
      },
      "execution_count": 251,
      "outputs": [
        {
          "output_type": "stream",
          "name": "stderr",
          "text": [
            "<ipython-input-251-9a2200cc8667>:2: SettingWithCopyWarning: \n",
            "A value is trying to be set on a copy of a slice from a DataFrame\n",
            "\n",
            "See the caveats in the documentation: https://pandas.pydata.org/pandas-docs/stable/user_guide/indexing.html#returning-a-view-versus-a-copy\n",
            "  df_powód_zamachu_2013_2022.drop(columns=columns_to_drop, inplace=True)\n"
          ]
        }
      ]
    },
    {
      "cell_type": "markdown",
      "source": [
        "##Liczba_powodów_zamachu"
      ],
      "metadata": {
        "id": "Hagqy4z-JnQ3"
      }
    },
    {
      "cell_type": "code",
      "source": [
        "df_raw_2013_2022['CountContext'] = df_powód_zamachu_2013_2022.sum(axis=1)"
      ],
      "metadata": {
        "id": "_EZNn51KJwDr"
      },
      "execution_count": 252,
      "outputs": []
    },
    {
      "cell_type": "code",
      "source": [
        "df_raw_2013_2022.head(5)"
      ],
      "metadata": {
        "colab": {
          "base_uri": "https://localhost:8080/",
          "height": 295
        },
        "id": "eluFOpAZKOXZ",
        "outputId": "9331c30b-831d-440f-91d1-750169daf205"
      },
      "execution_count": 253,
      "outputs": [
        {
          "output_type": "execute_result",
          "data": {
            "text/plain": [
              "   ID_samobójcy     Date   Age1 Gender Marital Education    WorkInfo  \\\n",
              "0  114581552,00  01.2013    NaN      M     NaN       NaN         NaN   \n",
              "1  114584284,00  01.2013  13-18      M     NaN       NaN     Student   \n",
              "2  114584293,00  01.2013  13-18      F  Single   Primary     Student   \n",
              "3  114584312,00  01.2013  19-24      M  Single       NaN         NaN   \n",
              "4  114584399,00  01.2013  40-44      M  Single       NaN  Unemployed   \n",
              "\n",
              "      Income  Fatal          Place   Method Substance AbuseInfo DateY DateM  \\\n",
              "0        NaN    NaN            NaN      NaN       NaN       NaN  2013    01   \n",
              "1        NaN    1.0           Road  Vehicle       NaN       NaN  2013    01   \n",
              "2  Dependent    1.0          Other  Jumping       NaN       NaN  2013    01   \n",
              "3        NaN    1.0            NaN    Other       NaN       NaN  2013    01   \n",
              "4        NaN    1.0  UtilitySpaces  Hanging      Alco       NaN  2013    01   \n",
              "\n",
              "    Age2  CountContext  \n",
              "0    NaN             0  \n",
              "1  00-18             0  \n",
              "2  00-18             0  \n",
              "3  19-34             1  \n",
              "4  35-64             0  "
            ],
            "text/html": [
              "\n",
              "  <div id=\"df-33405503-28b9-45bd-b42d-f3edf071cdfd\" class=\"colab-df-container\">\n",
              "    <div>\n",
              "<style scoped>\n",
              "    .dataframe tbody tr th:only-of-type {\n",
              "        vertical-align: middle;\n",
              "    }\n",
              "\n",
              "    .dataframe tbody tr th {\n",
              "        vertical-align: top;\n",
              "    }\n",
              "\n",
              "    .dataframe thead th {\n",
              "        text-align: right;\n",
              "    }\n",
              "</style>\n",
              "<table border=\"1\" class=\"dataframe\">\n",
              "  <thead>\n",
              "    <tr style=\"text-align: right;\">\n",
              "      <th></th>\n",
              "      <th>ID_samobójcy</th>\n",
              "      <th>Date</th>\n",
              "      <th>Age1</th>\n",
              "      <th>Gender</th>\n",
              "      <th>Marital</th>\n",
              "      <th>Education</th>\n",
              "      <th>WorkInfo</th>\n",
              "      <th>Income</th>\n",
              "      <th>Fatal</th>\n",
              "      <th>Place</th>\n",
              "      <th>Method</th>\n",
              "      <th>Substance</th>\n",
              "      <th>AbuseInfo</th>\n",
              "      <th>DateY</th>\n",
              "      <th>DateM</th>\n",
              "      <th>Age2</th>\n",
              "      <th>CountContext</th>\n",
              "    </tr>\n",
              "  </thead>\n",
              "  <tbody>\n",
              "    <tr>\n",
              "      <th>0</th>\n",
              "      <td>114581552,00</td>\n",
              "      <td>01.2013</td>\n",
              "      <td>NaN</td>\n",
              "      <td>M</td>\n",
              "      <td>NaN</td>\n",
              "      <td>NaN</td>\n",
              "      <td>NaN</td>\n",
              "      <td>NaN</td>\n",
              "      <td>NaN</td>\n",
              "      <td>NaN</td>\n",
              "      <td>NaN</td>\n",
              "      <td>NaN</td>\n",
              "      <td>NaN</td>\n",
              "      <td>2013</td>\n",
              "      <td>01</td>\n",
              "      <td>NaN</td>\n",
              "      <td>0</td>\n",
              "    </tr>\n",
              "    <tr>\n",
              "      <th>1</th>\n",
              "      <td>114584284,00</td>\n",
              "      <td>01.2013</td>\n",
              "      <td>13-18</td>\n",
              "      <td>M</td>\n",
              "      <td>NaN</td>\n",
              "      <td>NaN</td>\n",
              "      <td>Student</td>\n",
              "      <td>NaN</td>\n",
              "      <td>1.0</td>\n",
              "      <td>Road</td>\n",
              "      <td>Vehicle</td>\n",
              "      <td>NaN</td>\n",
              "      <td>NaN</td>\n",
              "      <td>2013</td>\n",
              "      <td>01</td>\n",
              "      <td>00-18</td>\n",
              "      <td>0</td>\n",
              "    </tr>\n",
              "    <tr>\n",
              "      <th>2</th>\n",
              "      <td>114584293,00</td>\n",
              "      <td>01.2013</td>\n",
              "      <td>13-18</td>\n",
              "      <td>F</td>\n",
              "      <td>Single</td>\n",
              "      <td>Primary</td>\n",
              "      <td>Student</td>\n",
              "      <td>Dependent</td>\n",
              "      <td>1.0</td>\n",
              "      <td>Other</td>\n",
              "      <td>Jumping</td>\n",
              "      <td>NaN</td>\n",
              "      <td>NaN</td>\n",
              "      <td>2013</td>\n",
              "      <td>01</td>\n",
              "      <td>00-18</td>\n",
              "      <td>0</td>\n",
              "    </tr>\n",
              "    <tr>\n",
              "      <th>3</th>\n",
              "      <td>114584312,00</td>\n",
              "      <td>01.2013</td>\n",
              "      <td>19-24</td>\n",
              "      <td>M</td>\n",
              "      <td>Single</td>\n",
              "      <td>NaN</td>\n",
              "      <td>NaN</td>\n",
              "      <td>NaN</td>\n",
              "      <td>1.0</td>\n",
              "      <td>NaN</td>\n",
              "      <td>Other</td>\n",
              "      <td>NaN</td>\n",
              "      <td>NaN</td>\n",
              "      <td>2013</td>\n",
              "      <td>01</td>\n",
              "      <td>19-34</td>\n",
              "      <td>1</td>\n",
              "    </tr>\n",
              "    <tr>\n",
              "      <th>4</th>\n",
              "      <td>114584399,00</td>\n",
              "      <td>01.2013</td>\n",
              "      <td>40-44</td>\n",
              "      <td>M</td>\n",
              "      <td>Single</td>\n",
              "      <td>NaN</td>\n",
              "      <td>Unemployed</td>\n",
              "      <td>NaN</td>\n",
              "      <td>1.0</td>\n",
              "      <td>UtilitySpaces</td>\n",
              "      <td>Hanging</td>\n",
              "      <td>Alco</td>\n",
              "      <td>NaN</td>\n",
              "      <td>2013</td>\n",
              "      <td>01</td>\n",
              "      <td>35-64</td>\n",
              "      <td>0</td>\n",
              "    </tr>\n",
              "  </tbody>\n",
              "</table>\n",
              "</div>\n",
              "    <div class=\"colab-df-buttons\">\n",
              "\n",
              "  <div class=\"colab-df-container\">\n",
              "    <button class=\"colab-df-convert\" onclick=\"convertToInteractive('df-33405503-28b9-45bd-b42d-f3edf071cdfd')\"\n",
              "            title=\"Convert this dataframe to an interactive table.\"\n",
              "            style=\"display:none;\">\n",
              "\n",
              "  <svg xmlns=\"http://www.w3.org/2000/svg\" height=\"24px\" viewBox=\"0 -960 960 960\">\n",
              "    <path d=\"M120-120v-720h720v720H120Zm60-500h600v-160H180v160Zm220 220h160v-160H400v160Zm0 220h160v-160H400v160ZM180-400h160v-160H180v160Zm440 0h160v-160H620v160ZM180-180h160v-160H180v160Zm440 0h160v-160H620v160Z\"/>\n",
              "  </svg>\n",
              "    </button>\n",
              "\n",
              "  <style>\n",
              "    .colab-df-container {\n",
              "      display:flex;\n",
              "      gap: 12px;\n",
              "    }\n",
              "\n",
              "    .colab-df-convert {\n",
              "      background-color: #E8F0FE;\n",
              "      border: none;\n",
              "      border-radius: 50%;\n",
              "      cursor: pointer;\n",
              "      display: none;\n",
              "      fill: #1967D2;\n",
              "      height: 32px;\n",
              "      padding: 0 0 0 0;\n",
              "      width: 32px;\n",
              "    }\n",
              "\n",
              "    .colab-df-convert:hover {\n",
              "      background-color: #E2EBFA;\n",
              "      box-shadow: 0px 1px 2px rgba(60, 64, 67, 0.3), 0px 1px 3px 1px rgba(60, 64, 67, 0.15);\n",
              "      fill: #174EA6;\n",
              "    }\n",
              "\n",
              "    .colab-df-buttons div {\n",
              "      margin-bottom: 4px;\n",
              "    }\n",
              "\n",
              "    [theme=dark] .colab-df-convert {\n",
              "      background-color: #3B4455;\n",
              "      fill: #D2E3FC;\n",
              "    }\n",
              "\n",
              "    [theme=dark] .colab-df-convert:hover {\n",
              "      background-color: #434B5C;\n",
              "      box-shadow: 0px 1px 3px 1px rgba(0, 0, 0, 0.15);\n",
              "      filter: drop-shadow(0px 1px 2px rgba(0, 0, 0, 0.3));\n",
              "      fill: #FFFFFF;\n",
              "    }\n",
              "  </style>\n",
              "\n",
              "    <script>\n",
              "      const buttonEl =\n",
              "        document.querySelector('#df-33405503-28b9-45bd-b42d-f3edf071cdfd button.colab-df-convert');\n",
              "      buttonEl.style.display =\n",
              "        google.colab.kernel.accessAllowed ? 'block' : 'none';\n",
              "\n",
              "      async function convertToInteractive(key) {\n",
              "        const element = document.querySelector('#df-33405503-28b9-45bd-b42d-f3edf071cdfd');\n",
              "        const dataTable =\n",
              "          await google.colab.kernel.invokeFunction('convertToInteractive',\n",
              "                                                    [key], {});\n",
              "        if (!dataTable) return;\n",
              "\n",
              "        const docLinkHtml = 'Like what you see? Visit the ' +\n",
              "          '<a target=\"_blank\" href=https://colab.research.google.com/notebooks/data_table.ipynb>data table notebook</a>'\n",
              "          + ' to learn more about interactive tables.';\n",
              "        element.innerHTML = '';\n",
              "        dataTable['output_type'] = 'display_data';\n",
              "        await google.colab.output.renderOutput(dataTable, element);\n",
              "        const docLink = document.createElement('div');\n",
              "        docLink.innerHTML = docLinkHtml;\n",
              "        element.appendChild(docLink);\n",
              "      }\n",
              "    </script>\n",
              "  </div>\n",
              "\n",
              "\n",
              "<div id=\"df-56c4757a-5996-457c-b051-c7f805b614b0\">\n",
              "  <button class=\"colab-df-quickchart\" onclick=\"quickchart('df-56c4757a-5996-457c-b051-c7f805b614b0')\"\n",
              "            title=\"Suggest charts\"\n",
              "            style=\"display:none;\">\n",
              "\n",
              "<svg xmlns=\"http://www.w3.org/2000/svg\" height=\"24px\"viewBox=\"0 0 24 24\"\n",
              "     width=\"24px\">\n",
              "    <g>\n",
              "        <path d=\"M19 3H5c-1.1 0-2 .9-2 2v14c0 1.1.9 2 2 2h14c1.1 0 2-.9 2-2V5c0-1.1-.9-2-2-2zM9 17H7v-7h2v7zm4 0h-2V7h2v10zm4 0h-2v-4h2v4z\"/>\n",
              "    </g>\n",
              "</svg>\n",
              "  </button>\n",
              "\n",
              "<style>\n",
              "  .colab-df-quickchart {\n",
              "      --bg-color: #E8F0FE;\n",
              "      --fill-color: #1967D2;\n",
              "      --hover-bg-color: #E2EBFA;\n",
              "      --hover-fill-color: #174EA6;\n",
              "      --disabled-fill-color: #AAA;\n",
              "      --disabled-bg-color: #DDD;\n",
              "  }\n",
              "\n",
              "  [theme=dark] .colab-df-quickchart {\n",
              "      --bg-color: #3B4455;\n",
              "      --fill-color: #D2E3FC;\n",
              "      --hover-bg-color: #434B5C;\n",
              "      --hover-fill-color: #FFFFFF;\n",
              "      --disabled-bg-color: #3B4455;\n",
              "      --disabled-fill-color: #666;\n",
              "  }\n",
              "\n",
              "  .colab-df-quickchart {\n",
              "    background-color: var(--bg-color);\n",
              "    border: none;\n",
              "    border-radius: 50%;\n",
              "    cursor: pointer;\n",
              "    display: none;\n",
              "    fill: var(--fill-color);\n",
              "    height: 32px;\n",
              "    padding: 0;\n",
              "    width: 32px;\n",
              "  }\n",
              "\n",
              "  .colab-df-quickchart:hover {\n",
              "    background-color: var(--hover-bg-color);\n",
              "    box-shadow: 0 1px 2px rgba(60, 64, 67, 0.3), 0 1px 3px 1px rgba(60, 64, 67, 0.15);\n",
              "    fill: var(--button-hover-fill-color);\n",
              "  }\n",
              "\n",
              "  .colab-df-quickchart-complete:disabled,\n",
              "  .colab-df-quickchart-complete:disabled:hover {\n",
              "    background-color: var(--disabled-bg-color);\n",
              "    fill: var(--disabled-fill-color);\n",
              "    box-shadow: none;\n",
              "  }\n",
              "\n",
              "  .colab-df-spinner {\n",
              "    border: 2px solid var(--fill-color);\n",
              "    border-color: transparent;\n",
              "    border-bottom-color: var(--fill-color);\n",
              "    animation:\n",
              "      spin 1s steps(1) infinite;\n",
              "  }\n",
              "\n",
              "  @keyframes spin {\n",
              "    0% {\n",
              "      border-color: transparent;\n",
              "      border-bottom-color: var(--fill-color);\n",
              "      border-left-color: var(--fill-color);\n",
              "    }\n",
              "    20% {\n",
              "      border-color: transparent;\n",
              "      border-left-color: var(--fill-color);\n",
              "      border-top-color: var(--fill-color);\n",
              "    }\n",
              "    30% {\n",
              "      border-color: transparent;\n",
              "      border-left-color: var(--fill-color);\n",
              "      border-top-color: var(--fill-color);\n",
              "      border-right-color: var(--fill-color);\n",
              "    }\n",
              "    40% {\n",
              "      border-color: transparent;\n",
              "      border-right-color: var(--fill-color);\n",
              "      border-top-color: var(--fill-color);\n",
              "    }\n",
              "    60% {\n",
              "      border-color: transparent;\n",
              "      border-right-color: var(--fill-color);\n",
              "    }\n",
              "    80% {\n",
              "      border-color: transparent;\n",
              "      border-right-color: var(--fill-color);\n",
              "      border-bottom-color: var(--fill-color);\n",
              "    }\n",
              "    90% {\n",
              "      border-color: transparent;\n",
              "      border-bottom-color: var(--fill-color);\n",
              "    }\n",
              "  }\n",
              "</style>\n",
              "\n",
              "  <script>\n",
              "    async function quickchart(key) {\n",
              "      const quickchartButtonEl =\n",
              "        document.querySelector('#' + key + ' button');\n",
              "      quickchartButtonEl.disabled = true;  // To prevent multiple clicks.\n",
              "      quickchartButtonEl.classList.add('colab-df-spinner');\n",
              "      try {\n",
              "        const charts = await google.colab.kernel.invokeFunction(\n",
              "            'suggestCharts', [key], {});\n",
              "      } catch (error) {\n",
              "        console.error('Error during call to suggestCharts:', error);\n",
              "      }\n",
              "      quickchartButtonEl.classList.remove('colab-df-spinner');\n",
              "      quickchartButtonEl.classList.add('colab-df-quickchart-complete');\n",
              "    }\n",
              "    (() => {\n",
              "      let quickchartButtonEl =\n",
              "        document.querySelector('#df-56c4757a-5996-457c-b051-c7f805b614b0 button');\n",
              "      quickchartButtonEl.style.display =\n",
              "        google.colab.kernel.accessAllowed ? 'block' : 'none';\n",
              "    })();\n",
              "  </script>\n",
              "</div>\n",
              "\n",
              "    </div>\n",
              "  </div>\n"
            ],
            "application/vnd.google.colaboratory.intrinsic+json": {
              "type": "dataframe",
              "variable_name": "df_raw_2013_2022"
            }
          },
          "metadata": {},
          "execution_count": 253
        }
      ]
    },
    {
      "cell_type": "markdown",
      "source": [
        "#Scalenie"
      ],
      "metadata": {
        "id": "EpQngH_QtSNx"
      }
    },
    {
      "cell_type": "markdown",
      "source": [
        "##df_raw"
      ],
      "metadata": {
        "id": "UDxNlJakwarA"
      }
    },
    {
      "cell_type": "code",
      "source": [
        "# Znajdź wspólne kolumny\n",
        "common_columns = list(set(df_raw_2023.columns) & set(df_raw_2013_2022.columns))\n",
        "\n",
        "# Wybierz wspólne kolumny z obu DataFrame'ów\n",
        "df_raw_2023_selected = df_raw_2023[common_columns]\n",
        "df_raw_2013_2022_selected = df_raw_2013_2022[common_columns]\n",
        "\n",
        "# Połącz oba DataFrame'y\n",
        "df_raw = pd.concat([df_raw_2013_2022_selected, df_raw_2023_selected])\n"
      ],
      "metadata": {
        "id": "pdnQfatRtZcp"
      },
      "execution_count": 254,
      "outputs": []
    },
    {
      "cell_type": "code",
      "source": [
        "df_raw.head(1)"
      ],
      "metadata": {
        "colab": {
          "base_uri": "https://localhost:8080/",
          "height": 100
        },
        "id": "EDB8w-7-u2-H",
        "outputId": "1f6b57e4-0a2d-4dfc-cd00-17f2387f2d83"
      },
      "execution_count": 255,
      "outputs": [
        {
          "output_type": "execute_result",
          "data": {
            "text/plain": [
              "  Income Age1  Fatal Method DateM Gender Education AbuseInfo DateY  \\\n",
              "0    NaN  NaN    NaN    NaN    01      M       NaN       NaN  2013   \n",
              "\n",
              "   ID_samobójcy WorkInfo Substance Age2     Date Place  CountContext Marital  \n",
              "0  114581552,00      NaN       NaN  NaN  01.2013   NaN             0     NaN  "
            ],
            "text/html": [
              "\n",
              "  <div id=\"df-c01674db-84ca-4c5a-bcc9-a8f5182e22a5\" class=\"colab-df-container\">\n",
              "    <div>\n",
              "<style scoped>\n",
              "    .dataframe tbody tr th:only-of-type {\n",
              "        vertical-align: middle;\n",
              "    }\n",
              "\n",
              "    .dataframe tbody tr th {\n",
              "        vertical-align: top;\n",
              "    }\n",
              "\n",
              "    .dataframe thead th {\n",
              "        text-align: right;\n",
              "    }\n",
              "</style>\n",
              "<table border=\"1\" class=\"dataframe\">\n",
              "  <thead>\n",
              "    <tr style=\"text-align: right;\">\n",
              "      <th></th>\n",
              "      <th>Income</th>\n",
              "      <th>Age1</th>\n",
              "      <th>Fatal</th>\n",
              "      <th>Method</th>\n",
              "      <th>DateM</th>\n",
              "      <th>Gender</th>\n",
              "      <th>Education</th>\n",
              "      <th>AbuseInfo</th>\n",
              "      <th>DateY</th>\n",
              "      <th>ID_samobójcy</th>\n",
              "      <th>WorkInfo</th>\n",
              "      <th>Substance</th>\n",
              "      <th>Age2</th>\n",
              "      <th>Date</th>\n",
              "      <th>Place</th>\n",
              "      <th>CountContext</th>\n",
              "      <th>Marital</th>\n",
              "    </tr>\n",
              "  </thead>\n",
              "  <tbody>\n",
              "    <tr>\n",
              "      <th>0</th>\n",
              "      <td>NaN</td>\n",
              "      <td>NaN</td>\n",
              "      <td>NaN</td>\n",
              "      <td>NaN</td>\n",
              "      <td>01</td>\n",
              "      <td>M</td>\n",
              "      <td>NaN</td>\n",
              "      <td>NaN</td>\n",
              "      <td>2013</td>\n",
              "      <td>114581552,00</td>\n",
              "      <td>NaN</td>\n",
              "      <td>NaN</td>\n",
              "      <td>NaN</td>\n",
              "      <td>01.2013</td>\n",
              "      <td>NaN</td>\n",
              "      <td>0</td>\n",
              "      <td>NaN</td>\n",
              "    </tr>\n",
              "  </tbody>\n",
              "</table>\n",
              "</div>\n",
              "    <div class=\"colab-df-buttons\">\n",
              "\n",
              "  <div class=\"colab-df-container\">\n",
              "    <button class=\"colab-df-convert\" onclick=\"convertToInteractive('df-c01674db-84ca-4c5a-bcc9-a8f5182e22a5')\"\n",
              "            title=\"Convert this dataframe to an interactive table.\"\n",
              "            style=\"display:none;\">\n",
              "\n",
              "  <svg xmlns=\"http://www.w3.org/2000/svg\" height=\"24px\" viewBox=\"0 -960 960 960\">\n",
              "    <path d=\"M120-120v-720h720v720H120Zm60-500h600v-160H180v160Zm220 220h160v-160H400v160Zm0 220h160v-160H400v160ZM180-400h160v-160H180v160Zm440 0h160v-160H620v160ZM180-180h160v-160H180v160Zm440 0h160v-160H620v160Z\"/>\n",
              "  </svg>\n",
              "    </button>\n",
              "\n",
              "  <style>\n",
              "    .colab-df-container {\n",
              "      display:flex;\n",
              "      gap: 12px;\n",
              "    }\n",
              "\n",
              "    .colab-df-convert {\n",
              "      background-color: #E8F0FE;\n",
              "      border: none;\n",
              "      border-radius: 50%;\n",
              "      cursor: pointer;\n",
              "      display: none;\n",
              "      fill: #1967D2;\n",
              "      height: 32px;\n",
              "      padding: 0 0 0 0;\n",
              "      width: 32px;\n",
              "    }\n",
              "\n",
              "    .colab-df-convert:hover {\n",
              "      background-color: #E2EBFA;\n",
              "      box-shadow: 0px 1px 2px rgba(60, 64, 67, 0.3), 0px 1px 3px 1px rgba(60, 64, 67, 0.15);\n",
              "      fill: #174EA6;\n",
              "    }\n",
              "\n",
              "    .colab-df-buttons div {\n",
              "      margin-bottom: 4px;\n",
              "    }\n",
              "\n",
              "    [theme=dark] .colab-df-convert {\n",
              "      background-color: #3B4455;\n",
              "      fill: #D2E3FC;\n",
              "    }\n",
              "\n",
              "    [theme=dark] .colab-df-convert:hover {\n",
              "      background-color: #434B5C;\n",
              "      box-shadow: 0px 1px 3px 1px rgba(0, 0, 0, 0.15);\n",
              "      filter: drop-shadow(0px 1px 2px rgba(0, 0, 0, 0.3));\n",
              "      fill: #FFFFFF;\n",
              "    }\n",
              "  </style>\n",
              "\n",
              "    <script>\n",
              "      const buttonEl =\n",
              "        document.querySelector('#df-c01674db-84ca-4c5a-bcc9-a8f5182e22a5 button.colab-df-convert');\n",
              "      buttonEl.style.display =\n",
              "        google.colab.kernel.accessAllowed ? 'block' : 'none';\n",
              "\n",
              "      async function convertToInteractive(key) {\n",
              "        const element = document.querySelector('#df-c01674db-84ca-4c5a-bcc9-a8f5182e22a5');\n",
              "        const dataTable =\n",
              "          await google.colab.kernel.invokeFunction('convertToInteractive',\n",
              "                                                    [key], {});\n",
              "        if (!dataTable) return;\n",
              "\n",
              "        const docLinkHtml = 'Like what you see? Visit the ' +\n",
              "          '<a target=\"_blank\" href=https://colab.research.google.com/notebooks/data_table.ipynb>data table notebook</a>'\n",
              "          + ' to learn more about interactive tables.';\n",
              "        element.innerHTML = '';\n",
              "        dataTable['output_type'] = 'display_data';\n",
              "        await google.colab.output.renderOutput(dataTable, element);\n",
              "        const docLink = document.createElement('div');\n",
              "        docLink.innerHTML = docLinkHtml;\n",
              "        element.appendChild(docLink);\n",
              "      }\n",
              "    </script>\n",
              "  </div>\n",
              "\n",
              "\n",
              "    </div>\n",
              "  </div>\n"
            ],
            "application/vnd.google.colaboratory.intrinsic+json": {
              "type": "dataframe",
              "variable_name": "df_raw"
            }
          },
          "metadata": {},
          "execution_count": 255
        }
      ]
    },
    {
      "cell_type": "code",
      "source": [
        "df_raw.shape"
      ],
      "metadata": {
        "colab": {
          "base_uri": "https://localhost:8080/"
        },
        "id": "nPAzvt6bv82K",
        "outputId": "b1273132-df99-46c5-fefe-f7c90d393d24"
      },
      "execution_count": 256,
      "outputs": [
        {
          "output_type": "execute_result",
          "data": {
            "text/plain": [
              "(128332, 17)"
            ]
          },
          "metadata": {},
          "execution_count": 256
        }
      ]
    },
    {
      "cell_type": "code",
      "source": [
        "df_raw_2013_2022.head(1)"
      ],
      "metadata": {
        "colab": {
          "base_uri": "https://localhost:8080/",
          "height": 100
        },
        "id": "7PXwVmRIvVZB",
        "outputId": "537d240c-ed1e-4d86-b67e-b2b5f3c7d9e9"
      },
      "execution_count": 257,
      "outputs": [
        {
          "output_type": "execute_result",
          "data": {
            "text/plain": [
              "   ID_samobójcy     Date Age1 Gender Marital Education WorkInfo Income  Fatal  \\\n",
              "0  114581552,00  01.2013  NaN      M     NaN       NaN      NaN    NaN    NaN   \n",
              "\n",
              "  Place Method Substance AbuseInfo DateY DateM Age2  CountContext  \n",
              "0   NaN    NaN       NaN       NaN  2013    01  NaN             0  "
            ],
            "text/html": [
              "\n",
              "  <div id=\"df-040d326e-dd1e-47f3-802a-40948ffc86d3\" class=\"colab-df-container\">\n",
              "    <div>\n",
              "<style scoped>\n",
              "    .dataframe tbody tr th:only-of-type {\n",
              "        vertical-align: middle;\n",
              "    }\n",
              "\n",
              "    .dataframe tbody tr th {\n",
              "        vertical-align: top;\n",
              "    }\n",
              "\n",
              "    .dataframe thead th {\n",
              "        text-align: right;\n",
              "    }\n",
              "</style>\n",
              "<table border=\"1\" class=\"dataframe\">\n",
              "  <thead>\n",
              "    <tr style=\"text-align: right;\">\n",
              "      <th></th>\n",
              "      <th>ID_samobójcy</th>\n",
              "      <th>Date</th>\n",
              "      <th>Age1</th>\n",
              "      <th>Gender</th>\n",
              "      <th>Marital</th>\n",
              "      <th>Education</th>\n",
              "      <th>WorkInfo</th>\n",
              "      <th>Income</th>\n",
              "      <th>Fatal</th>\n",
              "      <th>Place</th>\n",
              "      <th>Method</th>\n",
              "      <th>Substance</th>\n",
              "      <th>AbuseInfo</th>\n",
              "      <th>DateY</th>\n",
              "      <th>DateM</th>\n",
              "      <th>Age2</th>\n",
              "      <th>CountContext</th>\n",
              "    </tr>\n",
              "  </thead>\n",
              "  <tbody>\n",
              "    <tr>\n",
              "      <th>0</th>\n",
              "      <td>114581552,00</td>\n",
              "      <td>01.2013</td>\n",
              "      <td>NaN</td>\n",
              "      <td>M</td>\n",
              "      <td>NaN</td>\n",
              "      <td>NaN</td>\n",
              "      <td>NaN</td>\n",
              "      <td>NaN</td>\n",
              "      <td>NaN</td>\n",
              "      <td>NaN</td>\n",
              "      <td>NaN</td>\n",
              "      <td>NaN</td>\n",
              "      <td>NaN</td>\n",
              "      <td>2013</td>\n",
              "      <td>01</td>\n",
              "      <td>NaN</td>\n",
              "      <td>0</td>\n",
              "    </tr>\n",
              "  </tbody>\n",
              "</table>\n",
              "</div>\n",
              "    <div class=\"colab-df-buttons\">\n",
              "\n",
              "  <div class=\"colab-df-container\">\n",
              "    <button class=\"colab-df-convert\" onclick=\"convertToInteractive('df-040d326e-dd1e-47f3-802a-40948ffc86d3')\"\n",
              "            title=\"Convert this dataframe to an interactive table.\"\n",
              "            style=\"display:none;\">\n",
              "\n",
              "  <svg xmlns=\"http://www.w3.org/2000/svg\" height=\"24px\" viewBox=\"0 -960 960 960\">\n",
              "    <path d=\"M120-120v-720h720v720H120Zm60-500h600v-160H180v160Zm220 220h160v-160H400v160Zm0 220h160v-160H400v160ZM180-400h160v-160H180v160Zm440 0h160v-160H620v160ZM180-180h160v-160H180v160Zm440 0h160v-160H620v160Z\"/>\n",
              "  </svg>\n",
              "    </button>\n",
              "\n",
              "  <style>\n",
              "    .colab-df-container {\n",
              "      display:flex;\n",
              "      gap: 12px;\n",
              "    }\n",
              "\n",
              "    .colab-df-convert {\n",
              "      background-color: #E8F0FE;\n",
              "      border: none;\n",
              "      border-radius: 50%;\n",
              "      cursor: pointer;\n",
              "      display: none;\n",
              "      fill: #1967D2;\n",
              "      height: 32px;\n",
              "      padding: 0 0 0 0;\n",
              "      width: 32px;\n",
              "    }\n",
              "\n",
              "    .colab-df-convert:hover {\n",
              "      background-color: #E2EBFA;\n",
              "      box-shadow: 0px 1px 2px rgba(60, 64, 67, 0.3), 0px 1px 3px 1px rgba(60, 64, 67, 0.15);\n",
              "      fill: #174EA6;\n",
              "    }\n",
              "\n",
              "    .colab-df-buttons div {\n",
              "      margin-bottom: 4px;\n",
              "    }\n",
              "\n",
              "    [theme=dark] .colab-df-convert {\n",
              "      background-color: #3B4455;\n",
              "      fill: #D2E3FC;\n",
              "    }\n",
              "\n",
              "    [theme=dark] .colab-df-convert:hover {\n",
              "      background-color: #434B5C;\n",
              "      box-shadow: 0px 1px 3px 1px rgba(0, 0, 0, 0.15);\n",
              "      filter: drop-shadow(0px 1px 2px rgba(0, 0, 0, 0.3));\n",
              "      fill: #FFFFFF;\n",
              "    }\n",
              "  </style>\n",
              "\n",
              "    <script>\n",
              "      const buttonEl =\n",
              "        document.querySelector('#df-040d326e-dd1e-47f3-802a-40948ffc86d3 button.colab-df-convert');\n",
              "      buttonEl.style.display =\n",
              "        google.colab.kernel.accessAllowed ? 'block' : 'none';\n",
              "\n",
              "      async function convertToInteractive(key) {\n",
              "        const element = document.querySelector('#df-040d326e-dd1e-47f3-802a-40948ffc86d3');\n",
              "        const dataTable =\n",
              "          await google.colab.kernel.invokeFunction('convertToInteractive',\n",
              "                                                    [key], {});\n",
              "        if (!dataTable) return;\n",
              "\n",
              "        const docLinkHtml = 'Like what you see? Visit the ' +\n",
              "          '<a target=\"_blank\" href=https://colab.research.google.com/notebooks/data_table.ipynb>data table notebook</a>'\n",
              "          + ' to learn more about interactive tables.';\n",
              "        element.innerHTML = '';\n",
              "        dataTable['output_type'] = 'display_data';\n",
              "        await google.colab.output.renderOutput(dataTable, element);\n",
              "        const docLink = document.createElement('div');\n",
              "        docLink.innerHTML = docLinkHtml;\n",
              "        element.appendChild(docLink);\n",
              "      }\n",
              "    </script>\n",
              "  </div>\n",
              "\n",
              "\n",
              "    </div>\n",
              "  </div>\n"
            ],
            "application/vnd.google.colaboratory.intrinsic+json": {
              "type": "dataframe",
              "variable_name": "df_raw_2013_2022"
            }
          },
          "metadata": {},
          "execution_count": 257
        }
      ]
    },
    {
      "cell_type": "code",
      "source": [
        "df_raw_2013_2022.shape"
      ],
      "metadata": {
        "colab": {
          "base_uri": "https://localhost:8080/"
        },
        "id": "I889M6JSwC2E",
        "outputId": "19832ba0-f801-4180-dbe3-e778036dc308"
      },
      "execution_count": 258,
      "outputs": [
        {
          "output_type": "execute_result",
          "data": {
            "text/plain": [
              "(113196, 17)"
            ]
          },
          "metadata": {},
          "execution_count": 258
        }
      ]
    },
    {
      "cell_type": "code",
      "source": [
        "df_raw_2023.head(1)"
      ],
      "metadata": {
        "colab": {
          "base_uri": "https://localhost:8080/",
          "height": 118
        },
        "id": "yxpAKYoDvaUf",
        "outputId": "74b7e51e-2bbd-4342-99b7-093d5a3fb2a2"
      },
      "execution_count": 259,
      "outputs": [
        {
          "output_type": "execute_result",
          "data": {
            "text/plain": [
              "  ID_samobójcy     Date   Age1 Gender     Marital Education    WorkInfo  \\\n",
              "0    138421942  01.2023  25-29      M  Cohabitant       NaN  Unemployed   \n",
              "\n",
              "  Income  Fatal  Place Klasa_miejscowości     Method Substance AbuseInfo  \\\n",
              "0    NaN    0.0  House               Wieś  Self-harm      Alco       NaN   \n",
              "\n",
              "  W_ciągu_ostatniego_miesiąca_sprawca_zdarzenia_miał_przynajmniej_jeden_raz_kontakt_z_*  \\\n",
              "0                          Brak możliwości ustalenia                                      \n",
              "\n",
              "  DateY DateM   Age2  CountContext  \n",
              "0  2023    01  19-34             2  "
            ],
            "text/html": [
              "\n",
              "  <div id=\"df-8ed15331-b37b-467b-869b-cc61788fb3f3\" class=\"colab-df-container\">\n",
              "    <div>\n",
              "<style scoped>\n",
              "    .dataframe tbody tr th:only-of-type {\n",
              "        vertical-align: middle;\n",
              "    }\n",
              "\n",
              "    .dataframe tbody tr th {\n",
              "        vertical-align: top;\n",
              "    }\n",
              "\n",
              "    .dataframe thead th {\n",
              "        text-align: right;\n",
              "    }\n",
              "</style>\n",
              "<table border=\"1\" class=\"dataframe\">\n",
              "  <thead>\n",
              "    <tr style=\"text-align: right;\">\n",
              "      <th></th>\n",
              "      <th>ID_samobójcy</th>\n",
              "      <th>Date</th>\n",
              "      <th>Age1</th>\n",
              "      <th>Gender</th>\n",
              "      <th>Marital</th>\n",
              "      <th>Education</th>\n",
              "      <th>WorkInfo</th>\n",
              "      <th>Income</th>\n",
              "      <th>Fatal</th>\n",
              "      <th>Place</th>\n",
              "      <th>Klasa_miejscowości</th>\n",
              "      <th>Method</th>\n",
              "      <th>Substance</th>\n",
              "      <th>AbuseInfo</th>\n",
              "      <th>W_ciągu_ostatniego_miesiąca_sprawca_zdarzenia_miał_przynajmniej_jeden_raz_kontakt_z_*</th>\n",
              "      <th>DateY</th>\n",
              "      <th>DateM</th>\n",
              "      <th>Age2</th>\n",
              "      <th>CountContext</th>\n",
              "    </tr>\n",
              "  </thead>\n",
              "  <tbody>\n",
              "    <tr>\n",
              "      <th>0</th>\n",
              "      <td>138421942</td>\n",
              "      <td>01.2023</td>\n",
              "      <td>25-29</td>\n",
              "      <td>M</td>\n",
              "      <td>Cohabitant</td>\n",
              "      <td>NaN</td>\n",
              "      <td>Unemployed</td>\n",
              "      <td>NaN</td>\n",
              "      <td>0.0</td>\n",
              "      <td>House</td>\n",
              "      <td>Wieś</td>\n",
              "      <td>Self-harm</td>\n",
              "      <td>Alco</td>\n",
              "      <td>NaN</td>\n",
              "      <td>Brak możliwości ustalenia</td>\n",
              "      <td>2023</td>\n",
              "      <td>01</td>\n",
              "      <td>19-34</td>\n",
              "      <td>2</td>\n",
              "    </tr>\n",
              "  </tbody>\n",
              "</table>\n",
              "</div>\n",
              "    <div class=\"colab-df-buttons\">\n",
              "\n",
              "  <div class=\"colab-df-container\">\n",
              "    <button class=\"colab-df-convert\" onclick=\"convertToInteractive('df-8ed15331-b37b-467b-869b-cc61788fb3f3')\"\n",
              "            title=\"Convert this dataframe to an interactive table.\"\n",
              "            style=\"display:none;\">\n",
              "\n",
              "  <svg xmlns=\"http://www.w3.org/2000/svg\" height=\"24px\" viewBox=\"0 -960 960 960\">\n",
              "    <path d=\"M120-120v-720h720v720H120Zm60-500h600v-160H180v160Zm220 220h160v-160H400v160Zm0 220h160v-160H400v160ZM180-400h160v-160H180v160Zm440 0h160v-160H620v160ZM180-180h160v-160H180v160Zm440 0h160v-160H620v160Z\"/>\n",
              "  </svg>\n",
              "    </button>\n",
              "\n",
              "  <style>\n",
              "    .colab-df-container {\n",
              "      display:flex;\n",
              "      gap: 12px;\n",
              "    }\n",
              "\n",
              "    .colab-df-convert {\n",
              "      background-color: #E8F0FE;\n",
              "      border: none;\n",
              "      border-radius: 50%;\n",
              "      cursor: pointer;\n",
              "      display: none;\n",
              "      fill: #1967D2;\n",
              "      height: 32px;\n",
              "      padding: 0 0 0 0;\n",
              "      width: 32px;\n",
              "    }\n",
              "\n",
              "    .colab-df-convert:hover {\n",
              "      background-color: #E2EBFA;\n",
              "      box-shadow: 0px 1px 2px rgba(60, 64, 67, 0.3), 0px 1px 3px 1px rgba(60, 64, 67, 0.15);\n",
              "      fill: #174EA6;\n",
              "    }\n",
              "\n",
              "    .colab-df-buttons div {\n",
              "      margin-bottom: 4px;\n",
              "    }\n",
              "\n",
              "    [theme=dark] .colab-df-convert {\n",
              "      background-color: #3B4455;\n",
              "      fill: #D2E3FC;\n",
              "    }\n",
              "\n",
              "    [theme=dark] .colab-df-convert:hover {\n",
              "      background-color: #434B5C;\n",
              "      box-shadow: 0px 1px 3px 1px rgba(0, 0, 0, 0.15);\n",
              "      filter: drop-shadow(0px 1px 2px rgba(0, 0, 0, 0.3));\n",
              "      fill: #FFFFFF;\n",
              "    }\n",
              "  </style>\n",
              "\n",
              "    <script>\n",
              "      const buttonEl =\n",
              "        document.querySelector('#df-8ed15331-b37b-467b-869b-cc61788fb3f3 button.colab-df-convert');\n",
              "      buttonEl.style.display =\n",
              "        google.colab.kernel.accessAllowed ? 'block' : 'none';\n",
              "\n",
              "      async function convertToInteractive(key) {\n",
              "        const element = document.querySelector('#df-8ed15331-b37b-467b-869b-cc61788fb3f3');\n",
              "        const dataTable =\n",
              "          await google.colab.kernel.invokeFunction('convertToInteractive',\n",
              "                                                    [key], {});\n",
              "        if (!dataTable) return;\n",
              "\n",
              "        const docLinkHtml = 'Like what you see? Visit the ' +\n",
              "          '<a target=\"_blank\" href=https://colab.research.google.com/notebooks/data_table.ipynb>data table notebook</a>'\n",
              "          + ' to learn more about interactive tables.';\n",
              "        element.innerHTML = '';\n",
              "        dataTable['output_type'] = 'display_data';\n",
              "        await google.colab.output.renderOutput(dataTable, element);\n",
              "        const docLink = document.createElement('div');\n",
              "        docLink.innerHTML = docLinkHtml;\n",
              "        element.appendChild(docLink);\n",
              "      }\n",
              "    </script>\n",
              "  </div>\n",
              "\n",
              "\n",
              "    </div>\n",
              "  </div>\n"
            ],
            "application/vnd.google.colaboratory.intrinsic+json": {
              "type": "dataframe",
              "variable_name": "df_raw_2023",
              "summary": "{\n  \"name\": \"df_raw_2023\",\n  \"rows\": 15136,\n  \"fields\": [\n    {\n      \"column\": \"ID_samob\\u00f3jcy\",\n      \"properties\": {\n        \"dtype\": \"string\",\n        \"num_unique_values\": 15134,\n        \"samples\": [\n          138537735,\n          139320393,\n          139252885\n        ],\n        \"semantic_type\": \"\",\n        \"description\": \"\"\n      }\n    },\n    {\n      \"column\": \"Date\",\n      \"properties\": {\n        \"dtype\": \"category\",\n        \"num_unique_values\": 12,\n        \"samples\": [\n          \"11.2023\",\n          \"10.2023\",\n          \"01.2023\"\n        ],\n        \"semantic_type\": \"\",\n        \"description\": \"\"\n      }\n    },\n    {\n      \"column\": \"Age1\",\n      \"properties\": {\n        \"dtype\": \"category\",\n        \"num_unique_values\": 16,\n        \"samples\": [\n          \"25-29\",\n          \"55-59\",\n          \"50-54\"\n        ],\n        \"semantic_type\": \"\",\n        \"description\": \"\"\n      }\n    },\n    {\n      \"column\": \"Gender\",\n      \"properties\": {\n        \"dtype\": \"category\",\n        \"num_unique_values\": 2,\n        \"samples\": [\n          \"F\",\n          \"M\"\n        ],\n        \"semantic_type\": \"\",\n        \"description\": \"\"\n      }\n    },\n    {\n      \"column\": \"Marital\",\n      \"properties\": {\n        \"dtype\": \"category\",\n        \"num_unique_values\": 6,\n        \"samples\": [\n          \"Cohabitant\",\n          \"Married\"\n        ],\n        \"semantic_type\": \"\",\n        \"description\": \"\"\n      }\n    },\n    {\n      \"column\": \"Education\",\n      \"properties\": {\n        \"dtype\": \"category\",\n        \"num_unique_values\": 5,\n        \"samples\": [\n          \"Secondary\",\n          \"Higher\"\n        ],\n        \"semantic_type\": \"\",\n        \"description\": \"\"\n      }\n    },\n    {\n      \"column\": \"WorkInfo\",\n      \"properties\": {\n        \"dtype\": \"category\",\n        \"num_unique_values\": 4,\n        \"samples\": [\n          \"Student\",\n          \"Agriculturalist\"\n        ],\n        \"semantic_type\": \"\",\n        \"description\": \"\"\n      }\n    },\n    {\n      \"column\": \"Income\",\n      \"properties\": {\n        \"dtype\": \"category\",\n        \"num_unique_values\": 4,\n        \"samples\": [\n          \"Steady\",\n          \"NoSteady\"\n        ],\n        \"semantic_type\": \"\",\n        \"description\": \"\"\n      }\n    },\n    {\n      \"column\": \"Fatal\",\n      \"properties\": {\n        \"dtype\": \"number\",\n        \"std\": 0.4756294647878996,\n        \"min\": 0.0,\n        \"max\": 1.0,\n        \"num_unique_values\": 2,\n        \"samples\": [\n          1.0,\n          0.0\n        ],\n        \"semantic_type\": \"\",\n        \"description\": \"\"\n      }\n    },\n    {\n      \"column\": \"Place\",\n      \"properties\": {\n        \"dtype\": \"category\",\n        \"num_unique_values\": 12,\n        \"samples\": [\n          \"Isolation\",\n          \"Institution\"\n        ],\n        \"semantic_type\": \"\",\n        \"description\": \"\"\n      }\n    },\n    {\n      \"column\": \"Klasa_miejscowo\\u015bci\",\n      \"properties\": {\n        \"dtype\": \"category\",\n        \"num_unique_values\": 7,\n        \"samples\": [\n          \"Wie\\u015b\",\n          \"Miasto o liczbie ludno\\u015bci 20 000 \\u2013 49 999\"\n        ],\n        \"semantic_type\": \"\",\n        \"description\": \"\"\n      }\n    },\n    {\n      \"column\": \"Method\",\n      \"properties\": {\n        \"dtype\": \"category\",\n        \"num_unique_values\": 10,\n        \"samples\": [\n          \"Gas\",\n          \"Hanging\"\n        ],\n        \"semantic_type\": \"\",\n        \"description\": \"\"\n      }\n    },\n    {\n      \"column\": \"Substance\",\n      \"properties\": {\n        \"dtype\": \"category\",\n        \"num_unique_values\": 4,\n        \"samples\": [\n          \"Sober\",\n          \"Alco&OtherSub\"\n        ],\n        \"semantic_type\": \"\",\n        \"description\": \"\"\n      }\n    },\n    {\n      \"column\": \"AbuseInfo\",\n      \"properties\": {\n        \"dtype\": \"category\",\n        \"num_unique_values\": 3,\n        \"samples\": [\n          \"Alco\",\n          \"Alco&OtherSub\"\n        ],\n        \"semantic_type\": \"\",\n        \"description\": \"\"\n      }\n    },\n    {\n      \"column\": \"W_ci\\u0105gu_ostatniego_miesi\\u0105ca_sprawca_zdarzenia_mia\\u0142_przynajmniej_jeden_raz_kontakt_z_*\",\n      \"properties\": {\n        \"dtype\": \"category\",\n        \"num_unique_values\": 7,\n        \"samples\": [\n          \"Brak mo\\u017cliwo\\u015bci ustalenia\",\n          \"Plac\\u00f3wk\\u0105 lecznicz\\u0105\"\n        ],\n        \"semantic_type\": \"\",\n        \"description\": \"\"\n      }\n    },\n    {\n      \"column\": \"DateY\",\n      \"properties\": {\n        \"dtype\": \"object\",\n        \"num_unique_values\": 1,\n        \"samples\": [\n          \"2023\"\n        ],\n        \"semantic_type\": \"\",\n        \"description\": \"\"\n      }\n    },\n    {\n      \"column\": \"DateM\",\n      \"properties\": {\n        \"dtype\": \"category\",\n        \"num_unique_values\": 12,\n        \"samples\": [\n          \"11\"\n        ],\n        \"semantic_type\": \"\",\n        \"description\": \"\"\n      }\n    },\n    {\n      \"column\": \"Age2\",\n      \"properties\": {\n        \"dtype\": \"category\",\n        \"num_unique_values\": 4,\n        \"samples\": [\n          \"35-64\"\n        ],\n        \"semantic_type\": \"\",\n        \"description\": \"\"\n      }\n    },\n    {\n      \"column\": \"CountContext\",\n      \"properties\": {\n        \"dtype\": \"number\",\n        \"std\": 0,\n        \"min\": 0,\n        \"max\": 4,\n        \"num_unique_values\": 5,\n        \"samples\": [\n          0\n        ],\n        \"semantic_type\": \"\",\n        \"description\": \"\"\n      }\n    }\n  ]\n}"
            }
          },
          "metadata": {},
          "execution_count": 259
        }
      ]
    },
    {
      "cell_type": "code",
      "source": [
        "df_raw_2023.shape"
      ],
      "metadata": {
        "colab": {
          "base_uri": "https://localhost:8080/"
        },
        "id": "SwEi_EQFwKRS",
        "outputId": "63f13ff5-2a00-49e9-d6b8-15b21e07e158"
      },
      "execution_count": 260,
      "outputs": [
        {
          "output_type": "execute_result",
          "data": {
            "text/plain": [
              "(15136, 19)"
            ]
          },
          "metadata": {},
          "execution_count": 260
        }
      ]
    },
    {
      "cell_type": "code",
      "source": [
        "df_raw['DateY'].unique()"
      ],
      "metadata": {
        "colab": {
          "base_uri": "https://localhost:8080/"
        },
        "outputId": "d1e4584f-fb61-4ab9-ae9c-43108edce505",
        "id": "s5qL7VSzzDZE"
      },
      "execution_count": 261,
      "outputs": [
        {
          "output_type": "execute_result",
          "data": {
            "text/plain": [
              "array(['2013', '2014', '2015', '2016', '2017', '2018', '2019', '2020',\n",
              "       '2021', '2022', '2023', nan], dtype=object)"
            ]
          },
          "metadata": {},
          "execution_count": 261
        }
      ]
    },
    {
      "cell_type": "code",
      "source": [
        "df_raw['DateM'].unique()"
      ],
      "metadata": {
        "colab": {
          "base_uri": "https://localhost:8080/"
        },
        "outputId": "3da772a3-e772-4bd9-f769-df668a71ec70",
        "id": "RLX7Vf0CzDZF"
      },
      "execution_count": 262,
      "outputs": [
        {
          "output_type": "execute_result",
          "data": {
            "text/plain": [
              "array(['01', '02', '03', '04', '05', '06', '07', '08', '09', '10', '11',\n",
              "       '12', nan], dtype=object)"
            ]
          },
          "metadata": {},
          "execution_count": 262
        }
      ]
    },
    {
      "cell_type": "code",
      "source": [
        "df_raw['Date'].unique()"
      ],
      "metadata": {
        "id": "0wAy_TPozHxB",
        "outputId": "a5ec90e5-f6c0-4f00-872d-4c313404bfc9",
        "colab": {
          "base_uri": "https://localhost:8080/"
        }
      },
      "execution_count": 263,
      "outputs": [
        {
          "output_type": "execute_result",
          "data": {
            "text/plain": [
              "array(['01.2013', '02.2013', '03.2013', '04.2013', '05.2013', '06.2013',\n",
              "       '07.2013', '08.2013', '09.2013', '10.2013', '11.2013', '12.2013',\n",
              "       '01.2014', '02.2014', '03.2014', '04.2014', '05.2014', '06.2014',\n",
              "       '07.2014', '08.2014', '09.2014', '10.2014', '11.2014', '12.2014',\n",
              "       '01.2015', '02.2015', '03.2015', '04.2015', '05.2015', '06.2015',\n",
              "       '07.2015', '08.2015', '09.2015', '10.2015', '11.2015', '12.2015',\n",
              "       '01.2016', '02.2016', '03.2016', '04.2016', '05.2016', '06.2016',\n",
              "       '07.2016', '08.2016', '09.2016', '10.2016', '11.2016', '12.2016',\n",
              "       '01.2017', '02.2017', '03.2017', '04.2017', '05.2017', '06.2017',\n",
              "       '07.2017', '08.2017', '09.2017', '10.2017', '11.2017', '12.2017',\n",
              "       '01.2018', '02.2018', '03.2018', '04.2018', '05.2018', '06.2018',\n",
              "       '07.2018', '08.2018', '09.2018', '10.2018', '11.2018', '12.2018',\n",
              "       '01.2019', '02.2019', '03.2019', '04.2019', '05.2019', '06.2019',\n",
              "       '07.2019', '08.2019', '09.2019', '10.2019', '11.2019', '12.2019',\n",
              "       '01.2020', '02.2020', '03.2020', '04.2020', '05.2020', '06.2020',\n",
              "       '07.2020', '08.2020', '09.2020', '10.2020', '11.2020', '12.2020',\n",
              "       '01.2021', '02.2021', '03.2021', '04.2021', '05.2021', '06.2021',\n",
              "       '07.2021', '08.2021', '09.2021', '10.2021', '11.2021', '12.2021',\n",
              "       '01.2022', '02.2022', '03.2022', '04.2022', '05.2022', '06.2022',\n",
              "       '07.2022', '08.2022', '09.2022', '10.2022', '11.2022', '12.2022',\n",
              "       '01.2023', '02.2023', nan, '03.2023', '04.2023', '05.2023',\n",
              "       '06.2023', '07.2023', '08.2023', '09.2023', '10.2023', '11.2023',\n",
              "       '12.2023'], dtype=object)"
            ]
          },
          "metadata": {},
          "execution_count": 263
        }
      ]
    },
    {
      "cell_type": "markdown",
      "source": [
        "##df_powód_zamachu"
      ],
      "metadata": {
        "id": "b65iyEmqwflZ"
      }
    },
    {
      "cell_type": "code",
      "source": [
        "# Połącz oba DataFrame'y\n",
        "df_powód_zamachu = pd.concat([df_powód_zamachu_2013_2022, df_powód_zamachu_2023])\n",
        "df_powód_zamachu.fillna(0, inplace=True)"
      ],
      "metadata": {
        "id": "mfTwJ1_9whYG"
      },
      "execution_count": 264,
      "outputs": []
    },
    {
      "cell_type": "code",
      "source": [
        "df_powód_zamachu.head(1)"
      ],
      "metadata": {
        "outputId": "5efde1f6-42bf-4c21-bb52-4dd29f2722ac",
        "colab": {
          "base_uri": "https://localhost:8080/",
          "height": 100
        },
        "id": "vczwIgYExAsR"
      },
      "execution_count": 265,
      "outputs": [
        {
          "output_type": "execute_result",
          "data": {
            "text/plain": [
              "   Context_Finances  Context_CloseDeath  Context_FamilyConflict  \\\n",
              "0                 0                   0                       0   \n",
              "\n",
              "   Context_Disability  Context_HeartBreak  Context_Crime  Context_SchoolWork  \\\n",
              "0                   0                   0              0                   0   \n",
              "\n",
              "   Context_MentalHealth  Context_Other  Context_HealthLoss  \n",
              "0                     0              0                   0  "
            ],
            "text/html": [
              "\n",
              "  <div id=\"df-ab476e49-8b94-488b-bdaa-a4f66a402572\" class=\"colab-df-container\">\n",
              "    <div>\n",
              "<style scoped>\n",
              "    .dataframe tbody tr th:only-of-type {\n",
              "        vertical-align: middle;\n",
              "    }\n",
              "\n",
              "    .dataframe tbody tr th {\n",
              "        vertical-align: top;\n",
              "    }\n",
              "\n",
              "    .dataframe thead th {\n",
              "        text-align: right;\n",
              "    }\n",
              "</style>\n",
              "<table border=\"1\" class=\"dataframe\">\n",
              "  <thead>\n",
              "    <tr style=\"text-align: right;\">\n",
              "      <th></th>\n",
              "      <th>Context_Finances</th>\n",
              "      <th>Context_CloseDeath</th>\n",
              "      <th>Context_FamilyConflict</th>\n",
              "      <th>Context_Disability</th>\n",
              "      <th>Context_HeartBreak</th>\n",
              "      <th>Context_Crime</th>\n",
              "      <th>Context_SchoolWork</th>\n",
              "      <th>Context_MentalHealth</th>\n",
              "      <th>Context_Other</th>\n",
              "      <th>Context_HealthLoss</th>\n",
              "    </tr>\n",
              "  </thead>\n",
              "  <tbody>\n",
              "    <tr>\n",
              "      <th>0</th>\n",
              "      <td>0</td>\n",
              "      <td>0</td>\n",
              "      <td>0</td>\n",
              "      <td>0</td>\n",
              "      <td>0</td>\n",
              "      <td>0</td>\n",
              "      <td>0</td>\n",
              "      <td>0</td>\n",
              "      <td>0</td>\n",
              "      <td>0</td>\n",
              "    </tr>\n",
              "  </tbody>\n",
              "</table>\n",
              "</div>\n",
              "    <div class=\"colab-df-buttons\">\n",
              "\n",
              "  <div class=\"colab-df-container\">\n",
              "    <button class=\"colab-df-convert\" onclick=\"convertToInteractive('df-ab476e49-8b94-488b-bdaa-a4f66a402572')\"\n",
              "            title=\"Convert this dataframe to an interactive table.\"\n",
              "            style=\"display:none;\">\n",
              "\n",
              "  <svg xmlns=\"http://www.w3.org/2000/svg\" height=\"24px\" viewBox=\"0 -960 960 960\">\n",
              "    <path d=\"M120-120v-720h720v720H120Zm60-500h600v-160H180v160Zm220 220h160v-160H400v160Zm0 220h160v-160H400v160ZM180-400h160v-160H180v160Zm440 0h160v-160H620v160ZM180-180h160v-160H180v160Zm440 0h160v-160H620v160Z\"/>\n",
              "  </svg>\n",
              "    </button>\n",
              "\n",
              "  <style>\n",
              "    .colab-df-container {\n",
              "      display:flex;\n",
              "      gap: 12px;\n",
              "    }\n",
              "\n",
              "    .colab-df-convert {\n",
              "      background-color: #E8F0FE;\n",
              "      border: none;\n",
              "      border-radius: 50%;\n",
              "      cursor: pointer;\n",
              "      display: none;\n",
              "      fill: #1967D2;\n",
              "      height: 32px;\n",
              "      padding: 0 0 0 0;\n",
              "      width: 32px;\n",
              "    }\n",
              "\n",
              "    .colab-df-convert:hover {\n",
              "      background-color: #E2EBFA;\n",
              "      box-shadow: 0px 1px 2px rgba(60, 64, 67, 0.3), 0px 1px 3px 1px rgba(60, 64, 67, 0.15);\n",
              "      fill: #174EA6;\n",
              "    }\n",
              "\n",
              "    .colab-df-buttons div {\n",
              "      margin-bottom: 4px;\n",
              "    }\n",
              "\n",
              "    [theme=dark] .colab-df-convert {\n",
              "      background-color: #3B4455;\n",
              "      fill: #D2E3FC;\n",
              "    }\n",
              "\n",
              "    [theme=dark] .colab-df-convert:hover {\n",
              "      background-color: #434B5C;\n",
              "      box-shadow: 0px 1px 3px 1px rgba(0, 0, 0, 0.15);\n",
              "      filter: drop-shadow(0px 1px 2px rgba(0, 0, 0, 0.3));\n",
              "      fill: #FFFFFF;\n",
              "    }\n",
              "  </style>\n",
              "\n",
              "    <script>\n",
              "      const buttonEl =\n",
              "        document.querySelector('#df-ab476e49-8b94-488b-bdaa-a4f66a402572 button.colab-df-convert');\n",
              "      buttonEl.style.display =\n",
              "        google.colab.kernel.accessAllowed ? 'block' : 'none';\n",
              "\n",
              "      async function convertToInteractive(key) {\n",
              "        const element = document.querySelector('#df-ab476e49-8b94-488b-bdaa-a4f66a402572');\n",
              "        const dataTable =\n",
              "          await google.colab.kernel.invokeFunction('convertToInteractive',\n",
              "                                                    [key], {});\n",
              "        if (!dataTable) return;\n",
              "\n",
              "        const docLinkHtml = 'Like what you see? Visit the ' +\n",
              "          '<a target=\"_blank\" href=https://colab.research.google.com/notebooks/data_table.ipynb>data table notebook</a>'\n",
              "          + ' to learn more about interactive tables.';\n",
              "        element.innerHTML = '';\n",
              "        dataTable['output_type'] = 'display_data';\n",
              "        await google.colab.output.renderOutput(dataTable, element);\n",
              "        const docLink = document.createElement('div');\n",
              "        docLink.innerHTML = docLinkHtml;\n",
              "        element.appendChild(docLink);\n",
              "      }\n",
              "    </script>\n",
              "  </div>\n",
              "\n",
              "\n",
              "    </div>\n",
              "  </div>\n"
            ],
            "application/vnd.google.colaboratory.intrinsic+json": {
              "type": "dataframe",
              "variable_name": "df_powód_zamachu"
            }
          },
          "metadata": {},
          "execution_count": 265
        }
      ]
    },
    {
      "cell_type": "code",
      "source": [
        "df_powód_zamachu.shape"
      ],
      "metadata": {
        "outputId": "51953168-cb00-4751-a246-6aab62d901f9",
        "colab": {
          "base_uri": "https://localhost:8080/"
        },
        "id": "AdSqSSiPxAsY"
      },
      "execution_count": 266,
      "outputs": [
        {
          "output_type": "execute_result",
          "data": {
            "text/plain": [
              "(128332, 10)"
            ]
          },
          "metadata": {},
          "execution_count": 266
        }
      ]
    },
    {
      "cell_type": "code",
      "source": [
        "df_powód_zamachu_2013_2022.head(1)"
      ],
      "metadata": {
        "outputId": "4639bea4-0d43-4e89-ca7d-a46a369b9054",
        "colab": {
          "base_uri": "https://localhost:8080/",
          "height": 100
        },
        "id": "8D8RooWYxAsY"
      },
      "execution_count": 267,
      "outputs": [
        {
          "output_type": "execute_result",
          "data": {
            "text/plain": [
              "   Context_Finances  Context_CloseDeath  Context_FamilyConflict  \\\n",
              "0                 0                   0                       0   \n",
              "\n",
              "   Context_Disability  Context_HeartBreak  Context_Crime  Context_SchoolWork  \\\n",
              "0                   0                   0              0                   0   \n",
              "\n",
              "   Context_MentalHealth  Context_Other  Context_HealthLoss  \n",
              "0                     0              0                   0  "
            ],
            "text/html": [
              "\n",
              "  <div id=\"df-a1f2dfd7-f7cf-4893-a789-4a2cdb65edb5\" class=\"colab-df-container\">\n",
              "    <div>\n",
              "<style scoped>\n",
              "    .dataframe tbody tr th:only-of-type {\n",
              "        vertical-align: middle;\n",
              "    }\n",
              "\n",
              "    .dataframe tbody tr th {\n",
              "        vertical-align: top;\n",
              "    }\n",
              "\n",
              "    .dataframe thead th {\n",
              "        text-align: right;\n",
              "    }\n",
              "</style>\n",
              "<table border=\"1\" class=\"dataframe\">\n",
              "  <thead>\n",
              "    <tr style=\"text-align: right;\">\n",
              "      <th></th>\n",
              "      <th>Context_Finances</th>\n",
              "      <th>Context_CloseDeath</th>\n",
              "      <th>Context_FamilyConflict</th>\n",
              "      <th>Context_Disability</th>\n",
              "      <th>Context_HeartBreak</th>\n",
              "      <th>Context_Crime</th>\n",
              "      <th>Context_SchoolWork</th>\n",
              "      <th>Context_MentalHealth</th>\n",
              "      <th>Context_Other</th>\n",
              "      <th>Context_HealthLoss</th>\n",
              "    </tr>\n",
              "  </thead>\n",
              "  <tbody>\n",
              "    <tr>\n",
              "      <th>0</th>\n",
              "      <td>0</td>\n",
              "      <td>0</td>\n",
              "      <td>0</td>\n",
              "      <td>0</td>\n",
              "      <td>0</td>\n",
              "      <td>0</td>\n",
              "      <td>0</td>\n",
              "      <td>0</td>\n",
              "      <td>0</td>\n",
              "      <td>0</td>\n",
              "    </tr>\n",
              "  </tbody>\n",
              "</table>\n",
              "</div>\n",
              "    <div class=\"colab-df-buttons\">\n",
              "\n",
              "  <div class=\"colab-df-container\">\n",
              "    <button class=\"colab-df-convert\" onclick=\"convertToInteractive('df-a1f2dfd7-f7cf-4893-a789-4a2cdb65edb5')\"\n",
              "            title=\"Convert this dataframe to an interactive table.\"\n",
              "            style=\"display:none;\">\n",
              "\n",
              "  <svg xmlns=\"http://www.w3.org/2000/svg\" height=\"24px\" viewBox=\"0 -960 960 960\">\n",
              "    <path d=\"M120-120v-720h720v720H120Zm60-500h600v-160H180v160Zm220 220h160v-160H400v160Zm0 220h160v-160H400v160ZM180-400h160v-160H180v160Zm440 0h160v-160H620v160ZM180-180h160v-160H180v160Zm440 0h160v-160H620v160Z\"/>\n",
              "  </svg>\n",
              "    </button>\n",
              "\n",
              "  <style>\n",
              "    .colab-df-container {\n",
              "      display:flex;\n",
              "      gap: 12px;\n",
              "    }\n",
              "\n",
              "    .colab-df-convert {\n",
              "      background-color: #E8F0FE;\n",
              "      border: none;\n",
              "      border-radius: 50%;\n",
              "      cursor: pointer;\n",
              "      display: none;\n",
              "      fill: #1967D2;\n",
              "      height: 32px;\n",
              "      padding: 0 0 0 0;\n",
              "      width: 32px;\n",
              "    }\n",
              "\n",
              "    .colab-df-convert:hover {\n",
              "      background-color: #E2EBFA;\n",
              "      box-shadow: 0px 1px 2px rgba(60, 64, 67, 0.3), 0px 1px 3px 1px rgba(60, 64, 67, 0.15);\n",
              "      fill: #174EA6;\n",
              "    }\n",
              "\n",
              "    .colab-df-buttons div {\n",
              "      margin-bottom: 4px;\n",
              "    }\n",
              "\n",
              "    [theme=dark] .colab-df-convert {\n",
              "      background-color: #3B4455;\n",
              "      fill: #D2E3FC;\n",
              "    }\n",
              "\n",
              "    [theme=dark] .colab-df-convert:hover {\n",
              "      background-color: #434B5C;\n",
              "      box-shadow: 0px 1px 3px 1px rgba(0, 0, 0, 0.15);\n",
              "      filter: drop-shadow(0px 1px 2px rgba(0, 0, 0, 0.3));\n",
              "      fill: #FFFFFF;\n",
              "    }\n",
              "  </style>\n",
              "\n",
              "    <script>\n",
              "      const buttonEl =\n",
              "        document.querySelector('#df-a1f2dfd7-f7cf-4893-a789-4a2cdb65edb5 button.colab-df-convert');\n",
              "      buttonEl.style.display =\n",
              "        google.colab.kernel.accessAllowed ? 'block' : 'none';\n",
              "\n",
              "      async function convertToInteractive(key) {\n",
              "        const element = document.querySelector('#df-a1f2dfd7-f7cf-4893-a789-4a2cdb65edb5');\n",
              "        const dataTable =\n",
              "          await google.colab.kernel.invokeFunction('convertToInteractive',\n",
              "                                                    [key], {});\n",
              "        if (!dataTable) return;\n",
              "\n",
              "        const docLinkHtml = 'Like what you see? Visit the ' +\n",
              "          '<a target=\"_blank\" href=https://colab.research.google.com/notebooks/data_table.ipynb>data table notebook</a>'\n",
              "          + ' to learn more about interactive tables.';\n",
              "        element.innerHTML = '';\n",
              "        dataTable['output_type'] = 'display_data';\n",
              "        await google.colab.output.renderOutput(dataTable, element);\n",
              "        const docLink = document.createElement('div');\n",
              "        docLink.innerHTML = docLinkHtml;\n",
              "        element.appendChild(docLink);\n",
              "      }\n",
              "    </script>\n",
              "  </div>\n",
              "\n",
              "\n",
              "    </div>\n",
              "  </div>\n"
            ],
            "application/vnd.google.colaboratory.intrinsic+json": {
              "type": "dataframe",
              "variable_name": "df_powód_zamachu_2013_2022"
            }
          },
          "metadata": {},
          "execution_count": 267
        }
      ]
    },
    {
      "cell_type": "code",
      "source": [
        "df_powód_zamachu_2013_2022.shape"
      ],
      "metadata": {
        "outputId": "4269d117-bec1-4513-c908-dfcba8b96d6e",
        "colab": {
          "base_uri": "https://localhost:8080/"
        },
        "id": "XNac_lBFxAsY"
      },
      "execution_count": 268,
      "outputs": [
        {
          "output_type": "execute_result",
          "data": {
            "text/plain": [
              "(113196, 10)"
            ]
          },
          "metadata": {},
          "execution_count": 268
        }
      ]
    },
    {
      "cell_type": "code",
      "source": [
        "df_powód_zamachu_2023.head(1)"
      ],
      "metadata": {
        "outputId": "7b245fff-0419-44b7-8667-19da10a5af5a",
        "colab": {
          "base_uri": "https://localhost:8080/",
          "height": 100
        },
        "id": "CjHapaF1xAsY"
      },
      "execution_count": 269,
      "outputs": [
        {
          "output_type": "execute_result",
          "data": {
            "text/plain": [
              "   Context_CloseDeath  Context_Finances  Context_FamilyConflict  \\\n",
              "0                   0                 0                       1   \n",
              "\n",
              "   Context_Disability  Context_Crime  Context_SchoolWork  \\\n",
              "0                   0              0                   0   \n",
              "\n",
              "   Context_MentalHealth  Context_Other  Context_HeartBreak  Context_HealthLoss  \n",
              "0                     0              1                   0                   0  "
            ],
            "text/html": [
              "\n",
              "  <div id=\"df-eb419081-5b96-4895-849b-20b0b9a96331\" class=\"colab-df-container\">\n",
              "    <div>\n",
              "<style scoped>\n",
              "    .dataframe tbody tr th:only-of-type {\n",
              "        vertical-align: middle;\n",
              "    }\n",
              "\n",
              "    .dataframe tbody tr th {\n",
              "        vertical-align: top;\n",
              "    }\n",
              "\n",
              "    .dataframe thead th {\n",
              "        text-align: right;\n",
              "    }\n",
              "</style>\n",
              "<table border=\"1\" class=\"dataframe\">\n",
              "  <thead>\n",
              "    <tr style=\"text-align: right;\">\n",
              "      <th></th>\n",
              "      <th>Context_CloseDeath</th>\n",
              "      <th>Context_Finances</th>\n",
              "      <th>Context_FamilyConflict</th>\n",
              "      <th>Context_Disability</th>\n",
              "      <th>Context_Crime</th>\n",
              "      <th>Context_SchoolWork</th>\n",
              "      <th>Context_MentalHealth</th>\n",
              "      <th>Context_Other</th>\n",
              "      <th>Context_HeartBreak</th>\n",
              "      <th>Context_HealthLoss</th>\n",
              "    </tr>\n",
              "  </thead>\n",
              "  <tbody>\n",
              "    <tr>\n",
              "      <th>0</th>\n",
              "      <td>0</td>\n",
              "      <td>0</td>\n",
              "      <td>1</td>\n",
              "      <td>0</td>\n",
              "      <td>0</td>\n",
              "      <td>0</td>\n",
              "      <td>0</td>\n",
              "      <td>1</td>\n",
              "      <td>0</td>\n",
              "      <td>0</td>\n",
              "    </tr>\n",
              "  </tbody>\n",
              "</table>\n",
              "</div>\n",
              "    <div class=\"colab-df-buttons\">\n",
              "\n",
              "  <div class=\"colab-df-container\">\n",
              "    <button class=\"colab-df-convert\" onclick=\"convertToInteractive('df-eb419081-5b96-4895-849b-20b0b9a96331')\"\n",
              "            title=\"Convert this dataframe to an interactive table.\"\n",
              "            style=\"display:none;\">\n",
              "\n",
              "  <svg xmlns=\"http://www.w3.org/2000/svg\" height=\"24px\" viewBox=\"0 -960 960 960\">\n",
              "    <path d=\"M120-120v-720h720v720H120Zm60-500h600v-160H180v160Zm220 220h160v-160H400v160Zm0 220h160v-160H400v160ZM180-400h160v-160H180v160Zm440 0h160v-160H620v160ZM180-180h160v-160H180v160Zm440 0h160v-160H620v160Z\"/>\n",
              "  </svg>\n",
              "    </button>\n",
              "\n",
              "  <style>\n",
              "    .colab-df-container {\n",
              "      display:flex;\n",
              "      gap: 12px;\n",
              "    }\n",
              "\n",
              "    .colab-df-convert {\n",
              "      background-color: #E8F0FE;\n",
              "      border: none;\n",
              "      border-radius: 50%;\n",
              "      cursor: pointer;\n",
              "      display: none;\n",
              "      fill: #1967D2;\n",
              "      height: 32px;\n",
              "      padding: 0 0 0 0;\n",
              "      width: 32px;\n",
              "    }\n",
              "\n",
              "    .colab-df-convert:hover {\n",
              "      background-color: #E2EBFA;\n",
              "      box-shadow: 0px 1px 2px rgba(60, 64, 67, 0.3), 0px 1px 3px 1px rgba(60, 64, 67, 0.15);\n",
              "      fill: #174EA6;\n",
              "    }\n",
              "\n",
              "    .colab-df-buttons div {\n",
              "      margin-bottom: 4px;\n",
              "    }\n",
              "\n",
              "    [theme=dark] .colab-df-convert {\n",
              "      background-color: #3B4455;\n",
              "      fill: #D2E3FC;\n",
              "    }\n",
              "\n",
              "    [theme=dark] .colab-df-convert:hover {\n",
              "      background-color: #434B5C;\n",
              "      box-shadow: 0px 1px 3px 1px rgba(0, 0, 0, 0.15);\n",
              "      filter: drop-shadow(0px 1px 2px rgba(0, 0, 0, 0.3));\n",
              "      fill: #FFFFFF;\n",
              "    }\n",
              "  </style>\n",
              "\n",
              "    <script>\n",
              "      const buttonEl =\n",
              "        document.querySelector('#df-eb419081-5b96-4895-849b-20b0b9a96331 button.colab-df-convert');\n",
              "      buttonEl.style.display =\n",
              "        google.colab.kernel.accessAllowed ? 'block' : 'none';\n",
              "\n",
              "      async function convertToInteractive(key) {\n",
              "        const element = document.querySelector('#df-eb419081-5b96-4895-849b-20b0b9a96331');\n",
              "        const dataTable =\n",
              "          await google.colab.kernel.invokeFunction('convertToInteractive',\n",
              "                                                    [key], {});\n",
              "        if (!dataTable) return;\n",
              "\n",
              "        const docLinkHtml = 'Like what you see? Visit the ' +\n",
              "          '<a target=\"_blank\" href=https://colab.research.google.com/notebooks/data_table.ipynb>data table notebook</a>'\n",
              "          + ' to learn more about interactive tables.';\n",
              "        element.innerHTML = '';\n",
              "        dataTable['output_type'] = 'display_data';\n",
              "        await google.colab.output.renderOutput(dataTable, element);\n",
              "        const docLink = document.createElement('div');\n",
              "        docLink.innerHTML = docLinkHtml;\n",
              "        element.appendChild(docLink);\n",
              "      }\n",
              "    </script>\n",
              "  </div>\n",
              "\n",
              "\n",
              "    </div>\n",
              "  </div>\n"
            ],
            "application/vnd.google.colaboratory.intrinsic+json": {
              "type": "dataframe",
              "variable_name": "df_powód_zamachu_2023",
              "summary": "{\n  \"name\": \"df_pow\\u00f3d_zamachu_2023\",\n  \"rows\": 15136,\n  \"fields\": [\n    {\n      \"column\": \"Context_CloseDeath\",\n      \"properties\": {\n        \"dtype\": \"number\",\n        \"std\": 0,\n        \"min\": 0,\n        \"max\": 1,\n        \"num_unique_values\": 2,\n        \"samples\": [\n          1,\n          0\n        ],\n        \"semantic_type\": \"\",\n        \"description\": \"\"\n      }\n    },\n    {\n      \"column\": \"Context_Finances\",\n      \"properties\": {\n        \"dtype\": \"number\",\n        \"std\": 0,\n        \"min\": 0,\n        \"max\": 1,\n        \"num_unique_values\": 2,\n        \"samples\": [\n          1,\n          0\n        ],\n        \"semantic_type\": \"\",\n        \"description\": \"\"\n      }\n    },\n    {\n      \"column\": \"Context_FamilyConflict\",\n      \"properties\": {\n        \"dtype\": \"number\",\n        \"std\": 0,\n        \"min\": 0,\n        \"max\": 1,\n        \"num_unique_values\": 2,\n        \"samples\": [\n          0,\n          1\n        ],\n        \"semantic_type\": \"\",\n        \"description\": \"\"\n      }\n    },\n    {\n      \"column\": \"Context_Disability\",\n      \"properties\": {\n        \"dtype\": \"number\",\n        \"std\": 0,\n        \"min\": 0,\n        \"max\": 1,\n        \"num_unique_values\": 2,\n        \"samples\": [\n          1,\n          0\n        ],\n        \"semantic_type\": \"\",\n        \"description\": \"\"\n      }\n    },\n    {\n      \"column\": \"Context_Crime\",\n      \"properties\": {\n        \"dtype\": \"number\",\n        \"std\": 0,\n        \"min\": 0,\n        \"max\": 1,\n        \"num_unique_values\": 2,\n        \"samples\": [\n          1,\n          0\n        ],\n        \"semantic_type\": \"\",\n        \"description\": \"\"\n      }\n    },\n    {\n      \"column\": \"Context_SchoolWork\",\n      \"properties\": {\n        \"dtype\": \"number\",\n        \"std\": 0,\n        \"min\": 0,\n        \"max\": 1,\n        \"num_unique_values\": 2,\n        \"samples\": [\n          1,\n          0\n        ],\n        \"semantic_type\": \"\",\n        \"description\": \"\"\n      }\n    },\n    {\n      \"column\": \"Context_MentalHealth\",\n      \"properties\": {\n        \"dtype\": \"number\",\n        \"std\": 0,\n        \"min\": 0,\n        \"max\": 1,\n        \"num_unique_values\": 2,\n        \"samples\": [\n          1,\n          0\n        ],\n        \"semantic_type\": \"\",\n        \"description\": \"\"\n      }\n    },\n    {\n      \"column\": \"Context_Other\",\n      \"properties\": {\n        \"dtype\": \"number\",\n        \"std\": 0,\n        \"min\": 0,\n        \"max\": 1,\n        \"num_unique_values\": 2,\n        \"samples\": [\n          0,\n          1\n        ],\n        \"semantic_type\": \"\",\n        \"description\": \"\"\n      }\n    },\n    {\n      \"column\": \"Context_HeartBreak\",\n      \"properties\": {\n        \"dtype\": \"number\",\n        \"std\": 0,\n        \"min\": 0,\n        \"max\": 1,\n        \"num_unique_values\": 2,\n        \"samples\": [\n          1,\n          0\n        ],\n        \"semantic_type\": \"\",\n        \"description\": \"\"\n      }\n    },\n    {\n      \"column\": \"Context_HealthLoss\",\n      \"properties\": {\n        \"dtype\": \"number\",\n        \"std\": 0,\n        \"min\": 0,\n        \"max\": 1,\n        \"num_unique_values\": 2,\n        \"samples\": [\n          1,\n          0\n        ],\n        \"semantic_type\": \"\",\n        \"description\": \"\"\n      }\n    }\n  ]\n}"
            }
          },
          "metadata": {},
          "execution_count": 269
        }
      ]
    },
    {
      "cell_type": "code",
      "source": [
        "df_powód_zamachu_2023.shape"
      ],
      "metadata": {
        "outputId": "6dba8d77-d8df-437e-b9c4-918a4c6273f7",
        "colab": {
          "base_uri": "https://localhost:8080/"
        },
        "id": "13VVVnOPxAsY"
      },
      "execution_count": 270,
      "outputs": [
        {
          "output_type": "execute_result",
          "data": {
            "text/plain": [
              "(15136, 10)"
            ]
          },
          "metadata": {},
          "execution_count": 270
        }
      ]
    },
    {
      "cell_type": "markdown",
      "source": [
        "#Zapis"
      ],
      "metadata": {
        "id": "a0F-OBCVMVH3"
      }
    },
    {
      "cell_type": "code",
      "source": [
        "# from google.colab import drive\n",
        "# drive.mount('/content/drive')\n",
        "# df_raw.to_csv('/content/drive/My Drive/preped_samobojstwa_2013_2022.csv', index=False)\n",
        "# df_powód_zamachu.to_csv('/content/drive/My Drive/preped_powod_zamachu_samobojstwa_2013_2022.csv', index=False)"
      ],
      "metadata": {
        "id": "eBrQESiniq7M"
      },
      "execution_count": 271,
      "outputs": []
    },
    {
      "cell_type": "code",
      "source": [
        "df_powód_zamachu.shape"
      ],
      "metadata": {
        "id": "hS1Z6CE2KiCZ",
        "outputId": "d4bfe1ed-50a7-4c1a-8efe-d3225311c7c9",
        "colab": {
          "base_uri": "https://localhost:8080/"
        }
      },
      "execution_count": 272,
      "outputs": [
        {
          "output_type": "execute_result",
          "data": {
            "text/plain": [
              "(128332, 10)"
            ]
          },
          "metadata": {},
          "execution_count": 272
        }
      ]
    },
    {
      "cell_type": "code",
      "source": [
        "df_raw.shape"
      ],
      "metadata": {
        "id": "YGsPkd6PKizT",
        "outputId": "1128af62-db33-4ddd-c510-f21f9a793ace",
        "colab": {
          "base_uri": "https://localhost:8080/"
        }
      },
      "execution_count": 273,
      "outputs": [
        {
          "output_type": "execute_result",
          "data": {
            "text/plain": [
              "(128332, 17)"
            ]
          },
          "metadata": {},
          "execution_count": 273
        }
      ]
    },
    {
      "cell_type": "code",
      "source": [
        "out_preped_suicides = pd.concat([df_raw, df_powód_zamachu], axis=1)"
      ],
      "metadata": {
        "id": "8qtvsbhlLPct"
      },
      "execution_count": 274,
      "outputs": []
    },
    {
      "cell_type": "code",
      "source": [
        "out_preped_suicides.shape"
      ],
      "metadata": {
        "id": "6-jH5gIcLbd9",
        "outputId": "08db3e00-167a-4504-d44a-89b213ee14b6",
        "colab": {
          "base_uri": "https://localhost:8080/"
        }
      },
      "execution_count": 275,
      "outputs": [
        {
          "output_type": "execute_result",
          "data": {
            "text/plain": [
              "(128332, 27)"
            ]
          },
          "metadata": {},
          "execution_count": 275
        }
      ]
    },
    {
      "cell_type": "code",
      "source": [
        "file_name = 'out_preped_suicides.csv'\n",
        "out_preped_suicides.to_csv(file_name, index=False)\n",
        "files.download(file_name)"
      ],
      "metadata": {
        "id": "BEbhrd7W8cng",
        "outputId": "665b2e93-7a7f-479f-8068-990144263550",
        "colab": {
          "base_uri": "https://localhost:8080/",
          "height": 17
        }
      },
      "execution_count": 276,
      "outputs": [
        {
          "output_type": "display_data",
          "data": {
            "text/plain": [
              "<IPython.core.display.Javascript object>"
            ],
            "application/javascript": [
              "\n",
              "    async function download(id, filename, size) {\n",
              "      if (!google.colab.kernel.accessAllowed) {\n",
              "        return;\n",
              "      }\n",
              "      const div = document.createElement('div');\n",
              "      const label = document.createElement('label');\n",
              "      label.textContent = `Downloading \"${filename}\": `;\n",
              "      div.appendChild(label);\n",
              "      const progress = document.createElement('progress');\n",
              "      progress.max = size;\n",
              "      div.appendChild(progress);\n",
              "      document.body.appendChild(div);\n",
              "\n",
              "      const buffers = [];\n",
              "      let downloaded = 0;\n",
              "\n",
              "      const channel = await google.colab.kernel.comms.open(id);\n",
              "      // Send a message to notify the kernel that we're ready.\n",
              "      channel.send({})\n",
              "\n",
              "      for await (const message of channel.messages) {\n",
              "        // Send a message to notify the kernel that we're ready.\n",
              "        channel.send({})\n",
              "        if (message.buffers) {\n",
              "          for (const buffer of message.buffers) {\n",
              "            buffers.push(buffer);\n",
              "            downloaded += buffer.byteLength;\n",
              "            progress.value = downloaded;\n",
              "          }\n",
              "        }\n",
              "      }\n",
              "      const blob = new Blob(buffers, {type: 'application/binary'});\n",
              "      const a = document.createElement('a');\n",
              "      a.href = window.URL.createObjectURL(blob);\n",
              "      a.download = filename;\n",
              "      div.appendChild(a);\n",
              "      a.click();\n",
              "      div.remove();\n",
              "    }\n",
              "  "
            ]
          },
          "metadata": {}
        },
        {
          "output_type": "display_data",
          "data": {
            "text/plain": [
              "<IPython.core.display.Javascript object>"
            ],
            "application/javascript": [
              "download(\"download_3605273c-4693-4edb-b270-ab4eb0d4a4b6\", \"out_preped_suicides.csv\", 14336354)"
            ]
          },
          "metadata": {}
        }
      ]
    }
  ]
}