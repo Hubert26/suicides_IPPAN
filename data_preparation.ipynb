{
  "nbformat": 4,
  "nbformat_minor": 0,
  "metadata": {
    "colab": {
      "provenance": [],
      "toc_visible": true,
      "authorship_tag": "ABX9TyNqf5dYAeAe1kCxN9DT+QUI",
      "include_colab_link": true
    },
    "kernelspec": {
      "name": "python3",
      "display_name": "Python 3"
    },
    "language_info": {
      "name": "python"
    }
  },
  "cells": [
    {
      "cell_type": "markdown",
      "metadata": {
        "id": "view-in-github",
        "colab_type": "text"
      },
      "source": [
        "<a href=\"https://colab.research.google.com/github/Hubert26/suicides_IPPAN/blob/main/data_preparation.ipynb\" target=\"_parent\"><img src=\"https://colab.research.google.com/assets/colab-badge.svg\" alt=\"Open In Colab\"/></a>"
      ]
    },
    {
      "cell_type": "code",
      "execution_count": 42,
      "metadata": {
        "id": "cpTIzsiWDrRd"
      },
      "outputs": [],
      "source": [
        "import pandas as pd\n",
        "import numpy as np\n",
        "from pydrive2.auth import GoogleAuth\n",
        "from pydrive2.drive import GoogleDrive\n",
        "import os\n",
        "from google.colab import files\n",
        "\n",
        "#Ustawienie braku maksymalnej ilości wyświetlanych kolumn\n",
        "pd.options.display.max_columns = None"
      ]
    },
    {
      "cell_type": "markdown",
      "source": [
        "# 2023"
      ],
      "metadata": {
        "id": "N7uhW5wHIG_n"
      }
    },
    {
      "cell_type": "code",
      "source": [
        "df_raw_2023 = pd.read_excel('https://raw.githubusercontent.com/Hubert26/suicides_IPPAN/main/data/Samobojstwa_2023.xlsx')"
      ],
      "metadata": {
        "id": "Uqdae34UIG_u"
      },
      "execution_count": 43,
      "outputs": []
    },
    {
      "cell_type": "code",
      "source": [
        "df_raw_2023.head(5)"
      ],
      "metadata": {
        "colab": {
          "base_uri": "https://localhost:8080/",
          "height": 590
        },
        "outputId": "1a0de4cb-138e-4427-9aee-39d740e30317",
        "id": "gRsxr-heIG_u"
      },
      "execution_count": 44,
      "outputs": [
        {
          "output_type": "execute_result",
          "data": {
            "text/plain": [
              "  ID samobójcy    Data rejestracji Przedział wiekowy       Płeć  \\\n",
              "0    138421942 2023-01-01 01:15:42             25-29  Mężczyzna   \n",
              "1    138421944 2023-01-01 01:32:02             55-59  Mężczyzna   \n",
              "2    138421949 2023-01-01 01:54:15             13-18    Kobieta   \n",
              "3    138421953 2023-01-01 02:19:35             55-59  Mężczyzna   \n",
              "4    138421954 2023-01-01 02:32:52             19-24    Kobieta   \n",
              "\n",
              "          Stan cywilny            Wykształcenie Informacje o pracy i nauce  \\\n",
              "0  Konkubent/konkubina  Brak danych/nieustalone                 Bezrobotny   \n",
              "1       Żonaty/zamężna  Brak danych/nieustalone    Brak danych/nieustalono   \n",
              "2        Kawaler/panna  Brak danych/nieustalone                      Uczeń   \n",
              "3       Żonaty/zamężna  Brak danych/nieustalone    Brak danych/nieustalono   \n",
              "4  Konkubent/konkubina  Brak danych/nieustalone    Brak danych/nieustalono   \n",
              "\n",
              "           Źródło utrzymania Czy samobójstwo zakończyło się zgonem  \\\n",
              "0    Brak danych/nieustalony                                     N   \n",
              "1    Brak danych/nieustalony                                     N   \n",
              "2  Na utrzymaniu innej osoby                                     N   \n",
              "3    Brak danych/nieustalony                                     N   \n",
              "4    Brak danych/nieustalony                                     N   \n",
              "\n",
              "  Miejsce zamachu                           Klasa miejscowości  \\\n",
              "0  Mieszkanie/dom                                         Wieś   \n",
              "1  Mieszkanie/dom    Miasto o liczbie ludności 20 000 – 49 999   \n",
              "2  Mieszkanie/dom                                         Wieś   \n",
              "3  Mieszkanie/dom          Miasto o liczbie ludności do 19 999   \n",
              "4  Mieszkanie/dom  Miasto o liczbie ludności 100 000 – 499 999   \n",
              "\n",
              "              Sposób popełnienia                              Powód zamachu *  \\\n",
              "0  Samookaleczenie powierzchowne                   Inny niewymieniony powyżej   \n",
              "1                Powieszenie się                                  Nieustalony   \n",
              "2           Zażycie innych leków  Nieporozumienie rodzinne/przemoc w rodzinie   \n",
              "3  Samookaleczenie powierzchowne  Nieporozumienie rodzinne/przemoc w rodzinie   \n",
              "4           Zażycie innych leków             Konflikt z osobami spoza rodziny   \n",
              "\n",
              "                               Powód zamachu 2 Powód zamachu 3  \\\n",
              "0  Nieporozumienie rodzinne/przemoc w rodzinie             NaN   \n",
              "1                                          NaN             NaN   \n",
              "2                                          NaN             NaN   \n",
              "3                                          NaN             NaN   \n",
              "4                                          NaN             NaN   \n",
              "\n",
              "  Powód zamachu 4       Stan świadomości *  \\\n",
              "0             NaN     Pod wpływem alkoholu   \n",
              "1             NaN  Brak danych/nieustalony   \n",
              "2             NaN               Trzeźwy(a)   \n",
              "3             NaN     Pod wpływem alkoholu   \n",
              "4             NaN     Pod wpływem alkoholu   \n",
              "\n",
              "  Informacje dotyczące stanu zdrowia *  \\\n",
              "0              Brak danych/nieustalono   \n",
              "1              Brak danych/nieustalono   \n",
              "2              Brak danych/nieustalono   \n",
              "3                Nadużywał(a) alkoholu   \n",
              "4                Nadużywał(a) alkoholu   \n",
              "\n",
              "  Informacje dotyczące leczenia z powodu alkoholizmu/narkomanii  \\\n",
              "0                                                NaN              \n",
              "1                                                NaN              \n",
              "2                                                NaN              \n",
              "3                                                NaN              \n",
              "4                                                NaN              \n",
              "\n",
              "  W ciągu ostatniego miesiąca sprawca zdarzenia miał przynajmniej jeden raz kontakt z *  \n",
              "0                          Brak możliwości ustalenia                                     \n",
              "1                          Brak możliwości ustalenia                                     \n",
              "2                                 Placówką leczniczą                                     \n",
              "3                          Brak możliwości ustalenia                                     \n",
              "4                          Brak możliwości ustalenia                                     "
            ],
            "text/html": [
              "\n",
              "  <div id=\"df-582a7f75-f221-4384-9ba9-c18dbe85328c\" class=\"colab-df-container\">\n",
              "    <div>\n",
              "<style scoped>\n",
              "    .dataframe tbody tr th:only-of-type {\n",
              "        vertical-align: middle;\n",
              "    }\n",
              "\n",
              "    .dataframe tbody tr th {\n",
              "        vertical-align: top;\n",
              "    }\n",
              "\n",
              "    .dataframe thead th {\n",
              "        text-align: right;\n",
              "    }\n",
              "</style>\n",
              "<table border=\"1\" class=\"dataframe\">\n",
              "  <thead>\n",
              "    <tr style=\"text-align: right;\">\n",
              "      <th></th>\n",
              "      <th>ID samobójcy</th>\n",
              "      <th>Data rejestracji</th>\n",
              "      <th>Przedział wiekowy</th>\n",
              "      <th>Płeć</th>\n",
              "      <th>Stan cywilny</th>\n",
              "      <th>Wykształcenie</th>\n",
              "      <th>Informacje o pracy i nauce</th>\n",
              "      <th>Źródło utrzymania</th>\n",
              "      <th>Czy samobójstwo zakończyło się zgonem</th>\n",
              "      <th>Miejsce zamachu</th>\n",
              "      <th>Klasa miejscowości</th>\n",
              "      <th>Sposób popełnienia</th>\n",
              "      <th>Powód zamachu *</th>\n",
              "      <th>Powód zamachu 2</th>\n",
              "      <th>Powód zamachu 3</th>\n",
              "      <th>Powód zamachu 4</th>\n",
              "      <th>Stan świadomości *</th>\n",
              "      <th>Informacje dotyczące stanu zdrowia *</th>\n",
              "      <th>Informacje dotyczące leczenia z powodu alkoholizmu/narkomanii</th>\n",
              "      <th>W ciągu ostatniego miesiąca sprawca zdarzenia miał przynajmniej jeden raz kontakt z *</th>\n",
              "    </tr>\n",
              "  </thead>\n",
              "  <tbody>\n",
              "    <tr>\n",
              "      <th>0</th>\n",
              "      <td>138421942</td>\n",
              "      <td>2023-01-01 01:15:42</td>\n",
              "      <td>25-29</td>\n",
              "      <td>Mężczyzna</td>\n",
              "      <td>Konkubent/konkubina</td>\n",
              "      <td>Brak danych/nieustalone</td>\n",
              "      <td>Bezrobotny</td>\n",
              "      <td>Brak danych/nieustalony</td>\n",
              "      <td>N</td>\n",
              "      <td>Mieszkanie/dom</td>\n",
              "      <td>Wieś</td>\n",
              "      <td>Samookaleczenie powierzchowne</td>\n",
              "      <td>Inny niewymieniony powyżej</td>\n",
              "      <td>Nieporozumienie rodzinne/przemoc w rodzinie</td>\n",
              "      <td>NaN</td>\n",
              "      <td>NaN</td>\n",
              "      <td>Pod wpływem alkoholu</td>\n",
              "      <td>Brak danych/nieustalono</td>\n",
              "      <td>NaN</td>\n",
              "      <td>Brak możliwości ustalenia</td>\n",
              "    </tr>\n",
              "    <tr>\n",
              "      <th>1</th>\n",
              "      <td>138421944</td>\n",
              "      <td>2023-01-01 01:32:02</td>\n",
              "      <td>55-59</td>\n",
              "      <td>Mężczyzna</td>\n",
              "      <td>Żonaty/zamężna</td>\n",
              "      <td>Brak danych/nieustalone</td>\n",
              "      <td>Brak danych/nieustalono</td>\n",
              "      <td>Brak danych/nieustalony</td>\n",
              "      <td>N</td>\n",
              "      <td>Mieszkanie/dom</td>\n",
              "      <td>Miasto o liczbie ludności 20 000 – 49 999</td>\n",
              "      <td>Powieszenie się</td>\n",
              "      <td>Nieustalony</td>\n",
              "      <td>NaN</td>\n",
              "      <td>NaN</td>\n",
              "      <td>NaN</td>\n",
              "      <td>Brak danych/nieustalony</td>\n",
              "      <td>Brak danych/nieustalono</td>\n",
              "      <td>NaN</td>\n",
              "      <td>Brak możliwości ustalenia</td>\n",
              "    </tr>\n",
              "    <tr>\n",
              "      <th>2</th>\n",
              "      <td>138421949</td>\n",
              "      <td>2023-01-01 01:54:15</td>\n",
              "      <td>13-18</td>\n",
              "      <td>Kobieta</td>\n",
              "      <td>Kawaler/panna</td>\n",
              "      <td>Brak danych/nieustalone</td>\n",
              "      <td>Uczeń</td>\n",
              "      <td>Na utrzymaniu innej osoby</td>\n",
              "      <td>N</td>\n",
              "      <td>Mieszkanie/dom</td>\n",
              "      <td>Wieś</td>\n",
              "      <td>Zażycie innych leków</td>\n",
              "      <td>Nieporozumienie rodzinne/przemoc w rodzinie</td>\n",
              "      <td>NaN</td>\n",
              "      <td>NaN</td>\n",
              "      <td>NaN</td>\n",
              "      <td>Trzeźwy(a)</td>\n",
              "      <td>Brak danych/nieustalono</td>\n",
              "      <td>NaN</td>\n",
              "      <td>Placówką leczniczą</td>\n",
              "    </tr>\n",
              "    <tr>\n",
              "      <th>3</th>\n",
              "      <td>138421953</td>\n",
              "      <td>2023-01-01 02:19:35</td>\n",
              "      <td>55-59</td>\n",
              "      <td>Mężczyzna</td>\n",
              "      <td>Żonaty/zamężna</td>\n",
              "      <td>Brak danych/nieustalone</td>\n",
              "      <td>Brak danych/nieustalono</td>\n",
              "      <td>Brak danych/nieustalony</td>\n",
              "      <td>N</td>\n",
              "      <td>Mieszkanie/dom</td>\n",
              "      <td>Miasto o liczbie ludności do 19 999</td>\n",
              "      <td>Samookaleczenie powierzchowne</td>\n",
              "      <td>Nieporozumienie rodzinne/przemoc w rodzinie</td>\n",
              "      <td>NaN</td>\n",
              "      <td>NaN</td>\n",
              "      <td>NaN</td>\n",
              "      <td>Pod wpływem alkoholu</td>\n",
              "      <td>Nadużywał(a) alkoholu</td>\n",
              "      <td>NaN</td>\n",
              "      <td>Brak możliwości ustalenia</td>\n",
              "    </tr>\n",
              "    <tr>\n",
              "      <th>4</th>\n",
              "      <td>138421954</td>\n",
              "      <td>2023-01-01 02:32:52</td>\n",
              "      <td>19-24</td>\n",
              "      <td>Kobieta</td>\n",
              "      <td>Konkubent/konkubina</td>\n",
              "      <td>Brak danych/nieustalone</td>\n",
              "      <td>Brak danych/nieustalono</td>\n",
              "      <td>Brak danych/nieustalony</td>\n",
              "      <td>N</td>\n",
              "      <td>Mieszkanie/dom</td>\n",
              "      <td>Miasto o liczbie ludności 100 000 – 499 999</td>\n",
              "      <td>Zażycie innych leków</td>\n",
              "      <td>Konflikt z osobami spoza rodziny</td>\n",
              "      <td>NaN</td>\n",
              "      <td>NaN</td>\n",
              "      <td>NaN</td>\n",
              "      <td>Pod wpływem alkoholu</td>\n",
              "      <td>Nadużywał(a) alkoholu</td>\n",
              "      <td>NaN</td>\n",
              "      <td>Brak możliwości ustalenia</td>\n",
              "    </tr>\n",
              "  </tbody>\n",
              "</table>\n",
              "</div>\n",
              "    <div class=\"colab-df-buttons\">\n",
              "\n",
              "  <div class=\"colab-df-container\">\n",
              "    <button class=\"colab-df-convert\" onclick=\"convertToInteractive('df-582a7f75-f221-4384-9ba9-c18dbe85328c')\"\n",
              "            title=\"Convert this dataframe to an interactive table.\"\n",
              "            style=\"display:none;\">\n",
              "\n",
              "  <svg xmlns=\"http://www.w3.org/2000/svg\" height=\"24px\" viewBox=\"0 -960 960 960\">\n",
              "    <path d=\"M120-120v-720h720v720H120Zm60-500h600v-160H180v160Zm220 220h160v-160H400v160Zm0 220h160v-160H400v160ZM180-400h160v-160H180v160Zm440 0h160v-160H620v160ZM180-180h160v-160H180v160Zm440 0h160v-160H620v160Z\"/>\n",
              "  </svg>\n",
              "    </button>\n",
              "\n",
              "  <style>\n",
              "    .colab-df-container {\n",
              "      display:flex;\n",
              "      gap: 12px;\n",
              "    }\n",
              "\n",
              "    .colab-df-convert {\n",
              "      background-color: #E8F0FE;\n",
              "      border: none;\n",
              "      border-radius: 50%;\n",
              "      cursor: pointer;\n",
              "      display: none;\n",
              "      fill: #1967D2;\n",
              "      height: 32px;\n",
              "      padding: 0 0 0 0;\n",
              "      width: 32px;\n",
              "    }\n",
              "\n",
              "    .colab-df-convert:hover {\n",
              "      background-color: #E2EBFA;\n",
              "      box-shadow: 0px 1px 2px rgba(60, 64, 67, 0.3), 0px 1px 3px 1px rgba(60, 64, 67, 0.15);\n",
              "      fill: #174EA6;\n",
              "    }\n",
              "\n",
              "    .colab-df-buttons div {\n",
              "      margin-bottom: 4px;\n",
              "    }\n",
              "\n",
              "    [theme=dark] .colab-df-convert {\n",
              "      background-color: #3B4455;\n",
              "      fill: #D2E3FC;\n",
              "    }\n",
              "\n",
              "    [theme=dark] .colab-df-convert:hover {\n",
              "      background-color: #434B5C;\n",
              "      box-shadow: 0px 1px 3px 1px rgba(0, 0, 0, 0.15);\n",
              "      filter: drop-shadow(0px 1px 2px rgba(0, 0, 0, 0.3));\n",
              "      fill: #FFFFFF;\n",
              "    }\n",
              "  </style>\n",
              "\n",
              "    <script>\n",
              "      const buttonEl =\n",
              "        document.querySelector('#df-582a7f75-f221-4384-9ba9-c18dbe85328c button.colab-df-convert');\n",
              "      buttonEl.style.display =\n",
              "        google.colab.kernel.accessAllowed ? 'block' : 'none';\n",
              "\n",
              "      async function convertToInteractive(key) {\n",
              "        const element = document.querySelector('#df-582a7f75-f221-4384-9ba9-c18dbe85328c');\n",
              "        const dataTable =\n",
              "          await google.colab.kernel.invokeFunction('convertToInteractive',\n",
              "                                                    [key], {});\n",
              "        if (!dataTable) return;\n",
              "\n",
              "        const docLinkHtml = 'Like what you see? Visit the ' +\n",
              "          '<a target=\"_blank\" href=https://colab.research.google.com/notebooks/data_table.ipynb>data table notebook</a>'\n",
              "          + ' to learn more about interactive tables.';\n",
              "        element.innerHTML = '';\n",
              "        dataTable['output_type'] = 'display_data';\n",
              "        await google.colab.output.renderOutput(dataTable, element);\n",
              "        const docLink = document.createElement('div');\n",
              "        docLink.innerHTML = docLinkHtml;\n",
              "        element.appendChild(docLink);\n",
              "      }\n",
              "    </script>\n",
              "  </div>\n",
              "\n",
              "\n",
              "<div id=\"df-77b151d4-9f58-4625-9862-bdfe35923e5a\">\n",
              "  <button class=\"colab-df-quickchart\" onclick=\"quickchart('df-77b151d4-9f58-4625-9862-bdfe35923e5a')\"\n",
              "            title=\"Suggest charts\"\n",
              "            style=\"display:none;\">\n",
              "\n",
              "<svg xmlns=\"http://www.w3.org/2000/svg\" height=\"24px\"viewBox=\"0 0 24 24\"\n",
              "     width=\"24px\">\n",
              "    <g>\n",
              "        <path d=\"M19 3H5c-1.1 0-2 .9-2 2v14c0 1.1.9 2 2 2h14c1.1 0 2-.9 2-2V5c0-1.1-.9-2-2-2zM9 17H7v-7h2v7zm4 0h-2V7h2v10zm4 0h-2v-4h2v4z\"/>\n",
              "    </g>\n",
              "</svg>\n",
              "  </button>\n",
              "\n",
              "<style>\n",
              "  .colab-df-quickchart {\n",
              "      --bg-color: #E8F0FE;\n",
              "      --fill-color: #1967D2;\n",
              "      --hover-bg-color: #E2EBFA;\n",
              "      --hover-fill-color: #174EA6;\n",
              "      --disabled-fill-color: #AAA;\n",
              "      --disabled-bg-color: #DDD;\n",
              "  }\n",
              "\n",
              "  [theme=dark] .colab-df-quickchart {\n",
              "      --bg-color: #3B4455;\n",
              "      --fill-color: #D2E3FC;\n",
              "      --hover-bg-color: #434B5C;\n",
              "      --hover-fill-color: #FFFFFF;\n",
              "      --disabled-bg-color: #3B4455;\n",
              "      --disabled-fill-color: #666;\n",
              "  }\n",
              "\n",
              "  .colab-df-quickchart {\n",
              "    background-color: var(--bg-color);\n",
              "    border: none;\n",
              "    border-radius: 50%;\n",
              "    cursor: pointer;\n",
              "    display: none;\n",
              "    fill: var(--fill-color);\n",
              "    height: 32px;\n",
              "    padding: 0;\n",
              "    width: 32px;\n",
              "  }\n",
              "\n",
              "  .colab-df-quickchart:hover {\n",
              "    background-color: var(--hover-bg-color);\n",
              "    box-shadow: 0 1px 2px rgba(60, 64, 67, 0.3), 0 1px 3px 1px rgba(60, 64, 67, 0.15);\n",
              "    fill: var(--button-hover-fill-color);\n",
              "  }\n",
              "\n",
              "  .colab-df-quickchart-complete:disabled,\n",
              "  .colab-df-quickchart-complete:disabled:hover {\n",
              "    background-color: var(--disabled-bg-color);\n",
              "    fill: var(--disabled-fill-color);\n",
              "    box-shadow: none;\n",
              "  }\n",
              "\n",
              "  .colab-df-spinner {\n",
              "    border: 2px solid var(--fill-color);\n",
              "    border-color: transparent;\n",
              "    border-bottom-color: var(--fill-color);\n",
              "    animation:\n",
              "      spin 1s steps(1) infinite;\n",
              "  }\n",
              "\n",
              "  @keyframes spin {\n",
              "    0% {\n",
              "      border-color: transparent;\n",
              "      border-bottom-color: var(--fill-color);\n",
              "      border-left-color: var(--fill-color);\n",
              "    }\n",
              "    20% {\n",
              "      border-color: transparent;\n",
              "      border-left-color: var(--fill-color);\n",
              "      border-top-color: var(--fill-color);\n",
              "    }\n",
              "    30% {\n",
              "      border-color: transparent;\n",
              "      border-left-color: var(--fill-color);\n",
              "      border-top-color: var(--fill-color);\n",
              "      border-right-color: var(--fill-color);\n",
              "    }\n",
              "    40% {\n",
              "      border-color: transparent;\n",
              "      border-right-color: var(--fill-color);\n",
              "      border-top-color: var(--fill-color);\n",
              "    }\n",
              "    60% {\n",
              "      border-color: transparent;\n",
              "      border-right-color: var(--fill-color);\n",
              "    }\n",
              "    80% {\n",
              "      border-color: transparent;\n",
              "      border-right-color: var(--fill-color);\n",
              "      border-bottom-color: var(--fill-color);\n",
              "    }\n",
              "    90% {\n",
              "      border-color: transparent;\n",
              "      border-bottom-color: var(--fill-color);\n",
              "    }\n",
              "  }\n",
              "</style>\n",
              "\n",
              "  <script>\n",
              "    async function quickchart(key) {\n",
              "      const quickchartButtonEl =\n",
              "        document.querySelector('#' + key + ' button');\n",
              "      quickchartButtonEl.disabled = true;  // To prevent multiple clicks.\n",
              "      quickchartButtonEl.classList.add('colab-df-spinner');\n",
              "      try {\n",
              "        const charts = await google.colab.kernel.invokeFunction(\n",
              "            'suggestCharts', [key], {});\n",
              "      } catch (error) {\n",
              "        console.error('Error during call to suggestCharts:', error);\n",
              "      }\n",
              "      quickchartButtonEl.classList.remove('colab-df-spinner');\n",
              "      quickchartButtonEl.classList.add('colab-df-quickchart-complete');\n",
              "    }\n",
              "    (() => {\n",
              "      let quickchartButtonEl =\n",
              "        document.querySelector('#df-77b151d4-9f58-4625-9862-bdfe35923e5a button');\n",
              "      quickchartButtonEl.style.display =\n",
              "        google.colab.kernel.accessAllowed ? 'block' : 'none';\n",
              "    })();\n",
              "  </script>\n",
              "</div>\n",
              "    </div>\n",
              "  </div>\n"
            ],
            "application/vnd.google.colaboratory.intrinsic+json": {
              "type": "dataframe",
              "variable_name": "df_raw_2023",
              "summary": "{\n  \"name\": \"df_raw_2023\",\n  \"rows\": 15136,\n  \"fields\": [\n    {\n      \"column\": \"ID samob\\u00f3jcy\",\n      \"properties\": {\n        \"dtype\": \"string\",\n        \"num_unique_values\": 15134,\n        \"samples\": [\n          138537735,\n          139320393,\n          139252885\n        ],\n        \"semantic_type\": \"\",\n        \"description\": \"\"\n      }\n    },\n    {\n      \"column\": \"Data rejestracji\",\n      \"properties\": {\n        \"dtype\": \"date\",\n        \"min\": \"2023-01-01 00:22:14\",\n        \"max\": \"2023-12-31 23:35:55\",\n        \"num_unique_values\": 15100,\n        \"samples\": [\n          \"2023-12-25 00:15:02\",\n          \"2023-12-07 14:39:58\",\n          \"2023-12-25 18:54:26\"\n        ],\n        \"semantic_type\": \"\",\n        \"description\": \"\"\n      }\n    },\n    {\n      \"column\": \"Przedzia\\u0142 wiekowy\",\n      \"properties\": {\n        \"dtype\": \"category\",\n        \"num_unique_values\": 17,\n        \"samples\": [\n          \"25-29\",\n          \"55-59\",\n          \"50-54\"\n        ],\n        \"semantic_type\": \"\",\n        \"description\": \"\"\n      }\n    },\n    {\n      \"column\": \"P\\u0142e\\u0107\",\n      \"properties\": {\n        \"dtype\": \"category\",\n        \"num_unique_values\": 2,\n        \"samples\": [\n          \"Kobieta\",\n          \"M\\u0119\\u017cczyzna\"\n        ],\n        \"semantic_type\": \"\",\n        \"description\": \"\"\n      }\n    },\n    {\n      \"column\": \"Stan cywilny\",\n      \"properties\": {\n        \"dtype\": \"category\",\n        \"num_unique_values\": 7,\n        \"samples\": [\n          \"Konkubent/konkubina\",\n          \"\\u017bonaty/zam\\u0119\\u017cna\"\n        ],\n        \"semantic_type\": \"\",\n        \"description\": \"\"\n      }\n    },\n    {\n      \"column\": \"Wykszta\\u0142cenie\",\n      \"properties\": {\n        \"dtype\": \"category\",\n        \"num_unique_values\": 8,\n        \"samples\": [\n          \"Podstawowe\",\n          \"Wy\\u017csze\"\n        ],\n        \"semantic_type\": \"\",\n        \"description\": \"\"\n      }\n    },\n    {\n      \"column\": \"Informacje o pracy i nauce\",\n      \"properties\": {\n        \"dtype\": \"category\",\n        \"num_unique_values\": 8,\n        \"samples\": [\n          \"Brak danych/nieustalono\",\n          \"Praca dorywcza\"\n        ],\n        \"semantic_type\": \"\",\n        \"description\": \"\"\n      }\n    },\n    {\n      \"column\": \"\\u0179r\\u00f3d\\u0142o utrzymania\",\n      \"properties\": {\n        \"dtype\": \"category\",\n        \"num_unique_values\": 7,\n        \"samples\": [\n          \"Brak danych/nieustalony\",\n          \"Na utrzymaniu innej osoby\"\n        ],\n        \"semantic_type\": \"\",\n        \"description\": \"\"\n      }\n    },\n    {\n      \"column\": \"Czy samob\\u00f3jstwo zako\\u0144czy\\u0142o si\\u0119 zgonem\",\n      \"properties\": {\n        \"dtype\": \"category\",\n        \"num_unique_values\": 2,\n        \"samples\": [\n          \"T\",\n          \"N\"\n        ],\n        \"semantic_type\": \"\",\n        \"description\": \"\"\n      }\n    },\n    {\n      \"column\": \"Miejsce zamachu\",\n      \"properties\": {\n        \"dtype\": \"category\",\n        \"num_unique_values\": 15,\n        \"samples\": [\n          \"Zak\\u0142ad pracy\",\n          \"Plac\\u00f3wka lecznicza lub sanatoryjna\"\n        ],\n        \"semantic_type\": \"\",\n        \"description\": \"\"\n      }\n    },\n    {\n      \"column\": \"Klasa miejscowo\\u015bci\",\n      \"properties\": {\n        \"dtype\": \"category\",\n        \"num_unique_values\": 7,\n        \"samples\": [\n          \"Wie\\u015b\",\n          \"Miasto o liczbie ludno\\u015bci 20 000 \\u2013 49 999\"\n        ],\n        \"semantic_type\": \"\",\n        \"description\": \"\"\n      }\n    },\n    {\n      \"column\": \"Spos\\u00f3b pope\\u0142nienia\",\n      \"properties\": {\n        \"dtype\": \"category\",\n        \"num_unique_values\": 16,\n        \"samples\": [\n          \"Samookaleczenie powierzchowne\",\n          \"Powieszenie si\\u0119\"\n        ],\n        \"semantic_type\": \"\",\n        \"description\": \"\"\n      }\n    },\n    {\n      \"column\": \"Pow\\u00f3d zamachu *\",\n      \"properties\": {\n        \"dtype\": \"category\",\n        \"num_unique_values\": 19,\n        \"samples\": [\n          \"Inny niewymieniony powy\\u017cej\",\n          \"Pogorszenie lub nag\\u0142a utrata zdrowia\"\n        ],\n        \"semantic_type\": \"\",\n        \"description\": \"\"\n      }\n    },\n    {\n      \"column\": \"Pow\\u00f3d zamachu 2\",\n      \"properties\": {\n        \"dtype\": \"category\",\n        \"num_unique_values\": 17,\n        \"samples\": [\n          \"Nieporozumienie rodzinne/przemoc w rodzinie\",\n          \"Leczony(a) psychiatrycznie\"\n        ],\n        \"semantic_type\": \"\",\n        \"description\": \"\"\n      }\n    },\n    {\n      \"column\": \"Pow\\u00f3d zamachu 3\",\n      \"properties\": {\n        \"dtype\": \"category\",\n        \"num_unique_values\": 11,\n        \"samples\": [\n          \"Problemy w szkole lub pracy\",\n          \"Zaw\\u00f3d mi\\u0142osny\"\n        ],\n        \"semantic_type\": \"\",\n        \"description\": \"\"\n      }\n    },\n    {\n      \"column\": \"Pow\\u00f3d zamachu 4\",\n      \"properties\": {\n        \"dtype\": \"category\",\n        \"num_unique_values\": 6,\n        \"samples\": [\n          \"Trwa\\u0142e kalectwo\",\n          \"Zaw\\u00f3d mi\\u0142osny\"\n        ],\n        \"semantic_type\": \"\",\n        \"description\": \"\"\n      }\n    },\n    {\n      \"column\": \"Stan \\u015bwiadomo\\u015bci *\",\n      \"properties\": {\n        \"dtype\": \"category\",\n        \"num_unique_values\": 13,\n        \"samples\": [\n          \"Pod wp\\u0142ywem alkoholu zast\\u0119pczych \\u015brodk\\u00f3w/substancji (dopalaczy)\",\n          \"Pod wp\\u0142ywem alkoholu i zast\\u0119pczych \\u015brodk\\u00f3w/substancji (dopalaczy)\"\n        ],\n        \"semantic_type\": \"\",\n        \"description\": \"\"\n      }\n    },\n    {\n      \"column\": \"Informacje dotycz\\u0105ce stanu zdrowia *\",\n      \"properties\": {\n        \"dtype\": \"category\",\n        \"num_unique_values\": 19,\n        \"samples\": [\n          \"Brak danych/nieustalono\",\n          \"Trwa\\u0142e kalectwo\"\n        ],\n        \"semantic_type\": \"\",\n        \"description\": \"\"\n      }\n    },\n    {\n      \"column\": \"Informacje dotycz\\u0105ce leczenia z powodu alkoholizmu/narkomanii\",\n      \"properties\": {\n        \"dtype\": \"category\",\n        \"num_unique_values\": 5,\n        \"samples\": [\n          \"Leczony(a) z powodu alkoholizmu\",\n          \"Leczony(a) psychiatrycznie\"\n        ],\n        \"semantic_type\": \"\",\n        \"description\": \"\"\n      }\n    },\n    {\n      \"column\": \"W ci\\u0105gu ostatniego miesi\\u0105ca sprawca zdarzenia mia\\u0142 przynajmniej jeden raz kontakt z *\",\n      \"properties\": {\n        \"dtype\": \"category\",\n        \"num_unique_values\": 7,\n        \"samples\": [\n          \"Brak mo\\u017cliwo\\u015bci ustalenia\",\n          \"Plac\\u00f3wk\\u0105 lecznicz\\u0105\"\n        ],\n        \"semantic_type\": \"\",\n        \"description\": \"\"\n      }\n    }\n  ]\n}"
            }
          },
          "metadata": {},
          "execution_count": 44
        }
      ]
    },
    {
      "cell_type": "markdown",
      "source": [
        "##Zamiana nazw kolumn"
      ],
      "metadata": {
        "id": "074jUdrHIG_v"
      }
    },
    {
      "cell_type": "code",
      "source": [
        "# Zamiana spacji na podkreślenia w nazwach kolumn\n",
        "df_raw_2023.rename(columns=lambda x: x.replace(' ', '_'), inplace=True)\n"
      ],
      "metadata": {
        "id": "RMQV6X2fIG_v"
      },
      "execution_count": 45,
      "outputs": []
    },
    {
      "cell_type": "code",
      "source": [
        "df_raw_2023.rename(columns={'Data_rejestracji': 'Data'}, inplace=True)"
      ],
      "metadata": {
        "id": "1zqeRANaIG_v"
      },
      "execution_count": 46,
      "outputs": []
    },
    {
      "cell_type": "markdown",
      "source": [
        "## Daty"
      ],
      "metadata": {
        "id": "z3cznhoIIG_v"
      }
    },
    {
      "cell_type": "code",
      "source": [
        "# Wyodrębnienie roku i miesiąca\n",
        "df_raw_2023['Data'] = pd.to_datetime(df_raw_2023['Data'])\n",
        "df_raw_2023['Data_rok'] = df_raw_2023['Data'].dt.strftime('%Y')\n",
        "df_raw_2023['Data_miesiąc'] = df_raw_2023['Data'].dt.strftime('%m')"
      ],
      "metadata": {
        "id": "NLW1NrRQIG_v"
      },
      "execution_count": 47,
      "outputs": []
    },
    {
      "cell_type": "code",
      "source": [
        "df_raw_2023['Data_rok'].unique()"
      ],
      "metadata": {
        "colab": {
          "base_uri": "https://localhost:8080/"
        },
        "id": "KTUAkl7xwYHZ",
        "outputId": "a50d112b-c21b-4e20-aba5-e6e8a912334c"
      },
      "execution_count": 48,
      "outputs": [
        {
          "output_type": "execute_result",
          "data": {
            "text/plain": [
              "array(['2023', nan], dtype=object)"
            ]
          },
          "metadata": {},
          "execution_count": 48
        }
      ]
    },
    {
      "cell_type": "code",
      "source": [
        "df_raw_2023['Data_miesiąc'].unique()"
      ],
      "metadata": {
        "colab": {
          "base_uri": "https://localhost:8080/"
        },
        "id": "ef8vE44QwdvQ",
        "outputId": "fbe63f54-4768-4060-97d2-8d7dba509ce8"
      },
      "execution_count": 49,
      "outputs": [
        {
          "output_type": "execute_result",
          "data": {
            "text/plain": [
              "array(['01', '02', nan, '03', '04', '05', '06', '07', '08', '09', '10',\n",
              "       '11', '12'], dtype=object)"
            ]
          },
          "metadata": {},
          "execution_count": 49
        }
      ]
    },
    {
      "cell_type": "code",
      "source": [
        "# Połączenie roku i miesiąca w formacie MM.YYYY\n",
        "df_raw_2023['Data'] = df_raw_2023['Data_miesiąc'] + '.' + df_raw_2023['Data_rok']"
      ],
      "metadata": {
        "id": "gjZPEOw6IG_v"
      },
      "execution_count": 50,
      "outputs": []
    },
    {
      "cell_type": "code",
      "source": [
        "df_raw_2023['Data'].unique()"
      ],
      "metadata": {
        "id": "e4EFtfjgxqVw",
        "outputId": "73660603-50c1-4379-99e1-062a66bd069a",
        "colab": {
          "base_uri": "https://localhost:8080/"
        }
      },
      "execution_count": 107,
      "outputs": [
        {
          "output_type": "execute_result",
          "data": {
            "text/plain": [
              "array(['01.2023', '02.2023', nan, '03.2023', '04.2023', '05.2023',\n",
              "       '06.2023', '07.2023', '08.2023', '09.2023', '10.2023', '11.2023',\n",
              "       '12.2023'], dtype=object)"
            ]
          },
          "metadata": {},
          "execution_count": 107
        }
      ]
    },
    {
      "cell_type": "markdown",
      "source": [
        "##Mapowanie"
      ],
      "metadata": {
        "id": "e0cGZIf0IG_v"
      }
    },
    {
      "cell_type": "markdown",
      "source": [
        "###Przedział_wiekowy"
      ],
      "metadata": {
        "id": "xdPcT6d3IG_v"
      }
    },
    {
      "cell_type": "code",
      "source": [
        "column = 'Przedział_wiekowy'\n",
        "df_raw_2023.rename(columns={column: 'Wiek'}, inplace=True)"
      ],
      "metadata": {
        "id": "Kk4vDXL8IG_v"
      },
      "execution_count": 51,
      "outputs": []
    },
    {
      "cell_type": "code",
      "source": [
        "df_raw_2023['Wiek'].unique()"
      ],
      "metadata": {
        "colab": {
          "base_uri": "https://localhost:8080/"
        },
        "id": "RjXm260akSFf",
        "outputId": "bd0cbb52-dd3b-418c-9a79-bf2b03f9f5a8"
      },
      "execution_count": 52,
      "outputs": [
        {
          "output_type": "execute_result",
          "data": {
            "text/plain": [
              "array(['25-29', '55-59', '13-18', '19-24', '30-34', '50-54', '40-44',\n",
              "       '45-49', '35-39', '65-69', '75-79', '80-84', '60-64', '70-74',\n",
              "       '85+', '7-12', 'Nieustalony wiek', nan], dtype=object)"
            ]
          },
          "metadata": {},
          "execution_count": 52
        }
      ]
    },
    {
      "cell_type": "markdown",
      "source": [
        "###Płeć"
      ],
      "metadata": {
        "id": "SgF1OtkUIG_w"
      }
    },
    {
      "cell_type": "code",
      "source": [
        "df_raw_2023['Płeć'].unique()"
      ],
      "metadata": {
        "id": "RRNDUMTXRYSo",
        "outputId": "0cf46ebd-8986-4c75-d246-2a77e569e8d6",
        "colab": {
          "base_uri": "https://localhost:8080/"
        }
      },
      "execution_count": 53,
      "outputs": [
        {
          "output_type": "execute_result",
          "data": {
            "text/plain": [
              "array(['Mężczyzna', 'Kobieta', nan], dtype=object)"
            ]
          },
          "metadata": {},
          "execution_count": 53
        }
      ]
    },
    {
      "cell_type": "code",
      "source": [
        "column = 'Płeć'\n",
        "mapping = {\n",
        "    \"Kobieta\": 'K',\n",
        "    \"Mężczyzna\": 'M'\n",
        "}\n",
        "\n",
        "df_raw_2023[column] = df_raw_2023[column].map(mapping)\n"
      ],
      "metadata": {
        "id": "RUqBhAgxIG_w"
      },
      "execution_count": 54,
      "outputs": []
    },
    {
      "cell_type": "code",
      "source": [
        "df_raw_2023['Płeć'].unique()"
      ],
      "metadata": {
        "colab": {
          "base_uri": "https://localhost:8080/"
        },
        "id": "UAYACSY-kVDE",
        "outputId": "51701bfe-8643-42af-8a31-bf8226ea8ac2"
      },
      "execution_count": 55,
      "outputs": [
        {
          "output_type": "execute_result",
          "data": {
            "text/plain": [
              "array(['M', 'K', nan], dtype=object)"
            ]
          },
          "metadata": {},
          "execution_count": 55
        }
      ]
    },
    {
      "cell_type": "markdown",
      "source": [
        "###Stan_cywilny"
      ],
      "metadata": {
        "id": "HzDsuD8SIG_w"
      }
    },
    {
      "cell_type": "code",
      "source": [
        "df_raw_2023['Stan_cywilny'].unique()"
      ],
      "metadata": {
        "colab": {
          "base_uri": "https://localhost:8080/"
        },
        "id": "_U66bbENUS0l",
        "outputId": "837ef8ad-3377-48f0-919f-791f38bd1cd6"
      },
      "execution_count": 56,
      "outputs": [
        {
          "output_type": "execute_result",
          "data": {
            "text/plain": [
              "array(['Konkubent/konkubina', 'Żonaty/zamężna', 'Kawaler/panna',\n",
              "       'Brak danych/nieustalony', 'Rozwiedziony/rozwiedziona',\n",
              "       'Wdowiec/wdowa', 'Separowany/separowana', nan], dtype=object)"
            ]
          },
          "metadata": {},
          "execution_count": 56
        }
      ]
    },
    {
      "cell_type": "code",
      "source": [
        "column = 'Stan_cywilny'\n",
        "mapping = {\n",
        "    \"Brak danych/nieustalony\": np.nan,\n",
        "    \"Kawaler/panna\": 'Samotność',\n",
        "    \"Konkubent/konkubina\": 'Partnerstwo',\n",
        "    \"Żonaty/zamężna\": 'Małżeństwo',\n",
        "    \"Separowany/separowana\": 'Separacja',\n",
        "    \"Rozwiedziony/rozwiedziona\": 'Rozwód',\n",
        "    \"Wdowiec/wdowa\": 'Wdowieństwo'\n",
        "}\n",
        "\n",
        "df_raw_2023[column] = df_raw_2023[column].map(mapping)\n",
        "df_raw_2023.rename(columns={column: 'St_cyw'}, inplace=True)\n"
      ],
      "metadata": {
        "id": "IddDlQWJIG_w"
      },
      "execution_count": 57,
      "outputs": []
    },
    {
      "cell_type": "code",
      "source": [
        "df_raw_2023['St_cyw'].unique()"
      ],
      "metadata": {
        "colab": {
          "base_uri": "https://localhost:8080/"
        },
        "id": "k5YtMAfXkXl1",
        "outputId": "225baf7d-4d48-49fb-9f0b-970a592b5961"
      },
      "execution_count": 58,
      "outputs": [
        {
          "output_type": "execute_result",
          "data": {
            "text/plain": [
              "array(['Partnerstwo', 'Małżeństwo', 'Samotność', nan, 'Rozwód',\n",
              "       'Wdowieństwo', 'Separacja'], dtype=object)"
            ]
          },
          "metadata": {},
          "execution_count": 58
        }
      ]
    },
    {
      "cell_type": "markdown",
      "source": [
        "###Wykształcenie"
      ],
      "metadata": {
        "id": "8l7_VjOHIG_w"
      }
    },
    {
      "cell_type": "code",
      "source": [
        "df_raw_2023['Wykształcenie'].unique()"
      ],
      "metadata": {
        "colab": {
          "base_uri": "https://localhost:8080/"
        },
        "id": "5CHk6Tv5Uy-4",
        "outputId": "e277d773-74b0-4c9e-fc3b-85f7ef2bbd45"
      },
      "execution_count": 59,
      "outputs": [
        {
          "output_type": "execute_result",
          "data": {
            "text/plain": [
              "array(['Brak danych/nieustalone', 'Podstawowe', 'Średnie',\n",
              "       'Zasadnicze zawodowe', 'Podstawowe niepełne', 'Wyższe',\n",
              "       'Gimnazjalne', 'Policealne', nan], dtype=object)"
            ]
          },
          "metadata": {},
          "execution_count": 59
        }
      ]
    },
    {
      "cell_type": "code",
      "source": [
        "column = 'Wykształcenie'\n",
        "mapping = {\n",
        "    'Brak danych/nieustalone': np.nan,\n",
        "    'Podstawowe niepełne': 'Podst_niepełne',\n",
        "    'Podstawowe': 'Podst',\n",
        "    'Gimnazjalne': 'Gimnazjalne',\n",
        "    'Zasadnicze zawodowe': 'Zawodowe',\n",
        "    'Średnie': 'Średnie',\n",
        "    'Policealne': 'Policealne',\n",
        "    'Wyższe': 'Wyższe'\n",
        "}\n",
        "\n",
        "df_raw_2023[column] = df_raw_2023[column].map(mapping)\n",
        "df_raw_2023.rename(columns={column: 'Poz_edu'}, inplace=True)\n",
        "\n"
      ],
      "metadata": {
        "id": "FtOuUiy9IG_w"
      },
      "execution_count": 60,
      "outputs": []
    },
    {
      "cell_type": "code",
      "source": [
        "df_raw_2023['Poz_edu'].unique()"
      ],
      "metadata": {
        "colab": {
          "base_uri": "https://localhost:8080/"
        },
        "id": "m6rovlTZVUre",
        "outputId": "f58895da-c33e-4d8d-b864-f852717d6fc4"
      },
      "execution_count": 61,
      "outputs": [
        {
          "output_type": "execute_result",
          "data": {
            "text/plain": [
              "array([nan, 'Podst', 'Średnie', 'Zawodowe', 'Podst_niepełne', 'Wyższe',\n",
              "       'Gimnazjalne', 'Policealne'], dtype=object)"
            ]
          },
          "metadata": {},
          "execution_count": 61
        }
      ]
    },
    {
      "cell_type": "markdown",
      "source": [
        "###Informacje_o_pracy_i_nauce"
      ],
      "metadata": {
        "id": "PAM0Pc8SIG_w"
      }
    },
    {
      "cell_type": "code",
      "source": [
        "df_raw_2023['Informacje_o_pracy_i_nauce'].unique()"
      ],
      "metadata": {
        "colab": {
          "base_uri": "https://localhost:8080/"
        },
        "id": "SXAvAC8vkp8S",
        "outputId": "7f58f6ef-12f8-4cce-e739-c05a91fd4188"
      },
      "execution_count": 62,
      "outputs": [
        {
          "output_type": "execute_result",
          "data": {
            "text/plain": [
              "array(['Bezrobotny', 'Brak danych/nieustalono', 'Uczeń', 'Praca stała',\n",
              "       'Rolnik', 'Praca dorywcza', 'Student',\n",
              "       'Pracujący na własny rachunek/samodzielna działalność gospodarcza',\n",
              "       nan], dtype=object)"
            ]
          },
          "metadata": {},
          "execution_count": 62
        }
      ]
    },
    {
      "cell_type": "code",
      "source": [
        "column = 'Informacje_o_pracy_i_nauce'\n",
        "mapping = {\n",
        "    'Brak danych/nieustalono': np.nan,\n",
        "    'Uczeń': 'Uczeń',\n",
        "    'Student': 'Student',\n",
        "    3: 'Umysłowa',\n",
        "    4: 'Fizyczna',\n",
        "    5: 'Rolnik',\n",
        "    'Pracujący na własny rachunek/samodzielna działalność gospodarcza': 'Własna',\n",
        "    'Praca stała': 'Stała',\n",
        "    8: 'Dorywcza',\n",
        "    'Bezrobotny': 'Bezrobotny'\n",
        "}\n",
        "\n",
        "df_raw_2023[column] = df_raw_2023[column].map(mapping)\n",
        "df_raw_2023.rename(columns={column: 'Inf_praca'}, inplace=True)"
      ],
      "metadata": {
        "id": "Npx2ORiSIG_w"
      },
      "execution_count": 63,
      "outputs": []
    },
    {
      "cell_type": "code",
      "source": [
        "df_raw_2023['Inf_praca'].unique()"
      ],
      "metadata": {
        "colab": {
          "base_uri": "https://localhost:8080/"
        },
        "id": "HtvE3Qn0kt6t",
        "outputId": "1a5925b5-3f88-4af0-8913-94242ad2d97e"
      },
      "execution_count": 64,
      "outputs": [
        {
          "output_type": "execute_result",
          "data": {
            "text/plain": [
              "array(['Bezrobotny', nan, 'Uczeń', 'Stała', 'Student', 'Własna'],\n",
              "      dtype=object)"
            ]
          },
          "metadata": {},
          "execution_count": 64
        }
      ]
    },
    {
      "cell_type": "markdown",
      "source": [
        "###Źródło_utrzymania"
      ],
      "metadata": {
        "id": "M2Jl6XJdIG_w"
      }
    },
    {
      "cell_type": "code",
      "source": [
        "df_raw_2023['Źródło_utrzymania'].unique()"
      ],
      "metadata": {
        "colab": {
          "base_uri": "https://localhost:8080/"
        },
        "id": "CSdqNxJXWDkX",
        "outputId": "d4955e27-0467-4d06-a5e2-0d4ca87eb9fd"
      },
      "execution_count": 65,
      "outputs": [
        {
          "output_type": "execute_result",
          "data": {
            "text/plain": [
              "array(['Brak danych/nieustalony', 'Na utrzymaniu innej osoby', 'Praca',\n",
              "       'Emerytura', 'Nie ma stałego źródła utrzymania', 'Renta',\n",
              "       'Zasiłek/alimenty', nan], dtype=object)"
            ]
          },
          "metadata": {},
          "execution_count": 65
        }
      ]
    },
    {
      "cell_type": "code",
      "source": [
        "column = 'Źródło_utrzymania'\n",
        "mapping = {\n",
        "    'Brak danych/nieustalony': np.nan,  # Zamiana 0 na NaN\n",
        "    'Na utrzymaniu innej osoby': 'Zależny',\n",
        "    'Praca': 'Praca',\n",
        "    'Emerytura': 'Świadczenia',\n",
        "    'Renta': 'Świadczenia',\n",
        "    'Zasiłek/alimenty': 'Świadczenia',\n",
        "    'Nie ma stałego źródła utrzymania': 'Bez_dochodu'\n",
        "}\n",
        "\n",
        "df_raw_2023[column] = df_raw_2023[column].map(mapping)\n",
        "df_raw_2023.rename(columns={column: 'Utrzymanie'}, inplace=True)"
      ],
      "metadata": {
        "id": "y5Imo6s1IG_w"
      },
      "execution_count": 66,
      "outputs": []
    },
    {
      "cell_type": "code",
      "source": [
        "df_raw_2023['Utrzymanie'].unique()"
      ],
      "metadata": {
        "colab": {
          "base_uri": "https://localhost:8080/"
        },
        "id": "NKyPy1vmk0le",
        "outputId": "418cf92c-4c1f-40a6-d87c-fb9d5395dbaf"
      },
      "execution_count": 67,
      "outputs": [
        {
          "output_type": "execute_result",
          "data": {
            "text/plain": [
              "array([nan, 'Zależny', 'Praca', 'Świadczenia', 'Bez_dochodu'],\n",
              "      dtype=object)"
            ]
          },
          "metadata": {},
          "execution_count": 67
        }
      ]
    },
    {
      "cell_type": "markdown",
      "source": [
        "###Czy_samobójstwo_zakończyło_się_zgonem"
      ],
      "metadata": {
        "id": "KnCUubyEIG_w"
      }
    },
    {
      "cell_type": "code",
      "source": [
        "df_raw_2023['Czy_samobójstwo_zakończyło_się_zgonem'].unique()"
      ],
      "metadata": {
        "colab": {
          "base_uri": "https://localhost:8080/"
        },
        "id": "JJiUDk4NWuC0",
        "outputId": "b1b43a4d-c1c9-4686-fa59-429b6bd120b2"
      },
      "execution_count": 68,
      "outputs": [
        {
          "output_type": "execute_result",
          "data": {
            "text/plain": [
              "array(['N', 'T', nan], dtype=object)"
            ]
          },
          "metadata": {},
          "execution_count": 68
        }
      ]
    },
    {
      "cell_type": "code",
      "source": [
        "column = 'Czy_samobójstwo_zakończyło_się_zgonem'\n",
        "\n",
        "mapping = {\n",
        "    0: np.nan,  # Zamiana 0 na NaN\n",
        "    'T': 1,\n",
        "    'N': 0\n",
        "}\n",
        "df_raw_2023[column] = df_raw_2023[column].map(mapping)\n",
        "df_raw_2023.rename(columns={column: 'Sukces'}, inplace=True)"
      ],
      "metadata": {
        "id": "yPC-C3PxIG_x"
      },
      "execution_count": 69,
      "outputs": []
    },
    {
      "cell_type": "code",
      "source": [
        "df_raw_2023['Sukces'].unique()"
      ],
      "metadata": {
        "colab": {
          "base_uri": "https://localhost:8080/"
        },
        "id": "8PXEMAHQk8od",
        "outputId": "6cdebd8e-ed8d-4202-e963-b2aeba098e7b"
      },
      "execution_count": 70,
      "outputs": [
        {
          "output_type": "execute_result",
          "data": {
            "text/plain": [
              "array([ 0.,  1., nan])"
            ]
          },
          "metadata": {},
          "execution_count": 70
        }
      ]
    },
    {
      "cell_type": "markdown",
      "source": [
        "###Miejsce_zamachu"
      ],
      "metadata": {
        "id": "KpzjZbZWIG_x"
      }
    },
    {
      "cell_type": "code",
      "source": [
        "df_raw_2023['Miejsce_zamachu'].unique()"
      ],
      "metadata": {
        "colab": {
          "base_uri": "https://localhost:8080/"
        },
        "id": "kkJnwiyhXD9O",
        "outputId": "4f4140cc-3d06-4c34-9b56-65194ec06175"
      },
      "execution_count": 71,
      "outputs": [
        {
          "output_type": "execute_result",
          "data": {
            "text/plain": [
              "array(['Mieszkanie/dom', 'Rzeka/jezioro/inny zbiornik wodny',\n",
              "       'Zabudowania gospodarcze', 'Garaż/piwnica/strych',\n",
              "       'Droga/ulica/chodnik', 'Teren kolei/tory', 'Park, las', 'Inne',\n",
              "       'Szkoła/uczelnia', 'Zakład pracy',\n",
              "       'Placówka wychowawczo-opiekuńcza',\n",
              "       'Placówka lecznicza lub sanatoryjna', 'Miejsce prawnej izolacji',\n",
              "       'Obiekt policyjny', 'Obiekt wojskowy', nan], dtype=object)"
            ]
          },
          "metadata": {},
          "execution_count": 71
        }
      ]
    },
    {
      "cell_type": "code",
      "source": [
        "column = 'Miejsce_zamachu'\n",
        "mapping = {\n",
        "    0: np.nan,\n",
        "    'Droga/ulica/chodnik': 'Droga',\n",
        "    'Zabudowania gospodarcze': 'Zabudowania',\n",
        "    'Mieszkanie/dom': 'Mieszkanie',\n",
        "    'Teren kolei/tory': 'Tory',\n",
        "    'Park, las': 'Park',\n",
        "    'Garaż/piwnica/strych': 'Piwnica',\n",
        "    'Rzeka/jezioro/inny zbiornik wodny': 'Woda',\n",
        "    'Zakład pracy': 'Praca',\n",
        "    'Placówka lecznicza lub sanatoryjna': 'Lecznica',\n",
        "    'Miejsce prawnej izolacji': 'Izolacja',\n",
        "    'Obiekt wojskowy': 'Wojsko',\n",
        "    'Placówka wychowawczo-opiekuńcza': 'Opieka',\n",
        "    'Szkoła/uczelnia': 'Szkoła',\n",
        "    'Obiekt policyjny': 'Policja',\n",
        "    'Inne': 'Inne'\n",
        "}\n",
        "\n",
        "df_raw_2023[column] = df_raw_2023[column].map(mapping)\n",
        "df_raw_2023.rename(columns={column: 'Miejsce'}, inplace=True)\n"
      ],
      "metadata": {
        "id": "5pBLHw0PIG_x"
      },
      "execution_count": 72,
      "outputs": []
    },
    {
      "cell_type": "code",
      "source": [
        "df_raw_2023['Miejsce'].unique()"
      ],
      "metadata": {
        "colab": {
          "base_uri": "https://localhost:8080/"
        },
        "id": "_OKGNKUAlBi5",
        "outputId": "4ebee36b-0f0d-4d66-bd2a-df50c06e7f9d"
      },
      "execution_count": 73,
      "outputs": [
        {
          "output_type": "execute_result",
          "data": {
            "text/plain": [
              "array(['Mieszkanie', 'Woda', 'Zabudowania', 'Piwnica', 'Droga', 'Tory',\n",
              "       'Park', 'Inne', 'Szkoła', 'Praca', 'Opieka', 'Lecznica',\n",
              "       'Izolacja', 'Policja', 'Wojsko', nan], dtype=object)"
            ]
          },
          "metadata": {},
          "execution_count": 73
        }
      ]
    },
    {
      "cell_type": "markdown",
      "source": [
        "###Sposób_popełnienia"
      ],
      "metadata": {
        "id": "OlDEM5sHIG_x"
      }
    },
    {
      "cell_type": "code",
      "source": [
        "df_raw_2023['Sposób_popełnienia'].unique()"
      ],
      "metadata": {
        "colab": {
          "base_uri": "https://localhost:8080/"
        },
        "id": "GSU0EjcNYQnm",
        "outputId": "a5740db9-2243-40a3-c8e0-7ea987b4442c"
      },
      "execution_count": 74,
      "outputs": [
        {
          "output_type": "execute_result",
          "data": {
            "text/plain": [
              "array(['Samookaleczenie powierzchowne', 'Powieszenie się',\n",
              "       'Zażycie innych leków',\n",
              "       'Zażycie środków nasennych/leków psychotropowych',\n",
              "       'Uszkodzenie układu krwionośnego', 'Inny',\n",
              "       'Utonięcie/utopienie się', 'Rzucenie się pod pojazd w ruchu',\n",
              "       'Uduszenie się', 'Rzucenie się z wysokości',\n",
              "       'Zastrzelenie się/użycie broni palnej', 'Zatrucie gazem/spalinami',\n",
              "       'Samopodpalenie', 'Zatrucie środkami chemicznymi/toksycznymi',\n",
              "       'Zatrucie środkami odurzającymi', 'Zatrucie dopalaczami', nan],\n",
              "      dtype=object)"
            ]
          },
          "metadata": {},
          "execution_count": 74
        }
      ]
    },
    {
      "cell_type": "code",
      "source": [
        "column = 'Sposób_popełnienia'\n",
        "mapping = {\n",
        "    0: np.nan,\n",
        "    'Rzucenie się pod pojazd w ruchu': 'Pod_pojazd',\n",
        "    'Rzucenie się z wysokości': 'Z_wysokości',\n",
        "    'Powieszenie się': 'Powieszenie',\n",
        "    'Uszkodzenie układu krwionośnego': 'Układ_krwionośny',\n",
        "    'Zastrzelenie się/użycie broni palnej': 'Zastrzelenie',\n",
        "    'Samookaleczenie powierzchowne': 'Samookaleczenie',\n",
        "    7: 'Samookaleczenie_inne',\n",
        "    'Zażycie środków nasennych/leków psychotropowych': 'Środki_nasenne',\n",
        "    9: 'Trucizna',\n",
        "    'Zatrucie gazem/spalinami': 'Gaz',\n",
        "    'Zażycie innych leków': 'Inne_leki',\n",
        "    'Zatrucie środkami chemicznymi/toksycznymi': 'Środki_chemiczne',\n",
        "    'Zatrucie środkami odurzającymi': 'Odurzające',\n",
        "    'Zatrucie dopalaczami': 'Dopalacze',\n",
        "    'Utonięcie/utopienie się': 'Utonięcie',\n",
        "    'Samopodpalenie': 'Podpalenie',\n",
        "    'Uduszenie się': 'Uduszenie',\n",
        "    'Inny': 'Inny'\n",
        "}\n",
        "\n",
        "df_raw_2023[column] = df_raw_2023[column].map(mapping)\n",
        "df_raw_2023.rename(columns={column: 'Sposób'}, inplace=True)"
      ],
      "metadata": {
        "id": "Ew-fvAqcIG_x"
      },
      "execution_count": 75,
      "outputs": []
    },
    {
      "cell_type": "code",
      "source": [
        "df_raw_2023['Sposób'].unique()"
      ],
      "metadata": {
        "colab": {
          "base_uri": "https://localhost:8080/"
        },
        "id": "8mnNa3AqlGKq",
        "outputId": "38d46b73-ca01-493c-93f1-22f44e03f472"
      },
      "execution_count": 76,
      "outputs": [
        {
          "output_type": "execute_result",
          "data": {
            "text/plain": [
              "array(['Samookaleczenie', 'Powieszenie', 'Inne_leki', 'Środki_nasenne',\n",
              "       'Układ_krwionośny', 'Inny', 'Utonięcie', 'Pod_pojazd', 'Uduszenie',\n",
              "       'Z_wysokości', 'Zastrzelenie', 'Gaz', 'Podpalenie',\n",
              "       'Środki_chemiczne', 'Odurzające', 'Dopalacze', nan], dtype=object)"
            ]
          },
          "metadata": {},
          "execution_count": 76
        }
      ]
    },
    {
      "cell_type": "markdown",
      "source": [
        "###Powód_zamachu"
      ],
      "metadata": {
        "id": "jDB1mAzaIG_x"
      }
    },
    {
      "cell_type": "code",
      "source": [
        "list(set(df_raw_2023['Powód_zamachu_*'].unique()) | set(df_raw_2023['Powód_zamachu_2'].unique()) | set(df_raw_2023['Powód_zamachu_3'].unique()) | set(df_raw_2023['Powód_zamachu_4'].unique()))"
      ],
      "metadata": {
        "id": "OJ47Jy9hTxak",
        "outputId": "9d77d319-1d48-47f4-97ce-5826e37684ae",
        "colab": {
          "base_uri": "https://localhost:8080/"
        }
      },
      "execution_count": 77,
      "outputs": [
        {
          "output_type": "execute_result",
          "data": {
            "text/plain": [
              "['Nagła utrata źródła utrzymania',\n",
              " 'Choroba psychiczna/zaburzenia psychiczne',\n",
              " 'Inny niewymieniony powyżej',\n",
              " 'Nieustalony',\n",
              " 'Niepożądana ciąża',\n",
              " nan,\n",
              " 'Zagrożenie lub utrata miejsca zamieszkania',\n",
              " 'Problemy w szkole lub pracy',\n",
              " 'Śmierć bliskiej osoby',\n",
              " 'Dokonanie przestępstwa lub wykroczenia',\n",
              " 'Nosiciel wirusa HIV, chory na AIDS',\n",
              " 'Pogorszenie lub nagła utrata zdrowia',\n",
              " 'Konflikt z osobami spoza rodziny',\n",
              " 'Mobbing, cybermobbing, znęcanie',\n",
              " 'Złe warunki ekonomiczne/długi',\n",
              " 'Choroba fizyczna',\n",
              " 'Nieporozumienie rodzinne/przemoc w rodzinie',\n",
              " 'Trwałe kalectwo',\n",
              " 'Leczony(a) psychiatrycznie',\n",
              " 'Zawód miłosny']"
            ]
          },
          "metadata": {},
          "execution_count": 77
        }
      ]
    },
    {
      "cell_type": "code",
      "source": [
        "column = 'Powód_zamachu_*'\n",
        "mapping = {\n",
        "    'Nieustalony': np.nan,\n",
        "    'Zawód miłosny': 'Miłość',\n",
        "    'Leczony(a) psychiatrycznie': 'Choroby_psych',\n",
        "    'Nieporozumienie rodzinne/przemoc w rodzinie': 'Konflikty_rodzinne',\n",
        "    'Nosiciel wirusa HIV, chory na AIDS': 'HIV/AIDS',\n",
        "    'Nagła utrata źródła utrzymania': 'Utrata_utrzymania',\n",
        "    'Złe warunki ekonomiczne/długi': 'Finanse',\n",
        "    'Choroba psychiczna/zaburzenia psychiczne': 'Choroby_psych',\n",
        "    'Problemy w szkole lub pracy': 'Praca',\n",
        "    'Śmierć bliskiej osoby': 'Śmierć_bliskiego',\n",
        "    'Dokonanie przestępstwa lub wykroczenia': 'Przestępstwa',\n",
        "    'Trwałe kalectwo': 'Kalectwo',\n",
        "    'Niepożądana ciąża': 'Ciąża',\n",
        "    'Choroba fizyczna': 'Choroby_fiz',\n",
        "    'Pogorszenie lub nagła utrata zdrowia': 'Zdrowie',\n",
        "    'Konflikt z osobami spoza rodziny': 'Konflikty_inni',\n",
        "    'Zagrożenie lub utrata miejsca zamieszkania': 'Bezdomność',\n",
        "    'Mobbing, cybermobbing, znęcanie': 'Mobbing',\n",
        "    'Inny niewymieniony powyżej': 'Inne'\n",
        "}\n",
        "\n",
        "df_raw_2023[column] = df_raw_2023[column].map(mapping)\n",
        "df_raw_2023.rename(columns={column: 'Powód'}, inplace=True)"
      ],
      "metadata": {
        "id": "0k838_vDIG_x"
      },
      "execution_count": 78,
      "outputs": []
    },
    {
      "cell_type": "markdown",
      "source": [
        "###Powód_zamachu_2"
      ],
      "metadata": {
        "id": "PKPu-QhZIG_x"
      }
    },
    {
      "cell_type": "code",
      "source": [
        "column = 'Powód_zamachu_2'\n",
        "mapping = {\n",
        "    'Nieustalony': np.nan,\n",
        "    'Zawód miłosny': 'Miłość',\n",
        "    'Leczony(a) psychiatrycznie': 'Choroby_psych',\n",
        "    'Nieporozumienie rodzinne/przemoc w rodzinie': 'Konflikty_rodzinne',\n",
        "    'Nosiciel wirusa HIV, chory na AIDS': 'HIV/AIDS',\n",
        "    'Nagła utrata źródła utrzymania': 'Utrata_utrzymania',\n",
        "    'Złe warunki ekonomiczne/długi': 'Finanse',\n",
        "    'Choroba psychiczna/zaburzenia psychiczne': 'Choroby_psych',\n",
        "    'Problemy w szkole lub pracy': 'Praca',\n",
        "    'Śmierć bliskiej osoby': 'Śmierć_bliskiego',\n",
        "    'Dokonanie przestępstwa lub wykroczenia': 'Przestępstwa',\n",
        "    'Trwałe kalectwo': 'Kalectwo',\n",
        "    'Niepożądana ciąża': 'Ciąża',\n",
        "    'Choroba fizyczna': 'Choroby_fiz',\n",
        "    'Pogorszenie lub nagła utrata zdrowia': 'Zdrowie',\n",
        "    'Konflikt z osobami spoza rodziny': 'Konflikty_inni',\n",
        "    'Zagrożenie lub utrata miejsca zamieszkania': 'Bezdomność',\n",
        "    'Mobbing, cybermobbing, znęcanie': 'Mobbing',\n",
        "    'Inny niewymieniony powyżej': 'Inne'\n",
        "}\n",
        "\n",
        "df_raw_2023[column] = df_raw_2023[column].map(mapping)\n",
        "df_raw_2023.rename(columns={column: 'Powód_2'}, inplace=True)"
      ],
      "metadata": {
        "id": "1kjnoGOrIG_x"
      },
      "execution_count": 79,
      "outputs": []
    },
    {
      "cell_type": "markdown",
      "source": [
        "###Powód_zamachu_3"
      ],
      "metadata": {
        "id": "wFKEZTMbIG_y"
      }
    },
    {
      "cell_type": "code",
      "source": [
        "column = 'Powód_zamachu_3'\n",
        "mapping = {\n",
        "    'Nieustalony': np.nan,\n",
        "    'Zawód miłosny': 'Miłość',\n",
        "    'Leczony(a) psychiatrycznie': 'Choroby_psych',\n",
        "    'Nieporozumienie rodzinne/przemoc w rodzinie': 'Konflikty_rodzinne',\n",
        "    'Nosiciel wirusa HIV, chory na AIDS': 'HIV/AIDS',\n",
        "    'Nagła utrata źródła utrzymania': 'Utrata_utrzymania',\n",
        "    'Złe warunki ekonomiczne/długi': 'Finanse',\n",
        "    'Choroba psychiczna/zaburzenia psychiczne': 'Choroby_psych',\n",
        "    'Problemy w szkole lub pracy': 'Praca',\n",
        "    'Śmierć bliskiej osoby': 'Śmierć_bliskiego',\n",
        "    'Dokonanie przestępstwa lub wykroczenia': 'Przestępstwa',\n",
        "    'Trwałe kalectwo': 'Kalectwo',\n",
        "    'Niepożądana ciąża': 'Ciąża',\n",
        "    'Choroba fizyczna': 'Choroby_fiz',\n",
        "    'Pogorszenie lub nagła utrata zdrowia': 'Zdrowie',\n",
        "    'Konflikt z osobami spoza rodziny': 'Konflikty_inni',\n",
        "    'Zagrożenie lub utrata miejsca zamieszkania': 'Bezdomność',\n",
        "    'Mobbing, cybermobbing, znęcanie': 'Mobbing',\n",
        "    'Inny niewymieniony powyżej': 'Inne'\n",
        "}\n",
        "\n",
        "df_raw_2023[column] = df_raw_2023[column].map(mapping)\n",
        "df_raw_2023.rename(columns={column: 'Powód_3'}, inplace=True)"
      ],
      "metadata": {
        "id": "U1-ZAbayIG_y"
      },
      "execution_count": 80,
      "outputs": []
    },
    {
      "cell_type": "markdown",
      "source": [
        "###Powód_zamachu_4"
      ],
      "metadata": {
        "id": "5T3z-61lIG_y"
      }
    },
    {
      "cell_type": "code",
      "source": [
        "column = 'Powód_zamachu_4'\n",
        "mapping = {\n",
        "    'Nieustalony': np.nan,\n",
        "    'Zawód miłosny': 'Miłość',\n",
        "    'Leczony(a) psychiatrycznie': 'Choroby_psych',\n",
        "    'Nieporozumienie rodzinne/przemoc w rodzinie': 'Konflikty_rodzinne',\n",
        "    'Nosiciel wirusa HIV, chory na AIDS': 'HIV/AIDS',\n",
        "    'Nagła utrata źródła utrzymania': 'Utrata_utrzymania',\n",
        "    'Złe warunki ekonomiczne/długi': 'Finanse',\n",
        "    'Choroba psychiczna/zaburzenia psychiczne': 'Choroby_psych',\n",
        "    'Problemy w szkole lub pracy': 'Praca',\n",
        "    'Śmierć bliskiej osoby': 'Śmierć_bliskiego',\n",
        "    'Dokonanie przestępstwa lub wykroczenia': 'Przestępstwa',\n",
        "    'Trwałe kalectwo': 'Kalectwo',\n",
        "    'Niepożądana ciąża': 'Ciąża',\n",
        "    'Choroba fizyczna': 'Choroby_fiz',\n",
        "    'Pogorszenie lub nagła utrata zdrowia': 'Zdrowie',\n",
        "    'Konflikt z osobami spoza rodziny': 'Konflikty_inni',\n",
        "    'Zagrożenie lub utrata miejsca zamieszkania': 'Bezdomność',\n",
        "    'Mobbing, cybermobbing, znęcanie': 'Mobbing',\n",
        "    'Inny niewymieniony powyżej': 'Inne'\n",
        "}\n",
        "\n",
        "df_raw_2023[column] = df_raw_2023[column].map(mapping)\n",
        "df_raw_2023.rename(columns={column: 'Powód_4'}, inplace=True)"
      ],
      "metadata": {
        "id": "gcQkAZ0wIG_y"
      },
      "execution_count": 81,
      "outputs": []
    },
    {
      "cell_type": "code",
      "source": [
        "list(set(df_raw_2023['Powód'].unique()) | set(df_raw_2023['Powód_2'].unique()) | set(df_raw_2023['Powód_3'].unique()) | set(df_raw_2023['Powód_4'].unique()))"
      ],
      "metadata": {
        "colab": {
          "base_uri": "https://localhost:8080/"
        },
        "id": "p2F1Vi57lQ5U",
        "outputId": "96be4c14-c2d4-485a-c7e5-7a484e0b6535"
      },
      "execution_count": 82,
      "outputs": [
        {
          "output_type": "execute_result",
          "data": {
            "text/plain": [
              "['Finanse',\n",
              " 'Konflikty_rodzinne',\n",
              " 'Konflikty_inni',\n",
              " 'Ciąża',\n",
              " nan,\n",
              " 'Choroby_psych',\n",
              " 'Bezdomność',\n",
              " 'Mobbing',\n",
              " 'Miłość',\n",
              " 'Inne',\n",
              " 'HIV/AIDS',\n",
              " 'Choroby_fiz',\n",
              " 'Przestępstwa',\n",
              " 'Utrata_utrzymania',\n",
              " 'Zdrowie',\n",
              " 'Praca',\n",
              " 'Śmierć_bliskiego',\n",
              " 'Kalectwo']"
            ]
          },
          "metadata": {},
          "execution_count": 82
        }
      ]
    },
    {
      "cell_type": "markdown",
      "source": [
        "###Stan_świadomości"
      ],
      "metadata": {
        "id": "b2nfVPzoIG_y"
      }
    },
    {
      "cell_type": "code",
      "source": [
        "df_raw_2023['Stan_świadomości_*'].unique()"
      ],
      "metadata": {
        "colab": {
          "base_uri": "https://localhost:8080/"
        },
        "id": "YAB553vJXJKU",
        "outputId": "cf2ee665-9b18-41ba-f24c-e3270d1dd12a"
      },
      "execution_count": 83,
      "outputs": [
        {
          "output_type": "execute_result",
          "data": {
            "text/plain": [
              "array(['Pod wpływem alkoholu', 'Brak danych/nieustalony', 'Trzeźwy(a)',\n",
              "       'Pod wpływem leków', 'Pod wpływem alkoholu i środków odurzających',\n",
              "       'Pod wpływem alkoholu i leków', 'Pod wpływem środków odurzających',\n",
              "       'Pod wpływem alkoholu, leków i środków odurzających',\n",
              "       'Pod wpływem zastępczych środków/substancji (dopalaczy)',\n",
              "       'Pod wpływem alkoholu i zastępczych środków/substancji (dopalaczy)',\n",
              "       'Pod wpływem leków i środków odurzających',\n",
              "       'Pod wpływem alkoholu zastępczych środków/substancji (dopalaczy)',\n",
              "       'Pod wpływem leków i srodków odurzających', nan], dtype=object)"
            ]
          },
          "metadata": {},
          "execution_count": 83
        }
      ]
    },
    {
      "cell_type": "code",
      "source": [
        "column = 'Stan_świadomości_*'\n",
        "mapping = {\n",
        "    'Brak danych/nieustalony': np.nan,\n",
        "    'Trzeźwy(a)': 'Trzeźwy',\n",
        "    'Pod wpływem alkoholu': 'Alko',\n",
        "    'Pod wpływem zastępczych środków/substancji (dopalaczy)': 'Dopa',\n",
        "    4: 'Narko',\n",
        "    'Pod wpływem leków': 'Leki',\n",
        "    'Pod wpływem środków odurzających': 'Odurza',\n",
        "    'Pod wpływem alkoholu i zastępczych środków/substancji (dopalaczy)': 'Alko+dopa',\n",
        "    'Pod wpływem alkoholu zastępczych środków/substancji (dopalaczy)': 'Alko+dopa',\n",
        "    8: 'Alko+narko',\n",
        "    'Pod wpływem alkoholu i leków': 'Alko+leki',\n",
        "    'Pod wpływem alkoholu i środków odurzających': 'Alko+odurza',\n",
        "    11: 'Alko+dopa+odurza',\n",
        "    12: 'Dopa+odurza',\n",
        "    'Pod wpływem leków i środków odurzających': 'Leki+odurza',\n",
        "    14: 'Leki+dopa',\n",
        "    15: 'Leki+narko',\n",
        "    16: 'Leki+dopa+odurza',\n",
        "    'Pod wpływem alkoholu, leków i środków odurzających': 'Alko+leki+odurza',\n",
        "    18: 'Alko+leki+dopa+odurza',\n",
        "}\n",
        "\n",
        "df_raw_2023[column] = df_raw_2023[column].map(mapping)\n",
        "df_raw_2023.rename(columns={column: 'Stan'}, inplace=True)"
      ],
      "metadata": {
        "id": "sffXG4U3IG_y"
      },
      "execution_count": 84,
      "outputs": []
    },
    {
      "cell_type": "code",
      "source": [
        "df_raw_2023['Stan'].unique()"
      ],
      "metadata": {
        "outputId": "1cece817-55e4-476f-ea37-aaaf84558e6e",
        "colab": {
          "base_uri": "https://localhost:8080/"
        },
        "id": "eyD_vM0Lalus"
      },
      "execution_count": 85,
      "outputs": [
        {
          "output_type": "execute_result",
          "data": {
            "text/plain": [
              "array(['Alko', nan, 'Trzeźwy', 'Leki', 'Alko+odurza', 'Alko+leki',\n",
              "       'Odurza', 'Alko+leki+odurza', 'Dopa', 'Alko+dopa', 'Leki+odurza'],\n",
              "      dtype=object)"
            ]
          },
          "metadata": {},
          "execution_count": 85
        }
      ]
    },
    {
      "cell_type": "markdown",
      "source": [
        "###Informacje_dotyczące_leczenia_z_powodu_alkoholizmu/narkomanii"
      ],
      "metadata": {
        "id": "ScqLK2vRIG_y"
      }
    },
    {
      "cell_type": "code",
      "source": [
        "df_raw_2023['Informacje_dotyczące_leczenia_z_powodu_alkoholizmu/narkomanii'].unique()"
      ],
      "metadata": {
        "id": "twcza4erbmIR",
        "outputId": "cf9d1a4a-44a8-454b-82e8-b3dc0b088792",
        "colab": {
          "base_uri": "https://localhost:8080/"
        }
      },
      "execution_count": 86,
      "outputs": [
        {
          "output_type": "execute_result",
          "data": {
            "text/plain": [
              "array([nan, 'Nadużywał(a) alkoholu', 'Leczony(a) z powodu alkoholizmu',\n",
              "       'Leczony(a) z powodu narkomanii',\n",
              "       'Leczony(a) z powodu alkoholizmu i narkomanii',\n",
              "       'Leczony(a) psychiatrycznie'], dtype=object)"
            ]
          },
          "metadata": {},
          "execution_count": 86
        }
      ]
    },
    {
      "cell_type": "code",
      "source": [
        "column = 'Informacje_dotyczące_leczenia_z_powodu_alkoholizmu/narkomanii'\n",
        "mapping = {\n",
        "    'Leczony(a) psychiatrycznie': np.nan,\n",
        "    'Nadużywał(a) alkoholu': 'Alko',\n",
        "    'Leczony(a) z powodu alkoholizmu': 'Alko',\n",
        "    'Leczony(a) z powodu narkomanii': 'Narko',\n",
        "    'Leczony(a) z powodu alkoholizmu i narkomanii': 'Alko+narko'\n",
        "}\n",
        "\n",
        "df_raw_2023[column] = df_raw_2023[column].map(mapping)\n",
        "df_raw_2023.rename(columns={column: 'Leczenie'}, inplace=True)"
      ],
      "metadata": {
        "id": "WV1FpVNtIG_y"
      },
      "execution_count": 87,
      "outputs": []
    },
    {
      "cell_type": "code",
      "source": [
        "df_raw_2023['Leczenie'].unique()"
      ],
      "metadata": {
        "id": "WOQR0ZlHcIps",
        "outputId": "e606c8e8-af6b-4f89-aeec-15f568635818",
        "colab": {
          "base_uri": "https://localhost:8080/"
        }
      },
      "execution_count": 88,
      "outputs": [
        {
          "output_type": "execute_result",
          "data": {
            "text/plain": [
              "array([nan, 'Alko', 'Narko', 'Alko+narko'], dtype=object)"
            ]
          },
          "metadata": {},
          "execution_count": 88
        }
      ]
    },
    {
      "cell_type": "markdown",
      "source": [
        "##Powód zamachu - dummies"
      ],
      "metadata": {
        "id": "n0lu0YQmIG_y"
      }
    },
    {
      "cell_type": "code",
      "source": [
        "columns_to_drop = ['Powód', 'Powód_2', 'Powód_3', 'Powód_4']\n",
        "df_powód_zamachu_2023 = df_raw_2023[columns_to_drop]\n",
        "df_raw_2023.drop(columns=columns_to_drop, inplace=True)\n"
      ],
      "metadata": {
        "id": "uVUY7DG1IG_z"
      },
      "execution_count": 89,
      "outputs": []
    },
    {
      "cell_type": "code",
      "source": [
        "powód_zamachu_values = (\n",
        "    set(df_powód_zamachu_2023['Powód'].unique()) |\n",
        "    set(df_powód_zamachu_2023['Powód_2'].unique()) |\n",
        "    set(df_powód_zamachu_2023['Powód_3'].unique()) |\n",
        "    set(df_powód_zamachu_2023['Powód_4'].unique())\n",
        ")"
      ],
      "metadata": {
        "id": "0zZylZLQIG_z"
      },
      "execution_count": 90,
      "outputs": []
    },
    {
      "cell_type": "code",
      "source": [
        "powód_zamachu_values"
      ],
      "metadata": {
        "colab": {
          "base_uri": "https://localhost:8080/"
        },
        "outputId": "4daa7c2e-d629-4040-b7c6-e4b5c09ca7b5",
        "id": "H3xFSdGQIG_z"
      },
      "execution_count": 91,
      "outputs": [
        {
          "output_type": "execute_result",
          "data": {
            "text/plain": [
              "{'Bezdomność',\n",
              " 'Choroby_fiz',\n",
              " 'Choroby_psych',\n",
              " 'Ciąża',\n",
              " 'Finanse',\n",
              " 'HIV/AIDS',\n",
              " 'Inne',\n",
              " 'Kalectwo',\n",
              " 'Konflikty_inni',\n",
              " 'Konflikty_rodzinne',\n",
              " 'Miłość',\n",
              " 'Mobbing',\n",
              " 'Praca',\n",
              " 'Przestępstwa',\n",
              " 'Utrata_utrzymania',\n",
              " 'Zdrowie',\n",
              " nan,\n",
              " 'Śmierć_bliskiego'}"
            ]
          },
          "metadata": {},
          "execution_count": 91
        }
      ]
    },
    {
      "cell_type": "code",
      "source": [
        "for value in powód_zamachu_values:\n",
        "    column_name = 'Powód_' + str(value)\n",
        "    df_powód_zamachu_2023[column_name] = df_powód_zamachu_2023.apply(lambda row: 1 if value in row.values else 0, axis=1)\n"
      ],
      "metadata": {
        "colab": {
          "base_uri": "https://localhost:8080/"
        },
        "outputId": "b09bacc1-a404-4341-87b2-17893fb1cf6e",
        "id": "PONMEZsEIG_z"
      },
      "execution_count": 92,
      "outputs": [
        {
          "output_type": "stream",
          "name": "stderr",
          "text": [
            "<ipython-input-92-23ef7d7d8362>:3: SettingWithCopyWarning: \n",
            "A value is trying to be set on a copy of a slice from a DataFrame.\n",
            "Try using .loc[row_indexer,col_indexer] = value instead\n",
            "\n",
            "See the caveats in the documentation: https://pandas.pydata.org/pandas-docs/stable/user_guide/indexing.html#returning-a-view-versus-a-copy\n",
            "  df_powód_zamachu_2023[column_name] = df_powód_zamachu_2023.apply(lambda row: 1 if value in row.values else 0, axis=1)\n",
            "<ipython-input-92-23ef7d7d8362>:3: SettingWithCopyWarning: \n",
            "A value is trying to be set on a copy of a slice from a DataFrame.\n",
            "Try using .loc[row_indexer,col_indexer] = value instead\n",
            "\n",
            "See the caveats in the documentation: https://pandas.pydata.org/pandas-docs/stable/user_guide/indexing.html#returning-a-view-versus-a-copy\n",
            "  df_powód_zamachu_2023[column_name] = df_powód_zamachu_2023.apply(lambda row: 1 if value in row.values else 0, axis=1)\n",
            "<ipython-input-92-23ef7d7d8362>:3: SettingWithCopyWarning: \n",
            "A value is trying to be set on a copy of a slice from a DataFrame.\n",
            "Try using .loc[row_indexer,col_indexer] = value instead\n",
            "\n",
            "See the caveats in the documentation: https://pandas.pydata.org/pandas-docs/stable/user_guide/indexing.html#returning-a-view-versus-a-copy\n",
            "  df_powód_zamachu_2023[column_name] = df_powód_zamachu_2023.apply(lambda row: 1 if value in row.values else 0, axis=1)\n",
            "<ipython-input-92-23ef7d7d8362>:3: SettingWithCopyWarning: \n",
            "A value is trying to be set on a copy of a slice from a DataFrame.\n",
            "Try using .loc[row_indexer,col_indexer] = value instead\n",
            "\n",
            "See the caveats in the documentation: https://pandas.pydata.org/pandas-docs/stable/user_guide/indexing.html#returning-a-view-versus-a-copy\n",
            "  df_powód_zamachu_2023[column_name] = df_powód_zamachu_2023.apply(lambda row: 1 if value in row.values else 0, axis=1)\n",
            "<ipython-input-92-23ef7d7d8362>:3: SettingWithCopyWarning: \n",
            "A value is trying to be set on a copy of a slice from a DataFrame.\n",
            "Try using .loc[row_indexer,col_indexer] = value instead\n",
            "\n",
            "See the caveats in the documentation: https://pandas.pydata.org/pandas-docs/stable/user_guide/indexing.html#returning-a-view-versus-a-copy\n",
            "  df_powód_zamachu_2023[column_name] = df_powód_zamachu_2023.apply(lambda row: 1 if value in row.values else 0, axis=1)\n",
            "<ipython-input-92-23ef7d7d8362>:3: SettingWithCopyWarning: \n",
            "A value is trying to be set on a copy of a slice from a DataFrame.\n",
            "Try using .loc[row_indexer,col_indexer] = value instead\n",
            "\n",
            "See the caveats in the documentation: https://pandas.pydata.org/pandas-docs/stable/user_guide/indexing.html#returning-a-view-versus-a-copy\n",
            "  df_powód_zamachu_2023[column_name] = df_powód_zamachu_2023.apply(lambda row: 1 if value in row.values else 0, axis=1)\n",
            "<ipython-input-92-23ef7d7d8362>:3: SettingWithCopyWarning: \n",
            "A value is trying to be set on a copy of a slice from a DataFrame.\n",
            "Try using .loc[row_indexer,col_indexer] = value instead\n",
            "\n",
            "See the caveats in the documentation: https://pandas.pydata.org/pandas-docs/stable/user_guide/indexing.html#returning-a-view-versus-a-copy\n",
            "  df_powód_zamachu_2023[column_name] = df_powód_zamachu_2023.apply(lambda row: 1 if value in row.values else 0, axis=1)\n",
            "<ipython-input-92-23ef7d7d8362>:3: SettingWithCopyWarning: \n",
            "A value is trying to be set on a copy of a slice from a DataFrame.\n",
            "Try using .loc[row_indexer,col_indexer] = value instead\n",
            "\n",
            "See the caveats in the documentation: https://pandas.pydata.org/pandas-docs/stable/user_guide/indexing.html#returning-a-view-versus-a-copy\n",
            "  df_powód_zamachu_2023[column_name] = df_powód_zamachu_2023.apply(lambda row: 1 if value in row.values else 0, axis=1)\n",
            "<ipython-input-92-23ef7d7d8362>:3: SettingWithCopyWarning: \n",
            "A value is trying to be set on a copy of a slice from a DataFrame.\n",
            "Try using .loc[row_indexer,col_indexer] = value instead\n",
            "\n",
            "See the caveats in the documentation: https://pandas.pydata.org/pandas-docs/stable/user_guide/indexing.html#returning-a-view-versus-a-copy\n",
            "  df_powód_zamachu_2023[column_name] = df_powód_zamachu_2023.apply(lambda row: 1 if value in row.values else 0, axis=1)\n",
            "<ipython-input-92-23ef7d7d8362>:3: SettingWithCopyWarning: \n",
            "A value is trying to be set on a copy of a slice from a DataFrame.\n",
            "Try using .loc[row_indexer,col_indexer] = value instead\n",
            "\n",
            "See the caveats in the documentation: https://pandas.pydata.org/pandas-docs/stable/user_guide/indexing.html#returning-a-view-versus-a-copy\n",
            "  df_powód_zamachu_2023[column_name] = df_powód_zamachu_2023.apply(lambda row: 1 if value in row.values else 0, axis=1)\n",
            "<ipython-input-92-23ef7d7d8362>:3: SettingWithCopyWarning: \n",
            "A value is trying to be set on a copy of a slice from a DataFrame.\n",
            "Try using .loc[row_indexer,col_indexer] = value instead\n",
            "\n",
            "See the caveats in the documentation: https://pandas.pydata.org/pandas-docs/stable/user_guide/indexing.html#returning-a-view-versus-a-copy\n",
            "  df_powód_zamachu_2023[column_name] = df_powód_zamachu_2023.apply(lambda row: 1 if value in row.values else 0, axis=1)\n",
            "<ipython-input-92-23ef7d7d8362>:3: SettingWithCopyWarning: \n",
            "A value is trying to be set on a copy of a slice from a DataFrame.\n",
            "Try using .loc[row_indexer,col_indexer] = value instead\n",
            "\n",
            "See the caveats in the documentation: https://pandas.pydata.org/pandas-docs/stable/user_guide/indexing.html#returning-a-view-versus-a-copy\n",
            "  df_powód_zamachu_2023[column_name] = df_powód_zamachu_2023.apply(lambda row: 1 if value in row.values else 0, axis=1)\n",
            "<ipython-input-92-23ef7d7d8362>:3: SettingWithCopyWarning: \n",
            "A value is trying to be set on a copy of a slice from a DataFrame.\n",
            "Try using .loc[row_indexer,col_indexer] = value instead\n",
            "\n",
            "See the caveats in the documentation: https://pandas.pydata.org/pandas-docs/stable/user_guide/indexing.html#returning-a-view-versus-a-copy\n",
            "  df_powód_zamachu_2023[column_name] = df_powód_zamachu_2023.apply(lambda row: 1 if value in row.values else 0, axis=1)\n"
          ]
        }
      ]
    },
    {
      "cell_type": "code",
      "source": [
        "columns_to_drop = ['Powód', 'Powód_2', 'Powód_3', 'Powód_4', 'Powód_nan']\n",
        "df_powód_zamachu_2023.drop(columns=columns_to_drop, inplace=True)\n"
      ],
      "metadata": {
        "id": "i0yWizHfIG_z"
      },
      "execution_count": 93,
      "outputs": []
    },
    {
      "cell_type": "code",
      "source": [
        "df_powód_zamachu_2023.head(5)"
      ],
      "metadata": {
        "colab": {
          "base_uri": "https://localhost:8080/",
          "height": 226
        },
        "id": "jNI0UL3yo6Lz",
        "outputId": "c3c5952c-ff6f-450f-802d-ff9d79a18a23"
      },
      "execution_count": 94,
      "outputs": [
        {
          "output_type": "execute_result",
          "data": {
            "text/plain": [
              "   Powód_Finanse  Powód_Konflikty_rodzinne  Powód_Konflikty_inni  Powód_Ciąża  \\\n",
              "0              0                         1                     0            0   \n",
              "1              0                         0                     0            0   \n",
              "2              0                         1                     0            0   \n",
              "3              0                         1                     0            0   \n",
              "4              0                         0                     1            0   \n",
              "\n",
              "   Powód_Choroby_psych  Powód_Bezdomność  Powód_Mobbing  Powód_Miłość  \\\n",
              "0                    0                 0              0             0   \n",
              "1                    0                 0              0             0   \n",
              "2                    0                 0              0             0   \n",
              "3                    0                 0              0             0   \n",
              "4                    0                 0              0             0   \n",
              "\n",
              "   Powód_Inne  Powód_HIV/AIDS  Powód_Choroby_fiz  Powód_Przestępstwa  \\\n",
              "0           1               0                  0                   0   \n",
              "1           0               0                  0                   0   \n",
              "2           0               0                  0                   0   \n",
              "3           0               0                  0                   0   \n",
              "4           0               0                  0                   0   \n",
              "\n",
              "   Powód_Utrata_utrzymania  Powód_Zdrowie  Powód_Praca  \\\n",
              "0                        0              0            0   \n",
              "1                        0              0            0   \n",
              "2                        0              0            0   \n",
              "3                        0              0            0   \n",
              "4                        0              0            0   \n",
              "\n",
              "   Powód_Śmierć_bliskiego  Powód_Kalectwo  \n",
              "0                       0               0  \n",
              "1                       0               0  \n",
              "2                       0               0  \n",
              "3                       0               0  \n",
              "4                       0               0  "
            ],
            "text/html": [
              "\n",
              "  <div id=\"df-d10b5232-7e08-49ae-b762-89ee3d085fae\" class=\"colab-df-container\">\n",
              "    <div>\n",
              "<style scoped>\n",
              "    .dataframe tbody tr th:only-of-type {\n",
              "        vertical-align: middle;\n",
              "    }\n",
              "\n",
              "    .dataframe tbody tr th {\n",
              "        vertical-align: top;\n",
              "    }\n",
              "\n",
              "    .dataframe thead th {\n",
              "        text-align: right;\n",
              "    }\n",
              "</style>\n",
              "<table border=\"1\" class=\"dataframe\">\n",
              "  <thead>\n",
              "    <tr style=\"text-align: right;\">\n",
              "      <th></th>\n",
              "      <th>Powód_Finanse</th>\n",
              "      <th>Powód_Konflikty_rodzinne</th>\n",
              "      <th>Powód_Konflikty_inni</th>\n",
              "      <th>Powód_Ciąża</th>\n",
              "      <th>Powód_Choroby_psych</th>\n",
              "      <th>Powód_Bezdomność</th>\n",
              "      <th>Powód_Mobbing</th>\n",
              "      <th>Powód_Miłość</th>\n",
              "      <th>Powód_Inne</th>\n",
              "      <th>Powód_HIV/AIDS</th>\n",
              "      <th>Powód_Choroby_fiz</th>\n",
              "      <th>Powód_Przestępstwa</th>\n",
              "      <th>Powód_Utrata_utrzymania</th>\n",
              "      <th>Powód_Zdrowie</th>\n",
              "      <th>Powód_Praca</th>\n",
              "      <th>Powód_Śmierć_bliskiego</th>\n",
              "      <th>Powód_Kalectwo</th>\n",
              "    </tr>\n",
              "  </thead>\n",
              "  <tbody>\n",
              "    <tr>\n",
              "      <th>0</th>\n",
              "      <td>0</td>\n",
              "      <td>1</td>\n",
              "      <td>0</td>\n",
              "      <td>0</td>\n",
              "      <td>0</td>\n",
              "      <td>0</td>\n",
              "      <td>0</td>\n",
              "      <td>0</td>\n",
              "      <td>1</td>\n",
              "      <td>0</td>\n",
              "      <td>0</td>\n",
              "      <td>0</td>\n",
              "      <td>0</td>\n",
              "      <td>0</td>\n",
              "      <td>0</td>\n",
              "      <td>0</td>\n",
              "      <td>0</td>\n",
              "    </tr>\n",
              "    <tr>\n",
              "      <th>1</th>\n",
              "      <td>0</td>\n",
              "      <td>0</td>\n",
              "      <td>0</td>\n",
              "      <td>0</td>\n",
              "      <td>0</td>\n",
              "      <td>0</td>\n",
              "      <td>0</td>\n",
              "      <td>0</td>\n",
              "      <td>0</td>\n",
              "      <td>0</td>\n",
              "      <td>0</td>\n",
              "      <td>0</td>\n",
              "      <td>0</td>\n",
              "      <td>0</td>\n",
              "      <td>0</td>\n",
              "      <td>0</td>\n",
              "      <td>0</td>\n",
              "    </tr>\n",
              "    <tr>\n",
              "      <th>2</th>\n",
              "      <td>0</td>\n",
              "      <td>1</td>\n",
              "      <td>0</td>\n",
              "      <td>0</td>\n",
              "      <td>0</td>\n",
              "      <td>0</td>\n",
              "      <td>0</td>\n",
              "      <td>0</td>\n",
              "      <td>0</td>\n",
              "      <td>0</td>\n",
              "      <td>0</td>\n",
              "      <td>0</td>\n",
              "      <td>0</td>\n",
              "      <td>0</td>\n",
              "      <td>0</td>\n",
              "      <td>0</td>\n",
              "      <td>0</td>\n",
              "    </tr>\n",
              "    <tr>\n",
              "      <th>3</th>\n",
              "      <td>0</td>\n",
              "      <td>1</td>\n",
              "      <td>0</td>\n",
              "      <td>0</td>\n",
              "      <td>0</td>\n",
              "      <td>0</td>\n",
              "      <td>0</td>\n",
              "      <td>0</td>\n",
              "      <td>0</td>\n",
              "      <td>0</td>\n",
              "      <td>0</td>\n",
              "      <td>0</td>\n",
              "      <td>0</td>\n",
              "      <td>0</td>\n",
              "      <td>0</td>\n",
              "      <td>0</td>\n",
              "      <td>0</td>\n",
              "    </tr>\n",
              "    <tr>\n",
              "      <th>4</th>\n",
              "      <td>0</td>\n",
              "      <td>0</td>\n",
              "      <td>1</td>\n",
              "      <td>0</td>\n",
              "      <td>0</td>\n",
              "      <td>0</td>\n",
              "      <td>0</td>\n",
              "      <td>0</td>\n",
              "      <td>0</td>\n",
              "      <td>0</td>\n",
              "      <td>0</td>\n",
              "      <td>0</td>\n",
              "      <td>0</td>\n",
              "      <td>0</td>\n",
              "      <td>0</td>\n",
              "      <td>0</td>\n",
              "      <td>0</td>\n",
              "    </tr>\n",
              "  </tbody>\n",
              "</table>\n",
              "</div>\n",
              "    <div class=\"colab-df-buttons\">\n",
              "\n",
              "  <div class=\"colab-df-container\">\n",
              "    <button class=\"colab-df-convert\" onclick=\"convertToInteractive('df-d10b5232-7e08-49ae-b762-89ee3d085fae')\"\n",
              "            title=\"Convert this dataframe to an interactive table.\"\n",
              "            style=\"display:none;\">\n",
              "\n",
              "  <svg xmlns=\"http://www.w3.org/2000/svg\" height=\"24px\" viewBox=\"0 -960 960 960\">\n",
              "    <path d=\"M120-120v-720h720v720H120Zm60-500h600v-160H180v160Zm220 220h160v-160H400v160Zm0 220h160v-160H400v160ZM180-400h160v-160H180v160Zm440 0h160v-160H620v160ZM180-180h160v-160H180v160Zm440 0h160v-160H620v160Z\"/>\n",
              "  </svg>\n",
              "    </button>\n",
              "\n",
              "  <style>\n",
              "    .colab-df-container {\n",
              "      display:flex;\n",
              "      gap: 12px;\n",
              "    }\n",
              "\n",
              "    .colab-df-convert {\n",
              "      background-color: #E8F0FE;\n",
              "      border: none;\n",
              "      border-radius: 50%;\n",
              "      cursor: pointer;\n",
              "      display: none;\n",
              "      fill: #1967D2;\n",
              "      height: 32px;\n",
              "      padding: 0 0 0 0;\n",
              "      width: 32px;\n",
              "    }\n",
              "\n",
              "    .colab-df-convert:hover {\n",
              "      background-color: #E2EBFA;\n",
              "      box-shadow: 0px 1px 2px rgba(60, 64, 67, 0.3), 0px 1px 3px 1px rgba(60, 64, 67, 0.15);\n",
              "      fill: #174EA6;\n",
              "    }\n",
              "\n",
              "    .colab-df-buttons div {\n",
              "      margin-bottom: 4px;\n",
              "    }\n",
              "\n",
              "    [theme=dark] .colab-df-convert {\n",
              "      background-color: #3B4455;\n",
              "      fill: #D2E3FC;\n",
              "    }\n",
              "\n",
              "    [theme=dark] .colab-df-convert:hover {\n",
              "      background-color: #434B5C;\n",
              "      box-shadow: 0px 1px 3px 1px rgba(0, 0, 0, 0.15);\n",
              "      filter: drop-shadow(0px 1px 2px rgba(0, 0, 0, 0.3));\n",
              "      fill: #FFFFFF;\n",
              "    }\n",
              "  </style>\n",
              "\n",
              "    <script>\n",
              "      const buttonEl =\n",
              "        document.querySelector('#df-d10b5232-7e08-49ae-b762-89ee3d085fae button.colab-df-convert');\n",
              "      buttonEl.style.display =\n",
              "        google.colab.kernel.accessAllowed ? 'block' : 'none';\n",
              "\n",
              "      async function convertToInteractive(key) {\n",
              "        const element = document.querySelector('#df-d10b5232-7e08-49ae-b762-89ee3d085fae');\n",
              "        const dataTable =\n",
              "          await google.colab.kernel.invokeFunction('convertToInteractive',\n",
              "                                                    [key], {});\n",
              "        if (!dataTable) return;\n",
              "\n",
              "        const docLinkHtml = 'Like what you see? Visit the ' +\n",
              "          '<a target=\"_blank\" href=https://colab.research.google.com/notebooks/data_table.ipynb>data table notebook</a>'\n",
              "          + ' to learn more about interactive tables.';\n",
              "        element.innerHTML = '';\n",
              "        dataTable['output_type'] = 'display_data';\n",
              "        await google.colab.output.renderOutput(dataTable, element);\n",
              "        const docLink = document.createElement('div');\n",
              "        docLink.innerHTML = docLinkHtml;\n",
              "        element.appendChild(docLink);\n",
              "      }\n",
              "    </script>\n",
              "  </div>\n",
              "\n",
              "\n",
              "<div id=\"df-cefd28c1-12fc-4288-b425-4c8998caf1f0\">\n",
              "  <button class=\"colab-df-quickchart\" onclick=\"quickchart('df-cefd28c1-12fc-4288-b425-4c8998caf1f0')\"\n",
              "            title=\"Suggest charts\"\n",
              "            style=\"display:none;\">\n",
              "\n",
              "<svg xmlns=\"http://www.w3.org/2000/svg\" height=\"24px\"viewBox=\"0 0 24 24\"\n",
              "     width=\"24px\">\n",
              "    <g>\n",
              "        <path d=\"M19 3H5c-1.1 0-2 .9-2 2v14c0 1.1.9 2 2 2h14c1.1 0 2-.9 2-2V5c0-1.1-.9-2-2-2zM9 17H7v-7h2v7zm4 0h-2V7h2v10zm4 0h-2v-4h2v4z\"/>\n",
              "    </g>\n",
              "</svg>\n",
              "  </button>\n",
              "\n",
              "<style>\n",
              "  .colab-df-quickchart {\n",
              "      --bg-color: #E8F0FE;\n",
              "      --fill-color: #1967D2;\n",
              "      --hover-bg-color: #E2EBFA;\n",
              "      --hover-fill-color: #174EA6;\n",
              "      --disabled-fill-color: #AAA;\n",
              "      --disabled-bg-color: #DDD;\n",
              "  }\n",
              "\n",
              "  [theme=dark] .colab-df-quickchart {\n",
              "      --bg-color: #3B4455;\n",
              "      --fill-color: #D2E3FC;\n",
              "      --hover-bg-color: #434B5C;\n",
              "      --hover-fill-color: #FFFFFF;\n",
              "      --disabled-bg-color: #3B4455;\n",
              "      --disabled-fill-color: #666;\n",
              "  }\n",
              "\n",
              "  .colab-df-quickchart {\n",
              "    background-color: var(--bg-color);\n",
              "    border: none;\n",
              "    border-radius: 50%;\n",
              "    cursor: pointer;\n",
              "    display: none;\n",
              "    fill: var(--fill-color);\n",
              "    height: 32px;\n",
              "    padding: 0;\n",
              "    width: 32px;\n",
              "  }\n",
              "\n",
              "  .colab-df-quickchart:hover {\n",
              "    background-color: var(--hover-bg-color);\n",
              "    box-shadow: 0 1px 2px rgba(60, 64, 67, 0.3), 0 1px 3px 1px rgba(60, 64, 67, 0.15);\n",
              "    fill: var(--button-hover-fill-color);\n",
              "  }\n",
              "\n",
              "  .colab-df-quickchart-complete:disabled,\n",
              "  .colab-df-quickchart-complete:disabled:hover {\n",
              "    background-color: var(--disabled-bg-color);\n",
              "    fill: var(--disabled-fill-color);\n",
              "    box-shadow: none;\n",
              "  }\n",
              "\n",
              "  .colab-df-spinner {\n",
              "    border: 2px solid var(--fill-color);\n",
              "    border-color: transparent;\n",
              "    border-bottom-color: var(--fill-color);\n",
              "    animation:\n",
              "      spin 1s steps(1) infinite;\n",
              "  }\n",
              "\n",
              "  @keyframes spin {\n",
              "    0% {\n",
              "      border-color: transparent;\n",
              "      border-bottom-color: var(--fill-color);\n",
              "      border-left-color: var(--fill-color);\n",
              "    }\n",
              "    20% {\n",
              "      border-color: transparent;\n",
              "      border-left-color: var(--fill-color);\n",
              "      border-top-color: var(--fill-color);\n",
              "    }\n",
              "    30% {\n",
              "      border-color: transparent;\n",
              "      border-left-color: var(--fill-color);\n",
              "      border-top-color: var(--fill-color);\n",
              "      border-right-color: var(--fill-color);\n",
              "    }\n",
              "    40% {\n",
              "      border-color: transparent;\n",
              "      border-right-color: var(--fill-color);\n",
              "      border-top-color: var(--fill-color);\n",
              "    }\n",
              "    60% {\n",
              "      border-color: transparent;\n",
              "      border-right-color: var(--fill-color);\n",
              "    }\n",
              "    80% {\n",
              "      border-color: transparent;\n",
              "      border-right-color: var(--fill-color);\n",
              "      border-bottom-color: var(--fill-color);\n",
              "    }\n",
              "    90% {\n",
              "      border-color: transparent;\n",
              "      border-bottom-color: var(--fill-color);\n",
              "    }\n",
              "  }\n",
              "</style>\n",
              "\n",
              "  <script>\n",
              "    async function quickchart(key) {\n",
              "      const quickchartButtonEl =\n",
              "        document.querySelector('#' + key + ' button');\n",
              "      quickchartButtonEl.disabled = true;  // To prevent multiple clicks.\n",
              "      quickchartButtonEl.classList.add('colab-df-spinner');\n",
              "      try {\n",
              "        const charts = await google.colab.kernel.invokeFunction(\n",
              "            'suggestCharts', [key], {});\n",
              "      } catch (error) {\n",
              "        console.error('Error during call to suggestCharts:', error);\n",
              "      }\n",
              "      quickchartButtonEl.classList.remove('colab-df-spinner');\n",
              "      quickchartButtonEl.classList.add('colab-df-quickchart-complete');\n",
              "    }\n",
              "    (() => {\n",
              "      let quickchartButtonEl =\n",
              "        document.querySelector('#df-cefd28c1-12fc-4288-b425-4c8998caf1f0 button');\n",
              "      quickchartButtonEl.style.display =\n",
              "        google.colab.kernel.accessAllowed ? 'block' : 'none';\n",
              "    })();\n",
              "  </script>\n",
              "</div>\n",
              "    </div>\n",
              "  </div>\n"
            ],
            "application/vnd.google.colaboratory.intrinsic+json": {
              "type": "dataframe",
              "variable_name": "df_powód_zamachu_2023",
              "summary": "{\n  \"name\": \"df_pow\\u00f3d_zamachu_2023\",\n  \"rows\": 15136,\n  \"fields\": [\n    {\n      \"column\": \"Pow\\u00f3d_Finanse\",\n      \"properties\": {\n        \"dtype\": \"number\",\n        \"std\": 0,\n        \"min\": 0,\n        \"max\": 1,\n        \"num_unique_values\": 2,\n        \"samples\": [\n          1,\n          0\n        ],\n        \"semantic_type\": \"\",\n        \"description\": \"\"\n      }\n    },\n    {\n      \"column\": \"Pow\\u00f3d_Konflikty_rodzinne\",\n      \"properties\": {\n        \"dtype\": \"number\",\n        \"std\": 0,\n        \"min\": 0,\n        \"max\": 1,\n        \"num_unique_values\": 2,\n        \"samples\": [\n          0,\n          1\n        ],\n        \"semantic_type\": \"\",\n        \"description\": \"\"\n      }\n    },\n    {\n      \"column\": \"Pow\\u00f3d_Konflikty_inni\",\n      \"properties\": {\n        \"dtype\": \"number\",\n        \"std\": 0,\n        \"min\": 0,\n        \"max\": 1,\n        \"num_unique_values\": 2,\n        \"samples\": [\n          1,\n          0\n        ],\n        \"semantic_type\": \"\",\n        \"description\": \"\"\n      }\n    },\n    {\n      \"column\": \"Pow\\u00f3d_Ci\\u0105\\u017ca\",\n      \"properties\": {\n        \"dtype\": \"number\",\n        \"std\": 0,\n        \"min\": 0,\n        \"max\": 1,\n        \"num_unique_values\": 2,\n        \"samples\": [\n          1,\n          0\n        ],\n        \"semantic_type\": \"\",\n        \"description\": \"\"\n      }\n    },\n    {\n      \"column\": \"Pow\\u00f3d_Choroby_psych\",\n      \"properties\": {\n        \"dtype\": \"number\",\n        \"std\": 0,\n        \"min\": 0,\n        \"max\": 1,\n        \"num_unique_values\": 2,\n        \"samples\": [\n          1,\n          0\n        ],\n        \"semantic_type\": \"\",\n        \"description\": \"\"\n      }\n    },\n    {\n      \"column\": \"Pow\\u00f3d_Bezdomno\\u015b\\u0107\",\n      \"properties\": {\n        \"dtype\": \"number\",\n        \"std\": 0,\n        \"min\": 0,\n        \"max\": 1,\n        \"num_unique_values\": 2,\n        \"samples\": [\n          1,\n          0\n        ],\n        \"semantic_type\": \"\",\n        \"description\": \"\"\n      }\n    },\n    {\n      \"column\": \"Pow\\u00f3d_Mobbing\",\n      \"properties\": {\n        \"dtype\": \"number\",\n        \"std\": 0,\n        \"min\": 0,\n        \"max\": 1,\n        \"num_unique_values\": 2,\n        \"samples\": [\n          1,\n          0\n        ],\n        \"semantic_type\": \"\",\n        \"description\": \"\"\n      }\n    },\n    {\n      \"column\": \"Pow\\u00f3d_Mi\\u0142o\\u015b\\u0107\",\n      \"properties\": {\n        \"dtype\": \"number\",\n        \"std\": 0,\n        \"min\": 0,\n        \"max\": 1,\n        \"num_unique_values\": 2,\n        \"samples\": [\n          1,\n          0\n        ],\n        \"semantic_type\": \"\",\n        \"description\": \"\"\n      }\n    },\n    {\n      \"column\": \"Pow\\u00f3d_Inne\",\n      \"properties\": {\n        \"dtype\": \"number\",\n        \"std\": 0,\n        \"min\": 0,\n        \"max\": 1,\n        \"num_unique_values\": 2,\n        \"samples\": [\n          0,\n          1\n        ],\n        \"semantic_type\": \"\",\n        \"description\": \"\"\n      }\n    },\n    {\n      \"column\": \"Pow\\u00f3d_HIV/AIDS\",\n      \"properties\": {\n        \"dtype\": \"number\",\n        \"std\": 0,\n        \"min\": 0,\n        \"max\": 1,\n        \"num_unique_values\": 2,\n        \"samples\": [\n          1,\n          0\n        ],\n        \"semantic_type\": \"\",\n        \"description\": \"\"\n      }\n    },\n    {\n      \"column\": \"Pow\\u00f3d_Choroby_fiz\",\n      \"properties\": {\n        \"dtype\": \"number\",\n        \"std\": 0,\n        \"min\": 0,\n        \"max\": 1,\n        \"num_unique_values\": 2,\n        \"samples\": [\n          1,\n          0\n        ],\n        \"semantic_type\": \"\",\n        \"description\": \"\"\n      }\n    },\n    {\n      \"column\": \"Pow\\u00f3d_Przest\\u0119pstwa\",\n      \"properties\": {\n        \"dtype\": \"number\",\n        \"std\": 0,\n        \"min\": 0,\n        \"max\": 1,\n        \"num_unique_values\": 2,\n        \"samples\": [\n          1,\n          0\n        ],\n        \"semantic_type\": \"\",\n        \"description\": \"\"\n      }\n    },\n    {\n      \"column\": \"Pow\\u00f3d_Utrata_utrzymania\",\n      \"properties\": {\n        \"dtype\": \"number\",\n        \"std\": 0,\n        \"min\": 0,\n        \"max\": 1,\n        \"num_unique_values\": 2,\n        \"samples\": [\n          1,\n          0\n        ],\n        \"semantic_type\": \"\",\n        \"description\": \"\"\n      }\n    },\n    {\n      \"column\": \"Pow\\u00f3d_Zdrowie\",\n      \"properties\": {\n        \"dtype\": \"number\",\n        \"std\": 0,\n        \"min\": 0,\n        \"max\": 1,\n        \"num_unique_values\": 2,\n        \"samples\": [\n          1,\n          0\n        ],\n        \"semantic_type\": \"\",\n        \"description\": \"\"\n      }\n    },\n    {\n      \"column\": \"Pow\\u00f3d_Praca\",\n      \"properties\": {\n        \"dtype\": \"number\",\n        \"std\": 0,\n        \"min\": 0,\n        \"max\": 1,\n        \"num_unique_values\": 2,\n        \"samples\": [\n          1,\n          0\n        ],\n        \"semantic_type\": \"\",\n        \"description\": \"\"\n      }\n    },\n    {\n      \"column\": \"Pow\\u00f3d_\\u015amier\\u0107_bliskiego\",\n      \"properties\": {\n        \"dtype\": \"number\",\n        \"std\": 0,\n        \"min\": 0,\n        \"max\": 1,\n        \"num_unique_values\": 2,\n        \"samples\": [\n          1,\n          0\n        ],\n        \"semantic_type\": \"\",\n        \"description\": \"\"\n      }\n    },\n    {\n      \"column\": \"Pow\\u00f3d_Kalectwo\",\n      \"properties\": {\n        \"dtype\": \"number\",\n        \"std\": 0,\n        \"min\": 0,\n        \"max\": 1,\n        \"num_unique_values\": 2,\n        \"samples\": [\n          1,\n          0\n        ],\n        \"semantic_type\": \"\",\n        \"description\": \"\"\n      }\n    }\n  ]\n}"
            }
          },
          "metadata": {},
          "execution_count": 94
        }
      ]
    },
    {
      "cell_type": "markdown",
      "source": [
        "##Liczba_powodów_zamachu"
      ],
      "metadata": {
        "id": "xWs3vSsyIG_z"
      }
    },
    {
      "cell_type": "code",
      "source": [
        "df_raw_2023['L_powodów'] = df_powód_zamachu_2023.sum(axis=1)"
      ],
      "metadata": {
        "id": "XpeW4CqOIG_z"
      },
      "execution_count": 95,
      "outputs": []
    },
    {
      "cell_type": "code",
      "source": [
        "df_raw_2023.head(5)"
      ],
      "metadata": {
        "colab": {
          "base_uri": "https://localhost:8080/",
          "height": 347
        },
        "outputId": "fdc0d80f-29c9-4e20-f373-68562a0e4db6",
        "id": "qdOvzTpzIG_z"
      },
      "execution_count": 96,
      "outputs": [
        {
          "output_type": "execute_result",
          "data": {
            "text/plain": [
              "  ID_samobójcy     Data   Wiek Płeć       St_cyw Poz_edu   Inf_praca  \\\n",
              "0    138421942  01.2023  25-29    M  Partnerstwo     NaN  Bezrobotny   \n",
              "1    138421944  01.2023  55-59    M   Małżeństwo     NaN         NaN   \n",
              "2    138421949  01.2023  13-18    K    Samotność     NaN       Uczeń   \n",
              "3    138421953  01.2023  55-59    M   Małżeństwo     NaN         NaN   \n",
              "4    138421954  01.2023  19-24    K  Partnerstwo     NaN         NaN   \n",
              "\n",
              "  Utrzymanie  Sukces     Miejsce                           Klasa_miejscowości  \\\n",
              "0        NaN     0.0  Mieszkanie                                         Wieś   \n",
              "1        NaN     0.0  Mieszkanie    Miasto o liczbie ludności 20 000 – 49 999   \n",
              "2    Zależny     0.0  Mieszkanie                                         Wieś   \n",
              "3        NaN     0.0  Mieszkanie          Miasto o liczbie ludności do 19 999   \n",
              "4        NaN     0.0  Mieszkanie  Miasto o liczbie ludności 100 000 – 499 999   \n",
              "\n",
              "            Sposób     Stan Informacje_dotyczące_stanu_zdrowia_* Leczenie  \\\n",
              "0  Samookaleczenie     Alko              Brak danych/nieustalono      NaN   \n",
              "1      Powieszenie      NaN              Brak danych/nieustalono      NaN   \n",
              "2        Inne_leki  Trzeźwy              Brak danych/nieustalono      NaN   \n",
              "3  Samookaleczenie     Alko                Nadużywał(a) alkoholu      NaN   \n",
              "4        Inne_leki     Alko                Nadużywał(a) alkoholu      NaN   \n",
              "\n",
              "  W_ciągu_ostatniego_miesiąca_sprawca_zdarzenia_miał_przynajmniej_jeden_raz_kontakt_z_*  \\\n",
              "0                          Brak możliwości ustalenia                                      \n",
              "1                          Brak możliwości ustalenia                                      \n",
              "2                                 Placówką leczniczą                                      \n",
              "3                          Brak możliwości ustalenia                                      \n",
              "4                          Brak możliwości ustalenia                                      \n",
              "\n",
              "  Data_rok Data_miesiąc  L_powodów  \n",
              "0     2023           01          2  \n",
              "1     2023           01          0  \n",
              "2     2023           01          1  \n",
              "3     2023           01          1  \n",
              "4     2023           01          1  "
            ],
            "text/html": [
              "\n",
              "  <div id=\"df-2b0cf71b-823f-4f23-80eb-8a5158728a27\" class=\"colab-df-container\">\n",
              "    <div>\n",
              "<style scoped>\n",
              "    .dataframe tbody tr th:only-of-type {\n",
              "        vertical-align: middle;\n",
              "    }\n",
              "\n",
              "    .dataframe tbody tr th {\n",
              "        vertical-align: top;\n",
              "    }\n",
              "\n",
              "    .dataframe thead th {\n",
              "        text-align: right;\n",
              "    }\n",
              "</style>\n",
              "<table border=\"1\" class=\"dataframe\">\n",
              "  <thead>\n",
              "    <tr style=\"text-align: right;\">\n",
              "      <th></th>\n",
              "      <th>ID_samobójcy</th>\n",
              "      <th>Data</th>\n",
              "      <th>Wiek</th>\n",
              "      <th>Płeć</th>\n",
              "      <th>St_cyw</th>\n",
              "      <th>Poz_edu</th>\n",
              "      <th>Inf_praca</th>\n",
              "      <th>Utrzymanie</th>\n",
              "      <th>Sukces</th>\n",
              "      <th>Miejsce</th>\n",
              "      <th>Klasa_miejscowości</th>\n",
              "      <th>Sposób</th>\n",
              "      <th>Stan</th>\n",
              "      <th>Informacje_dotyczące_stanu_zdrowia_*</th>\n",
              "      <th>Leczenie</th>\n",
              "      <th>W_ciągu_ostatniego_miesiąca_sprawca_zdarzenia_miał_przynajmniej_jeden_raz_kontakt_z_*</th>\n",
              "      <th>Data_rok</th>\n",
              "      <th>Data_miesiąc</th>\n",
              "      <th>L_powodów</th>\n",
              "    </tr>\n",
              "  </thead>\n",
              "  <tbody>\n",
              "    <tr>\n",
              "      <th>0</th>\n",
              "      <td>138421942</td>\n",
              "      <td>01.2023</td>\n",
              "      <td>25-29</td>\n",
              "      <td>M</td>\n",
              "      <td>Partnerstwo</td>\n",
              "      <td>NaN</td>\n",
              "      <td>Bezrobotny</td>\n",
              "      <td>NaN</td>\n",
              "      <td>0.0</td>\n",
              "      <td>Mieszkanie</td>\n",
              "      <td>Wieś</td>\n",
              "      <td>Samookaleczenie</td>\n",
              "      <td>Alko</td>\n",
              "      <td>Brak danych/nieustalono</td>\n",
              "      <td>NaN</td>\n",
              "      <td>Brak możliwości ustalenia</td>\n",
              "      <td>2023</td>\n",
              "      <td>01</td>\n",
              "      <td>2</td>\n",
              "    </tr>\n",
              "    <tr>\n",
              "      <th>1</th>\n",
              "      <td>138421944</td>\n",
              "      <td>01.2023</td>\n",
              "      <td>55-59</td>\n",
              "      <td>M</td>\n",
              "      <td>Małżeństwo</td>\n",
              "      <td>NaN</td>\n",
              "      <td>NaN</td>\n",
              "      <td>NaN</td>\n",
              "      <td>0.0</td>\n",
              "      <td>Mieszkanie</td>\n",
              "      <td>Miasto o liczbie ludności 20 000 – 49 999</td>\n",
              "      <td>Powieszenie</td>\n",
              "      <td>NaN</td>\n",
              "      <td>Brak danych/nieustalono</td>\n",
              "      <td>NaN</td>\n",
              "      <td>Brak możliwości ustalenia</td>\n",
              "      <td>2023</td>\n",
              "      <td>01</td>\n",
              "      <td>0</td>\n",
              "    </tr>\n",
              "    <tr>\n",
              "      <th>2</th>\n",
              "      <td>138421949</td>\n",
              "      <td>01.2023</td>\n",
              "      <td>13-18</td>\n",
              "      <td>K</td>\n",
              "      <td>Samotność</td>\n",
              "      <td>NaN</td>\n",
              "      <td>Uczeń</td>\n",
              "      <td>Zależny</td>\n",
              "      <td>0.0</td>\n",
              "      <td>Mieszkanie</td>\n",
              "      <td>Wieś</td>\n",
              "      <td>Inne_leki</td>\n",
              "      <td>Trzeźwy</td>\n",
              "      <td>Brak danych/nieustalono</td>\n",
              "      <td>NaN</td>\n",
              "      <td>Placówką leczniczą</td>\n",
              "      <td>2023</td>\n",
              "      <td>01</td>\n",
              "      <td>1</td>\n",
              "    </tr>\n",
              "    <tr>\n",
              "      <th>3</th>\n",
              "      <td>138421953</td>\n",
              "      <td>01.2023</td>\n",
              "      <td>55-59</td>\n",
              "      <td>M</td>\n",
              "      <td>Małżeństwo</td>\n",
              "      <td>NaN</td>\n",
              "      <td>NaN</td>\n",
              "      <td>NaN</td>\n",
              "      <td>0.0</td>\n",
              "      <td>Mieszkanie</td>\n",
              "      <td>Miasto o liczbie ludności do 19 999</td>\n",
              "      <td>Samookaleczenie</td>\n",
              "      <td>Alko</td>\n",
              "      <td>Nadużywał(a) alkoholu</td>\n",
              "      <td>NaN</td>\n",
              "      <td>Brak możliwości ustalenia</td>\n",
              "      <td>2023</td>\n",
              "      <td>01</td>\n",
              "      <td>1</td>\n",
              "    </tr>\n",
              "    <tr>\n",
              "      <th>4</th>\n",
              "      <td>138421954</td>\n",
              "      <td>01.2023</td>\n",
              "      <td>19-24</td>\n",
              "      <td>K</td>\n",
              "      <td>Partnerstwo</td>\n",
              "      <td>NaN</td>\n",
              "      <td>NaN</td>\n",
              "      <td>NaN</td>\n",
              "      <td>0.0</td>\n",
              "      <td>Mieszkanie</td>\n",
              "      <td>Miasto o liczbie ludności 100 000 – 499 999</td>\n",
              "      <td>Inne_leki</td>\n",
              "      <td>Alko</td>\n",
              "      <td>Nadużywał(a) alkoholu</td>\n",
              "      <td>NaN</td>\n",
              "      <td>Brak możliwości ustalenia</td>\n",
              "      <td>2023</td>\n",
              "      <td>01</td>\n",
              "      <td>1</td>\n",
              "    </tr>\n",
              "  </tbody>\n",
              "</table>\n",
              "</div>\n",
              "    <div class=\"colab-df-buttons\">\n",
              "\n",
              "  <div class=\"colab-df-container\">\n",
              "    <button class=\"colab-df-convert\" onclick=\"convertToInteractive('df-2b0cf71b-823f-4f23-80eb-8a5158728a27')\"\n",
              "            title=\"Convert this dataframe to an interactive table.\"\n",
              "            style=\"display:none;\">\n",
              "\n",
              "  <svg xmlns=\"http://www.w3.org/2000/svg\" height=\"24px\" viewBox=\"0 -960 960 960\">\n",
              "    <path d=\"M120-120v-720h720v720H120Zm60-500h600v-160H180v160Zm220 220h160v-160H400v160Zm0 220h160v-160H400v160ZM180-400h160v-160H180v160Zm440 0h160v-160H620v160ZM180-180h160v-160H180v160Zm440 0h160v-160H620v160Z\"/>\n",
              "  </svg>\n",
              "    </button>\n",
              "\n",
              "  <style>\n",
              "    .colab-df-container {\n",
              "      display:flex;\n",
              "      gap: 12px;\n",
              "    }\n",
              "\n",
              "    .colab-df-convert {\n",
              "      background-color: #E8F0FE;\n",
              "      border: none;\n",
              "      border-radius: 50%;\n",
              "      cursor: pointer;\n",
              "      display: none;\n",
              "      fill: #1967D2;\n",
              "      height: 32px;\n",
              "      padding: 0 0 0 0;\n",
              "      width: 32px;\n",
              "    }\n",
              "\n",
              "    .colab-df-convert:hover {\n",
              "      background-color: #E2EBFA;\n",
              "      box-shadow: 0px 1px 2px rgba(60, 64, 67, 0.3), 0px 1px 3px 1px rgba(60, 64, 67, 0.15);\n",
              "      fill: #174EA6;\n",
              "    }\n",
              "\n",
              "    .colab-df-buttons div {\n",
              "      margin-bottom: 4px;\n",
              "    }\n",
              "\n",
              "    [theme=dark] .colab-df-convert {\n",
              "      background-color: #3B4455;\n",
              "      fill: #D2E3FC;\n",
              "    }\n",
              "\n",
              "    [theme=dark] .colab-df-convert:hover {\n",
              "      background-color: #434B5C;\n",
              "      box-shadow: 0px 1px 3px 1px rgba(0, 0, 0, 0.15);\n",
              "      filter: drop-shadow(0px 1px 2px rgba(0, 0, 0, 0.3));\n",
              "      fill: #FFFFFF;\n",
              "    }\n",
              "  </style>\n",
              "\n",
              "    <script>\n",
              "      const buttonEl =\n",
              "        document.querySelector('#df-2b0cf71b-823f-4f23-80eb-8a5158728a27 button.colab-df-convert');\n",
              "      buttonEl.style.display =\n",
              "        google.colab.kernel.accessAllowed ? 'block' : 'none';\n",
              "\n",
              "      async function convertToInteractive(key) {\n",
              "        const element = document.querySelector('#df-2b0cf71b-823f-4f23-80eb-8a5158728a27');\n",
              "        const dataTable =\n",
              "          await google.colab.kernel.invokeFunction('convertToInteractive',\n",
              "                                                    [key], {});\n",
              "        if (!dataTable) return;\n",
              "\n",
              "        const docLinkHtml = 'Like what you see? Visit the ' +\n",
              "          '<a target=\"_blank\" href=https://colab.research.google.com/notebooks/data_table.ipynb>data table notebook</a>'\n",
              "          + ' to learn more about interactive tables.';\n",
              "        element.innerHTML = '';\n",
              "        dataTable['output_type'] = 'display_data';\n",
              "        await google.colab.output.renderOutput(dataTable, element);\n",
              "        const docLink = document.createElement('div');\n",
              "        docLink.innerHTML = docLinkHtml;\n",
              "        element.appendChild(docLink);\n",
              "      }\n",
              "    </script>\n",
              "  </div>\n",
              "\n",
              "\n",
              "<div id=\"df-4fdaa699-ac38-42fd-b5d8-ef46c3aed2d8\">\n",
              "  <button class=\"colab-df-quickchart\" onclick=\"quickchart('df-4fdaa699-ac38-42fd-b5d8-ef46c3aed2d8')\"\n",
              "            title=\"Suggest charts\"\n",
              "            style=\"display:none;\">\n",
              "\n",
              "<svg xmlns=\"http://www.w3.org/2000/svg\" height=\"24px\"viewBox=\"0 0 24 24\"\n",
              "     width=\"24px\">\n",
              "    <g>\n",
              "        <path d=\"M19 3H5c-1.1 0-2 .9-2 2v14c0 1.1.9 2 2 2h14c1.1 0 2-.9 2-2V5c0-1.1-.9-2-2-2zM9 17H7v-7h2v7zm4 0h-2V7h2v10zm4 0h-2v-4h2v4z\"/>\n",
              "    </g>\n",
              "</svg>\n",
              "  </button>\n",
              "\n",
              "<style>\n",
              "  .colab-df-quickchart {\n",
              "      --bg-color: #E8F0FE;\n",
              "      --fill-color: #1967D2;\n",
              "      --hover-bg-color: #E2EBFA;\n",
              "      --hover-fill-color: #174EA6;\n",
              "      --disabled-fill-color: #AAA;\n",
              "      --disabled-bg-color: #DDD;\n",
              "  }\n",
              "\n",
              "  [theme=dark] .colab-df-quickchart {\n",
              "      --bg-color: #3B4455;\n",
              "      --fill-color: #D2E3FC;\n",
              "      --hover-bg-color: #434B5C;\n",
              "      --hover-fill-color: #FFFFFF;\n",
              "      --disabled-bg-color: #3B4455;\n",
              "      --disabled-fill-color: #666;\n",
              "  }\n",
              "\n",
              "  .colab-df-quickchart {\n",
              "    background-color: var(--bg-color);\n",
              "    border: none;\n",
              "    border-radius: 50%;\n",
              "    cursor: pointer;\n",
              "    display: none;\n",
              "    fill: var(--fill-color);\n",
              "    height: 32px;\n",
              "    padding: 0;\n",
              "    width: 32px;\n",
              "  }\n",
              "\n",
              "  .colab-df-quickchart:hover {\n",
              "    background-color: var(--hover-bg-color);\n",
              "    box-shadow: 0 1px 2px rgba(60, 64, 67, 0.3), 0 1px 3px 1px rgba(60, 64, 67, 0.15);\n",
              "    fill: var(--button-hover-fill-color);\n",
              "  }\n",
              "\n",
              "  .colab-df-quickchart-complete:disabled,\n",
              "  .colab-df-quickchart-complete:disabled:hover {\n",
              "    background-color: var(--disabled-bg-color);\n",
              "    fill: var(--disabled-fill-color);\n",
              "    box-shadow: none;\n",
              "  }\n",
              "\n",
              "  .colab-df-spinner {\n",
              "    border: 2px solid var(--fill-color);\n",
              "    border-color: transparent;\n",
              "    border-bottom-color: var(--fill-color);\n",
              "    animation:\n",
              "      spin 1s steps(1) infinite;\n",
              "  }\n",
              "\n",
              "  @keyframes spin {\n",
              "    0% {\n",
              "      border-color: transparent;\n",
              "      border-bottom-color: var(--fill-color);\n",
              "      border-left-color: var(--fill-color);\n",
              "    }\n",
              "    20% {\n",
              "      border-color: transparent;\n",
              "      border-left-color: var(--fill-color);\n",
              "      border-top-color: var(--fill-color);\n",
              "    }\n",
              "    30% {\n",
              "      border-color: transparent;\n",
              "      border-left-color: var(--fill-color);\n",
              "      border-top-color: var(--fill-color);\n",
              "      border-right-color: var(--fill-color);\n",
              "    }\n",
              "    40% {\n",
              "      border-color: transparent;\n",
              "      border-right-color: var(--fill-color);\n",
              "      border-top-color: var(--fill-color);\n",
              "    }\n",
              "    60% {\n",
              "      border-color: transparent;\n",
              "      border-right-color: var(--fill-color);\n",
              "    }\n",
              "    80% {\n",
              "      border-color: transparent;\n",
              "      border-right-color: var(--fill-color);\n",
              "      border-bottom-color: var(--fill-color);\n",
              "    }\n",
              "    90% {\n",
              "      border-color: transparent;\n",
              "      border-bottom-color: var(--fill-color);\n",
              "    }\n",
              "  }\n",
              "</style>\n",
              "\n",
              "  <script>\n",
              "    async function quickchart(key) {\n",
              "      const quickchartButtonEl =\n",
              "        document.querySelector('#' + key + ' button');\n",
              "      quickchartButtonEl.disabled = true;  // To prevent multiple clicks.\n",
              "      quickchartButtonEl.classList.add('colab-df-spinner');\n",
              "      try {\n",
              "        const charts = await google.colab.kernel.invokeFunction(\n",
              "            'suggestCharts', [key], {});\n",
              "      } catch (error) {\n",
              "        console.error('Error during call to suggestCharts:', error);\n",
              "      }\n",
              "      quickchartButtonEl.classList.remove('colab-df-spinner');\n",
              "      quickchartButtonEl.classList.add('colab-df-quickchart-complete');\n",
              "    }\n",
              "    (() => {\n",
              "      let quickchartButtonEl =\n",
              "        document.querySelector('#df-4fdaa699-ac38-42fd-b5d8-ef46c3aed2d8 button');\n",
              "      quickchartButtonEl.style.display =\n",
              "        google.colab.kernel.accessAllowed ? 'block' : 'none';\n",
              "    })();\n",
              "  </script>\n",
              "</div>\n",
              "    </div>\n",
              "  </div>\n"
            ],
            "application/vnd.google.colaboratory.intrinsic+json": {
              "type": "dataframe",
              "variable_name": "df_raw_2023",
              "summary": "{\n  \"name\": \"df_raw_2023\",\n  \"rows\": 15136,\n  \"fields\": [\n    {\n      \"column\": \"ID_samob\\u00f3jcy\",\n      \"properties\": {\n        \"dtype\": \"string\",\n        \"num_unique_values\": 15134,\n        \"samples\": [\n          138537735,\n          139320393,\n          139252885\n        ],\n        \"semantic_type\": \"\",\n        \"description\": \"\"\n      }\n    },\n    {\n      \"column\": \"Data\",\n      \"properties\": {\n        \"dtype\": \"category\",\n        \"num_unique_values\": 12,\n        \"samples\": [\n          \"11.2023\",\n          \"10.2023\",\n          \"01.2023\"\n        ],\n        \"semantic_type\": \"\",\n        \"description\": \"\"\n      }\n    },\n    {\n      \"column\": \"Wiek\",\n      \"properties\": {\n        \"dtype\": \"category\",\n        \"num_unique_values\": 17,\n        \"samples\": [\n          \"25-29\",\n          \"55-59\",\n          \"50-54\"\n        ],\n        \"semantic_type\": \"\",\n        \"description\": \"\"\n      }\n    },\n    {\n      \"column\": \"P\\u0142e\\u0107\",\n      \"properties\": {\n        \"dtype\": \"category\",\n        \"num_unique_values\": 2,\n        \"samples\": [\n          \"K\",\n          \"M\"\n        ],\n        \"semantic_type\": \"\",\n        \"description\": \"\"\n      }\n    },\n    {\n      \"column\": \"St_cyw\",\n      \"properties\": {\n        \"dtype\": \"category\",\n        \"num_unique_values\": 6,\n        \"samples\": [\n          \"Partnerstwo\",\n          \"Ma\\u0142\\u017ce\\u0144stwo\"\n        ],\n        \"semantic_type\": \"\",\n        \"description\": \"\"\n      }\n    },\n    {\n      \"column\": \"Poz_edu\",\n      \"properties\": {\n        \"dtype\": \"category\",\n        \"num_unique_values\": 7,\n        \"samples\": [\n          \"Podst\",\n          \"\\u015arednie\"\n        ],\n        \"semantic_type\": \"\",\n        \"description\": \"\"\n      }\n    },\n    {\n      \"column\": \"Inf_praca\",\n      \"properties\": {\n        \"dtype\": \"category\",\n        \"num_unique_values\": 5,\n        \"samples\": [\n          \"Ucze\\u0144\",\n          \"W\\u0142asna\"\n        ],\n        \"semantic_type\": \"\",\n        \"description\": \"\"\n      }\n    },\n    {\n      \"column\": \"Utrzymanie\",\n      \"properties\": {\n        \"dtype\": \"category\",\n        \"num_unique_values\": 4,\n        \"samples\": [\n          \"Praca\",\n          \"Bez_dochodu\"\n        ],\n        \"semantic_type\": \"\",\n        \"description\": \"\"\n      }\n    },\n    {\n      \"column\": \"Sukces\",\n      \"properties\": {\n        \"dtype\": \"number\",\n        \"std\": 0.4756294647878996,\n        \"min\": 0.0,\n        \"max\": 1.0,\n        \"num_unique_values\": 2,\n        \"samples\": [\n          1.0,\n          0.0\n        ],\n        \"semantic_type\": \"\",\n        \"description\": \"\"\n      }\n    },\n    {\n      \"column\": \"Miejsce\",\n      \"properties\": {\n        \"dtype\": \"category\",\n        \"num_unique_values\": 15,\n        \"samples\": [\n          \"Praca\",\n          \"Lecznica\"\n        ],\n        \"semantic_type\": \"\",\n        \"description\": \"\"\n      }\n    },\n    {\n      \"column\": \"Klasa_miejscowo\\u015bci\",\n      \"properties\": {\n        \"dtype\": \"category\",\n        \"num_unique_values\": 7,\n        \"samples\": [\n          \"Wie\\u015b\",\n          \"Miasto o liczbie ludno\\u015bci 20 000 \\u2013 49 999\"\n        ],\n        \"semantic_type\": \"\",\n        \"description\": \"\"\n      }\n    },\n    {\n      \"column\": \"Spos\\u00f3b\",\n      \"properties\": {\n        \"dtype\": \"category\",\n        \"num_unique_values\": 16,\n        \"samples\": [\n          \"Samookaleczenie\",\n          \"Powieszenie\"\n        ],\n        \"semantic_type\": \"\",\n        \"description\": \"\"\n      }\n    },\n    {\n      \"column\": \"Stan\",\n      \"properties\": {\n        \"dtype\": \"category\",\n        \"num_unique_values\": 10,\n        \"samples\": [\n          \"Alko+dopa\",\n          \"Trze\\u017awy\"\n        ],\n        \"semantic_type\": \"\",\n        \"description\": \"\"\n      }\n    },\n    {\n      \"column\": \"Informacje_dotycz\\u0105ce_stanu_zdrowia_*\",\n      \"properties\": {\n        \"dtype\": \"category\",\n        \"num_unique_values\": 19,\n        \"samples\": [\n          \"Brak danych/nieustalono\",\n          \"Trwa\\u0142e kalectwo\"\n        ],\n        \"semantic_type\": \"\",\n        \"description\": \"\"\n      }\n    },\n    {\n      \"column\": \"Leczenie\",\n      \"properties\": {\n        \"dtype\": \"category\",\n        \"num_unique_values\": 3,\n        \"samples\": [\n          \"Alko\",\n          \"Narko\"\n        ],\n        \"semantic_type\": \"\",\n        \"description\": \"\"\n      }\n    },\n    {\n      \"column\": \"W_ci\\u0105gu_ostatniego_miesi\\u0105ca_sprawca_zdarzenia_mia\\u0142_przynajmniej_jeden_raz_kontakt_z_*\",\n      \"properties\": {\n        \"dtype\": \"category\",\n        \"num_unique_values\": 7,\n        \"samples\": [\n          \"Brak mo\\u017cliwo\\u015bci ustalenia\",\n          \"Plac\\u00f3wk\\u0105 lecznicz\\u0105\"\n        ],\n        \"semantic_type\": \"\",\n        \"description\": \"\"\n      }\n    },\n    {\n      \"column\": \"Data_rok\",\n      \"properties\": {\n        \"dtype\": \"object\",\n        \"num_unique_values\": 1,\n        \"samples\": [\n          \"2023\"\n        ],\n        \"semantic_type\": \"\",\n        \"description\": \"\"\n      }\n    },\n    {\n      \"column\": \"Data_miesi\\u0105c\",\n      \"properties\": {\n        \"dtype\": \"category\",\n        \"num_unique_values\": 12,\n        \"samples\": [\n          \"11\"\n        ],\n        \"semantic_type\": \"\",\n        \"description\": \"\"\n      }\n    },\n    {\n      \"column\": \"L_powod\\u00f3w\",\n      \"properties\": {\n        \"dtype\": \"number\",\n        \"std\": 0,\n        \"min\": 0,\n        \"max\": 4,\n        \"num_unique_values\": 5,\n        \"samples\": [\n          0\n        ],\n        \"semantic_type\": \"\",\n        \"description\": \"\"\n      }\n    }\n  ]\n}"
            }
          },
          "metadata": {},
          "execution_count": 96
        }
      ]
    },
    {
      "cell_type": "markdown",
      "source": [
        "# 2013_2022"
      ],
      "metadata": {
        "id": "FQACGwJoHX3N"
      }
    },
    {
      "cell_type": "code",
      "source": [
        "df_raw_2013_2022 = pd.read_csv('https://raw.githubusercontent.com/Hubert26/suicides_IPPAN/main/data/final_samobojstwa_2013_2022.csv', delimiter=',', low_memory=False)"
      ],
      "metadata": {
        "id": "6tkdlq4U9IiR"
      },
      "execution_count": 97,
      "outputs": []
    },
    {
      "cell_type": "code",
      "source": [
        "df_raw_2013_2022.head(5)"
      ],
      "metadata": {
        "colab": {
          "base_uri": "https://localhost:8080/",
          "height": 278
        },
        "id": "I82sDdsenwpk",
        "outputId": "4b0cf403-82b0-45c7-cdc2-6a355e9226e5"
      },
      "execution_count": 98,
      "outputs": [
        {
          "output_type": "execute_result",
          "data": {
            "text/plain": [
              "   ID samobójcy Data raportu [RRRRMM]  Przedział wiekowy  Płeć  Stan cywilny  \\\n",
              "0  114581552,00                201301                  0     2             0   \n",
              "1  114584284,00                201301                  2     2             0   \n",
              "2  114584293,00                201301                  2     1             1   \n",
              "3  114584312,00                201301                  3     2             1   \n",
              "4  114584399,00                201301                  7     2             1   \n",
              "\n",
              "   Wykształcenie  Informacje o pracy i nauce  Źródło utrzymania  \\\n",
              "0              0                           0                  0   \n",
              "1              0                           1                  0   \n",
              "2              2                           1                  1   \n",
              "3              0                           0                  0   \n",
              "4              0                           9                  0   \n",
              "\n",
              "   Czy samobójstwo zakończyło się zgonem  Miejsce zamachu  Sposób popełnienia  \\\n",
              "0                                      0                0                   0   \n",
              "1                                      1                1                   1   \n",
              "2                                      1               15                   2   \n",
              "3                                      1                0                  18   \n",
              "4                                      1                2                   3   \n",
              "\n",
              "   Powód zamachu Powód zamachu 2  Powód zamachu 3  Powód zamachu 4  \\\n",
              "0              0             NaN              NaN              NaN   \n",
              "1              0             NaN              NaN              NaN   \n",
              "2              0             NaN              NaN              NaN   \n",
              "3              1             NaN              NaN              NaN   \n",
              "4              0             NaN              NaN              NaN   \n",
              "\n",
              "   Stan świadomości  Informacje o używaniu substancji  \\\n",
              "0                 0                                 0   \n",
              "1                 0                                 0   \n",
              "2                 0                                 0   \n",
              "3                 0                                 0   \n",
              "4                 2                                 0   \n",
              "\n",
              "   Informacje dotyczące leczenia z powodu alkoholizmu/narkomanii  \n",
              "0                                                  0              \n",
              "1                                                  0              \n",
              "2                                                  0              \n",
              "3                                                  0              \n",
              "4                                                  0              "
            ],
            "text/html": [
              "\n",
              "  <div id=\"df-620a7dbf-78a8-4e76-9890-7afa2af47a7f\" class=\"colab-df-container\">\n",
              "    <div>\n",
              "<style scoped>\n",
              "    .dataframe tbody tr th:only-of-type {\n",
              "        vertical-align: middle;\n",
              "    }\n",
              "\n",
              "    .dataframe tbody tr th {\n",
              "        vertical-align: top;\n",
              "    }\n",
              "\n",
              "    .dataframe thead th {\n",
              "        text-align: right;\n",
              "    }\n",
              "</style>\n",
              "<table border=\"1\" class=\"dataframe\">\n",
              "  <thead>\n",
              "    <tr style=\"text-align: right;\">\n",
              "      <th></th>\n",
              "      <th>ID samobójcy</th>\n",
              "      <th>Data raportu [RRRRMM]</th>\n",
              "      <th>Przedział wiekowy</th>\n",
              "      <th>Płeć</th>\n",
              "      <th>Stan cywilny</th>\n",
              "      <th>Wykształcenie</th>\n",
              "      <th>Informacje o pracy i nauce</th>\n",
              "      <th>Źródło utrzymania</th>\n",
              "      <th>Czy samobójstwo zakończyło się zgonem</th>\n",
              "      <th>Miejsce zamachu</th>\n",
              "      <th>Sposób popełnienia</th>\n",
              "      <th>Powód zamachu</th>\n",
              "      <th>Powód zamachu 2</th>\n",
              "      <th>Powód zamachu 3</th>\n",
              "      <th>Powód zamachu 4</th>\n",
              "      <th>Stan świadomości</th>\n",
              "      <th>Informacje o używaniu substancji</th>\n",
              "      <th>Informacje dotyczące leczenia z powodu alkoholizmu/narkomanii</th>\n",
              "    </tr>\n",
              "  </thead>\n",
              "  <tbody>\n",
              "    <tr>\n",
              "      <th>0</th>\n",
              "      <td>114581552,00</td>\n",
              "      <td>201301</td>\n",
              "      <td>0</td>\n",
              "      <td>2</td>\n",
              "      <td>0</td>\n",
              "      <td>0</td>\n",
              "      <td>0</td>\n",
              "      <td>0</td>\n",
              "      <td>0</td>\n",
              "      <td>0</td>\n",
              "      <td>0</td>\n",
              "      <td>0</td>\n",
              "      <td>NaN</td>\n",
              "      <td>NaN</td>\n",
              "      <td>NaN</td>\n",
              "      <td>0</td>\n",
              "      <td>0</td>\n",
              "      <td>0</td>\n",
              "    </tr>\n",
              "    <tr>\n",
              "      <th>1</th>\n",
              "      <td>114584284,00</td>\n",
              "      <td>201301</td>\n",
              "      <td>2</td>\n",
              "      <td>2</td>\n",
              "      <td>0</td>\n",
              "      <td>0</td>\n",
              "      <td>1</td>\n",
              "      <td>0</td>\n",
              "      <td>1</td>\n",
              "      <td>1</td>\n",
              "      <td>1</td>\n",
              "      <td>0</td>\n",
              "      <td>NaN</td>\n",
              "      <td>NaN</td>\n",
              "      <td>NaN</td>\n",
              "      <td>0</td>\n",
              "      <td>0</td>\n",
              "      <td>0</td>\n",
              "    </tr>\n",
              "    <tr>\n",
              "      <th>2</th>\n",
              "      <td>114584293,00</td>\n",
              "      <td>201301</td>\n",
              "      <td>2</td>\n",
              "      <td>1</td>\n",
              "      <td>1</td>\n",
              "      <td>2</td>\n",
              "      <td>1</td>\n",
              "      <td>1</td>\n",
              "      <td>1</td>\n",
              "      <td>15</td>\n",
              "      <td>2</td>\n",
              "      <td>0</td>\n",
              "      <td>NaN</td>\n",
              "      <td>NaN</td>\n",
              "      <td>NaN</td>\n",
              "      <td>0</td>\n",
              "      <td>0</td>\n",
              "      <td>0</td>\n",
              "    </tr>\n",
              "    <tr>\n",
              "      <th>3</th>\n",
              "      <td>114584312,00</td>\n",
              "      <td>201301</td>\n",
              "      <td>3</td>\n",
              "      <td>2</td>\n",
              "      <td>1</td>\n",
              "      <td>0</td>\n",
              "      <td>0</td>\n",
              "      <td>0</td>\n",
              "      <td>1</td>\n",
              "      <td>0</td>\n",
              "      <td>18</td>\n",
              "      <td>1</td>\n",
              "      <td>NaN</td>\n",
              "      <td>NaN</td>\n",
              "      <td>NaN</td>\n",
              "      <td>0</td>\n",
              "      <td>0</td>\n",
              "      <td>0</td>\n",
              "    </tr>\n",
              "    <tr>\n",
              "      <th>4</th>\n",
              "      <td>114584399,00</td>\n",
              "      <td>201301</td>\n",
              "      <td>7</td>\n",
              "      <td>2</td>\n",
              "      <td>1</td>\n",
              "      <td>0</td>\n",
              "      <td>9</td>\n",
              "      <td>0</td>\n",
              "      <td>1</td>\n",
              "      <td>2</td>\n",
              "      <td>3</td>\n",
              "      <td>0</td>\n",
              "      <td>NaN</td>\n",
              "      <td>NaN</td>\n",
              "      <td>NaN</td>\n",
              "      <td>2</td>\n",
              "      <td>0</td>\n",
              "      <td>0</td>\n",
              "    </tr>\n",
              "  </tbody>\n",
              "</table>\n",
              "</div>\n",
              "    <div class=\"colab-df-buttons\">\n",
              "\n",
              "  <div class=\"colab-df-container\">\n",
              "    <button class=\"colab-df-convert\" onclick=\"convertToInteractive('df-620a7dbf-78a8-4e76-9890-7afa2af47a7f')\"\n",
              "            title=\"Convert this dataframe to an interactive table.\"\n",
              "            style=\"display:none;\">\n",
              "\n",
              "  <svg xmlns=\"http://www.w3.org/2000/svg\" height=\"24px\" viewBox=\"0 -960 960 960\">\n",
              "    <path d=\"M120-120v-720h720v720H120Zm60-500h600v-160H180v160Zm220 220h160v-160H400v160Zm0 220h160v-160H400v160ZM180-400h160v-160H180v160Zm440 0h160v-160H620v160ZM180-180h160v-160H180v160Zm440 0h160v-160H620v160Z\"/>\n",
              "  </svg>\n",
              "    </button>\n",
              "\n",
              "  <style>\n",
              "    .colab-df-container {\n",
              "      display:flex;\n",
              "      gap: 12px;\n",
              "    }\n",
              "\n",
              "    .colab-df-convert {\n",
              "      background-color: #E8F0FE;\n",
              "      border: none;\n",
              "      border-radius: 50%;\n",
              "      cursor: pointer;\n",
              "      display: none;\n",
              "      fill: #1967D2;\n",
              "      height: 32px;\n",
              "      padding: 0 0 0 0;\n",
              "      width: 32px;\n",
              "    }\n",
              "\n",
              "    .colab-df-convert:hover {\n",
              "      background-color: #E2EBFA;\n",
              "      box-shadow: 0px 1px 2px rgba(60, 64, 67, 0.3), 0px 1px 3px 1px rgba(60, 64, 67, 0.15);\n",
              "      fill: #174EA6;\n",
              "    }\n",
              "\n",
              "    .colab-df-buttons div {\n",
              "      margin-bottom: 4px;\n",
              "    }\n",
              "\n",
              "    [theme=dark] .colab-df-convert {\n",
              "      background-color: #3B4455;\n",
              "      fill: #D2E3FC;\n",
              "    }\n",
              "\n",
              "    [theme=dark] .colab-df-convert:hover {\n",
              "      background-color: #434B5C;\n",
              "      box-shadow: 0px 1px 3px 1px rgba(0, 0, 0, 0.15);\n",
              "      filter: drop-shadow(0px 1px 2px rgba(0, 0, 0, 0.3));\n",
              "      fill: #FFFFFF;\n",
              "    }\n",
              "  </style>\n",
              "\n",
              "    <script>\n",
              "      const buttonEl =\n",
              "        document.querySelector('#df-620a7dbf-78a8-4e76-9890-7afa2af47a7f button.colab-df-convert');\n",
              "      buttonEl.style.display =\n",
              "        google.colab.kernel.accessAllowed ? 'block' : 'none';\n",
              "\n",
              "      async function convertToInteractive(key) {\n",
              "        const element = document.querySelector('#df-620a7dbf-78a8-4e76-9890-7afa2af47a7f');\n",
              "        const dataTable =\n",
              "          await google.colab.kernel.invokeFunction('convertToInteractive',\n",
              "                                                    [key], {});\n",
              "        if (!dataTable) return;\n",
              "\n",
              "        const docLinkHtml = 'Like what you see? Visit the ' +\n",
              "          '<a target=\"_blank\" href=https://colab.research.google.com/notebooks/data_table.ipynb>data table notebook</a>'\n",
              "          + ' to learn more about interactive tables.';\n",
              "        element.innerHTML = '';\n",
              "        dataTable['output_type'] = 'display_data';\n",
              "        await google.colab.output.renderOutput(dataTable, element);\n",
              "        const docLink = document.createElement('div');\n",
              "        docLink.innerHTML = docLinkHtml;\n",
              "        element.appendChild(docLink);\n",
              "      }\n",
              "    </script>\n",
              "  </div>\n",
              "\n",
              "\n",
              "<div id=\"df-5e0ae2b4-33ce-49b3-896e-7eb31cf74ec6\">\n",
              "  <button class=\"colab-df-quickchart\" onclick=\"quickchart('df-5e0ae2b4-33ce-49b3-896e-7eb31cf74ec6')\"\n",
              "            title=\"Suggest charts\"\n",
              "            style=\"display:none;\">\n",
              "\n",
              "<svg xmlns=\"http://www.w3.org/2000/svg\" height=\"24px\"viewBox=\"0 0 24 24\"\n",
              "     width=\"24px\">\n",
              "    <g>\n",
              "        <path d=\"M19 3H5c-1.1 0-2 .9-2 2v14c0 1.1.9 2 2 2h14c1.1 0 2-.9 2-2V5c0-1.1-.9-2-2-2zM9 17H7v-7h2v7zm4 0h-2V7h2v10zm4 0h-2v-4h2v4z\"/>\n",
              "    </g>\n",
              "</svg>\n",
              "  </button>\n",
              "\n",
              "<style>\n",
              "  .colab-df-quickchart {\n",
              "      --bg-color: #E8F0FE;\n",
              "      --fill-color: #1967D2;\n",
              "      --hover-bg-color: #E2EBFA;\n",
              "      --hover-fill-color: #174EA6;\n",
              "      --disabled-fill-color: #AAA;\n",
              "      --disabled-bg-color: #DDD;\n",
              "  }\n",
              "\n",
              "  [theme=dark] .colab-df-quickchart {\n",
              "      --bg-color: #3B4455;\n",
              "      --fill-color: #D2E3FC;\n",
              "      --hover-bg-color: #434B5C;\n",
              "      --hover-fill-color: #FFFFFF;\n",
              "      --disabled-bg-color: #3B4455;\n",
              "      --disabled-fill-color: #666;\n",
              "  }\n",
              "\n",
              "  .colab-df-quickchart {\n",
              "    background-color: var(--bg-color);\n",
              "    border: none;\n",
              "    border-radius: 50%;\n",
              "    cursor: pointer;\n",
              "    display: none;\n",
              "    fill: var(--fill-color);\n",
              "    height: 32px;\n",
              "    padding: 0;\n",
              "    width: 32px;\n",
              "  }\n",
              "\n",
              "  .colab-df-quickchart:hover {\n",
              "    background-color: var(--hover-bg-color);\n",
              "    box-shadow: 0 1px 2px rgba(60, 64, 67, 0.3), 0 1px 3px 1px rgba(60, 64, 67, 0.15);\n",
              "    fill: var(--button-hover-fill-color);\n",
              "  }\n",
              "\n",
              "  .colab-df-quickchart-complete:disabled,\n",
              "  .colab-df-quickchart-complete:disabled:hover {\n",
              "    background-color: var(--disabled-bg-color);\n",
              "    fill: var(--disabled-fill-color);\n",
              "    box-shadow: none;\n",
              "  }\n",
              "\n",
              "  .colab-df-spinner {\n",
              "    border: 2px solid var(--fill-color);\n",
              "    border-color: transparent;\n",
              "    border-bottom-color: var(--fill-color);\n",
              "    animation:\n",
              "      spin 1s steps(1) infinite;\n",
              "  }\n",
              "\n",
              "  @keyframes spin {\n",
              "    0% {\n",
              "      border-color: transparent;\n",
              "      border-bottom-color: var(--fill-color);\n",
              "      border-left-color: var(--fill-color);\n",
              "    }\n",
              "    20% {\n",
              "      border-color: transparent;\n",
              "      border-left-color: var(--fill-color);\n",
              "      border-top-color: var(--fill-color);\n",
              "    }\n",
              "    30% {\n",
              "      border-color: transparent;\n",
              "      border-left-color: var(--fill-color);\n",
              "      border-top-color: var(--fill-color);\n",
              "      border-right-color: var(--fill-color);\n",
              "    }\n",
              "    40% {\n",
              "      border-color: transparent;\n",
              "      border-right-color: var(--fill-color);\n",
              "      border-top-color: var(--fill-color);\n",
              "    }\n",
              "    60% {\n",
              "      border-color: transparent;\n",
              "      border-right-color: var(--fill-color);\n",
              "    }\n",
              "    80% {\n",
              "      border-color: transparent;\n",
              "      border-right-color: var(--fill-color);\n",
              "      border-bottom-color: var(--fill-color);\n",
              "    }\n",
              "    90% {\n",
              "      border-color: transparent;\n",
              "      border-bottom-color: var(--fill-color);\n",
              "    }\n",
              "  }\n",
              "</style>\n",
              "\n",
              "  <script>\n",
              "    async function quickchart(key) {\n",
              "      const quickchartButtonEl =\n",
              "        document.querySelector('#' + key + ' button');\n",
              "      quickchartButtonEl.disabled = true;  // To prevent multiple clicks.\n",
              "      quickchartButtonEl.classList.add('colab-df-spinner');\n",
              "      try {\n",
              "        const charts = await google.colab.kernel.invokeFunction(\n",
              "            'suggestCharts', [key], {});\n",
              "      } catch (error) {\n",
              "        console.error('Error during call to suggestCharts:', error);\n",
              "      }\n",
              "      quickchartButtonEl.classList.remove('colab-df-spinner');\n",
              "      quickchartButtonEl.classList.add('colab-df-quickchart-complete');\n",
              "    }\n",
              "    (() => {\n",
              "      let quickchartButtonEl =\n",
              "        document.querySelector('#df-5e0ae2b4-33ce-49b3-896e-7eb31cf74ec6 button');\n",
              "      quickchartButtonEl.style.display =\n",
              "        google.colab.kernel.accessAllowed ? 'block' : 'none';\n",
              "    })();\n",
              "  </script>\n",
              "</div>\n",
              "    </div>\n",
              "  </div>\n"
            ],
            "application/vnd.google.colaboratory.intrinsic+json": {
              "type": "dataframe",
              "variable_name": "df_raw_2013_2022"
            }
          },
          "metadata": {},
          "execution_count": 98
        }
      ]
    },
    {
      "cell_type": "markdown",
      "source": [
        "##Zamiana nazw kolumn"
      ],
      "metadata": {
        "id": "rj96zAJgscX0"
      }
    },
    {
      "cell_type": "code",
      "source": [
        "# Zamiana spacji na podkreślenia w nazwach kolumn\n",
        "df_raw_2013_2022.rename(columns=lambda x: x.replace(' ', '_'), inplace=True)\n"
      ],
      "metadata": {
        "id": "vFFTYs2PpRPX"
      },
      "execution_count": 99,
      "outputs": []
    },
    {
      "cell_type": "code",
      "source": [
        "df_raw_2013_2022.rename(columns={'Data_raportu_[RRRRMM]': 'Data'}, inplace=True)"
      ],
      "metadata": {
        "id": "IvJoL7w9qM17"
      },
      "execution_count": 100,
      "outputs": []
    },
    {
      "cell_type": "markdown",
      "source": [
        "## Daty"
      ],
      "metadata": {
        "id": "JlALEV7qsgq7"
      }
    },
    {
      "cell_type": "code",
      "source": [
        "# Wyodrębnienie roku i miesiąca\n",
        "df_raw_2013_2022['Data_rok'] = df_raw_2013_2022['Data'].apply(lambda x: x[0:4] if len(x) > 8 else x[:4])\n",
        "df_raw_2013_2022['Data_miesiąc'] = df_raw_2013_2022['Data'].apply(lambda x: x[5:7] if len(x) > 8 else x[4:6])"
      ],
      "metadata": {
        "id": "c-3hQB6Pqvia"
      },
      "execution_count": 101,
      "outputs": []
    },
    {
      "cell_type": "code",
      "source": [
        "df_raw_2013_2022['Data_rok'].unique()"
      ],
      "metadata": {
        "outputId": "bbcca6fd-dcd6-42fe-d947-4bc250b6c641",
        "colab": {
          "base_uri": "https://localhost:8080/"
        },
        "id": "QLw-wjWfwwH9"
      },
      "execution_count": 102,
      "outputs": [
        {
          "output_type": "execute_result",
          "data": {
            "text/plain": [
              "array(['2013', '2014', '2015', '2016', '2017', '2018', '2019', '2020',\n",
              "       '2021', '2022'], dtype=object)"
            ]
          },
          "metadata": {},
          "execution_count": 102
        }
      ]
    },
    {
      "cell_type": "code",
      "source": [
        "df_raw_2013_2022['Data_miesiąc'].unique()"
      ],
      "metadata": {
        "outputId": "2f0d75de-1366-45da-9084-08c7c8f0e7fb",
        "colab": {
          "base_uri": "https://localhost:8080/"
        },
        "id": "zBCSHl4MwwH-"
      },
      "execution_count": 103,
      "outputs": [
        {
          "output_type": "execute_result",
          "data": {
            "text/plain": [
              "array(['01', '02', '03', '04', '05', '06', '07', '08', '09', '10', '11',\n",
              "       '12'], dtype=object)"
            ]
          },
          "metadata": {},
          "execution_count": 103
        }
      ]
    },
    {
      "cell_type": "code",
      "source": [
        "# Połączenie roku i miesiąca w formacie MM.YYYY\n",
        "df_raw_2013_2022['Data'] = df_raw_2013_2022['Data_miesiąc'] + '.' + df_raw_2013_2022['Data_rok']"
      ],
      "metadata": {
        "id": "2WM9RCmQsPIz"
      },
      "execution_count": 105,
      "outputs": []
    },
    {
      "cell_type": "code",
      "source": [
        "df_raw_2013_2022['Data'].unique()"
      ],
      "metadata": {
        "id": "xdBZ7CzUxbNQ",
        "outputId": "a0d7aa04-f0a1-4008-abb6-a4c53f769bd1",
        "colab": {
          "base_uri": "https://localhost:8080/"
        }
      },
      "execution_count": 106,
      "outputs": [
        {
          "output_type": "execute_result",
          "data": {
            "text/plain": [
              "array(['01.2013', '02.2013', '03.2013', '04.2013', '05.2013', '06.2013',\n",
              "       '07.2013', '08.2013', '09.2013', '10.2013', '11.2013', '12.2013',\n",
              "       '01.2014', '02.2014', '03.2014', '04.2014', '05.2014', '06.2014',\n",
              "       '07.2014', '08.2014', '09.2014', '10.2014', '11.2014', '12.2014',\n",
              "       '01.2015', '02.2015', '03.2015', '04.2015', '05.2015', '06.2015',\n",
              "       '07.2015', '08.2015', '09.2015', '10.2015', '11.2015', '12.2015',\n",
              "       '01.2016', '02.2016', '03.2016', '04.2016', '05.2016', '06.2016',\n",
              "       '07.2016', '08.2016', '09.2016', '10.2016', '11.2016', '12.2016',\n",
              "       '01.2017', '02.2017', '03.2017', '04.2017', '05.2017', '06.2017',\n",
              "       '07.2017', '08.2017', '09.2017', '10.2017', '11.2017', '12.2017',\n",
              "       '01.2018', '02.2018', '03.2018', '04.2018', '05.2018', '06.2018',\n",
              "       '07.2018', '08.2018', '09.2018', '10.2018', '11.2018', '12.2018',\n",
              "       '01.2019', '02.2019', '03.2019', '04.2019', '05.2019', '06.2019',\n",
              "       '07.2019', '08.2019', '09.2019', '10.2019', '11.2019', '12.2019',\n",
              "       '01.2020', '02.2020', '03.2020', '04.2020', '05.2020', '06.2020',\n",
              "       '07.2020', '08.2020', '09.2020', '10.2020', '11.2020', '12.2020',\n",
              "       '01.2021', '02.2021', '03.2021', '04.2021', '05.2021', '06.2021',\n",
              "       '07.2021', '08.2021', '09.2021', '10.2021', '11.2021', '12.2021',\n",
              "       '01.2022', '02.2022', '03.2022', '04.2022', '05.2022', '06.2022',\n",
              "       '07.2022', '08.2022', '09.2022', '10.2022', '11.2022', '12.2022'],\n",
              "      dtype=object)"
            ]
          },
          "metadata": {},
          "execution_count": 106
        }
      ]
    },
    {
      "cell_type": "markdown",
      "source": [
        "##Mapowanie"
      ],
      "metadata": {
        "id": "JiRyS2MWzVc2"
      }
    },
    {
      "cell_type": "markdown",
      "source": [
        "###Przedział_wiekowy"
      ],
      "metadata": {
        "id": "0kaeAdoFslz6"
      }
    },
    {
      "cell_type": "code",
      "source": [
        "column = 'Przedział_wiekowy'\n",
        "mapping = {\n",
        "    0: np.nan,\n",
        "    1: '07-12',\n",
        "    2: '13-18',\n",
        "    3: '19-24',\n",
        "    4: '25-29',\n",
        "    5: '30-34',\n",
        "    6: '35-39',\n",
        "    7: '40-44',\n",
        "    8: '45-49',\n",
        "    9: '50-54',\n",
        "    10: '55-59',\n",
        "    11: '60-64',\n",
        "    12: '65-69',\n",
        "    13: '70-74',\n",
        "    14: '75-79',\n",
        "    15: '80-84',\n",
        "    16: '85+'\n",
        "}\n",
        "\n",
        "df_raw_2013_2022[column] = df_raw_2013_2022[column].map(mapping)\n",
        "df_raw_2013_2022.rename(columns={column: 'Wiek'}, inplace=True)"
      ],
      "metadata": {
        "id": "puGo66ZWtnUR"
      },
      "execution_count": null,
      "outputs": []
    },
    {
      "cell_type": "markdown",
      "source": [
        "###Płeć"
      ],
      "metadata": {
        "id": "YyK6HFhazbND"
      }
    },
    {
      "cell_type": "code",
      "source": [
        "column = 'Płeć'\n",
        "mapping = {\n",
        "    0: np.nan,\n",
        "    1: 'K',\n",
        "    2: 'M'\n",
        "}\n",
        "\n",
        "df_raw_2013_2022[column] = df_raw_2013_2022[column].map(mapping)\n"
      ],
      "metadata": {
        "id": "-TieLJPJufVk"
      },
      "execution_count": null,
      "outputs": []
    },
    {
      "cell_type": "markdown",
      "source": [
        "###Stan_cywilny"
      ],
      "metadata": {
        "id": "l8XgeOBfzfC8"
      }
    },
    {
      "cell_type": "code",
      "source": [
        "column = 'Stan_cywilny'\n",
        "mapping = {\n",
        "    0: np.nan,\n",
        "    1: 'Samotność',\n",
        "    2: 'Partnerstwo',\n",
        "    3: 'Małżeństwo',\n",
        "    4: 'Separacja',\n",
        "    5: 'Rozwód',\n",
        "    6: 'Wdowieństwo'\n",
        "}\n",
        "\n",
        "df_raw_2013_2022[column] = df_raw_2013_2022[column].map(mapping)\n",
        "df_raw_2013_2022.rename(columns={column: 'St_cyw'}, inplace=True)\n"
      ],
      "metadata": {
        "id": "3HN6t_OIugpM"
      },
      "execution_count": null,
      "outputs": []
    },
    {
      "cell_type": "markdown",
      "source": [
        "###Wykształcenie"
      ],
      "metadata": {
        "id": "L04fi8Atzh02"
      }
    },
    {
      "cell_type": "code",
      "source": [
        "column = 'Wykształcenie'\n",
        "mapping = {\n",
        "    0: np.nan,\n",
        "    1: 'Podst_niepełne',\n",
        "    2: 'Podst',\n",
        "    3: 'Gimnazjalne',\n",
        "    4: 'Zawodowe',\n",
        "    5: 'Średnie',\n",
        "    6: 'Policealne',\n",
        "    7: 'Wyższe'\n",
        "}\n",
        "\n",
        "df_raw_2013_2022[column] = df_raw_2013_2022[column].map(mapping)\n",
        "df_raw_2013_2022.rename(columns={column: 'Poz_edu'}, inplace=True)\n",
        "\n"
      ],
      "metadata": {
        "id": "he03vcArumwI"
      },
      "execution_count": null,
      "outputs": []
    },
    {
      "cell_type": "markdown",
      "source": [
        "###Informacje_o_pracy_i_nauce"
      ],
      "metadata": {
        "id": "lgCz59qbzklI"
      }
    },
    {
      "cell_type": "code",
      "source": [
        "column = 'Informacje_o_pracy_i_nauce'\n",
        "mapping = {\n",
        "    0: np.nan,\n",
        "    1: 'Uczeń',\n",
        "    2: 'Student',\n",
        "    3: 'Umysłowa',\n",
        "    4: 'Fizyczna',\n",
        "    5: 'Rolnik',\n",
        "    6: 'Własna',\n",
        "    7: 'Stała',\n",
        "    8: 'Dorywcza',\n",
        "    9: 'Bezrobotny'\n",
        "}\n",
        "\n",
        "df_raw_2013_2022[column] = df_raw_2013_2022[column].map(mapping)\n",
        "df_raw_2013_2022.rename(columns={column: 'Inf_praca'}, inplace=True)"
      ],
      "metadata": {
        "id": "s6G7PtRdvWQa"
      },
      "execution_count": null,
      "outputs": []
    },
    {
      "cell_type": "markdown",
      "source": [
        "###Źródło_utrzymania"
      ],
      "metadata": {
        "id": "CqCkSO87zotR"
      }
    },
    {
      "cell_type": "code",
      "source": [
        "column = 'Źródło_utrzymania'\n",
        "mapping = {\n",
        "    0: np.nan,  # Zamiana 0 na NaN\n",
        "    1: 'Zależny',\n",
        "    2: 'Praca',\n",
        "    3: 'Świadczenia',\n",
        "    4: 'Bez_dochodu'\n",
        "}\n",
        "\n",
        "df_raw_2013_2022[column] = df_raw_2013_2022[column].map(mapping)\n",
        "df_raw_2013_2022.rename(columns={column: 'Utrzymanie'}, inplace=True)"
      ],
      "metadata": {
        "id": "AQ7XQgvZwIwg"
      },
      "execution_count": null,
      "outputs": []
    },
    {
      "cell_type": "markdown",
      "source": [
        "###Czy_samobójstwo_zakończyło_się_zgonem"
      ],
      "metadata": {
        "id": "X88v2NMOzrsb"
      }
    },
    {
      "cell_type": "code",
      "source": [
        "column = 'Czy_samobójstwo_zakończyło_się_zgonem'\n",
        "\n",
        "mapping = {\n",
        "    0: np.nan,  # Zamiana 0 na NaN\n",
        "    1: 1,\n",
        "    2: 0\n",
        "}\n",
        "df_raw_2013_2022[column] = df_raw_2013_2022[column].map(mapping)\n",
        "df_raw_2013_2022.rename(columns={column: 'Sukces'}, inplace=True)"
      ],
      "metadata": {
        "id": "QO0wpsKAwnhz"
      },
      "execution_count": null,
      "outputs": []
    },
    {
      "cell_type": "markdown",
      "source": [
        "###Miejsce_zamachu"
      ],
      "metadata": {
        "id": "CUvJTrOxzu3T"
      }
    },
    {
      "cell_type": "code",
      "source": [
        "column = 'Miejsce_zamachu'\n",
        "mapping = {\n",
        "    0: np.nan,\n",
        "    1: 'Droga',\n",
        "    2: 'Zabudowania',\n",
        "    3: 'Mieszkanie',\n",
        "    4: 'Tory',\n",
        "    5: 'Park',\n",
        "    6: 'Piwnica',\n",
        "    7: 'Woda',\n",
        "    8: 'Praca',\n",
        "    9: 'Lecznica',\n",
        "    10: 'Izolacja',\n",
        "    11: 'Wojsko',\n",
        "    12: 'Opieka',\n",
        "    13: 'Szkoła',\n",
        "    14: 'Policja',\n",
        "    15: 'Inne'\n",
        "}\n",
        "\n",
        "df_raw_2013_2022[column] = df_raw_2013_2022[column].map(mapping)\n",
        "df_raw_2013_2022.rename(columns={column: 'Miejsce'}, inplace=True)\n"
      ],
      "metadata": {
        "id": "m4XshG-QwqUo"
      },
      "execution_count": null,
      "outputs": []
    },
    {
      "cell_type": "markdown",
      "source": [
        "###Sposób_popełnienia"
      ],
      "metadata": {
        "id": "suOvpkuPzydG"
      }
    },
    {
      "cell_type": "code",
      "source": [
        "column = 'Sposób_popełnienia'\n",
        "mapping = {\n",
        "    0: np.nan,\n",
        "    1: 'Pod_pojazd',\n",
        "    2: 'Z_wysokości',\n",
        "    3: 'Powieszenie',\n",
        "    4: 'Układ_krwionośny',\n",
        "    5: 'Zastrzelenie',\n",
        "    6: 'Samookaleczenie',\n",
        "    7: 'Samookaleczenie',\n",
        "    8: 'Środki_nasenne',\n",
        "    9: 'Trucizna',\n",
        "    10: 'Gaz',\n",
        "    11: 'Inne_leki',\n",
        "    12: 'Środki_chemiczne',\n",
        "    13: 'Odurzające',\n",
        "    14: 'Dopalacze',\n",
        "    15: 'Utonięcie',\n",
        "    16: 'Podpalenie',\n",
        "    17: 'Uduszenie',\n",
        "    18: 'Inny'\n",
        "}\n",
        "\n",
        "df_raw_2013_2022[column] = df_raw_2013_2022[column].map(mapping)\n",
        "df_raw_2013_2022.rename(columns={column: 'Sposób'}, inplace=True)"
      ],
      "metadata": {
        "id": "BMmRn_2_x9xh"
      },
      "execution_count": null,
      "outputs": []
    },
    {
      "cell_type": "markdown",
      "source": [
        "###Powód_zamachu"
      ],
      "metadata": {
        "id": "qgdtLHi8z121"
      }
    },
    {
      "cell_type": "code",
      "source": [
        "column = 'Powód_zamachu'\n",
        "mapping = {\n",
        "    0: np.nan,\n",
        "    1: 'Miłość',\n",
        "    2: 'Choroby_psych',\n",
        "    3: 'Konflikty_rodzinne',\n",
        "    4: 'HIV/AIDS',\n",
        "    5: 'Utrata_utrzymania',\n",
        "    6: 'Finanse',\n",
        "    7: 'Choroba',\n",
        "    8: 'Praca',\n",
        "    9: 'Śmierć_bliskiego',\n",
        "    10: 'Przestępstwa',\n",
        "    11: 'Kalectwo',\n",
        "    12: 'Ciąża',\n",
        "    13: 'Choroby_fiz',\n",
        "    14: 'Zdrowie',\n",
        "    15: 'Konflikty_inni',\n",
        "    16: 'Bezdomność',\n",
        "    17: 'Mobbing',\n",
        "    18: 'Inne'\n",
        "}\n",
        "\n",
        "df_raw_2013_2022[column] = df_raw_2013_2022[column].map(mapping)\n",
        "df_raw_2013_2022.rename(columns={column: 'Powód'}, inplace=True)"
      ],
      "metadata": {
        "id": "hW3GSfEax_xd"
      },
      "execution_count": null,
      "outputs": []
    },
    {
      "cell_type": "markdown",
      "source": [
        "###Powód_zamachu_2"
      ],
      "metadata": {
        "id": "0CEz-khuz5wB"
      }
    },
    {
      "cell_type": "code",
      "source": [
        "column = 'Powód_zamachu_2'\n",
        "mapping = {\n",
        "    0: np.nan,\n",
        "    1: 'Miłość',\n",
        "    2: 'Choroby_psych',\n",
        "    3: 'Konflikty_rodzinne',\n",
        "    4: 'HIV/AIDS',\n",
        "    5: 'Utrata_utrzymania',\n",
        "    6: 'Finanse',\n",
        "    7: 'Choroba',\n",
        "    8: 'Praca',\n",
        "    9: 'Śmierć_bliskiego',\n",
        "    10: 'Przestępstwa',\n",
        "    11: 'Kalectwo',\n",
        "    12: 'Ciąża',\n",
        "    13: 'Choroby_fiz',\n",
        "    14: 'Zdrowie',\n",
        "    15: 'Konflikty_inni',\n",
        "    16: 'Bezdomność',\n",
        "    17: 'Mobbing',\n",
        "    18: 'Inne'\n",
        "}\n",
        "\n",
        "df_raw_2013_2022[column] = df_raw_2013_2022[column].map(mapping)\n",
        "df_raw_2013_2022.rename(columns={column: 'Powód_2'}, inplace=True)"
      ],
      "metadata": {
        "id": "1XaA_qOOyafz"
      },
      "execution_count": null,
      "outputs": []
    },
    {
      "cell_type": "markdown",
      "source": [
        "###Powód_zamachu_3"
      ],
      "metadata": {
        "id": "CgmO4pp_z81K"
      }
    },
    {
      "cell_type": "code",
      "source": [
        "column = 'Powód_zamachu_3'\n",
        "mapping = {\n",
        "    0: np.nan,\n",
        "    1: 'Miłość',\n",
        "    2: 'Choroby_psych',\n",
        "    3: 'Konflikty_rodzinne',\n",
        "    4: 'HIV/AIDS',\n",
        "    5: 'Utrata_utrzymania',\n",
        "    6: 'Finanse',\n",
        "    7: 'Choroba',\n",
        "    8: 'Praca',\n",
        "    9: 'Śmierć_bliskiego',\n",
        "    10: 'Przestępstwa',\n",
        "    11: 'Kalectwo',\n",
        "    12: 'Ciąża',\n",
        "    13: 'Choroby_fiz',\n",
        "    14: 'Zdrowie',\n",
        "    15: 'Konflikty_inni',\n",
        "    16: 'Bezdomność',\n",
        "    17: 'Mobbing',\n",
        "    18: 'Inne'\n",
        "}\n",
        "\n",
        "df_raw_2013_2022[column] = df_raw_2013_2022[column].map(mapping)\n",
        "df_raw_2013_2022.rename(columns={column: 'Powód_3'}, inplace=True)"
      ],
      "metadata": {
        "id": "3--sD14jyfps"
      },
      "execution_count": null,
      "outputs": []
    },
    {
      "cell_type": "markdown",
      "source": [
        "###Powód_zamachu_4"
      ],
      "metadata": {
        "id": "nHkSTPa-0AFl"
      }
    },
    {
      "cell_type": "code",
      "source": [
        "column = 'Powód_zamachu_4'\n",
        "mapping = {\n",
        "    0: np.nan,\n",
        "    1: 'Miłość',\n",
        "    2: 'Choroby_psych',\n",
        "    3: 'Konflikty_rodzinne',\n",
        "    4: 'HIV/AIDS',\n",
        "    5: 'Utrata_utrzymania',\n",
        "    6: 'Finanse',\n",
        "    7: 'Choroba',\n",
        "    8: 'Praca',\n",
        "    9: 'Śmierć_bliskiego',\n",
        "    10: 'Przestępstwa',\n",
        "    11: 'Kalectwo',\n",
        "    12: 'Ciąża',\n",
        "    13: 'Choroby_fiz',\n",
        "    14: 'Zdrowie',\n",
        "    15: 'Konflikty_inni',\n",
        "    16: 'Bezdomność',\n",
        "    17: 'Mobbing',\n",
        "    18: 'Inne'\n",
        "}\n",
        "\n",
        "df_raw_2013_2022[column] = df_raw_2013_2022[column].map(mapping)\n",
        "df_raw_2013_2022.rename(columns={column: 'Powód_4'}, inplace=True)"
      ],
      "metadata": {
        "id": "heLXHV5DyifN"
      },
      "execution_count": null,
      "outputs": []
    },
    {
      "cell_type": "markdown",
      "source": [
        "###Stan_świadomości"
      ],
      "metadata": {
        "id": "j_oh1VT20DWr"
      }
    },
    {
      "cell_type": "code",
      "source": [
        "column = 'Stan_świadomości'\n",
        "mapping = {\n",
        "    0: np.nan,\n",
        "    1: 'Trzeźwy',\n",
        "    2: 'Alko',\n",
        "    3: 'Dopa',\n",
        "    4: 'Narko',\n",
        "    5: 'Leki',\n",
        "    6: 'Odurza',\n",
        "    7: 'Alko+dopa',\n",
        "    8: 'Alko+narko',\n",
        "    9: 'Alko+leki',\n",
        "    10: 'Alko+odurza',\n",
        "    11: 'Alko+dopa+odurza',\n",
        "    12: 'Dopa+odurza',\n",
        "    13: 'Leki+odurza',\n",
        "    14: 'Leki+dopa',\n",
        "    15: 'Leki+narko',\n",
        "    16: 'Leki+dopa+odurza',\n",
        "    17: 'Alko+leki+odurza',\n",
        "    18: 'Alko+leki+dopa+odurza'\n",
        "}\n",
        "\n",
        "df_raw_2013_2022[column] = df_raw_2013_2022[column].map(mapping)\n",
        "df_raw_2013_2022.rename(columns={column: 'Stan'}, inplace=True)"
      ],
      "metadata": {
        "id": "besYtKDAyuDh"
      },
      "execution_count": null,
      "outputs": []
    },
    {
      "cell_type": "markdown",
      "source": [
        "###Informacje_o_używaniu_substancji"
      ],
      "metadata": {
        "id": "0x9OkF8k0XMo"
      }
    },
    {
      "cell_type": "code",
      "source": [
        "column = 'Informacje_o_używaniu_substancji'\n",
        "mapping = {\n",
        "    0: np.nan,\n",
        "    1: 'Alko',\n",
        "    2: 'Narko',\n",
        "    3: 'Dopa',\n",
        "    4: 'Alko+dopa',\n",
        "    5: 'Narko+dopa',\n",
        "    6: 'Alko+narko',\n",
        "    7: 'Alko+narko+dopa'\n",
        "}\n",
        "\n",
        "df_raw_2013_2022[column] = df_raw_2013_2022[column].map(mapping)\n",
        "df_raw_2013_2022.rename(columns={column: 'Używanie'}, inplace=True)\n"
      ],
      "metadata": {
        "id": "T0gL7Dz70UAC"
      },
      "execution_count": null,
      "outputs": []
    },
    {
      "cell_type": "markdown",
      "source": [
        "###Informacje_dotyczące_leczenia_z_powodu_alkoholizmu/narkomanii"
      ],
      "metadata": {
        "id": "39BndAwP0tKh"
      }
    },
    {
      "cell_type": "code",
      "source": [
        "column = 'Informacje_dotyczące_leczenia_z_powodu_alkoholizmu/narkomanii'\n",
        "mapping = {\n",
        "    0: np.nan,\n",
        "    1: 'Alko',\n",
        "    2: 'Narko',\n",
        "    3: 'Alko+narko'\n",
        "}\n",
        "\n",
        "df_raw_2013_2022[column] = df_raw_2013_2022[column].map(mapping)\n",
        "df_raw_2013_2022.rename(columns={column: 'Leczenie'}, inplace=True)"
      ],
      "metadata": {
        "id": "HuH1oJO10aUJ"
      },
      "execution_count": null,
      "outputs": []
    },
    {
      "cell_type": "markdown",
      "source": [
        "##Powód zamachu - dummies"
      ],
      "metadata": {
        "id": "_4G-mhMt-hla"
      }
    },
    {
      "cell_type": "code",
      "source": [
        "columns_to_drop = ['Powód', 'Powód_2', 'Powód_3', 'Powód_4']\n",
        "df_powód_zamachu_2013_2022 = df_raw_2013_2022[columns_to_drop]\n",
        "df_raw_2013_2022.drop(columns=columns_to_drop, inplace=True)\n"
      ],
      "metadata": {
        "id": "3Q73Z-45-pGJ"
      },
      "execution_count": null,
      "outputs": []
    },
    {
      "cell_type": "code",
      "source": [
        "powód_zamachu_values = (\n",
        "    set(df_powód_zamachu_2013_2022['Powód'].unique()) |\n",
        "    set(df_powód_zamachu_2013_2022['Powód_2'].unique()) |\n",
        "    set(df_powód_zamachu_2013_2022['Powód_3'].unique()) |\n",
        "    set(df_powód_zamachu_2013_2022['Powód_4'].unique())\n",
        ")"
      ],
      "metadata": {
        "id": "C4txX3uZD1Ni"
      },
      "execution_count": null,
      "outputs": []
    },
    {
      "cell_type": "code",
      "source": [
        "powód_zamachu_values"
      ],
      "metadata": {
        "colab": {
          "base_uri": "https://localhost:8080/"
        },
        "id": "erRmfj905sqi",
        "outputId": "918c2ffa-74a8-448b-e569-89cdc5736297"
      },
      "execution_count": null,
      "outputs": [
        {
          "output_type": "execute_result",
          "data": {
            "text/plain": [
              "{'Bezdomność',\n",
              " 'Choroba',\n",
              " 'Choroby_fiz',\n",
              " 'Choroby_psych',\n",
              " 'Ciąża',\n",
              " 'Finanse',\n",
              " 'HIV/AIDS',\n",
              " 'Inne',\n",
              " 'Kalectwo',\n",
              " 'Konflikty_inni',\n",
              " 'Konflikty_rodzinne',\n",
              " 'Miłość',\n",
              " 'Mobbing',\n",
              " 'Praca',\n",
              " 'Przestępstwa',\n",
              " 'Utrata_utrzymania',\n",
              " 'Zdrowie',\n",
              " nan,\n",
              " 'Śmierć_bliskiego'}"
            ]
          },
          "metadata": {},
          "execution_count": 378
        }
      ]
    },
    {
      "cell_type": "code",
      "source": [
        "for value in powód_zamachu_values:\n",
        "    column_name = 'Powód_' + str(value)\n",
        "    df_powód_zamachu_2013_2022[column_name] = df_powód_zamachu_2013_2022.apply(lambda row: 1 if value in row.values else 0, axis=1)\n"
      ],
      "metadata": {
        "colab": {
          "base_uri": "https://localhost:8080/"
        },
        "id": "rziPLN8qGahL",
        "outputId": "86f68234-c815-443a-c52e-4671386f9c3c"
      },
      "execution_count": null,
      "outputs": [
        {
          "output_type": "stream",
          "name": "stderr",
          "text": [
            "<ipython-input-379-6e34b0c696c3>:3: SettingWithCopyWarning: \n",
            "A value is trying to be set on a copy of a slice from a DataFrame.\n",
            "Try using .loc[row_indexer,col_indexer] = value instead\n",
            "\n",
            "See the caveats in the documentation: https://pandas.pydata.org/pandas-docs/stable/user_guide/indexing.html#returning-a-view-versus-a-copy\n",
            "  df_powód_zamachu_2013_2022[column_name] = df_powód_zamachu_2013_2022.apply(lambda row: 1 if value in row.values else 0, axis=1)\n",
            "<ipython-input-379-6e34b0c696c3>:3: SettingWithCopyWarning: \n",
            "A value is trying to be set on a copy of a slice from a DataFrame.\n",
            "Try using .loc[row_indexer,col_indexer] = value instead\n",
            "\n",
            "See the caveats in the documentation: https://pandas.pydata.org/pandas-docs/stable/user_guide/indexing.html#returning-a-view-versus-a-copy\n",
            "  df_powód_zamachu_2013_2022[column_name] = df_powód_zamachu_2013_2022.apply(lambda row: 1 if value in row.values else 0, axis=1)\n",
            "<ipython-input-379-6e34b0c696c3>:3: SettingWithCopyWarning: \n",
            "A value is trying to be set on a copy of a slice from a DataFrame.\n",
            "Try using .loc[row_indexer,col_indexer] = value instead\n",
            "\n",
            "See the caveats in the documentation: https://pandas.pydata.org/pandas-docs/stable/user_guide/indexing.html#returning-a-view-versus-a-copy\n",
            "  df_powód_zamachu_2013_2022[column_name] = df_powód_zamachu_2013_2022.apply(lambda row: 1 if value in row.values else 0, axis=1)\n",
            "<ipython-input-379-6e34b0c696c3>:3: SettingWithCopyWarning: \n",
            "A value is trying to be set on a copy of a slice from a DataFrame.\n",
            "Try using .loc[row_indexer,col_indexer] = value instead\n",
            "\n",
            "See the caveats in the documentation: https://pandas.pydata.org/pandas-docs/stable/user_guide/indexing.html#returning-a-view-versus-a-copy\n",
            "  df_powód_zamachu_2013_2022[column_name] = df_powód_zamachu_2013_2022.apply(lambda row: 1 if value in row.values else 0, axis=1)\n",
            "<ipython-input-379-6e34b0c696c3>:3: SettingWithCopyWarning: \n",
            "A value is trying to be set on a copy of a slice from a DataFrame.\n",
            "Try using .loc[row_indexer,col_indexer] = value instead\n",
            "\n",
            "See the caveats in the documentation: https://pandas.pydata.org/pandas-docs/stable/user_guide/indexing.html#returning-a-view-versus-a-copy\n",
            "  df_powód_zamachu_2013_2022[column_name] = df_powód_zamachu_2013_2022.apply(lambda row: 1 if value in row.values else 0, axis=1)\n",
            "<ipython-input-379-6e34b0c696c3>:3: SettingWithCopyWarning: \n",
            "A value is trying to be set on a copy of a slice from a DataFrame.\n",
            "Try using .loc[row_indexer,col_indexer] = value instead\n",
            "\n",
            "See the caveats in the documentation: https://pandas.pydata.org/pandas-docs/stable/user_guide/indexing.html#returning-a-view-versus-a-copy\n",
            "  df_powód_zamachu_2013_2022[column_name] = df_powód_zamachu_2013_2022.apply(lambda row: 1 if value in row.values else 0, axis=1)\n",
            "<ipython-input-379-6e34b0c696c3>:3: SettingWithCopyWarning: \n",
            "A value is trying to be set on a copy of a slice from a DataFrame.\n",
            "Try using .loc[row_indexer,col_indexer] = value instead\n",
            "\n",
            "See the caveats in the documentation: https://pandas.pydata.org/pandas-docs/stable/user_guide/indexing.html#returning-a-view-versus-a-copy\n",
            "  df_powód_zamachu_2013_2022[column_name] = df_powód_zamachu_2013_2022.apply(lambda row: 1 if value in row.values else 0, axis=1)\n",
            "<ipython-input-379-6e34b0c696c3>:3: SettingWithCopyWarning: \n",
            "A value is trying to be set on a copy of a slice from a DataFrame.\n",
            "Try using .loc[row_indexer,col_indexer] = value instead\n",
            "\n",
            "See the caveats in the documentation: https://pandas.pydata.org/pandas-docs/stable/user_guide/indexing.html#returning-a-view-versus-a-copy\n",
            "  df_powód_zamachu_2013_2022[column_name] = df_powód_zamachu_2013_2022.apply(lambda row: 1 if value in row.values else 0, axis=1)\n",
            "<ipython-input-379-6e34b0c696c3>:3: SettingWithCopyWarning: \n",
            "A value is trying to be set on a copy of a slice from a DataFrame.\n",
            "Try using .loc[row_indexer,col_indexer] = value instead\n",
            "\n",
            "See the caveats in the documentation: https://pandas.pydata.org/pandas-docs/stable/user_guide/indexing.html#returning-a-view-versus-a-copy\n",
            "  df_powód_zamachu_2013_2022[column_name] = df_powód_zamachu_2013_2022.apply(lambda row: 1 if value in row.values else 0, axis=1)\n",
            "<ipython-input-379-6e34b0c696c3>:3: SettingWithCopyWarning: \n",
            "A value is trying to be set on a copy of a slice from a DataFrame.\n",
            "Try using .loc[row_indexer,col_indexer] = value instead\n",
            "\n",
            "See the caveats in the documentation: https://pandas.pydata.org/pandas-docs/stable/user_guide/indexing.html#returning-a-view-versus-a-copy\n",
            "  df_powód_zamachu_2013_2022[column_name] = df_powód_zamachu_2013_2022.apply(lambda row: 1 if value in row.values else 0, axis=1)\n",
            "<ipython-input-379-6e34b0c696c3>:3: SettingWithCopyWarning: \n",
            "A value is trying to be set on a copy of a slice from a DataFrame.\n",
            "Try using .loc[row_indexer,col_indexer] = value instead\n",
            "\n",
            "See the caveats in the documentation: https://pandas.pydata.org/pandas-docs/stable/user_guide/indexing.html#returning-a-view-versus-a-copy\n",
            "  df_powód_zamachu_2013_2022[column_name] = df_powód_zamachu_2013_2022.apply(lambda row: 1 if value in row.values else 0, axis=1)\n"
          ]
        }
      ]
    },
    {
      "cell_type": "code",
      "source": [
        "columns_to_drop = ['Powód', 'Powód_2', 'Powód_3', 'Powód_4', 'Powód_nan']\n",
        "df_powód_zamachu_2013_2022.drop(columns=columns_to_drop, inplace=True)\n"
      ],
      "metadata": {
        "id": "fQ73shBOG1II"
      },
      "execution_count": null,
      "outputs": []
    },
    {
      "cell_type": "markdown",
      "source": [
        "##Liczba_powodów_zamachu"
      ],
      "metadata": {
        "id": "Hagqy4z-JnQ3"
      }
    },
    {
      "cell_type": "code",
      "source": [
        "df_raw_2013_2022['L_powodów'] = df_powód_zamachu_2013_2022.sum(axis=1)"
      ],
      "metadata": {
        "id": "_EZNn51KJwDr"
      },
      "execution_count": null,
      "outputs": []
    },
    {
      "cell_type": "code",
      "source": [
        "df_raw_2013_2022.head(5)"
      ],
      "metadata": {
        "colab": {
          "base_uri": "https://localhost:8080/",
          "height": 295
        },
        "id": "eluFOpAZKOXZ",
        "outputId": "46bb4d11-4084-4852-8792-66cdb7844913"
      },
      "execution_count": null,
      "outputs": [
        {
          "output_type": "execute_result",
          "data": {
            "text/plain": [
              "   ID_samobójcy     Data   Wiek Płeć     St_cyw Poz_edu   Inf_praca  \\\n",
              "0  114581552,00  01.2013    NaN    M        NaN     NaN         NaN   \n",
              "1  114584284,00  01.2013  13-18    M        NaN     NaN       Uczeń   \n",
              "2  114584293,00  01.2013  13-18    K  Samotność   Podst       Uczeń   \n",
              "3  114584312,00  01.2013  19-24    M  Samotność     NaN         NaN   \n",
              "4  114584399,00  01.2013  40-44    M  Samotność     NaN  Bezrobotny   \n",
              "\n",
              "  Utrzymanie  Sukces      Miejsce       Sposób  Stan Używanie Leczenie  \\\n",
              "0        NaN     NaN          NaN          NaN   NaN      NaN      NaN   \n",
              "1        NaN     1.0        Droga   Pod_pojazd   NaN      NaN      NaN   \n",
              "2    Zależny     1.0         Inne  Z_wysokości   NaN      NaN      NaN   \n",
              "3        NaN     1.0          NaN         Inny   NaN      NaN      NaN   \n",
              "4        NaN     1.0  Zabudowania  Powieszenie  Alko      NaN      NaN   \n",
              "\n",
              "  Data_rok Data_miesiąc  L_powodów  \n",
              "0     2013           01          0  \n",
              "1     2013           01          0  \n",
              "2     2013           01          0  \n",
              "3     2013           01          1  \n",
              "4     2013           01          0  "
            ],
            "text/html": [
              "\n",
              "  <div id=\"df-6b48becc-edbb-46c6-a5b1-f9cd84d023f5\" class=\"colab-df-container\">\n",
              "    <div>\n",
              "<style scoped>\n",
              "    .dataframe tbody tr th:only-of-type {\n",
              "        vertical-align: middle;\n",
              "    }\n",
              "\n",
              "    .dataframe tbody tr th {\n",
              "        vertical-align: top;\n",
              "    }\n",
              "\n",
              "    .dataframe thead th {\n",
              "        text-align: right;\n",
              "    }\n",
              "</style>\n",
              "<table border=\"1\" class=\"dataframe\">\n",
              "  <thead>\n",
              "    <tr style=\"text-align: right;\">\n",
              "      <th></th>\n",
              "      <th>ID_samobójcy</th>\n",
              "      <th>Data</th>\n",
              "      <th>Wiek</th>\n",
              "      <th>Płeć</th>\n",
              "      <th>St_cyw</th>\n",
              "      <th>Poz_edu</th>\n",
              "      <th>Inf_praca</th>\n",
              "      <th>Utrzymanie</th>\n",
              "      <th>Sukces</th>\n",
              "      <th>Miejsce</th>\n",
              "      <th>Sposób</th>\n",
              "      <th>Stan</th>\n",
              "      <th>Używanie</th>\n",
              "      <th>Leczenie</th>\n",
              "      <th>Data_rok</th>\n",
              "      <th>Data_miesiąc</th>\n",
              "      <th>L_powodów</th>\n",
              "    </tr>\n",
              "  </thead>\n",
              "  <tbody>\n",
              "    <tr>\n",
              "      <th>0</th>\n",
              "      <td>114581552,00</td>\n",
              "      <td>01.2013</td>\n",
              "      <td>NaN</td>\n",
              "      <td>M</td>\n",
              "      <td>NaN</td>\n",
              "      <td>NaN</td>\n",
              "      <td>NaN</td>\n",
              "      <td>NaN</td>\n",
              "      <td>NaN</td>\n",
              "      <td>NaN</td>\n",
              "      <td>NaN</td>\n",
              "      <td>NaN</td>\n",
              "      <td>NaN</td>\n",
              "      <td>NaN</td>\n",
              "      <td>2013</td>\n",
              "      <td>01</td>\n",
              "      <td>0</td>\n",
              "    </tr>\n",
              "    <tr>\n",
              "      <th>1</th>\n",
              "      <td>114584284,00</td>\n",
              "      <td>01.2013</td>\n",
              "      <td>13-18</td>\n",
              "      <td>M</td>\n",
              "      <td>NaN</td>\n",
              "      <td>NaN</td>\n",
              "      <td>Uczeń</td>\n",
              "      <td>NaN</td>\n",
              "      <td>1.0</td>\n",
              "      <td>Droga</td>\n",
              "      <td>Pod_pojazd</td>\n",
              "      <td>NaN</td>\n",
              "      <td>NaN</td>\n",
              "      <td>NaN</td>\n",
              "      <td>2013</td>\n",
              "      <td>01</td>\n",
              "      <td>0</td>\n",
              "    </tr>\n",
              "    <tr>\n",
              "      <th>2</th>\n",
              "      <td>114584293,00</td>\n",
              "      <td>01.2013</td>\n",
              "      <td>13-18</td>\n",
              "      <td>K</td>\n",
              "      <td>Samotność</td>\n",
              "      <td>Podst</td>\n",
              "      <td>Uczeń</td>\n",
              "      <td>Zależny</td>\n",
              "      <td>1.0</td>\n",
              "      <td>Inne</td>\n",
              "      <td>Z_wysokości</td>\n",
              "      <td>NaN</td>\n",
              "      <td>NaN</td>\n",
              "      <td>NaN</td>\n",
              "      <td>2013</td>\n",
              "      <td>01</td>\n",
              "      <td>0</td>\n",
              "    </tr>\n",
              "    <tr>\n",
              "      <th>3</th>\n",
              "      <td>114584312,00</td>\n",
              "      <td>01.2013</td>\n",
              "      <td>19-24</td>\n",
              "      <td>M</td>\n",
              "      <td>Samotność</td>\n",
              "      <td>NaN</td>\n",
              "      <td>NaN</td>\n",
              "      <td>NaN</td>\n",
              "      <td>1.0</td>\n",
              "      <td>NaN</td>\n",
              "      <td>Inny</td>\n",
              "      <td>NaN</td>\n",
              "      <td>NaN</td>\n",
              "      <td>NaN</td>\n",
              "      <td>2013</td>\n",
              "      <td>01</td>\n",
              "      <td>1</td>\n",
              "    </tr>\n",
              "    <tr>\n",
              "      <th>4</th>\n",
              "      <td>114584399,00</td>\n",
              "      <td>01.2013</td>\n",
              "      <td>40-44</td>\n",
              "      <td>M</td>\n",
              "      <td>Samotność</td>\n",
              "      <td>NaN</td>\n",
              "      <td>Bezrobotny</td>\n",
              "      <td>NaN</td>\n",
              "      <td>1.0</td>\n",
              "      <td>Zabudowania</td>\n",
              "      <td>Powieszenie</td>\n",
              "      <td>Alko</td>\n",
              "      <td>NaN</td>\n",
              "      <td>NaN</td>\n",
              "      <td>2013</td>\n",
              "      <td>01</td>\n",
              "      <td>0</td>\n",
              "    </tr>\n",
              "  </tbody>\n",
              "</table>\n",
              "</div>\n",
              "    <div class=\"colab-df-buttons\">\n",
              "\n",
              "  <div class=\"colab-df-container\">\n",
              "    <button class=\"colab-df-convert\" onclick=\"convertToInteractive('df-6b48becc-edbb-46c6-a5b1-f9cd84d023f5')\"\n",
              "            title=\"Convert this dataframe to an interactive table.\"\n",
              "            style=\"display:none;\">\n",
              "\n",
              "  <svg xmlns=\"http://www.w3.org/2000/svg\" height=\"24px\" viewBox=\"0 -960 960 960\">\n",
              "    <path d=\"M120-120v-720h720v720H120Zm60-500h600v-160H180v160Zm220 220h160v-160H400v160Zm0 220h160v-160H400v160ZM180-400h160v-160H180v160Zm440 0h160v-160H620v160ZM180-180h160v-160H180v160Zm440 0h160v-160H620v160Z\"/>\n",
              "  </svg>\n",
              "    </button>\n",
              "\n",
              "  <style>\n",
              "    .colab-df-container {\n",
              "      display:flex;\n",
              "      gap: 12px;\n",
              "    }\n",
              "\n",
              "    .colab-df-convert {\n",
              "      background-color: #E8F0FE;\n",
              "      border: none;\n",
              "      border-radius: 50%;\n",
              "      cursor: pointer;\n",
              "      display: none;\n",
              "      fill: #1967D2;\n",
              "      height: 32px;\n",
              "      padding: 0 0 0 0;\n",
              "      width: 32px;\n",
              "    }\n",
              "\n",
              "    .colab-df-convert:hover {\n",
              "      background-color: #E2EBFA;\n",
              "      box-shadow: 0px 1px 2px rgba(60, 64, 67, 0.3), 0px 1px 3px 1px rgba(60, 64, 67, 0.15);\n",
              "      fill: #174EA6;\n",
              "    }\n",
              "\n",
              "    .colab-df-buttons div {\n",
              "      margin-bottom: 4px;\n",
              "    }\n",
              "\n",
              "    [theme=dark] .colab-df-convert {\n",
              "      background-color: #3B4455;\n",
              "      fill: #D2E3FC;\n",
              "    }\n",
              "\n",
              "    [theme=dark] .colab-df-convert:hover {\n",
              "      background-color: #434B5C;\n",
              "      box-shadow: 0px 1px 3px 1px rgba(0, 0, 0, 0.15);\n",
              "      filter: drop-shadow(0px 1px 2px rgba(0, 0, 0, 0.3));\n",
              "      fill: #FFFFFF;\n",
              "    }\n",
              "  </style>\n",
              "\n",
              "    <script>\n",
              "      const buttonEl =\n",
              "        document.querySelector('#df-6b48becc-edbb-46c6-a5b1-f9cd84d023f5 button.colab-df-convert');\n",
              "      buttonEl.style.display =\n",
              "        google.colab.kernel.accessAllowed ? 'block' : 'none';\n",
              "\n",
              "      async function convertToInteractive(key) {\n",
              "        const element = document.querySelector('#df-6b48becc-edbb-46c6-a5b1-f9cd84d023f5');\n",
              "        const dataTable =\n",
              "          await google.colab.kernel.invokeFunction('convertToInteractive',\n",
              "                                                    [key], {});\n",
              "        if (!dataTable) return;\n",
              "\n",
              "        const docLinkHtml = 'Like what you see? Visit the ' +\n",
              "          '<a target=\"_blank\" href=https://colab.research.google.com/notebooks/data_table.ipynb>data table notebook</a>'\n",
              "          + ' to learn more about interactive tables.';\n",
              "        element.innerHTML = '';\n",
              "        dataTable['output_type'] = 'display_data';\n",
              "        await google.colab.output.renderOutput(dataTable, element);\n",
              "        const docLink = document.createElement('div');\n",
              "        docLink.innerHTML = docLinkHtml;\n",
              "        element.appendChild(docLink);\n",
              "      }\n",
              "    </script>\n",
              "  </div>\n",
              "\n",
              "\n",
              "<div id=\"df-c51d3352-b1af-4be3-9feb-b7e60e1df506\">\n",
              "  <button class=\"colab-df-quickchart\" onclick=\"quickchart('df-c51d3352-b1af-4be3-9feb-b7e60e1df506')\"\n",
              "            title=\"Suggest charts\"\n",
              "            style=\"display:none;\">\n",
              "\n",
              "<svg xmlns=\"http://www.w3.org/2000/svg\" height=\"24px\"viewBox=\"0 0 24 24\"\n",
              "     width=\"24px\">\n",
              "    <g>\n",
              "        <path d=\"M19 3H5c-1.1 0-2 .9-2 2v14c0 1.1.9 2 2 2h14c1.1 0 2-.9 2-2V5c0-1.1-.9-2-2-2zM9 17H7v-7h2v7zm4 0h-2V7h2v10zm4 0h-2v-4h2v4z\"/>\n",
              "    </g>\n",
              "</svg>\n",
              "  </button>\n",
              "\n",
              "<style>\n",
              "  .colab-df-quickchart {\n",
              "      --bg-color: #E8F0FE;\n",
              "      --fill-color: #1967D2;\n",
              "      --hover-bg-color: #E2EBFA;\n",
              "      --hover-fill-color: #174EA6;\n",
              "      --disabled-fill-color: #AAA;\n",
              "      --disabled-bg-color: #DDD;\n",
              "  }\n",
              "\n",
              "  [theme=dark] .colab-df-quickchart {\n",
              "      --bg-color: #3B4455;\n",
              "      --fill-color: #D2E3FC;\n",
              "      --hover-bg-color: #434B5C;\n",
              "      --hover-fill-color: #FFFFFF;\n",
              "      --disabled-bg-color: #3B4455;\n",
              "      --disabled-fill-color: #666;\n",
              "  }\n",
              "\n",
              "  .colab-df-quickchart {\n",
              "    background-color: var(--bg-color);\n",
              "    border: none;\n",
              "    border-radius: 50%;\n",
              "    cursor: pointer;\n",
              "    display: none;\n",
              "    fill: var(--fill-color);\n",
              "    height: 32px;\n",
              "    padding: 0;\n",
              "    width: 32px;\n",
              "  }\n",
              "\n",
              "  .colab-df-quickchart:hover {\n",
              "    background-color: var(--hover-bg-color);\n",
              "    box-shadow: 0 1px 2px rgba(60, 64, 67, 0.3), 0 1px 3px 1px rgba(60, 64, 67, 0.15);\n",
              "    fill: var(--button-hover-fill-color);\n",
              "  }\n",
              "\n",
              "  .colab-df-quickchart-complete:disabled,\n",
              "  .colab-df-quickchart-complete:disabled:hover {\n",
              "    background-color: var(--disabled-bg-color);\n",
              "    fill: var(--disabled-fill-color);\n",
              "    box-shadow: none;\n",
              "  }\n",
              "\n",
              "  .colab-df-spinner {\n",
              "    border: 2px solid var(--fill-color);\n",
              "    border-color: transparent;\n",
              "    border-bottom-color: var(--fill-color);\n",
              "    animation:\n",
              "      spin 1s steps(1) infinite;\n",
              "  }\n",
              "\n",
              "  @keyframes spin {\n",
              "    0% {\n",
              "      border-color: transparent;\n",
              "      border-bottom-color: var(--fill-color);\n",
              "      border-left-color: var(--fill-color);\n",
              "    }\n",
              "    20% {\n",
              "      border-color: transparent;\n",
              "      border-left-color: var(--fill-color);\n",
              "      border-top-color: var(--fill-color);\n",
              "    }\n",
              "    30% {\n",
              "      border-color: transparent;\n",
              "      border-left-color: var(--fill-color);\n",
              "      border-top-color: var(--fill-color);\n",
              "      border-right-color: var(--fill-color);\n",
              "    }\n",
              "    40% {\n",
              "      border-color: transparent;\n",
              "      border-right-color: var(--fill-color);\n",
              "      border-top-color: var(--fill-color);\n",
              "    }\n",
              "    60% {\n",
              "      border-color: transparent;\n",
              "      border-right-color: var(--fill-color);\n",
              "    }\n",
              "    80% {\n",
              "      border-color: transparent;\n",
              "      border-right-color: var(--fill-color);\n",
              "      border-bottom-color: var(--fill-color);\n",
              "    }\n",
              "    90% {\n",
              "      border-color: transparent;\n",
              "      border-bottom-color: var(--fill-color);\n",
              "    }\n",
              "  }\n",
              "</style>\n",
              "\n",
              "  <script>\n",
              "    async function quickchart(key) {\n",
              "      const quickchartButtonEl =\n",
              "        document.querySelector('#' + key + ' button');\n",
              "      quickchartButtonEl.disabled = true;  // To prevent multiple clicks.\n",
              "      quickchartButtonEl.classList.add('colab-df-spinner');\n",
              "      try {\n",
              "        const charts = await google.colab.kernel.invokeFunction(\n",
              "            'suggestCharts', [key], {});\n",
              "      } catch (error) {\n",
              "        console.error('Error during call to suggestCharts:', error);\n",
              "      }\n",
              "      quickchartButtonEl.classList.remove('colab-df-spinner');\n",
              "      quickchartButtonEl.classList.add('colab-df-quickchart-complete');\n",
              "    }\n",
              "    (() => {\n",
              "      let quickchartButtonEl =\n",
              "        document.querySelector('#df-c51d3352-b1af-4be3-9feb-b7e60e1df506 button');\n",
              "      quickchartButtonEl.style.display =\n",
              "        google.colab.kernel.accessAllowed ? 'block' : 'none';\n",
              "    })();\n",
              "  </script>\n",
              "</div>\n",
              "    </div>\n",
              "  </div>\n"
            ],
            "application/vnd.google.colaboratory.intrinsic+json": {
              "type": "dataframe",
              "variable_name": "df_raw_2013_2022"
            }
          },
          "metadata": {},
          "execution_count": 382
        }
      ]
    },
    {
      "cell_type": "markdown",
      "source": [
        "#Scalenie"
      ],
      "metadata": {
        "id": "EpQngH_QtSNx"
      }
    },
    {
      "cell_type": "markdown",
      "source": [
        "##df_raw"
      ],
      "metadata": {
        "id": "UDxNlJakwarA"
      }
    },
    {
      "cell_type": "code",
      "source": [
        "# Znajdź wspólne kolumny\n",
        "wspolne_kolumny = list(set(df_raw_2023.columns) & set(df_raw_2013_2022.columns))\n",
        "\n",
        "# Wybierz wspólne kolumny z obu DataFrame'ów\n",
        "df_raw_2023_selected = df_raw_2023[wspolne_kolumny]\n",
        "df_raw_2013_2022_selected = df_raw_2013_2022[wspolne_kolumny]\n",
        "\n",
        "# Połącz oba DataFrame'y\n",
        "df_raw = pd.concat([df_raw_2013_2022_selected, df_raw_2023_selected])\n"
      ],
      "metadata": {
        "id": "pdnQfatRtZcp"
      },
      "execution_count": null,
      "outputs": []
    },
    {
      "cell_type": "code",
      "source": [
        "df_raw.head(1)"
      ],
      "metadata": {
        "colab": {
          "base_uri": "https://localhost:8080/",
          "height": 100
        },
        "id": "EDB8w-7-u2-H",
        "outputId": "4fdd4533-b4ad-4097-99a2-286c528fbfb8"
      },
      "execution_count": null,
      "outputs": [
        {
          "output_type": "execute_result",
          "data": {
            "text/plain": [
              "   Sukces Wiek Płeć Poz_edu Sposób     Data  L_powodów St_cyw Utrzymanie  \\\n",
              "0     NaN  NaN    M     NaN    NaN  01.2013          0    NaN        NaN   \n",
              "\n",
              "  Miejsce Stan Data_rok Leczenie Inf_praca  ID_samobójcy Data_miesiąc  \n",
              "0     NaN  NaN     2013      NaN       NaN  114581552,00           01  "
            ],
            "text/html": [
              "\n",
              "  <div id=\"df-9ff0a3c4-765c-45e9-bd4f-9fc4722bd8d9\" class=\"colab-df-container\">\n",
              "    <div>\n",
              "<style scoped>\n",
              "    .dataframe tbody tr th:only-of-type {\n",
              "        vertical-align: middle;\n",
              "    }\n",
              "\n",
              "    .dataframe tbody tr th {\n",
              "        vertical-align: top;\n",
              "    }\n",
              "\n",
              "    .dataframe thead th {\n",
              "        text-align: right;\n",
              "    }\n",
              "</style>\n",
              "<table border=\"1\" class=\"dataframe\">\n",
              "  <thead>\n",
              "    <tr style=\"text-align: right;\">\n",
              "      <th></th>\n",
              "      <th>Sukces</th>\n",
              "      <th>Wiek</th>\n",
              "      <th>Płeć</th>\n",
              "      <th>Poz_edu</th>\n",
              "      <th>Sposób</th>\n",
              "      <th>Data</th>\n",
              "      <th>L_powodów</th>\n",
              "      <th>St_cyw</th>\n",
              "      <th>Utrzymanie</th>\n",
              "      <th>Miejsce</th>\n",
              "      <th>Stan</th>\n",
              "      <th>Data_rok</th>\n",
              "      <th>Leczenie</th>\n",
              "      <th>Inf_praca</th>\n",
              "      <th>ID_samobójcy</th>\n",
              "      <th>Data_miesiąc</th>\n",
              "    </tr>\n",
              "  </thead>\n",
              "  <tbody>\n",
              "    <tr>\n",
              "      <th>0</th>\n",
              "      <td>NaN</td>\n",
              "      <td>NaN</td>\n",
              "      <td>M</td>\n",
              "      <td>NaN</td>\n",
              "      <td>NaN</td>\n",
              "      <td>01.2013</td>\n",
              "      <td>0</td>\n",
              "      <td>NaN</td>\n",
              "      <td>NaN</td>\n",
              "      <td>NaN</td>\n",
              "      <td>NaN</td>\n",
              "      <td>2013</td>\n",
              "      <td>NaN</td>\n",
              "      <td>NaN</td>\n",
              "      <td>114581552,00</td>\n",
              "      <td>01</td>\n",
              "    </tr>\n",
              "  </tbody>\n",
              "</table>\n",
              "</div>\n",
              "    <div class=\"colab-df-buttons\">\n",
              "\n",
              "  <div class=\"colab-df-container\">\n",
              "    <button class=\"colab-df-convert\" onclick=\"convertToInteractive('df-9ff0a3c4-765c-45e9-bd4f-9fc4722bd8d9')\"\n",
              "            title=\"Convert this dataframe to an interactive table.\"\n",
              "            style=\"display:none;\">\n",
              "\n",
              "  <svg xmlns=\"http://www.w3.org/2000/svg\" height=\"24px\" viewBox=\"0 -960 960 960\">\n",
              "    <path d=\"M120-120v-720h720v720H120Zm60-500h600v-160H180v160Zm220 220h160v-160H400v160Zm0 220h160v-160H400v160ZM180-400h160v-160H180v160Zm440 0h160v-160H620v160ZM180-180h160v-160H180v160Zm440 0h160v-160H620v160Z\"/>\n",
              "  </svg>\n",
              "    </button>\n",
              "\n",
              "  <style>\n",
              "    .colab-df-container {\n",
              "      display:flex;\n",
              "      gap: 12px;\n",
              "    }\n",
              "\n",
              "    .colab-df-convert {\n",
              "      background-color: #E8F0FE;\n",
              "      border: none;\n",
              "      border-radius: 50%;\n",
              "      cursor: pointer;\n",
              "      display: none;\n",
              "      fill: #1967D2;\n",
              "      height: 32px;\n",
              "      padding: 0 0 0 0;\n",
              "      width: 32px;\n",
              "    }\n",
              "\n",
              "    .colab-df-convert:hover {\n",
              "      background-color: #E2EBFA;\n",
              "      box-shadow: 0px 1px 2px rgba(60, 64, 67, 0.3), 0px 1px 3px 1px rgba(60, 64, 67, 0.15);\n",
              "      fill: #174EA6;\n",
              "    }\n",
              "\n",
              "    .colab-df-buttons div {\n",
              "      margin-bottom: 4px;\n",
              "    }\n",
              "\n",
              "    [theme=dark] .colab-df-convert {\n",
              "      background-color: #3B4455;\n",
              "      fill: #D2E3FC;\n",
              "    }\n",
              "\n",
              "    [theme=dark] .colab-df-convert:hover {\n",
              "      background-color: #434B5C;\n",
              "      box-shadow: 0px 1px 3px 1px rgba(0, 0, 0, 0.15);\n",
              "      filter: drop-shadow(0px 1px 2px rgba(0, 0, 0, 0.3));\n",
              "      fill: #FFFFFF;\n",
              "    }\n",
              "  </style>\n",
              "\n",
              "    <script>\n",
              "      const buttonEl =\n",
              "        document.querySelector('#df-9ff0a3c4-765c-45e9-bd4f-9fc4722bd8d9 button.colab-df-convert');\n",
              "      buttonEl.style.display =\n",
              "        google.colab.kernel.accessAllowed ? 'block' : 'none';\n",
              "\n",
              "      async function convertToInteractive(key) {\n",
              "        const element = document.querySelector('#df-9ff0a3c4-765c-45e9-bd4f-9fc4722bd8d9');\n",
              "        const dataTable =\n",
              "          await google.colab.kernel.invokeFunction('convertToInteractive',\n",
              "                                                    [key], {});\n",
              "        if (!dataTable) return;\n",
              "\n",
              "        const docLinkHtml = 'Like what you see? Visit the ' +\n",
              "          '<a target=\"_blank\" href=https://colab.research.google.com/notebooks/data_table.ipynb>data table notebook</a>'\n",
              "          + ' to learn more about interactive tables.';\n",
              "        element.innerHTML = '';\n",
              "        dataTable['output_type'] = 'display_data';\n",
              "        await google.colab.output.renderOutput(dataTable, element);\n",
              "        const docLink = document.createElement('div');\n",
              "        docLink.innerHTML = docLinkHtml;\n",
              "        element.appendChild(docLink);\n",
              "      }\n",
              "    </script>\n",
              "  </div>\n",
              "\n",
              "    </div>\n",
              "  </div>\n"
            ],
            "application/vnd.google.colaboratory.intrinsic+json": {
              "type": "dataframe",
              "variable_name": "df_raw"
            }
          },
          "metadata": {},
          "execution_count": 384
        }
      ]
    },
    {
      "cell_type": "code",
      "source": [
        "df_raw.shape"
      ],
      "metadata": {
        "colab": {
          "base_uri": "https://localhost:8080/"
        },
        "id": "nPAzvt6bv82K",
        "outputId": "2c76d846-f183-473a-ff9f-9244b60d76e0"
      },
      "execution_count": null,
      "outputs": [
        {
          "output_type": "execute_result",
          "data": {
            "text/plain": [
              "(128332, 16)"
            ]
          },
          "metadata": {},
          "execution_count": 385
        }
      ]
    },
    {
      "cell_type": "code",
      "source": [
        "df_raw_2013_2022.head(1)"
      ],
      "metadata": {
        "colab": {
          "base_uri": "https://localhost:8080/",
          "height": 100
        },
        "id": "7PXwVmRIvVZB",
        "outputId": "2abd98e5-23b6-48c3-b4b5-55b64ef94b25"
      },
      "execution_count": null,
      "outputs": [
        {
          "output_type": "execute_result",
          "data": {
            "text/plain": [
              "   ID_samobójcy     Data Wiek Płeć St_cyw Poz_edu Inf_praca Utrzymanie  \\\n",
              "0  114581552,00  01.2013  NaN    M    NaN     NaN       NaN        NaN   \n",
              "\n",
              "   Sukces Miejsce Sposób Stan Używanie Leczenie Data_rok Data_miesiąc  \\\n",
              "0     NaN     NaN    NaN  NaN      NaN      NaN     2013           01   \n",
              "\n",
              "   L_powodów  \n",
              "0          0  "
            ],
            "text/html": [
              "\n",
              "  <div id=\"df-0982a833-6293-49d4-9a62-fa5f3f9e7030\" class=\"colab-df-container\">\n",
              "    <div>\n",
              "<style scoped>\n",
              "    .dataframe tbody tr th:only-of-type {\n",
              "        vertical-align: middle;\n",
              "    }\n",
              "\n",
              "    .dataframe tbody tr th {\n",
              "        vertical-align: top;\n",
              "    }\n",
              "\n",
              "    .dataframe thead th {\n",
              "        text-align: right;\n",
              "    }\n",
              "</style>\n",
              "<table border=\"1\" class=\"dataframe\">\n",
              "  <thead>\n",
              "    <tr style=\"text-align: right;\">\n",
              "      <th></th>\n",
              "      <th>ID_samobójcy</th>\n",
              "      <th>Data</th>\n",
              "      <th>Wiek</th>\n",
              "      <th>Płeć</th>\n",
              "      <th>St_cyw</th>\n",
              "      <th>Poz_edu</th>\n",
              "      <th>Inf_praca</th>\n",
              "      <th>Utrzymanie</th>\n",
              "      <th>Sukces</th>\n",
              "      <th>Miejsce</th>\n",
              "      <th>Sposób</th>\n",
              "      <th>Stan</th>\n",
              "      <th>Używanie</th>\n",
              "      <th>Leczenie</th>\n",
              "      <th>Data_rok</th>\n",
              "      <th>Data_miesiąc</th>\n",
              "      <th>L_powodów</th>\n",
              "    </tr>\n",
              "  </thead>\n",
              "  <tbody>\n",
              "    <tr>\n",
              "      <th>0</th>\n",
              "      <td>114581552,00</td>\n",
              "      <td>01.2013</td>\n",
              "      <td>NaN</td>\n",
              "      <td>M</td>\n",
              "      <td>NaN</td>\n",
              "      <td>NaN</td>\n",
              "      <td>NaN</td>\n",
              "      <td>NaN</td>\n",
              "      <td>NaN</td>\n",
              "      <td>NaN</td>\n",
              "      <td>NaN</td>\n",
              "      <td>NaN</td>\n",
              "      <td>NaN</td>\n",
              "      <td>NaN</td>\n",
              "      <td>2013</td>\n",
              "      <td>01</td>\n",
              "      <td>0</td>\n",
              "    </tr>\n",
              "  </tbody>\n",
              "</table>\n",
              "</div>\n",
              "    <div class=\"colab-df-buttons\">\n",
              "\n",
              "  <div class=\"colab-df-container\">\n",
              "    <button class=\"colab-df-convert\" onclick=\"convertToInteractive('df-0982a833-6293-49d4-9a62-fa5f3f9e7030')\"\n",
              "            title=\"Convert this dataframe to an interactive table.\"\n",
              "            style=\"display:none;\">\n",
              "\n",
              "  <svg xmlns=\"http://www.w3.org/2000/svg\" height=\"24px\" viewBox=\"0 -960 960 960\">\n",
              "    <path d=\"M120-120v-720h720v720H120Zm60-500h600v-160H180v160Zm220 220h160v-160H400v160Zm0 220h160v-160H400v160ZM180-400h160v-160H180v160Zm440 0h160v-160H620v160ZM180-180h160v-160H180v160Zm440 0h160v-160H620v160Z\"/>\n",
              "  </svg>\n",
              "    </button>\n",
              "\n",
              "  <style>\n",
              "    .colab-df-container {\n",
              "      display:flex;\n",
              "      gap: 12px;\n",
              "    }\n",
              "\n",
              "    .colab-df-convert {\n",
              "      background-color: #E8F0FE;\n",
              "      border: none;\n",
              "      border-radius: 50%;\n",
              "      cursor: pointer;\n",
              "      display: none;\n",
              "      fill: #1967D2;\n",
              "      height: 32px;\n",
              "      padding: 0 0 0 0;\n",
              "      width: 32px;\n",
              "    }\n",
              "\n",
              "    .colab-df-convert:hover {\n",
              "      background-color: #E2EBFA;\n",
              "      box-shadow: 0px 1px 2px rgba(60, 64, 67, 0.3), 0px 1px 3px 1px rgba(60, 64, 67, 0.15);\n",
              "      fill: #174EA6;\n",
              "    }\n",
              "\n",
              "    .colab-df-buttons div {\n",
              "      margin-bottom: 4px;\n",
              "    }\n",
              "\n",
              "    [theme=dark] .colab-df-convert {\n",
              "      background-color: #3B4455;\n",
              "      fill: #D2E3FC;\n",
              "    }\n",
              "\n",
              "    [theme=dark] .colab-df-convert:hover {\n",
              "      background-color: #434B5C;\n",
              "      box-shadow: 0px 1px 3px 1px rgba(0, 0, 0, 0.15);\n",
              "      filter: drop-shadow(0px 1px 2px rgba(0, 0, 0, 0.3));\n",
              "      fill: #FFFFFF;\n",
              "    }\n",
              "  </style>\n",
              "\n",
              "    <script>\n",
              "      const buttonEl =\n",
              "        document.querySelector('#df-0982a833-6293-49d4-9a62-fa5f3f9e7030 button.colab-df-convert');\n",
              "      buttonEl.style.display =\n",
              "        google.colab.kernel.accessAllowed ? 'block' : 'none';\n",
              "\n",
              "      async function convertToInteractive(key) {\n",
              "        const element = document.querySelector('#df-0982a833-6293-49d4-9a62-fa5f3f9e7030');\n",
              "        const dataTable =\n",
              "          await google.colab.kernel.invokeFunction('convertToInteractive',\n",
              "                                                    [key], {});\n",
              "        if (!dataTable) return;\n",
              "\n",
              "        const docLinkHtml = 'Like what you see? Visit the ' +\n",
              "          '<a target=\"_blank\" href=https://colab.research.google.com/notebooks/data_table.ipynb>data table notebook</a>'\n",
              "          + ' to learn more about interactive tables.';\n",
              "        element.innerHTML = '';\n",
              "        dataTable['output_type'] = 'display_data';\n",
              "        await google.colab.output.renderOutput(dataTable, element);\n",
              "        const docLink = document.createElement('div');\n",
              "        docLink.innerHTML = docLinkHtml;\n",
              "        element.appendChild(docLink);\n",
              "      }\n",
              "    </script>\n",
              "  </div>\n",
              "\n",
              "    </div>\n",
              "  </div>\n"
            ],
            "application/vnd.google.colaboratory.intrinsic+json": {
              "type": "dataframe",
              "variable_name": "df_raw_2013_2022"
            }
          },
          "metadata": {},
          "execution_count": 386
        }
      ]
    },
    {
      "cell_type": "code",
      "source": [
        "df_raw_2013_2022.shape"
      ],
      "metadata": {
        "colab": {
          "base_uri": "https://localhost:8080/"
        },
        "id": "I889M6JSwC2E",
        "outputId": "9a75d935-a95d-4d64-f05c-518fb01f1ae9"
      },
      "execution_count": null,
      "outputs": [
        {
          "output_type": "execute_result",
          "data": {
            "text/plain": [
              "(113196, 17)"
            ]
          },
          "metadata": {},
          "execution_count": 387
        }
      ]
    },
    {
      "cell_type": "code",
      "source": [
        "df_raw_2023.head(1)"
      ],
      "metadata": {
        "colab": {
          "base_uri": "https://localhost:8080/",
          "height": 118
        },
        "id": "yxpAKYoDvaUf",
        "outputId": "09702cd2-ad81-4be9-a1c8-194782a257d7"
      },
      "execution_count": null,
      "outputs": [
        {
          "output_type": "execute_result",
          "data": {
            "text/plain": [
              "  ID_samobójcy     Data   Wiek Płeć       St_cyw Poz_edu   Inf_praca  \\\n",
              "0    138421942  01.2023  25-29    M  Partnerstwo     NaN  Bezrobotny   \n",
              "\n",
              "  Utrzymanie  Sukces     Miejsce Klasa_miejscowości           Sposób  Stan  \\\n",
              "0        NaN     0.0  Mieszkanie               Wieś  Samookaleczenie  Alko   \n",
              "\n",
              "  Informacje_dotyczące_stanu_zdrowia_* Leczenie  \\\n",
              "0              Brak danych/nieustalono      NaN   \n",
              "\n",
              "  W_ciągu_ostatniego_miesiąca_sprawca_zdarzenia_miał_przynajmniej_jeden_raz_kontakt_z_*  \\\n",
              "0                          Brak możliwości ustalenia                                      \n",
              "\n",
              "  Data_rok Data_miesiąc  L_powodów  \n",
              "0     2023           01          2  "
            ],
            "text/html": [
              "\n",
              "  <div id=\"df-c0241c3a-5a76-4a72-8697-ff77094e9fbe\" class=\"colab-df-container\">\n",
              "    <div>\n",
              "<style scoped>\n",
              "    .dataframe tbody tr th:only-of-type {\n",
              "        vertical-align: middle;\n",
              "    }\n",
              "\n",
              "    .dataframe tbody tr th {\n",
              "        vertical-align: top;\n",
              "    }\n",
              "\n",
              "    .dataframe thead th {\n",
              "        text-align: right;\n",
              "    }\n",
              "</style>\n",
              "<table border=\"1\" class=\"dataframe\">\n",
              "  <thead>\n",
              "    <tr style=\"text-align: right;\">\n",
              "      <th></th>\n",
              "      <th>ID_samobójcy</th>\n",
              "      <th>Data</th>\n",
              "      <th>Wiek</th>\n",
              "      <th>Płeć</th>\n",
              "      <th>St_cyw</th>\n",
              "      <th>Poz_edu</th>\n",
              "      <th>Inf_praca</th>\n",
              "      <th>Utrzymanie</th>\n",
              "      <th>Sukces</th>\n",
              "      <th>Miejsce</th>\n",
              "      <th>Klasa_miejscowości</th>\n",
              "      <th>Sposób</th>\n",
              "      <th>Stan</th>\n",
              "      <th>Informacje_dotyczące_stanu_zdrowia_*</th>\n",
              "      <th>Leczenie</th>\n",
              "      <th>W_ciągu_ostatniego_miesiąca_sprawca_zdarzenia_miał_przynajmniej_jeden_raz_kontakt_z_*</th>\n",
              "      <th>Data_rok</th>\n",
              "      <th>Data_miesiąc</th>\n",
              "      <th>L_powodów</th>\n",
              "    </tr>\n",
              "  </thead>\n",
              "  <tbody>\n",
              "    <tr>\n",
              "      <th>0</th>\n",
              "      <td>138421942</td>\n",
              "      <td>01.2023</td>\n",
              "      <td>25-29</td>\n",
              "      <td>M</td>\n",
              "      <td>Partnerstwo</td>\n",
              "      <td>NaN</td>\n",
              "      <td>Bezrobotny</td>\n",
              "      <td>NaN</td>\n",
              "      <td>0.0</td>\n",
              "      <td>Mieszkanie</td>\n",
              "      <td>Wieś</td>\n",
              "      <td>Samookaleczenie</td>\n",
              "      <td>Alko</td>\n",
              "      <td>Brak danych/nieustalono</td>\n",
              "      <td>NaN</td>\n",
              "      <td>Brak możliwości ustalenia</td>\n",
              "      <td>2023</td>\n",
              "      <td>01</td>\n",
              "      <td>2</td>\n",
              "    </tr>\n",
              "  </tbody>\n",
              "</table>\n",
              "</div>\n",
              "    <div class=\"colab-df-buttons\">\n",
              "\n",
              "  <div class=\"colab-df-container\">\n",
              "    <button class=\"colab-df-convert\" onclick=\"convertToInteractive('df-c0241c3a-5a76-4a72-8697-ff77094e9fbe')\"\n",
              "            title=\"Convert this dataframe to an interactive table.\"\n",
              "            style=\"display:none;\">\n",
              "\n",
              "  <svg xmlns=\"http://www.w3.org/2000/svg\" height=\"24px\" viewBox=\"0 -960 960 960\">\n",
              "    <path d=\"M120-120v-720h720v720H120Zm60-500h600v-160H180v160Zm220 220h160v-160H400v160Zm0 220h160v-160H400v160ZM180-400h160v-160H180v160Zm440 0h160v-160H620v160ZM180-180h160v-160H180v160Zm440 0h160v-160H620v160Z\"/>\n",
              "  </svg>\n",
              "    </button>\n",
              "\n",
              "  <style>\n",
              "    .colab-df-container {\n",
              "      display:flex;\n",
              "      gap: 12px;\n",
              "    }\n",
              "\n",
              "    .colab-df-convert {\n",
              "      background-color: #E8F0FE;\n",
              "      border: none;\n",
              "      border-radius: 50%;\n",
              "      cursor: pointer;\n",
              "      display: none;\n",
              "      fill: #1967D2;\n",
              "      height: 32px;\n",
              "      padding: 0 0 0 0;\n",
              "      width: 32px;\n",
              "    }\n",
              "\n",
              "    .colab-df-convert:hover {\n",
              "      background-color: #E2EBFA;\n",
              "      box-shadow: 0px 1px 2px rgba(60, 64, 67, 0.3), 0px 1px 3px 1px rgba(60, 64, 67, 0.15);\n",
              "      fill: #174EA6;\n",
              "    }\n",
              "\n",
              "    .colab-df-buttons div {\n",
              "      margin-bottom: 4px;\n",
              "    }\n",
              "\n",
              "    [theme=dark] .colab-df-convert {\n",
              "      background-color: #3B4455;\n",
              "      fill: #D2E3FC;\n",
              "    }\n",
              "\n",
              "    [theme=dark] .colab-df-convert:hover {\n",
              "      background-color: #434B5C;\n",
              "      box-shadow: 0px 1px 3px 1px rgba(0, 0, 0, 0.15);\n",
              "      filter: drop-shadow(0px 1px 2px rgba(0, 0, 0, 0.3));\n",
              "      fill: #FFFFFF;\n",
              "    }\n",
              "  </style>\n",
              "\n",
              "    <script>\n",
              "      const buttonEl =\n",
              "        document.querySelector('#df-c0241c3a-5a76-4a72-8697-ff77094e9fbe button.colab-df-convert');\n",
              "      buttonEl.style.display =\n",
              "        google.colab.kernel.accessAllowed ? 'block' : 'none';\n",
              "\n",
              "      async function convertToInteractive(key) {\n",
              "        const element = document.querySelector('#df-c0241c3a-5a76-4a72-8697-ff77094e9fbe');\n",
              "        const dataTable =\n",
              "          await google.colab.kernel.invokeFunction('convertToInteractive',\n",
              "                                                    [key], {});\n",
              "        if (!dataTable) return;\n",
              "\n",
              "        const docLinkHtml = 'Like what you see? Visit the ' +\n",
              "          '<a target=\"_blank\" href=https://colab.research.google.com/notebooks/data_table.ipynb>data table notebook</a>'\n",
              "          + ' to learn more about interactive tables.';\n",
              "        element.innerHTML = '';\n",
              "        dataTable['output_type'] = 'display_data';\n",
              "        await google.colab.output.renderOutput(dataTable, element);\n",
              "        const docLink = document.createElement('div');\n",
              "        docLink.innerHTML = docLinkHtml;\n",
              "        element.appendChild(docLink);\n",
              "      }\n",
              "    </script>\n",
              "  </div>\n",
              "\n",
              "    </div>\n",
              "  </div>\n"
            ],
            "application/vnd.google.colaboratory.intrinsic+json": {
              "type": "dataframe",
              "variable_name": "df_raw_2023",
              "summary": "{\n  \"name\": \"df_raw_2023\",\n  \"rows\": 15136,\n  \"fields\": [\n    {\n      \"column\": \"ID_samob\\u00f3jcy\",\n      \"properties\": {\n        \"dtype\": \"string\",\n        \"num_unique_values\": 15134,\n        \"samples\": [\n          138537735,\n          139320393,\n          139252885\n        ],\n        \"semantic_type\": \"\",\n        \"description\": \"\"\n      }\n    },\n    {\n      \"column\": \"Data\",\n      \"properties\": {\n        \"dtype\": \"category\",\n        \"num_unique_values\": 12,\n        \"samples\": [\n          \"11.2023\",\n          \"10.2023\",\n          \"01.2023\"\n        ],\n        \"semantic_type\": \"\",\n        \"description\": \"\"\n      }\n    },\n    {\n      \"column\": \"Wiek\",\n      \"properties\": {\n        \"dtype\": \"category\",\n        \"num_unique_values\": 17,\n        \"samples\": [\n          \"25-29\",\n          \"55-59\",\n          \"50-54\"\n        ],\n        \"semantic_type\": \"\",\n        \"description\": \"\"\n      }\n    },\n    {\n      \"column\": \"P\\u0142e\\u0107\",\n      \"properties\": {\n        \"dtype\": \"category\",\n        \"num_unique_values\": 2,\n        \"samples\": [\n          \"K\",\n          \"M\"\n        ],\n        \"semantic_type\": \"\",\n        \"description\": \"\"\n      }\n    },\n    {\n      \"column\": \"St_cyw\",\n      \"properties\": {\n        \"dtype\": \"category\",\n        \"num_unique_values\": 6,\n        \"samples\": [\n          \"Partnerstwo\",\n          \"Ma\\u0142\\u017ce\\u0144stwo\"\n        ],\n        \"semantic_type\": \"\",\n        \"description\": \"\"\n      }\n    },\n    {\n      \"column\": \"Poz_edu\",\n      \"properties\": {\n        \"dtype\": \"category\",\n        \"num_unique_values\": 7,\n        \"samples\": [\n          \"Podst\",\n          \"\\u015arednie\"\n        ],\n        \"semantic_type\": \"\",\n        \"description\": \"\"\n      }\n    },\n    {\n      \"column\": \"Inf_praca\",\n      \"properties\": {\n        \"dtype\": \"category\",\n        \"num_unique_values\": 5,\n        \"samples\": [\n          \"Ucze\\u0144\",\n          \"W\\u0142asna\"\n        ],\n        \"semantic_type\": \"\",\n        \"description\": \"\"\n      }\n    },\n    {\n      \"column\": \"Utrzymanie\",\n      \"properties\": {\n        \"dtype\": \"category\",\n        \"num_unique_values\": 4,\n        \"samples\": [\n          \"Praca\",\n          \"Bez_dochodu\"\n        ],\n        \"semantic_type\": \"\",\n        \"description\": \"\"\n      }\n    },\n    {\n      \"column\": \"Sukces\",\n      \"properties\": {\n        \"dtype\": \"number\",\n        \"std\": 0.4756294647878996,\n        \"min\": 0.0,\n        \"max\": 1.0,\n        \"num_unique_values\": 2,\n        \"samples\": [\n          1.0,\n          0.0\n        ],\n        \"semantic_type\": \"\",\n        \"description\": \"\"\n      }\n    },\n    {\n      \"column\": \"Miejsce\",\n      \"properties\": {\n        \"dtype\": \"category\",\n        \"num_unique_values\": 15,\n        \"samples\": [\n          \"Praca\",\n          \"Lecznica\"\n        ],\n        \"semantic_type\": \"\",\n        \"description\": \"\"\n      }\n    },\n    {\n      \"column\": \"Klasa_miejscowo\\u015bci\",\n      \"properties\": {\n        \"dtype\": \"category\",\n        \"num_unique_values\": 7,\n        \"samples\": [\n          \"Wie\\u015b\",\n          \"Miasto o liczbie ludno\\u015bci 20 000 \\u2013 49 999\"\n        ],\n        \"semantic_type\": \"\",\n        \"description\": \"\"\n      }\n    },\n    {\n      \"column\": \"Spos\\u00f3b\",\n      \"properties\": {\n        \"dtype\": \"category\",\n        \"num_unique_values\": 16,\n        \"samples\": [\n          \"Samookaleczenie\",\n          \"Powieszenie\"\n        ],\n        \"semantic_type\": \"\",\n        \"description\": \"\"\n      }\n    },\n    {\n      \"column\": \"Stan\",\n      \"properties\": {\n        \"dtype\": \"category\",\n        \"num_unique_values\": 10,\n        \"samples\": [\n          \"Alko+dopa\",\n          \"Trze\\u017awy\"\n        ],\n        \"semantic_type\": \"\",\n        \"description\": \"\"\n      }\n    },\n    {\n      \"column\": \"Informacje_dotycz\\u0105ce_stanu_zdrowia_*\",\n      \"properties\": {\n        \"dtype\": \"category\",\n        \"num_unique_values\": 19,\n        \"samples\": [\n          \"Brak danych/nieustalono\",\n          \"Trwa\\u0142e kalectwo\"\n        ],\n        \"semantic_type\": \"\",\n        \"description\": \"\"\n      }\n    },\n    {\n      \"column\": \"Leczenie\",\n      \"properties\": {\n        \"dtype\": \"category\",\n        \"num_unique_values\": 3,\n        \"samples\": [\n          \"Alko\",\n          \"Narko\"\n        ],\n        \"semantic_type\": \"\",\n        \"description\": \"\"\n      }\n    },\n    {\n      \"column\": \"W_ci\\u0105gu_ostatniego_miesi\\u0105ca_sprawca_zdarzenia_mia\\u0142_przynajmniej_jeden_raz_kontakt_z_*\",\n      \"properties\": {\n        \"dtype\": \"category\",\n        \"num_unique_values\": 7,\n        \"samples\": [\n          \"Brak mo\\u017cliwo\\u015bci ustalenia\",\n          \"Plac\\u00f3wk\\u0105 lecznicz\\u0105\"\n        ],\n        \"semantic_type\": \"\",\n        \"description\": \"\"\n      }\n    },\n    {\n      \"column\": \"Data_rok\",\n      \"properties\": {\n        \"dtype\": \"object\",\n        \"num_unique_values\": 1,\n        \"samples\": [\n          \"2023\"\n        ],\n        \"semantic_type\": \"\",\n        \"description\": \"\"\n      }\n    },\n    {\n      \"column\": \"Data_miesi\\u0105c\",\n      \"properties\": {\n        \"dtype\": \"category\",\n        \"num_unique_values\": 12,\n        \"samples\": [\n          \"11\"\n        ],\n        \"semantic_type\": \"\",\n        \"description\": \"\"\n      }\n    },\n    {\n      \"column\": \"L_powod\\u00f3w\",\n      \"properties\": {\n        \"dtype\": \"number\",\n        \"std\": 0,\n        \"min\": 0,\n        \"max\": 4,\n        \"num_unique_values\": 5,\n        \"samples\": [\n          0\n        ],\n        \"semantic_type\": \"\",\n        \"description\": \"\"\n      }\n    }\n  ]\n}"
            }
          },
          "metadata": {},
          "execution_count": 388
        }
      ]
    },
    {
      "cell_type": "code",
      "source": [
        "df_raw_2023.shape"
      ],
      "metadata": {
        "colab": {
          "base_uri": "https://localhost:8080/"
        },
        "id": "SwEi_EQFwKRS",
        "outputId": "c7386d9e-403e-4347-d9cc-50200ef25185"
      },
      "execution_count": null,
      "outputs": [
        {
          "output_type": "execute_result",
          "data": {
            "text/plain": [
              "(15136, 19)"
            ]
          },
          "metadata": {},
          "execution_count": 389
        }
      ]
    },
    {
      "cell_type": "markdown",
      "source": [
        "##df_powód_zamachu"
      ],
      "metadata": {
        "id": "b65iyEmqwflZ"
      }
    },
    {
      "cell_type": "code",
      "source": [
        "# Połącz oba DataFrame'y\n",
        "df_powód_zamachu = pd.concat([df_powód_zamachu_2013_2022, df_powód_zamachu_2023])\n",
        "df_powód_zamachu.fillna(0, inplace=True)"
      ],
      "metadata": {
        "id": "mfTwJ1_9whYG"
      },
      "execution_count": null,
      "outputs": []
    },
    {
      "cell_type": "code",
      "source": [
        "df_powód_zamachu.head(1)"
      ],
      "metadata": {
        "outputId": "bbeac0fc-d640-4aaa-8e37-1def69171363",
        "colab": {
          "base_uri": "https://localhost:8080/",
          "height": 100
        },
        "id": "vczwIgYExAsR"
      },
      "execution_count": null,
      "outputs": [
        {
          "output_type": "execute_result",
          "data": {
            "text/plain": [
              "   Powód_HIV/AIDS  Powód_Śmierć_bliskiego  Powód_Bezdomność  Powód_Zdrowie  \\\n",
              "0               0                       0                 0              0   \n",
              "\n",
              "   Powód_Praca  Powód_Miłość  Powód_Konflikty_inni  Powód_Utrata_utrzymania  \\\n",
              "0            0             0                     0                        0   \n",
              "\n",
              "   Powód_Choroby_fiz  Powód_Kalectwo  Powód_Inne  Powód_Choroba  \\\n",
              "0                  0               0           0            0.0   \n",
              "\n",
              "   Powód_Choroby_psych  Powód_Przestępstwa  Powód_Finanse  Powód_Mobbing  \\\n",
              "0                    0                   0              0              0   \n",
              "\n",
              "   Powód_Ciąża  Powód_Konflikty_rodzinne  \n",
              "0            0                         0  "
            ],
            "text/html": [
              "\n",
              "  <div id=\"df-efd9c9ba-4d7f-409f-8afe-a6641e0668cc\" class=\"colab-df-container\">\n",
              "    <div>\n",
              "<style scoped>\n",
              "    .dataframe tbody tr th:only-of-type {\n",
              "        vertical-align: middle;\n",
              "    }\n",
              "\n",
              "    .dataframe tbody tr th {\n",
              "        vertical-align: top;\n",
              "    }\n",
              "\n",
              "    .dataframe thead th {\n",
              "        text-align: right;\n",
              "    }\n",
              "</style>\n",
              "<table border=\"1\" class=\"dataframe\">\n",
              "  <thead>\n",
              "    <tr style=\"text-align: right;\">\n",
              "      <th></th>\n",
              "      <th>Powód_HIV/AIDS</th>\n",
              "      <th>Powód_Śmierć_bliskiego</th>\n",
              "      <th>Powód_Bezdomność</th>\n",
              "      <th>Powód_Zdrowie</th>\n",
              "      <th>Powód_Praca</th>\n",
              "      <th>Powód_Miłość</th>\n",
              "      <th>Powód_Konflikty_inni</th>\n",
              "      <th>Powód_Utrata_utrzymania</th>\n",
              "      <th>Powód_Choroby_fiz</th>\n",
              "      <th>Powód_Kalectwo</th>\n",
              "      <th>Powód_Inne</th>\n",
              "      <th>Powód_Choroba</th>\n",
              "      <th>Powód_Choroby_psych</th>\n",
              "      <th>Powód_Przestępstwa</th>\n",
              "      <th>Powód_Finanse</th>\n",
              "      <th>Powód_Mobbing</th>\n",
              "      <th>Powód_Ciąża</th>\n",
              "      <th>Powód_Konflikty_rodzinne</th>\n",
              "    </tr>\n",
              "  </thead>\n",
              "  <tbody>\n",
              "    <tr>\n",
              "      <th>0</th>\n",
              "      <td>0</td>\n",
              "      <td>0</td>\n",
              "      <td>0</td>\n",
              "      <td>0</td>\n",
              "      <td>0</td>\n",
              "      <td>0</td>\n",
              "      <td>0</td>\n",
              "      <td>0</td>\n",
              "      <td>0</td>\n",
              "      <td>0</td>\n",
              "      <td>0</td>\n",
              "      <td>0.0</td>\n",
              "      <td>0</td>\n",
              "      <td>0</td>\n",
              "      <td>0</td>\n",
              "      <td>0</td>\n",
              "      <td>0</td>\n",
              "      <td>0</td>\n",
              "    </tr>\n",
              "  </tbody>\n",
              "</table>\n",
              "</div>\n",
              "    <div class=\"colab-df-buttons\">\n",
              "\n",
              "  <div class=\"colab-df-container\">\n",
              "    <button class=\"colab-df-convert\" onclick=\"convertToInteractive('df-efd9c9ba-4d7f-409f-8afe-a6641e0668cc')\"\n",
              "            title=\"Convert this dataframe to an interactive table.\"\n",
              "            style=\"display:none;\">\n",
              "\n",
              "  <svg xmlns=\"http://www.w3.org/2000/svg\" height=\"24px\" viewBox=\"0 -960 960 960\">\n",
              "    <path d=\"M120-120v-720h720v720H120Zm60-500h600v-160H180v160Zm220 220h160v-160H400v160Zm0 220h160v-160H400v160ZM180-400h160v-160H180v160Zm440 0h160v-160H620v160ZM180-180h160v-160H180v160Zm440 0h160v-160H620v160Z\"/>\n",
              "  </svg>\n",
              "    </button>\n",
              "\n",
              "  <style>\n",
              "    .colab-df-container {\n",
              "      display:flex;\n",
              "      gap: 12px;\n",
              "    }\n",
              "\n",
              "    .colab-df-convert {\n",
              "      background-color: #E8F0FE;\n",
              "      border: none;\n",
              "      border-radius: 50%;\n",
              "      cursor: pointer;\n",
              "      display: none;\n",
              "      fill: #1967D2;\n",
              "      height: 32px;\n",
              "      padding: 0 0 0 0;\n",
              "      width: 32px;\n",
              "    }\n",
              "\n",
              "    .colab-df-convert:hover {\n",
              "      background-color: #E2EBFA;\n",
              "      box-shadow: 0px 1px 2px rgba(60, 64, 67, 0.3), 0px 1px 3px 1px rgba(60, 64, 67, 0.15);\n",
              "      fill: #174EA6;\n",
              "    }\n",
              "\n",
              "    .colab-df-buttons div {\n",
              "      margin-bottom: 4px;\n",
              "    }\n",
              "\n",
              "    [theme=dark] .colab-df-convert {\n",
              "      background-color: #3B4455;\n",
              "      fill: #D2E3FC;\n",
              "    }\n",
              "\n",
              "    [theme=dark] .colab-df-convert:hover {\n",
              "      background-color: #434B5C;\n",
              "      box-shadow: 0px 1px 3px 1px rgba(0, 0, 0, 0.15);\n",
              "      filter: drop-shadow(0px 1px 2px rgba(0, 0, 0, 0.3));\n",
              "      fill: #FFFFFF;\n",
              "    }\n",
              "  </style>\n",
              "\n",
              "    <script>\n",
              "      const buttonEl =\n",
              "        document.querySelector('#df-efd9c9ba-4d7f-409f-8afe-a6641e0668cc button.colab-df-convert');\n",
              "      buttonEl.style.display =\n",
              "        google.colab.kernel.accessAllowed ? 'block' : 'none';\n",
              "\n",
              "      async function convertToInteractive(key) {\n",
              "        const element = document.querySelector('#df-efd9c9ba-4d7f-409f-8afe-a6641e0668cc');\n",
              "        const dataTable =\n",
              "          await google.colab.kernel.invokeFunction('convertToInteractive',\n",
              "                                                    [key], {});\n",
              "        if (!dataTable) return;\n",
              "\n",
              "        const docLinkHtml = 'Like what you see? Visit the ' +\n",
              "          '<a target=\"_blank\" href=https://colab.research.google.com/notebooks/data_table.ipynb>data table notebook</a>'\n",
              "          + ' to learn more about interactive tables.';\n",
              "        element.innerHTML = '';\n",
              "        dataTable['output_type'] = 'display_data';\n",
              "        await google.colab.output.renderOutput(dataTable, element);\n",
              "        const docLink = document.createElement('div');\n",
              "        docLink.innerHTML = docLinkHtml;\n",
              "        element.appendChild(docLink);\n",
              "      }\n",
              "    </script>\n",
              "  </div>\n",
              "\n",
              "    </div>\n",
              "  </div>\n"
            ],
            "application/vnd.google.colaboratory.intrinsic+json": {
              "type": "dataframe",
              "variable_name": "df_powód_zamachu"
            }
          },
          "metadata": {},
          "execution_count": 391
        }
      ]
    },
    {
      "cell_type": "code",
      "source": [
        "df_powód_zamachu.shape"
      ],
      "metadata": {
        "outputId": "278808e7-82ab-4f91-802a-36689fa01ce3",
        "colab": {
          "base_uri": "https://localhost:8080/"
        },
        "id": "AdSqSSiPxAsY"
      },
      "execution_count": null,
      "outputs": [
        {
          "output_type": "execute_result",
          "data": {
            "text/plain": [
              "(128332, 18)"
            ]
          },
          "metadata": {},
          "execution_count": 392
        }
      ]
    },
    {
      "cell_type": "code",
      "source": [
        "df_powód_zamachu_2013_2022.head(1)"
      ],
      "metadata": {
        "outputId": "dabafd33-6d3e-46b1-c8b8-b97e91b00f7f",
        "colab": {
          "base_uri": "https://localhost:8080/",
          "height": 100
        },
        "id": "8D8RooWYxAsY"
      },
      "execution_count": null,
      "outputs": [
        {
          "output_type": "execute_result",
          "data": {
            "text/plain": [
              "   Powód_HIV/AIDS  Powód_Śmierć_bliskiego  Powód_Bezdomność  Powód_Zdrowie  \\\n",
              "0               0                       0                 0              0   \n",
              "\n",
              "   Powód_Praca  Powód_Miłość  Powód_Konflikty_inni  Powód_Utrata_utrzymania  \\\n",
              "0            0             0                     0                        0   \n",
              "\n",
              "   Powód_Choroby_fiz  Powód_Kalectwo  Powód_Inne  Powód_Choroba  \\\n",
              "0                  0               0           0              0   \n",
              "\n",
              "   Powód_Choroby_psych  Powód_Przestępstwa  Powód_Finanse  Powód_Mobbing  \\\n",
              "0                    0                   0              0              0   \n",
              "\n",
              "   Powód_Ciąża  Powód_Konflikty_rodzinne  \n",
              "0            0                         0  "
            ],
            "text/html": [
              "\n",
              "  <div id=\"df-6e7533c5-983a-4110-8d2a-66bb69bea959\" class=\"colab-df-container\">\n",
              "    <div>\n",
              "<style scoped>\n",
              "    .dataframe tbody tr th:only-of-type {\n",
              "        vertical-align: middle;\n",
              "    }\n",
              "\n",
              "    .dataframe tbody tr th {\n",
              "        vertical-align: top;\n",
              "    }\n",
              "\n",
              "    .dataframe thead th {\n",
              "        text-align: right;\n",
              "    }\n",
              "</style>\n",
              "<table border=\"1\" class=\"dataframe\">\n",
              "  <thead>\n",
              "    <tr style=\"text-align: right;\">\n",
              "      <th></th>\n",
              "      <th>Powód_HIV/AIDS</th>\n",
              "      <th>Powód_Śmierć_bliskiego</th>\n",
              "      <th>Powód_Bezdomność</th>\n",
              "      <th>Powód_Zdrowie</th>\n",
              "      <th>Powód_Praca</th>\n",
              "      <th>Powód_Miłość</th>\n",
              "      <th>Powód_Konflikty_inni</th>\n",
              "      <th>Powód_Utrata_utrzymania</th>\n",
              "      <th>Powód_Choroby_fiz</th>\n",
              "      <th>Powód_Kalectwo</th>\n",
              "      <th>Powód_Inne</th>\n",
              "      <th>Powód_Choroba</th>\n",
              "      <th>Powód_Choroby_psych</th>\n",
              "      <th>Powód_Przestępstwa</th>\n",
              "      <th>Powód_Finanse</th>\n",
              "      <th>Powód_Mobbing</th>\n",
              "      <th>Powód_Ciąża</th>\n",
              "      <th>Powód_Konflikty_rodzinne</th>\n",
              "    </tr>\n",
              "  </thead>\n",
              "  <tbody>\n",
              "    <tr>\n",
              "      <th>0</th>\n",
              "      <td>0</td>\n",
              "      <td>0</td>\n",
              "      <td>0</td>\n",
              "      <td>0</td>\n",
              "      <td>0</td>\n",
              "      <td>0</td>\n",
              "      <td>0</td>\n",
              "      <td>0</td>\n",
              "      <td>0</td>\n",
              "      <td>0</td>\n",
              "      <td>0</td>\n",
              "      <td>0</td>\n",
              "      <td>0</td>\n",
              "      <td>0</td>\n",
              "      <td>0</td>\n",
              "      <td>0</td>\n",
              "      <td>0</td>\n",
              "      <td>0</td>\n",
              "    </tr>\n",
              "  </tbody>\n",
              "</table>\n",
              "</div>\n",
              "    <div class=\"colab-df-buttons\">\n",
              "\n",
              "  <div class=\"colab-df-container\">\n",
              "    <button class=\"colab-df-convert\" onclick=\"convertToInteractive('df-6e7533c5-983a-4110-8d2a-66bb69bea959')\"\n",
              "            title=\"Convert this dataframe to an interactive table.\"\n",
              "            style=\"display:none;\">\n",
              "\n",
              "  <svg xmlns=\"http://www.w3.org/2000/svg\" height=\"24px\" viewBox=\"0 -960 960 960\">\n",
              "    <path d=\"M120-120v-720h720v720H120Zm60-500h600v-160H180v160Zm220 220h160v-160H400v160Zm0 220h160v-160H400v160ZM180-400h160v-160H180v160Zm440 0h160v-160H620v160ZM180-180h160v-160H180v160Zm440 0h160v-160H620v160Z\"/>\n",
              "  </svg>\n",
              "    </button>\n",
              "\n",
              "  <style>\n",
              "    .colab-df-container {\n",
              "      display:flex;\n",
              "      gap: 12px;\n",
              "    }\n",
              "\n",
              "    .colab-df-convert {\n",
              "      background-color: #E8F0FE;\n",
              "      border: none;\n",
              "      border-radius: 50%;\n",
              "      cursor: pointer;\n",
              "      display: none;\n",
              "      fill: #1967D2;\n",
              "      height: 32px;\n",
              "      padding: 0 0 0 0;\n",
              "      width: 32px;\n",
              "    }\n",
              "\n",
              "    .colab-df-convert:hover {\n",
              "      background-color: #E2EBFA;\n",
              "      box-shadow: 0px 1px 2px rgba(60, 64, 67, 0.3), 0px 1px 3px 1px rgba(60, 64, 67, 0.15);\n",
              "      fill: #174EA6;\n",
              "    }\n",
              "\n",
              "    .colab-df-buttons div {\n",
              "      margin-bottom: 4px;\n",
              "    }\n",
              "\n",
              "    [theme=dark] .colab-df-convert {\n",
              "      background-color: #3B4455;\n",
              "      fill: #D2E3FC;\n",
              "    }\n",
              "\n",
              "    [theme=dark] .colab-df-convert:hover {\n",
              "      background-color: #434B5C;\n",
              "      box-shadow: 0px 1px 3px 1px rgba(0, 0, 0, 0.15);\n",
              "      filter: drop-shadow(0px 1px 2px rgba(0, 0, 0, 0.3));\n",
              "      fill: #FFFFFF;\n",
              "    }\n",
              "  </style>\n",
              "\n",
              "    <script>\n",
              "      const buttonEl =\n",
              "        document.querySelector('#df-6e7533c5-983a-4110-8d2a-66bb69bea959 button.colab-df-convert');\n",
              "      buttonEl.style.display =\n",
              "        google.colab.kernel.accessAllowed ? 'block' : 'none';\n",
              "\n",
              "      async function convertToInteractive(key) {\n",
              "        const element = document.querySelector('#df-6e7533c5-983a-4110-8d2a-66bb69bea959');\n",
              "        const dataTable =\n",
              "          await google.colab.kernel.invokeFunction('convertToInteractive',\n",
              "                                                    [key], {});\n",
              "        if (!dataTable) return;\n",
              "\n",
              "        const docLinkHtml = 'Like what you see? Visit the ' +\n",
              "          '<a target=\"_blank\" href=https://colab.research.google.com/notebooks/data_table.ipynb>data table notebook</a>'\n",
              "          + ' to learn more about interactive tables.';\n",
              "        element.innerHTML = '';\n",
              "        dataTable['output_type'] = 'display_data';\n",
              "        await google.colab.output.renderOutput(dataTable, element);\n",
              "        const docLink = document.createElement('div');\n",
              "        docLink.innerHTML = docLinkHtml;\n",
              "        element.appendChild(docLink);\n",
              "      }\n",
              "    </script>\n",
              "  </div>\n",
              "\n",
              "    </div>\n",
              "  </div>\n"
            ],
            "application/vnd.google.colaboratory.intrinsic+json": {
              "type": "dataframe",
              "variable_name": "df_powód_zamachu_2013_2022"
            }
          },
          "metadata": {},
          "execution_count": 393
        }
      ]
    },
    {
      "cell_type": "code",
      "source": [
        "df_powód_zamachu_2013_2022.shape"
      ],
      "metadata": {
        "outputId": "b0eaaf50-10a3-40f3-cc38-875b76d712b1",
        "colab": {
          "base_uri": "https://localhost:8080/"
        },
        "id": "XNac_lBFxAsY"
      },
      "execution_count": null,
      "outputs": [
        {
          "output_type": "execute_result",
          "data": {
            "text/plain": [
              "(113196, 18)"
            ]
          },
          "metadata": {},
          "execution_count": 394
        }
      ]
    },
    {
      "cell_type": "code",
      "source": [
        "df_powód_zamachu_2023.head(1)"
      ],
      "metadata": {
        "outputId": "37d0dc01-e14a-40b3-d0c9-93a4e1215c19",
        "colab": {
          "base_uri": "https://localhost:8080/",
          "height": 100
        },
        "id": "CjHapaF1xAsY"
      },
      "execution_count": null,
      "outputs": [
        {
          "output_type": "execute_result",
          "data": {
            "text/plain": [
              "   Powód_HIV/AIDS  Powód_Śmierć_bliskiego  Powód_Bezdomność  Powód_Zdrowie  \\\n",
              "0               0                       0                 0              0   \n",
              "\n",
              "   Powód_Praca  Powód_Miłość  Powód_Konflikty_inni  Powód_Utrata_utrzymania  \\\n",
              "0            0             0                     0                        0   \n",
              "\n",
              "   Powód_Choroby_fiz  Powód_Kalectwo  Powód_Inne  Powód_Finanse  \\\n",
              "0                  0               0           1              0   \n",
              "\n",
              "   Powód_Choroby_psych  Powód_Przestępstwa  Powód_Mobbing  Powód_Ciąża  \\\n",
              "0                    0                   0              0            0   \n",
              "\n",
              "   Powód_Konflikty_rodzinne  \n",
              "0                         1  "
            ],
            "text/html": [
              "\n",
              "  <div id=\"df-aafea988-3994-4e4b-81c3-d2d37c509370\" class=\"colab-df-container\">\n",
              "    <div>\n",
              "<style scoped>\n",
              "    .dataframe tbody tr th:only-of-type {\n",
              "        vertical-align: middle;\n",
              "    }\n",
              "\n",
              "    .dataframe tbody tr th {\n",
              "        vertical-align: top;\n",
              "    }\n",
              "\n",
              "    .dataframe thead th {\n",
              "        text-align: right;\n",
              "    }\n",
              "</style>\n",
              "<table border=\"1\" class=\"dataframe\">\n",
              "  <thead>\n",
              "    <tr style=\"text-align: right;\">\n",
              "      <th></th>\n",
              "      <th>Powód_HIV/AIDS</th>\n",
              "      <th>Powód_Śmierć_bliskiego</th>\n",
              "      <th>Powód_Bezdomność</th>\n",
              "      <th>Powód_Zdrowie</th>\n",
              "      <th>Powód_Praca</th>\n",
              "      <th>Powód_Miłość</th>\n",
              "      <th>Powód_Konflikty_inni</th>\n",
              "      <th>Powód_Utrata_utrzymania</th>\n",
              "      <th>Powód_Choroby_fiz</th>\n",
              "      <th>Powód_Kalectwo</th>\n",
              "      <th>Powód_Inne</th>\n",
              "      <th>Powód_Finanse</th>\n",
              "      <th>Powód_Choroby_psych</th>\n",
              "      <th>Powód_Przestępstwa</th>\n",
              "      <th>Powód_Mobbing</th>\n",
              "      <th>Powód_Ciąża</th>\n",
              "      <th>Powód_Konflikty_rodzinne</th>\n",
              "    </tr>\n",
              "  </thead>\n",
              "  <tbody>\n",
              "    <tr>\n",
              "      <th>0</th>\n",
              "      <td>0</td>\n",
              "      <td>0</td>\n",
              "      <td>0</td>\n",
              "      <td>0</td>\n",
              "      <td>0</td>\n",
              "      <td>0</td>\n",
              "      <td>0</td>\n",
              "      <td>0</td>\n",
              "      <td>0</td>\n",
              "      <td>0</td>\n",
              "      <td>1</td>\n",
              "      <td>0</td>\n",
              "      <td>0</td>\n",
              "      <td>0</td>\n",
              "      <td>0</td>\n",
              "      <td>0</td>\n",
              "      <td>1</td>\n",
              "    </tr>\n",
              "  </tbody>\n",
              "</table>\n",
              "</div>\n",
              "    <div class=\"colab-df-buttons\">\n",
              "\n",
              "  <div class=\"colab-df-container\">\n",
              "    <button class=\"colab-df-convert\" onclick=\"convertToInteractive('df-aafea988-3994-4e4b-81c3-d2d37c509370')\"\n",
              "            title=\"Convert this dataframe to an interactive table.\"\n",
              "            style=\"display:none;\">\n",
              "\n",
              "  <svg xmlns=\"http://www.w3.org/2000/svg\" height=\"24px\" viewBox=\"0 -960 960 960\">\n",
              "    <path d=\"M120-120v-720h720v720H120Zm60-500h600v-160H180v160Zm220 220h160v-160H400v160Zm0 220h160v-160H400v160ZM180-400h160v-160H180v160Zm440 0h160v-160H620v160ZM180-180h160v-160H180v160Zm440 0h160v-160H620v160Z\"/>\n",
              "  </svg>\n",
              "    </button>\n",
              "\n",
              "  <style>\n",
              "    .colab-df-container {\n",
              "      display:flex;\n",
              "      gap: 12px;\n",
              "    }\n",
              "\n",
              "    .colab-df-convert {\n",
              "      background-color: #E8F0FE;\n",
              "      border: none;\n",
              "      border-radius: 50%;\n",
              "      cursor: pointer;\n",
              "      display: none;\n",
              "      fill: #1967D2;\n",
              "      height: 32px;\n",
              "      padding: 0 0 0 0;\n",
              "      width: 32px;\n",
              "    }\n",
              "\n",
              "    .colab-df-convert:hover {\n",
              "      background-color: #E2EBFA;\n",
              "      box-shadow: 0px 1px 2px rgba(60, 64, 67, 0.3), 0px 1px 3px 1px rgba(60, 64, 67, 0.15);\n",
              "      fill: #174EA6;\n",
              "    }\n",
              "\n",
              "    .colab-df-buttons div {\n",
              "      margin-bottom: 4px;\n",
              "    }\n",
              "\n",
              "    [theme=dark] .colab-df-convert {\n",
              "      background-color: #3B4455;\n",
              "      fill: #D2E3FC;\n",
              "    }\n",
              "\n",
              "    [theme=dark] .colab-df-convert:hover {\n",
              "      background-color: #434B5C;\n",
              "      box-shadow: 0px 1px 3px 1px rgba(0, 0, 0, 0.15);\n",
              "      filter: drop-shadow(0px 1px 2px rgba(0, 0, 0, 0.3));\n",
              "      fill: #FFFFFF;\n",
              "    }\n",
              "  </style>\n",
              "\n",
              "    <script>\n",
              "      const buttonEl =\n",
              "        document.querySelector('#df-aafea988-3994-4e4b-81c3-d2d37c509370 button.colab-df-convert');\n",
              "      buttonEl.style.display =\n",
              "        google.colab.kernel.accessAllowed ? 'block' : 'none';\n",
              "\n",
              "      async function convertToInteractive(key) {\n",
              "        const element = document.querySelector('#df-aafea988-3994-4e4b-81c3-d2d37c509370');\n",
              "        const dataTable =\n",
              "          await google.colab.kernel.invokeFunction('convertToInteractive',\n",
              "                                                    [key], {});\n",
              "        if (!dataTable) return;\n",
              "\n",
              "        const docLinkHtml = 'Like what you see? Visit the ' +\n",
              "          '<a target=\"_blank\" href=https://colab.research.google.com/notebooks/data_table.ipynb>data table notebook</a>'\n",
              "          + ' to learn more about interactive tables.';\n",
              "        element.innerHTML = '';\n",
              "        dataTable['output_type'] = 'display_data';\n",
              "        await google.colab.output.renderOutput(dataTable, element);\n",
              "        const docLink = document.createElement('div');\n",
              "        docLink.innerHTML = docLinkHtml;\n",
              "        element.appendChild(docLink);\n",
              "      }\n",
              "    </script>\n",
              "  </div>\n",
              "\n",
              "    </div>\n",
              "  </div>\n"
            ],
            "application/vnd.google.colaboratory.intrinsic+json": {
              "type": "dataframe",
              "variable_name": "df_powód_zamachu_2023",
              "summary": "{\n  \"name\": \"df_pow\\u00f3d_zamachu_2023\",\n  \"rows\": 15136,\n  \"fields\": [\n    {\n      \"column\": \"Pow\\u00f3d_HIV/AIDS\",\n      \"properties\": {\n        \"dtype\": \"number\",\n        \"std\": 0,\n        \"min\": 0,\n        \"max\": 1,\n        \"num_unique_values\": 2,\n        \"samples\": [\n          1,\n          0\n        ],\n        \"semantic_type\": \"\",\n        \"description\": \"\"\n      }\n    },\n    {\n      \"column\": \"Pow\\u00f3d_\\u015amier\\u0107_bliskiego\",\n      \"properties\": {\n        \"dtype\": \"number\",\n        \"std\": 0,\n        \"min\": 0,\n        \"max\": 1,\n        \"num_unique_values\": 2,\n        \"samples\": [\n          1,\n          0\n        ],\n        \"semantic_type\": \"\",\n        \"description\": \"\"\n      }\n    },\n    {\n      \"column\": \"Pow\\u00f3d_Bezdomno\\u015b\\u0107\",\n      \"properties\": {\n        \"dtype\": \"number\",\n        \"std\": 0,\n        \"min\": 0,\n        \"max\": 1,\n        \"num_unique_values\": 2,\n        \"samples\": [\n          1,\n          0\n        ],\n        \"semantic_type\": \"\",\n        \"description\": \"\"\n      }\n    },\n    {\n      \"column\": \"Pow\\u00f3d_Zdrowie\",\n      \"properties\": {\n        \"dtype\": \"number\",\n        \"std\": 0,\n        \"min\": 0,\n        \"max\": 1,\n        \"num_unique_values\": 2,\n        \"samples\": [\n          1,\n          0\n        ],\n        \"semantic_type\": \"\",\n        \"description\": \"\"\n      }\n    },\n    {\n      \"column\": \"Pow\\u00f3d_Praca\",\n      \"properties\": {\n        \"dtype\": \"number\",\n        \"std\": 0,\n        \"min\": 0,\n        \"max\": 1,\n        \"num_unique_values\": 2,\n        \"samples\": [\n          1,\n          0\n        ],\n        \"semantic_type\": \"\",\n        \"description\": \"\"\n      }\n    },\n    {\n      \"column\": \"Pow\\u00f3d_Mi\\u0142o\\u015b\\u0107\",\n      \"properties\": {\n        \"dtype\": \"number\",\n        \"std\": 0,\n        \"min\": 0,\n        \"max\": 1,\n        \"num_unique_values\": 2,\n        \"samples\": [\n          1,\n          0\n        ],\n        \"semantic_type\": \"\",\n        \"description\": \"\"\n      }\n    },\n    {\n      \"column\": \"Pow\\u00f3d_Konflikty_inni\",\n      \"properties\": {\n        \"dtype\": \"number\",\n        \"std\": 0,\n        \"min\": 0,\n        \"max\": 1,\n        \"num_unique_values\": 2,\n        \"samples\": [\n          1,\n          0\n        ],\n        \"semantic_type\": \"\",\n        \"description\": \"\"\n      }\n    },\n    {\n      \"column\": \"Pow\\u00f3d_Utrata_utrzymania\",\n      \"properties\": {\n        \"dtype\": \"number\",\n        \"std\": 0,\n        \"min\": 0,\n        \"max\": 1,\n        \"num_unique_values\": 2,\n        \"samples\": [\n          1,\n          0\n        ],\n        \"semantic_type\": \"\",\n        \"description\": \"\"\n      }\n    },\n    {\n      \"column\": \"Pow\\u00f3d_Choroby_fiz\",\n      \"properties\": {\n        \"dtype\": \"number\",\n        \"std\": 0,\n        \"min\": 0,\n        \"max\": 1,\n        \"num_unique_values\": 2,\n        \"samples\": [\n          1,\n          0\n        ],\n        \"semantic_type\": \"\",\n        \"description\": \"\"\n      }\n    },\n    {\n      \"column\": \"Pow\\u00f3d_Kalectwo\",\n      \"properties\": {\n        \"dtype\": \"number\",\n        \"std\": 0,\n        \"min\": 0,\n        \"max\": 1,\n        \"num_unique_values\": 2,\n        \"samples\": [\n          1,\n          0\n        ],\n        \"semantic_type\": \"\",\n        \"description\": \"\"\n      }\n    },\n    {\n      \"column\": \"Pow\\u00f3d_Inne\",\n      \"properties\": {\n        \"dtype\": \"number\",\n        \"std\": 0,\n        \"min\": 0,\n        \"max\": 1,\n        \"num_unique_values\": 2,\n        \"samples\": [\n          0,\n          1\n        ],\n        \"semantic_type\": \"\",\n        \"description\": \"\"\n      }\n    },\n    {\n      \"column\": \"Pow\\u00f3d_Finanse\",\n      \"properties\": {\n        \"dtype\": \"number\",\n        \"std\": 0,\n        \"min\": 0,\n        \"max\": 1,\n        \"num_unique_values\": 2,\n        \"samples\": [\n          1,\n          0\n        ],\n        \"semantic_type\": \"\",\n        \"description\": \"\"\n      }\n    },\n    {\n      \"column\": \"Pow\\u00f3d_Choroby_psych\",\n      \"properties\": {\n        \"dtype\": \"number\",\n        \"std\": 0,\n        \"min\": 0,\n        \"max\": 1,\n        \"num_unique_values\": 2,\n        \"samples\": [\n          1,\n          0\n        ],\n        \"semantic_type\": \"\",\n        \"description\": \"\"\n      }\n    },\n    {\n      \"column\": \"Pow\\u00f3d_Przest\\u0119pstwa\",\n      \"properties\": {\n        \"dtype\": \"number\",\n        \"std\": 0,\n        \"min\": 0,\n        \"max\": 1,\n        \"num_unique_values\": 2,\n        \"samples\": [\n          1,\n          0\n        ],\n        \"semantic_type\": \"\",\n        \"description\": \"\"\n      }\n    },\n    {\n      \"column\": \"Pow\\u00f3d_Mobbing\",\n      \"properties\": {\n        \"dtype\": \"number\",\n        \"std\": 0,\n        \"min\": 0,\n        \"max\": 1,\n        \"num_unique_values\": 2,\n        \"samples\": [\n          1,\n          0\n        ],\n        \"semantic_type\": \"\",\n        \"description\": \"\"\n      }\n    },\n    {\n      \"column\": \"Pow\\u00f3d_Ci\\u0105\\u017ca\",\n      \"properties\": {\n        \"dtype\": \"number\",\n        \"std\": 0,\n        \"min\": 0,\n        \"max\": 1,\n        \"num_unique_values\": 2,\n        \"samples\": [\n          1,\n          0\n        ],\n        \"semantic_type\": \"\",\n        \"description\": \"\"\n      }\n    },\n    {\n      \"column\": \"Pow\\u00f3d_Konflikty_rodzinne\",\n      \"properties\": {\n        \"dtype\": \"number\",\n        \"std\": 0,\n        \"min\": 0,\n        \"max\": 1,\n        \"num_unique_values\": 2,\n        \"samples\": [\n          0,\n          1\n        ],\n        \"semantic_type\": \"\",\n        \"description\": \"\"\n      }\n    }\n  ]\n}"
            }
          },
          "metadata": {},
          "execution_count": 395
        }
      ]
    },
    {
      "cell_type": "code",
      "source": [
        "df_powód_zamachu_2023.shape"
      ],
      "metadata": {
        "outputId": "7e11d038-5b79-4115-a248-3f8c16135848",
        "colab": {
          "base_uri": "https://localhost:8080/"
        },
        "id": "13VVVnOPxAsY"
      },
      "execution_count": null,
      "outputs": [
        {
          "output_type": "execute_result",
          "data": {
            "text/plain": [
              "(15136, 17)"
            ]
          },
          "metadata": {},
          "execution_count": 396
        }
      ]
    },
    {
      "cell_type": "markdown",
      "source": [
        "#Zapis"
      ],
      "metadata": {
        "id": "a0F-OBCVMVH3"
      }
    },
    {
      "cell_type": "code",
      "source": [
        "# from google.colab import drive\n",
        "# drive.mount('/content/drive')\n",
        "# df_raw.to_csv('/content/drive/My Drive/preped_samobojstwa_2013_2022.csv', index=False)\n",
        "# df_powód_zamachu.to_csv('/content/drive/My Drive/preped_powod_zamachu_samobojstwa_2013_2022.csv', index=False)"
      ],
      "metadata": {
        "id": "eBrQESiniq7M"
      },
      "execution_count": null,
      "outputs": []
    },
    {
      "cell_type": "code",
      "source": [
        "file_name = 'preped_samobojstwa.csv'\n",
        "df_raw.to_csv(file_name, index=False)\n",
        "files.download(file_name)"
      ],
      "metadata": {
        "id": "BEbhrd7W8cng",
        "outputId": "bdedac24-8f9b-45f9-8083-d1578d8f7ee5",
        "colab": {
          "base_uri": "https://localhost:8080/",
          "height": 17
        }
      },
      "execution_count": null,
      "outputs": [
        {
          "output_type": "display_data",
          "data": {
            "text/plain": [
              "<IPython.core.display.Javascript object>"
            ],
            "application/javascript": [
              "\n",
              "    async function download(id, filename, size) {\n",
              "      if (!google.colab.kernel.accessAllowed) {\n",
              "        return;\n",
              "      }\n",
              "      const div = document.createElement('div');\n",
              "      const label = document.createElement('label');\n",
              "      label.textContent = `Downloading \"${filename}\": `;\n",
              "      div.appendChild(label);\n",
              "      const progress = document.createElement('progress');\n",
              "      progress.max = size;\n",
              "      div.appendChild(progress);\n",
              "      document.body.appendChild(div);\n",
              "\n",
              "      const buffers = [];\n",
              "      let downloaded = 0;\n",
              "\n",
              "      const channel = await google.colab.kernel.comms.open(id);\n",
              "      // Send a message to notify the kernel that we're ready.\n",
              "      channel.send({})\n",
              "\n",
              "      for await (const message of channel.messages) {\n",
              "        // Send a message to notify the kernel that we're ready.\n",
              "        channel.send({})\n",
              "        if (message.buffers) {\n",
              "          for (const buffer of message.buffers) {\n",
              "            buffers.push(buffer);\n",
              "            downloaded += buffer.byteLength;\n",
              "            progress.value = downloaded;\n",
              "          }\n",
              "        }\n",
              "      }\n",
              "      const blob = new Blob(buffers, {type: 'application/binary'});\n",
              "      const a = document.createElement('a');\n",
              "      a.href = window.URL.createObjectURL(blob);\n",
              "      a.download = filename;\n",
              "      div.appendChild(a);\n",
              "      a.click();\n",
              "      div.remove();\n",
              "    }\n",
              "  "
            ]
          },
          "metadata": {}
        },
        {
          "output_type": "display_data",
          "data": {
            "text/plain": [
              "<IPython.core.display.Javascript object>"
            ],
            "application/javascript": [
              "download(\"download_b0d04137-07cf-4b08-95ea-791c23acaca5\", \"preped_samobojstwa.csv\", 12307422)"
            ]
          },
          "metadata": {}
        }
      ]
    },
    {
      "cell_type": "code",
      "source": [
        "file_name = 'preped_powod_zamachu_samobojstwa.csv'\n",
        "df_powód_zamachu.to_csv(file_name, index=False)\n",
        "files.download(file_name)"
      ],
      "metadata": {
        "id": "NdwoWCij-bii",
        "outputId": "df0cc87e-dff4-464f-bee0-c14dd3fb9084",
        "colab": {
          "base_uri": "https://localhost:8080/",
          "height": 17
        }
      },
      "execution_count": null,
      "outputs": [
        {
          "output_type": "display_data",
          "data": {
            "text/plain": [
              "<IPython.core.display.Javascript object>"
            ],
            "application/javascript": [
              "\n",
              "    async function download(id, filename, size) {\n",
              "      if (!google.colab.kernel.accessAllowed) {\n",
              "        return;\n",
              "      }\n",
              "      const div = document.createElement('div');\n",
              "      const label = document.createElement('label');\n",
              "      label.textContent = `Downloading \"${filename}\": `;\n",
              "      div.appendChild(label);\n",
              "      const progress = document.createElement('progress');\n",
              "      progress.max = size;\n",
              "      div.appendChild(progress);\n",
              "      document.body.appendChild(div);\n",
              "\n",
              "      const buffers = [];\n",
              "      let downloaded = 0;\n",
              "\n",
              "      const channel = await google.colab.kernel.comms.open(id);\n",
              "      // Send a message to notify the kernel that we're ready.\n",
              "      channel.send({})\n",
              "\n",
              "      for await (const message of channel.messages) {\n",
              "        // Send a message to notify the kernel that we're ready.\n",
              "        channel.send({})\n",
              "        if (message.buffers) {\n",
              "          for (const buffer of message.buffers) {\n",
              "            buffers.push(buffer);\n",
              "            downloaded += buffer.byteLength;\n",
              "            progress.value = downloaded;\n",
              "          }\n",
              "        }\n",
              "      }\n",
              "      const blob = new Blob(buffers, {type: 'application/binary'});\n",
              "      const a = document.createElement('a');\n",
              "      a.href = window.URL.createObjectURL(blob);\n",
              "      a.download = filename;\n",
              "      div.appendChild(a);\n",
              "      a.click();\n",
              "      div.remove();\n",
              "    }\n",
              "  "
            ]
          },
          "metadata": {}
        },
        {
          "output_type": "display_data",
          "data": {
            "text/plain": [
              "<IPython.core.display.Javascript object>"
            ],
            "application/javascript": [
              "download(\"download_5b952439-ee94-4aa2-ab12-ba9e467c5d40\", \"preped_powod_zamachu_samobojstwa.csv\", 4876945)"
            ]
          },
          "metadata": {}
        }
      ]
    }
  ]
}